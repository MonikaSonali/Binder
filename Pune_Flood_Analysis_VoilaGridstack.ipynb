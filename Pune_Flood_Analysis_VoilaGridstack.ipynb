{
 "cells": [
  {
   "cell_type": "markdown",
   "id": "1a7c1acb",
   "metadata": {
    "extensions": {
     "jupyter_dashboards": {
      "activeView": "grid_default",
      "views": {
       "grid_default": {
        "col": 0,
        "height": 2,
        "hidden": false,
        "locked": true,
        "row": 0,
        "width": 12
       }
      }
     }
    },
    "tags": []
   },
   "source": [
    "#                            PUNE FLOOD SENSOR ANALYSIS"
   ]
  },
  {
   "cell_type": "code",
   "execution_count": 1,
   "id": "b227a34c",
   "metadata": {
    "extensions": {
     "jupyter_dashboards": {
      "activeView": "grid_default",
      "views": {
       "grid_default": {
        "col": null,
        "height": 2,
        "hidden": true,
        "locked": true,
        "row": null,
        "width": 2
       }
      }
     }
    }
   },
   "outputs": [],
   "source": [
    "import pandas as pd\n",
    "import glob\n",
    "import ipywidgets as widgets\n",
    "import plotly.express as px\n",
    "import json\n",
    "import seaborn as sns\n",
    "import matplotlib.pyplot as plt\n",
    "import ast\n",
    "import requests\n",
    "import datetime\n",
    "import folium\n",
    "from folium import plugins"
   ]
  },
  {
   "cell_type": "code",
   "execution_count": 2,
   "id": "4b38c75c",
   "metadata": {
    "extensions": {
     "jupyter_dashboards": {
      "activeView": "grid_default",
      "views": {
       "grid_default": {
        "col": null,
        "height": 2,
        "hidden": true,
        "locked": true,
        "row": null,
        "width": 2
       }
      }
     }
    }
   },
   "outputs": [],
   "source": [
    "import warnings\n",
    "warnings.filterwarnings('ignore')\n",
    "warnings.simplefilter('ignore')"
   ]
  },
  {
   "cell_type": "code",
   "execution_count": 3,
   "id": "c8a633fd",
   "metadata": {
    "extensions": {
     "jupyter_dashboards": {
      "activeView": "grid_default",
      "views": {
       "grid_default": {
        "col": null,
        "height": 2,
        "hidden": true,
        "locked": true,
        "row": null,
        "width": 2
       }
      }
     }
    }
   },
   "outputs": [
    {
     "name": "stdout",
     "output_type": "stream",
     "text": [
      "No of Sensors that have given data :  1 out of 46 total sensors\n",
      "Flood Sensors which have not given data are :  ['FWR060', 'FWR051', 'FWR033', 'FWR064', 'FWR013', 'FWR023', 'FWR056', 'FWR059', 'FWR019', 'FWR044', 'FWR054', 'FWR068', 'FWR066', 'FWR026', 'FWR057', 'FWR063', 'FWR052', 'FWR065', 'FWR016', 'FWR018', 'FWR047', 'FWR067', 'FWR069', 'FWR036', 'FWR050', 'FWR030', 'FWR022', 'FWR021', 'FWR024', 'FWR061', 'FWR039', 'FWR045', 'FWR055', 'FWR048', 'FWR049', 'FWR046', 'FWR070', 'FWR058', 'FWR053', 'FWR017', 'FWR020', 'FWR025', 'FWR034', 'FWR037', 'FWR035']\n"
     ]
    }
   ],
   "source": [
    "\n",
    "\n",
    "csvfiles = []\n",
    "for file in glob.glob(\"*.csv\"):\n",
    "    csvfiles.append(file)\n",
    "\n",
    "print(\"No of Sensors that have given data : \",len(csvfiles), \"out of 46 total sensors\")\n",
    "\n",
    "# csvfiles\n",
    "\n",
    "devices = ['FWR013','FWR015','FWR016','FWR017','FWR018','FWR019','FWR020','FWR021','FWR022','FWR023','FWR024',\n",
    " 'FWR025','FWR026','FWR030','FWR033','FWR034','FWR035','FWR036','FWR037','FWR039','FWR044','FWR045',\n",
    " 'FWR046','FWR047','FWR048','FWR049','FWR050','FWR051','FWR052','FWR053','FWR054','FWR055','FWR056',\n",
    " 'FWR057','FWR058','FWR059','FWR060','FWR061','FWR063','FWR064','FWR065','FWR066','FWR067','FWR068',\n",
    " 'FWR069','FWR070']\n",
    "Allsensors = [ \"pune_flood_\"+i+\".csv\" for i in devices]\n",
    "\n",
    "# \n",
    "# print (\"Allsensors\",Allsensors)\n",
    "# print()\n",
    "# print (\"csvfiles\",csvfiles)\n",
    "# print()\n",
    "# print([ i.split(\"pune_flood_\")[1].split(\".\")[0] for i in set(Allsensors)-set(csvfiles)])\n",
    "print(\"Flood Sensors which have not given data are : \", [ i.split(\"pune_flood_\")[1].split(\".\")[0] for i in set(Allsensors)-set(csvfiles)])\n",
    "# No of Sensors that have given data :  43 out of 46 total sensors\n",
    "# Flood Sensors which have not given data are :  ['FWR033', 'FWR022', 'FWR049']\n"
   ]
  },
  {
   "cell_type": "markdown",
   "id": "579e8195",
   "metadata": {
    "extensions": {
     "jupyter_dashboards": {
      "activeView": "grid_default",
      "views": {
       "grid_default": {
        "col": 0,
        "height": 4,
        "hidden": false,
        "locked": true,
        "row": 2,
        "width": 12
       }
      }
     }
    },
    "tags": []
   },
   "source": [
    "# Visualizing maximum distance measured  by all the flood sensors\n",
    "#### Click the pop up to see the sensor name and distance value"
   ]
  },
  {
   "cell_type": "code",
   "execution_count": 4,
   "id": "69408e37",
   "metadata": {
    "extensions": {
     "jupyter_dashboards": {
      "activeView": "grid_default",
      "views": {
       "grid_default": {
        "col": null,
        "height": 2,
        "hidden": true,
        "locked": true,
        "row": null,
        "width": 2
       }
      }
     }
    }
   },
   "outputs": [],
   "source": [
    "import xmltodict\n",
    "api = \"http://spatika.net/hydromet_dms/data_xfer/fms_data\"\n",
    "payload = {'usrkey': 'Gjy4rTjrt8Df'}\n",
    "response = requests.post(api, data=payload)\n",
    "dict_data = xmltodict.parse(response.content)\n",
    "result = dict_data[\"fms_data\"][\"fms_rec\"]\n",
    "L = []\n",
    "for item in result :\n",
    "    L.append(item[\"station_id\"])\n",
    "\n",
    "flood_sensor_loc = []\n",
    "for sensor in L :\n",
    "    s ={}\n",
    "    if sensor != \"FWR027\" and sensor != \"FWR071\":\n",
    "        url = \"https://api.catalogue.iudx.org.in/iudx/cat/v1/item?id=datakaveri.org/04a15c9960ffda227e9546f3f46e629e1fe4132b/rs.iudx.org.in/pune-env-flood/\"+sensor\n",
    "        res = requests.get(url)\n",
    "        res = res.json()[\"results\"] \n",
    "\n",
    "#         print(sensor,\" - \",res[0][\"location\"][\"geometry\"][\"coordinates\"])\n",
    "        s[\"device\"] = sensor\n",
    "        s[\"latitude\"] = res[0][\"location\"][\"geometry\"][\"coordinates\"][1]\n",
    "        s[\"longitude\"] = res[0][\"location\"][\"geometry\"][\"coordinates\"][0]\n",
    "\n",
    "        flood_sensor_loc.append(s)\n",
    "\n",
    "flood_loc_df = pd.DataFrame(flood_sensor_loc)\n",
    "# floodSensorCoords = [ [float(row[\"latitude\"]),float(row[\"longitude\"]),row[\"device\"]] for index, row in flood_loc_df.iterrows()]  \n"
   ]
  },
  {
   "cell_type": "code",
   "execution_count": 5,
   "id": "174affbd",
   "metadata": {},
   "outputs": [],
   "source": [
    "def getToken(itemid,resourceType):\n",
    "    try:\n",
    "        \n",
    "        if resourceType == \"private\":\n",
    "            url = \"https://authorization.iudx.org.in/auth/v1/token\"\n",
    "            payload = '{\"itemId\":\"'+itemid+'\",\"itemType\": \"resource\",\"role\": \"consumer\"}'\n",
    "            headers = {\n",
    "              'clientId': '6e35f7e5-b1aa-4117-8485-1acc78f054ab',\n",
    "              'clientSecret': '19496cf8b6817fee23ca45e9409a4d2b6b456ada',\n",
    "              'Content-Type': 'application/json'\n",
    "            }\n",
    "            response = requests.request(\"POST\", url, headers=headers, data=payload)\n",
    "            return str(response.json()[\"results\"][\"accessToken\"])\n",
    "        \n",
    "        elif resourceType == \"public\":            \n",
    "            url = \"https://authorization.iudx.org.in/auth/v1/token\"\n",
    "            payload = '{\"itemId\": \"rs.iudx.org.in\",\"itemType\": \"resource_server\",\"role\": \"consumer\"}'                \n",
    "            headers = {\n",
    "              'clientId': '6e35f7e5-b1aa-4117-8485-1acc78f054ab',\n",
    "              'clientSecret': '19496cf8b6817fee23ca45e9409a4d2b6b456ada',\n",
    "              'Content-Type': 'application/json'\n",
    "            }\n",
    "            response = requests.request(\"POST\", url, headers=headers, data=payload)\n",
    "            return str(response.json()[\"results\"][\"accessToken\"])\n",
    "    \n",
    "    except Exception as e:\n",
    "        print(\"Error Occurred while fetching token -> \",e)\n",
    "\n",
    "\n",
    " "
   ]
  },
  {
   "cell_type": "code",
   "execution_count": null,
   "id": "862ecc9f",
   "metadata": {},
   "outputs": [],
   "source": [
    "!pip install git+https://github.com/datakaveri/iudx-python-sdk"
   ]
  },
  {
   "cell_type": "code",
   "execution_count": 6,
   "id": "a243dae5",
   "metadata": {
    "extensions": {
     "jupyter_dashboards": {
      "activeView": "grid_default",
      "views": {
       "grid_default": {
        "col": null,
        "height": 2,
        "hidden": true,
        "locked": true,
        "row": null,
        "width": 2
       }
      }
     }
    }
   },
   "outputs": [],
   "source": [
    "from iudx.rs.ResourceServer import ResourceServer\n",
    "from iudx.rs.ResourceQuery import ResourceQuery\n",
    "def latestQuery_Flood(endpoint,lat,long):\n",
    "    # entity id for the pune env aqm sensor.\n",
    "    entity_id = \"datakaveri.org/04a15c9960ffda227e9546f3f46e629e1fe4132b/rs.iudx.org.in/pune-env-flood/\"+endpoint\n",
    "\n",
    "    # creating an object of ResourceServer class using rs_url.\n",
    "    rs = ResourceServer(\n",
    "             rs_url=\"https://rs.iudx.org.in/ngsi-ld/v1\",\n",
    "             headers={\"content-type\": \"application/json\",\n",
    "                      \"token\":getToken(entity_id,\"public\")\n",
    "                     }\n",
    "         )\n",
    "\n",
    "    # creating a query for fetching latest data for the entity_id.\n",
    "    rs_query = ResourceQuery()\n",
    "    rs_entity = rs_query.add_entity(entity_id)\n",
    "\n",
    "    # fetch results for a list of entities.\n",
    "    results = rs.get_latest([rs_entity])\n",
    "\n",
    "    # printing results\n",
    "#     print(f\"RESULTS: {results[0].results}\")        # get the result data of the resource query.\n",
    "#     print(f\"STATUS: {results[0].type}\")  \n",
    "    res = results[0].results\n",
    "    res[0][\"latitude\"] = lat\n",
    "    res[0][\"longitude\"] = long\n",
    "    res[0][\"Device\"] = endpoint\n",
    "#     print(\"res \",res[0])\n",
    "#     res[\"Institute_Organisation\"] = Institute\n",
    "    return res[0]\n"
   ]
  },
  {
   "cell_type": "code",
   "execution_count": 7,
   "id": "badda9ac",
   "metadata": {
    "extensions": {
     "jupyter_dashboards": {
      "activeView": "grid_default",
      "views": {
       "grid_default": {
        "col": null,
        "height": 2,
        "hidden": true,
        "locked": true,
        "row": null,
        "width": 2
       }
      }
     }
    }
   },
   "outputs": [],
   "source": [
    "F = [ latestQuery_Flood(i.device,i.latitude,i.longitude) for i in flood_loc_df.itertuples() if i.device != \"FWR027\" and i.device != \"FWR071\"]\n",
    "\n",
    "floodDF = pd.DataFrame(F)\n",
    "# floodDF"
   ]
  },
  {
   "cell_type": "code",
   "execution_count": 8,
   "id": "96cb597c",
   "metadata": {
    "extensions": {
     "jupyter_dashboards": {
      "activeView": "grid_default",
      "views": {
       "grid_default": {
        "col": 0,
        "height": 12,
        "hidden": false,
        "locked": true,
        "row": 6,
        "width": 12
       }
      }
     }
    },
    "tags": []
   },
   "outputs": [
    {
     "data": {
      "text/html": [
       "<div style=\"width:100%;\"><div style=\"position:relative;width:100%;height:0;padding-bottom:60%;\"><span style=\"color:#565656\">Make this Notebook Trusted to load map: File -> Trust Notebook</span><iframe srcdoc=\"&lt;!DOCTYPE html&gt;\n",
       "&lt;head&gt;    \n",
       "    &lt;meta http-equiv=&quot;content-type&quot; content=&quot;text/html; charset=UTF-8&quot; /&gt;\n",
       "    \n",
       "        &lt;script&gt;\n",
       "            L_NO_TOUCH = false;\n",
       "            L_DISABLE_3D = false;\n",
       "        &lt;/script&gt;\n",
       "    \n",
       "    &lt;style&gt;html, body {width: 100%;height: 100%;margin: 0;padding: 0;}&lt;/style&gt;\n",
       "    &lt;style&gt;#map {position:absolute;top:0;bottom:0;right:0;left:0;}&lt;/style&gt;\n",
       "    &lt;script src=&quot;https://cdn.jsdelivr.net/npm/leaflet@1.6.0/dist/leaflet.js&quot;&gt;&lt;/script&gt;\n",
       "    &lt;script src=&quot;https://code.jquery.com/jquery-1.12.4.min.js&quot;&gt;&lt;/script&gt;\n",
       "    &lt;script src=&quot;https://maxcdn.bootstrapcdn.com/bootstrap/3.2.0/js/bootstrap.min.js&quot;&gt;&lt;/script&gt;\n",
       "    &lt;script src=&quot;https://cdnjs.cloudflare.com/ajax/libs/Leaflet.awesome-markers/2.0.2/leaflet.awesome-markers.js&quot;&gt;&lt;/script&gt;\n",
       "    &lt;link rel=&quot;stylesheet&quot; href=&quot;https://cdn.jsdelivr.net/npm/leaflet@1.6.0/dist/leaflet.css&quot;/&gt;\n",
       "    &lt;link rel=&quot;stylesheet&quot; href=&quot;https://maxcdn.bootstrapcdn.com/bootstrap/3.2.0/css/bootstrap.min.css&quot;/&gt;\n",
       "    &lt;link rel=&quot;stylesheet&quot; href=&quot;https://maxcdn.bootstrapcdn.com/bootstrap/3.2.0/css/bootstrap-theme.min.css&quot;/&gt;\n",
       "    &lt;link rel=&quot;stylesheet&quot; href=&quot;https://maxcdn.bootstrapcdn.com/font-awesome/4.6.3/css/font-awesome.min.css&quot;/&gt;\n",
       "    &lt;link rel=&quot;stylesheet&quot; href=&quot;https://cdnjs.cloudflare.com/ajax/libs/Leaflet.awesome-markers/2.0.2/leaflet.awesome-markers.css&quot;/&gt;\n",
       "    &lt;link rel=&quot;stylesheet&quot; href=&quot;https://cdn.jsdelivr.net/gh/python-visualization/folium/folium/templates/leaflet.awesome.rotate.min.css&quot;/&gt;\n",
       "    \n",
       "            &lt;meta name=&quot;viewport&quot; content=&quot;width=device-width,\n",
       "                initial-scale=1.0, maximum-scale=1.0, user-scalable=no&quot; /&gt;\n",
       "            &lt;style&gt;\n",
       "                #map_a0c914550f9e4dff92ab9d67f628a2a9 {\n",
       "                    position: relative;\n",
       "                    width: 100.0%;\n",
       "                    height: 100.0%;\n",
       "                    left: 0.0%;\n",
       "                    top: 0.0%;\n",
       "                }\n",
       "            &lt;/style&gt;\n",
       "        \n",
       "    &lt;script src=&quot;https://cdn.jsdelivr.net/gh/python-visualization/folium@master/folium/templates/leaflet_heat.min.js&quot;&gt;&lt;/script&gt;\n",
       "&lt;/head&gt;\n",
       "&lt;body&gt;    \n",
       "    \n",
       "            &lt;div class=&quot;folium-map&quot; id=&quot;map_a0c914550f9e4dff92ab9d67f628a2a9&quot; &gt;&lt;/div&gt;\n",
       "        \n",
       "&lt;/body&gt;\n",
       "&lt;script&gt;    \n",
       "    \n",
       "            var map_a0c914550f9e4dff92ab9d67f628a2a9 = L.map(\n",
       "                &quot;map_a0c914550f9e4dff92ab9d67f628a2a9&quot;,\n",
       "                {\n",
       "                    center: [18.547, 73.8633],\n",
       "                    crs: L.CRS.EPSG3857,\n",
       "                    zoom: 13,\n",
       "                    zoomControl: true,\n",
       "                    preferCanvas: false,\n",
       "                }\n",
       "            );\n",
       "\n",
       "            \n",
       "\n",
       "        \n",
       "    \n",
       "            var tile_layer_db18a37078c866902c8705202ef5a686 = L.tileLayer(\n",
       "                &quot;https://{s}.tile.openstreetmap.org/{z}/{x}/{y}.png&quot;,\n",
       "                {&quot;attribution&quot;: &quot;Data by \\u0026copy; \\u003ca href=\\&quot;http://openstreetmap.org\\&quot;\\u003eOpenStreetMap\\u003c/a\\u003e, under \\u003ca href=\\&quot;http://www.openstreetmap.org/copyright\\&quot;\\u003eODbL\\u003c/a\\u003e.&quot;, &quot;detectRetina&quot;: false, &quot;maxNativeZoom&quot;: 18, &quot;maxZoom&quot;: 18, &quot;minZoom&quot;: 0, &quot;noWrap&quot;: false, &quot;opacity&quot;: 1, &quot;subdomains&quot;: &quot;abc&quot;, &quot;tms&quot;: false}\n",
       "            ).addTo(map_a0c914550f9e4dff92ab9d67f628a2a9);\n",
       "        \n",
       "    \n",
       "            var heat_map_6484fbd7b84b095fafbde870bab91c0d = L.heatLayer(\n",
       "                [[18.489382, 73.895526, 3.94], [18.581647, 73.873011, 4.6], [18.4918, 73.863825, 2.73], [18.46013, 73.774537, 3.3], [18.536285, 73.791175, 4.52], [18.56235, 73.78405, 5.2], [18.54708, 73.798225, 4.85], [18.558611, 73.873944, 0.0], [18.467078, 73.81497, 4.08], [18.57595, 73.87652, 3.89], [18.480676, 73.822295, 2.68], [18.51329, 73.77026, 7.58], [18.481732, 73.852952, 3.52], [18.455577, 73.887711, 0.0], [18.56875, 73.87351, 11.14], [18.478267, 73.8318, 5.48], [18.513477, 73.84296, 4.44], [18.4691, 73.861, 6.12], [18.479271, 73.824593, 2.92], [18.518623, 73.861964, 5.66], [18.499747, 73.850911, 6.35], [18.448922, 73.839582, 3.42], [18.548194, 73.948909, 0.0], [18.47424, 73.857543, 4.48], [18.52085, 73.8494, 14.0], [18.52962, 73.8604, 13.6], [18.535548, 73.933558, 12.39], [18.5325, 73.8559, 13.73], [18.56794, 73.81145, 10.35], [18.554551, 73.863551, 9.45], [18.576225, 73.8261, 10.87], [18.488375, 73.82772, 15.21], [18.504515, 73.83652, 12.38], [18.49852, 73.82698, 5.87], [18.587, 73.75921, 13.07], [18.47449, 73.80939, 12.55], [18.573785, 73.83292, 9.35], [18.483555, 73.80282, 4.91], [18.541038, 73.904219, 14.11], [18.5432, 73.8836, 14.34], [18.56908, 73.87749, 5.37], [18.444614, 73.86131, 5.22], [18.562762, 73.828951, 2.98], [18.52438, 73.901408, 4.14], [18.476596, 73.822295, 4.48], [18.459801, 73.863522, 4.43]],\n",
       "                {&quot;blur&quot;: 15, &quot;maxZoom&quot;: 18, &quot;minOpacity&quot;: 0.5, &quot;radius&quot;: 25}\n",
       "            ).addTo(map_a0c914550f9e4dff92ab9d67f628a2a9);\n",
       "        \n",
       "    \n",
       "            var marker_5e07241c0b165fee5b128c49d2a5fa38 = L.marker(\n",
       "                [18.489382, 73.895526],\n",
       "                {}\n",
       "            ).addTo(map_a0c914550f9e4dff92ab9d67f628a2a9);\n",
       "        \n",
       "    \n",
       "            var icon_e5c5031047e4ff01cfad371e00380eac = L.AwesomeMarkers.icon(\n",
       "                {&quot;extraClasses&quot;: &quot;fa-rotate-0&quot;, &quot;icon&quot;: &quot;tint&quot;, &quot;iconColor&quot;: &quot;white&quot;, &quot;markerColor&quot;: &quot;blue&quot;, &quot;prefix&quot;: &quot;glyphicon&quot;}\n",
       "            );\n",
       "            marker_5e07241c0b165fee5b128c49d2a5fa38.setIcon(icon_e5c5031047e4ff01cfad371e00380eac);\n",
       "        \n",
       "    \n",
       "        var popup_f7578e39bad1323765beccfb747b1ee2 = L.popup({&quot;maxWidth&quot;: &quot;100%&quot;});\n",
       "\n",
       "        \n",
       "            var html_2c5d335a326583ed7d362f324eb12f76 = $(`&lt;div id=&quot;html_2c5d335a326583ed7d362f324eb12f76&quot; style=&quot;width: 100.0%; height: 100.0%;&quot;&gt;[&#x27;FWR013&#x27;, 3.94]&lt;/div&gt;`)[0];\n",
       "            popup_f7578e39bad1323765beccfb747b1ee2.setContent(html_2c5d335a326583ed7d362f324eb12f76);\n",
       "        \n",
       "\n",
       "        marker_5e07241c0b165fee5b128c49d2a5fa38.bindPopup(popup_f7578e39bad1323765beccfb747b1ee2)\n",
       "        ;\n",
       "\n",
       "        \n",
       "    \n",
       "    \n",
       "            var marker_4028e6d3d2481524b74cbe4e9051357e = L.marker(\n",
       "                [18.581647, 73.873011],\n",
       "                {}\n",
       "            ).addTo(map_a0c914550f9e4dff92ab9d67f628a2a9);\n",
       "        \n",
       "    \n",
       "            var icon_62fd46f30f3197f5226ff296e77c1972 = L.AwesomeMarkers.icon(\n",
       "                {&quot;extraClasses&quot;: &quot;fa-rotate-0&quot;, &quot;icon&quot;: &quot;tint&quot;, &quot;iconColor&quot;: &quot;white&quot;, &quot;markerColor&quot;: &quot;blue&quot;, &quot;prefix&quot;: &quot;glyphicon&quot;}\n",
       "            );\n",
       "            marker_4028e6d3d2481524b74cbe4e9051357e.setIcon(icon_62fd46f30f3197f5226ff296e77c1972);\n",
       "        \n",
       "    \n",
       "        var popup_d734909ee18cf6082f444d5be039c501 = L.popup({&quot;maxWidth&quot;: &quot;100%&quot;});\n",
       "\n",
       "        \n",
       "            var html_20ce09242e963904e216ac0027f37f2b = $(`&lt;div id=&quot;html_20ce09242e963904e216ac0027f37f2b&quot; style=&quot;width: 100.0%; height: 100.0%;&quot;&gt;[&#x27;FWR015&#x27;, 4.6]&lt;/div&gt;`)[0];\n",
       "            popup_d734909ee18cf6082f444d5be039c501.setContent(html_20ce09242e963904e216ac0027f37f2b);\n",
       "        \n",
       "\n",
       "        marker_4028e6d3d2481524b74cbe4e9051357e.bindPopup(popup_d734909ee18cf6082f444d5be039c501)\n",
       "        ;\n",
       "\n",
       "        \n",
       "    \n",
       "    \n",
       "            var marker_3effb02624b0e5d77fd486542c5484ed = L.marker(\n",
       "                [18.4918, 73.863825],\n",
       "                {}\n",
       "            ).addTo(map_a0c914550f9e4dff92ab9d67f628a2a9);\n",
       "        \n",
       "    \n",
       "            var icon_13cc69a7290bcf6cd43c05a20a5a4371 = L.AwesomeMarkers.icon(\n",
       "                {&quot;extraClasses&quot;: &quot;fa-rotate-0&quot;, &quot;icon&quot;: &quot;tint&quot;, &quot;iconColor&quot;: &quot;white&quot;, &quot;markerColor&quot;: &quot;blue&quot;, &quot;prefix&quot;: &quot;glyphicon&quot;}\n",
       "            );\n",
       "            marker_3effb02624b0e5d77fd486542c5484ed.setIcon(icon_13cc69a7290bcf6cd43c05a20a5a4371);\n",
       "        \n",
       "    \n",
       "        var popup_f3952178f68ce1a0212d768fce44f0af = L.popup({&quot;maxWidth&quot;: &quot;100%&quot;});\n",
       "\n",
       "        \n",
       "            var html_6583e453319aeff6a80f2608708a4561 = $(`&lt;div id=&quot;html_6583e453319aeff6a80f2608708a4561&quot; style=&quot;width: 100.0%; height: 100.0%;&quot;&gt;[&#x27;FWR016&#x27;, 2.73]&lt;/div&gt;`)[0];\n",
       "            popup_f3952178f68ce1a0212d768fce44f0af.setContent(html_6583e453319aeff6a80f2608708a4561);\n",
       "        \n",
       "\n",
       "        marker_3effb02624b0e5d77fd486542c5484ed.bindPopup(popup_f3952178f68ce1a0212d768fce44f0af)\n",
       "        ;\n",
       "\n",
       "        \n",
       "    \n",
       "    \n",
       "            var marker_c5e07378860325efeb4da250b9ecce45 = L.marker(\n",
       "                [18.46013, 73.774537],\n",
       "                {}\n",
       "            ).addTo(map_a0c914550f9e4dff92ab9d67f628a2a9);\n",
       "        \n",
       "    \n",
       "            var icon_fa0d88aa074c0728dad0dd6fea555a60 = L.AwesomeMarkers.icon(\n",
       "                {&quot;extraClasses&quot;: &quot;fa-rotate-0&quot;, &quot;icon&quot;: &quot;tint&quot;, &quot;iconColor&quot;: &quot;white&quot;, &quot;markerColor&quot;: &quot;blue&quot;, &quot;prefix&quot;: &quot;glyphicon&quot;}\n",
       "            );\n",
       "            marker_c5e07378860325efeb4da250b9ecce45.setIcon(icon_fa0d88aa074c0728dad0dd6fea555a60);\n",
       "        \n",
       "    \n",
       "        var popup_74d058cc96ad1d333ef059ece9baa0b5 = L.popup({&quot;maxWidth&quot;: &quot;100%&quot;});\n",
       "\n",
       "        \n",
       "            var html_486c9785b8969887dcd1d4ad3ff9ea8e = $(`&lt;div id=&quot;html_486c9785b8969887dcd1d4ad3ff9ea8e&quot; style=&quot;width: 100.0%; height: 100.0%;&quot;&gt;[&#x27;FWR017&#x27;, 3.3]&lt;/div&gt;`)[0];\n",
       "            popup_74d058cc96ad1d333ef059ece9baa0b5.setContent(html_486c9785b8969887dcd1d4ad3ff9ea8e);\n",
       "        \n",
       "\n",
       "        marker_c5e07378860325efeb4da250b9ecce45.bindPopup(popup_74d058cc96ad1d333ef059ece9baa0b5)\n",
       "        ;\n",
       "\n",
       "        \n",
       "    \n",
       "    \n",
       "            var marker_46e3603268f8c6b9a4b762016e755017 = L.marker(\n",
       "                [18.536285, 73.791175],\n",
       "                {}\n",
       "            ).addTo(map_a0c914550f9e4dff92ab9d67f628a2a9);\n",
       "        \n",
       "    \n",
       "            var icon_5810f7bc50a1c70b554c6b722a2f60e4 = L.AwesomeMarkers.icon(\n",
       "                {&quot;extraClasses&quot;: &quot;fa-rotate-0&quot;, &quot;icon&quot;: &quot;tint&quot;, &quot;iconColor&quot;: &quot;white&quot;, &quot;markerColor&quot;: &quot;blue&quot;, &quot;prefix&quot;: &quot;glyphicon&quot;}\n",
       "            );\n",
       "            marker_46e3603268f8c6b9a4b762016e755017.setIcon(icon_5810f7bc50a1c70b554c6b722a2f60e4);\n",
       "        \n",
       "    \n",
       "        var popup_8bd7a1ef5a3792b3e86e7687b22b9db6 = L.popup({&quot;maxWidth&quot;: &quot;100%&quot;});\n",
       "\n",
       "        \n",
       "            var html_3d75e4d340bd3e950879f7d7076ccf73 = $(`&lt;div id=&quot;html_3d75e4d340bd3e950879f7d7076ccf73&quot; style=&quot;width: 100.0%; height: 100.0%;&quot;&gt;[&#x27;FWR018&#x27;, 4.52]&lt;/div&gt;`)[0];\n",
       "            popup_8bd7a1ef5a3792b3e86e7687b22b9db6.setContent(html_3d75e4d340bd3e950879f7d7076ccf73);\n",
       "        \n",
       "\n",
       "        marker_46e3603268f8c6b9a4b762016e755017.bindPopup(popup_8bd7a1ef5a3792b3e86e7687b22b9db6)\n",
       "        ;\n",
       "\n",
       "        \n",
       "    \n",
       "    \n",
       "            var marker_ee699104cdef72c0b491b27a6a63284e = L.marker(\n",
       "                [18.56235, 73.78405],\n",
       "                {}\n",
       "            ).addTo(map_a0c914550f9e4dff92ab9d67f628a2a9);\n",
       "        \n",
       "    \n",
       "            var icon_7a6cc2bc45392edd50d60dc50b4d44e2 = L.AwesomeMarkers.icon(\n",
       "                {&quot;extraClasses&quot;: &quot;fa-rotate-0&quot;, &quot;icon&quot;: &quot;tint&quot;, &quot;iconColor&quot;: &quot;white&quot;, &quot;markerColor&quot;: &quot;blue&quot;, &quot;prefix&quot;: &quot;glyphicon&quot;}\n",
       "            );\n",
       "            marker_ee699104cdef72c0b491b27a6a63284e.setIcon(icon_7a6cc2bc45392edd50d60dc50b4d44e2);\n",
       "        \n",
       "    \n",
       "        var popup_156a74836dfa138599f4d5e69f4c8ba8 = L.popup({&quot;maxWidth&quot;: &quot;100%&quot;});\n",
       "\n",
       "        \n",
       "            var html_9367562b9208af8abd2ca1faaba26a1a = $(`&lt;div id=&quot;html_9367562b9208af8abd2ca1faaba26a1a&quot; style=&quot;width: 100.0%; height: 100.0%;&quot;&gt;[&#x27;FWR019&#x27;, 5.2]&lt;/div&gt;`)[0];\n",
       "            popup_156a74836dfa138599f4d5e69f4c8ba8.setContent(html_9367562b9208af8abd2ca1faaba26a1a);\n",
       "        \n",
       "\n",
       "        marker_ee699104cdef72c0b491b27a6a63284e.bindPopup(popup_156a74836dfa138599f4d5e69f4c8ba8)\n",
       "        ;\n",
       "\n",
       "        \n",
       "    \n",
       "    \n",
       "            var marker_f35fd00fe948dd8e7cc8b672dfeb0118 = L.marker(\n",
       "                [18.54708, 73.798225],\n",
       "                {}\n",
       "            ).addTo(map_a0c914550f9e4dff92ab9d67f628a2a9);\n",
       "        \n",
       "    \n",
       "            var icon_a649f4dbc5eda18db087663961a4b8dc = L.AwesomeMarkers.icon(\n",
       "                {&quot;extraClasses&quot;: &quot;fa-rotate-0&quot;, &quot;icon&quot;: &quot;tint&quot;, &quot;iconColor&quot;: &quot;white&quot;, &quot;markerColor&quot;: &quot;blue&quot;, &quot;prefix&quot;: &quot;glyphicon&quot;}\n",
       "            );\n",
       "            marker_f35fd00fe948dd8e7cc8b672dfeb0118.setIcon(icon_a649f4dbc5eda18db087663961a4b8dc);\n",
       "        \n",
       "    \n",
       "        var popup_5f9dd37a4008047739a96aaaece2a301 = L.popup({&quot;maxWidth&quot;: &quot;100%&quot;});\n",
       "\n",
       "        \n",
       "            var html_2d4db2660ba307b95eb4c14c96abaa54 = $(`&lt;div id=&quot;html_2d4db2660ba307b95eb4c14c96abaa54&quot; style=&quot;width: 100.0%; height: 100.0%;&quot;&gt;[&#x27;FWR020&#x27;, 4.85]&lt;/div&gt;`)[0];\n",
       "            popup_5f9dd37a4008047739a96aaaece2a301.setContent(html_2d4db2660ba307b95eb4c14c96abaa54);\n",
       "        \n",
       "\n",
       "        marker_f35fd00fe948dd8e7cc8b672dfeb0118.bindPopup(popup_5f9dd37a4008047739a96aaaece2a301)\n",
       "        ;\n",
       "\n",
       "        \n",
       "    \n",
       "    \n",
       "            var marker_3c5d2266bc5dcf064758ca35efb35ee9 = L.marker(\n",
       "                [18.558611, 73.873944],\n",
       "                {}\n",
       "            ).addTo(map_a0c914550f9e4dff92ab9d67f628a2a9);\n",
       "        \n",
       "    \n",
       "            var icon_abad276c46bc64b9ec4627b7098712f4 = L.AwesomeMarkers.icon(\n",
       "                {&quot;extraClasses&quot;: &quot;fa-rotate-0&quot;, &quot;icon&quot;: &quot;tint&quot;, &quot;iconColor&quot;: &quot;white&quot;, &quot;markerColor&quot;: &quot;blue&quot;, &quot;prefix&quot;: &quot;glyphicon&quot;}\n",
       "            );\n",
       "            marker_3c5d2266bc5dcf064758ca35efb35ee9.setIcon(icon_abad276c46bc64b9ec4627b7098712f4);\n",
       "        \n",
       "    \n",
       "        var popup_9f4d539fee5c4c3a73cf1cc53d2c2303 = L.popup({&quot;maxWidth&quot;: &quot;100%&quot;});\n",
       "\n",
       "        \n",
       "            var html_d2064beb7aa3fb496a8d7999149b9606 = $(`&lt;div id=&quot;html_d2064beb7aa3fb496a8d7999149b9606&quot; style=&quot;width: 100.0%; height: 100.0%;&quot;&gt;[&#x27;FWR021&#x27;, 0.0]&lt;/div&gt;`)[0];\n",
       "            popup_9f4d539fee5c4c3a73cf1cc53d2c2303.setContent(html_d2064beb7aa3fb496a8d7999149b9606);\n",
       "        \n",
       "\n",
       "        marker_3c5d2266bc5dcf064758ca35efb35ee9.bindPopup(popup_9f4d539fee5c4c3a73cf1cc53d2c2303)\n",
       "        ;\n",
       "\n",
       "        \n",
       "    \n",
       "    \n",
       "            var marker_60ecdf4b0c1501b3a847c39c367df2fb = L.marker(\n",
       "                [18.467078, 73.81497],\n",
       "                {}\n",
       "            ).addTo(map_a0c914550f9e4dff92ab9d67f628a2a9);\n",
       "        \n",
       "    \n",
       "            var icon_8264b5b48a4ad5cf8659e3e6ae3a255f = L.AwesomeMarkers.icon(\n",
       "                {&quot;extraClasses&quot;: &quot;fa-rotate-0&quot;, &quot;icon&quot;: &quot;tint&quot;, &quot;iconColor&quot;: &quot;white&quot;, &quot;markerColor&quot;: &quot;blue&quot;, &quot;prefix&quot;: &quot;glyphicon&quot;}\n",
       "            );\n",
       "            marker_60ecdf4b0c1501b3a847c39c367df2fb.setIcon(icon_8264b5b48a4ad5cf8659e3e6ae3a255f);\n",
       "        \n",
       "    \n",
       "        var popup_57f401dc3900d1f597cc1bc28cac579e = L.popup({&quot;maxWidth&quot;: &quot;100%&quot;});\n",
       "\n",
       "        \n",
       "            var html_c16813ed0756e99c25df285ceed58f15 = $(`&lt;div id=&quot;html_c16813ed0756e99c25df285ceed58f15&quot; style=&quot;width: 100.0%; height: 100.0%;&quot;&gt;[&#x27;FWR022&#x27;, 4.08]&lt;/div&gt;`)[0];\n",
       "            popup_57f401dc3900d1f597cc1bc28cac579e.setContent(html_c16813ed0756e99c25df285ceed58f15);\n",
       "        \n",
       "\n",
       "        marker_60ecdf4b0c1501b3a847c39c367df2fb.bindPopup(popup_57f401dc3900d1f597cc1bc28cac579e)\n",
       "        ;\n",
       "\n",
       "        \n",
       "    \n",
       "    \n",
       "            var marker_bd2aea19d002b22cecb0ce99499e3269 = L.marker(\n",
       "                [18.57595, 73.87652],\n",
       "                {}\n",
       "            ).addTo(map_a0c914550f9e4dff92ab9d67f628a2a9);\n",
       "        \n",
       "    \n",
       "            var icon_fd20cd5844c3a7e0bde251317dcb949a = L.AwesomeMarkers.icon(\n",
       "                {&quot;extraClasses&quot;: &quot;fa-rotate-0&quot;, &quot;icon&quot;: &quot;tint&quot;, &quot;iconColor&quot;: &quot;white&quot;, &quot;markerColor&quot;: &quot;blue&quot;, &quot;prefix&quot;: &quot;glyphicon&quot;}\n",
       "            );\n",
       "            marker_bd2aea19d002b22cecb0ce99499e3269.setIcon(icon_fd20cd5844c3a7e0bde251317dcb949a);\n",
       "        \n",
       "    \n",
       "        var popup_540440e7ad8e328aaa1f51227eb52796 = L.popup({&quot;maxWidth&quot;: &quot;100%&quot;});\n",
       "\n",
       "        \n",
       "            var html_7d49871465c0a46d86556535a55cf9bd = $(`&lt;div id=&quot;html_7d49871465c0a46d86556535a55cf9bd&quot; style=&quot;width: 100.0%; height: 100.0%;&quot;&gt;[&#x27;FWR023&#x27;, 3.89]&lt;/div&gt;`)[0];\n",
       "            popup_540440e7ad8e328aaa1f51227eb52796.setContent(html_7d49871465c0a46d86556535a55cf9bd);\n",
       "        \n",
       "\n",
       "        marker_bd2aea19d002b22cecb0ce99499e3269.bindPopup(popup_540440e7ad8e328aaa1f51227eb52796)\n",
       "        ;\n",
       "\n",
       "        \n",
       "    \n",
       "    \n",
       "            var marker_9af330f1499e16b5af59b74c7a17ceb4 = L.marker(\n",
       "                [18.480676, 73.822295],\n",
       "                {}\n",
       "            ).addTo(map_a0c914550f9e4dff92ab9d67f628a2a9);\n",
       "        \n",
       "    \n",
       "            var icon_8347bc2b21bef530f077d8fa395db7e9 = L.AwesomeMarkers.icon(\n",
       "                {&quot;extraClasses&quot;: &quot;fa-rotate-0&quot;, &quot;icon&quot;: &quot;tint&quot;, &quot;iconColor&quot;: &quot;white&quot;, &quot;markerColor&quot;: &quot;blue&quot;, &quot;prefix&quot;: &quot;glyphicon&quot;}\n",
       "            );\n",
       "            marker_9af330f1499e16b5af59b74c7a17ceb4.setIcon(icon_8347bc2b21bef530f077d8fa395db7e9);\n",
       "        \n",
       "    \n",
       "        var popup_7d43eda793cbb8d8c7db9f5eb46a2652 = L.popup({&quot;maxWidth&quot;: &quot;100%&quot;});\n",
       "\n",
       "        \n",
       "            var html_ba6d040981384bf5931742563df2d6f0 = $(`&lt;div id=&quot;html_ba6d040981384bf5931742563df2d6f0&quot; style=&quot;width: 100.0%; height: 100.0%;&quot;&gt;[&#x27;FWR024&#x27;, 2.68]&lt;/div&gt;`)[0];\n",
       "            popup_7d43eda793cbb8d8c7db9f5eb46a2652.setContent(html_ba6d040981384bf5931742563df2d6f0);\n",
       "        \n",
       "\n",
       "        marker_9af330f1499e16b5af59b74c7a17ceb4.bindPopup(popup_7d43eda793cbb8d8c7db9f5eb46a2652)\n",
       "        ;\n",
       "\n",
       "        \n",
       "    \n",
       "    \n",
       "            var marker_1f33a297928a08496b67c52cbb667aa4 = L.marker(\n",
       "                [18.51329, 73.77026],\n",
       "                {}\n",
       "            ).addTo(map_a0c914550f9e4dff92ab9d67f628a2a9);\n",
       "        \n",
       "    \n",
       "            var icon_22090f3e59a02915f587587eea27766c = L.AwesomeMarkers.icon(\n",
       "                {&quot;extraClasses&quot;: &quot;fa-rotate-0&quot;, &quot;icon&quot;: &quot;tint&quot;, &quot;iconColor&quot;: &quot;white&quot;, &quot;markerColor&quot;: &quot;blue&quot;, &quot;prefix&quot;: &quot;glyphicon&quot;}\n",
       "            );\n",
       "            marker_1f33a297928a08496b67c52cbb667aa4.setIcon(icon_22090f3e59a02915f587587eea27766c);\n",
       "        \n",
       "    \n",
       "        var popup_08c7d29e0c9cfbd873298e1793962f3b = L.popup({&quot;maxWidth&quot;: &quot;100%&quot;});\n",
       "\n",
       "        \n",
       "            var html_776d167bdf9013075402a5914f6d506c = $(`&lt;div id=&quot;html_776d167bdf9013075402a5914f6d506c&quot; style=&quot;width: 100.0%; height: 100.0%;&quot;&gt;[&#x27;FWR025&#x27;, 7.58]&lt;/div&gt;`)[0];\n",
       "            popup_08c7d29e0c9cfbd873298e1793962f3b.setContent(html_776d167bdf9013075402a5914f6d506c);\n",
       "        \n",
       "\n",
       "        marker_1f33a297928a08496b67c52cbb667aa4.bindPopup(popup_08c7d29e0c9cfbd873298e1793962f3b)\n",
       "        ;\n",
       "\n",
       "        \n",
       "    \n",
       "    \n",
       "            var marker_d6f1937e3b4d9512ddc4f7b1052641c5 = L.marker(\n",
       "                [18.481732, 73.852952],\n",
       "                {}\n",
       "            ).addTo(map_a0c914550f9e4dff92ab9d67f628a2a9);\n",
       "        \n",
       "    \n",
       "            var icon_7b8861e6b8371bd53e5287d5ec169143 = L.AwesomeMarkers.icon(\n",
       "                {&quot;extraClasses&quot;: &quot;fa-rotate-0&quot;, &quot;icon&quot;: &quot;tint&quot;, &quot;iconColor&quot;: &quot;white&quot;, &quot;markerColor&quot;: &quot;blue&quot;, &quot;prefix&quot;: &quot;glyphicon&quot;}\n",
       "            );\n",
       "            marker_d6f1937e3b4d9512ddc4f7b1052641c5.setIcon(icon_7b8861e6b8371bd53e5287d5ec169143);\n",
       "        \n",
       "    \n",
       "        var popup_f402e0c163b5c9493f5c9c293b372790 = L.popup({&quot;maxWidth&quot;: &quot;100%&quot;});\n",
       "\n",
       "        \n",
       "            var html_70718b93c292e00266501697a19bde8f = $(`&lt;div id=&quot;html_70718b93c292e00266501697a19bde8f&quot; style=&quot;width: 100.0%; height: 100.0%;&quot;&gt;[&#x27;FWR026&#x27;, 3.52]&lt;/div&gt;`)[0];\n",
       "            popup_f402e0c163b5c9493f5c9c293b372790.setContent(html_70718b93c292e00266501697a19bde8f);\n",
       "        \n",
       "\n",
       "        marker_d6f1937e3b4d9512ddc4f7b1052641c5.bindPopup(popup_f402e0c163b5c9493f5c9c293b372790)\n",
       "        ;\n",
       "\n",
       "        \n",
       "    \n",
       "    \n",
       "            var marker_26077f02548a487ad918aa26282387a9 = L.marker(\n",
       "                [18.455577, 73.887711],\n",
       "                {}\n",
       "            ).addTo(map_a0c914550f9e4dff92ab9d67f628a2a9);\n",
       "        \n",
       "    \n",
       "            var icon_b499c5f92af97904bf1a5e29c15d3063 = L.AwesomeMarkers.icon(\n",
       "                {&quot;extraClasses&quot;: &quot;fa-rotate-0&quot;, &quot;icon&quot;: &quot;tint&quot;, &quot;iconColor&quot;: &quot;white&quot;, &quot;markerColor&quot;: &quot;blue&quot;, &quot;prefix&quot;: &quot;glyphicon&quot;}\n",
       "            );\n",
       "            marker_26077f02548a487ad918aa26282387a9.setIcon(icon_b499c5f92af97904bf1a5e29c15d3063);\n",
       "        \n",
       "    \n",
       "        var popup_4655fd421f8049c1ec95b5e0a4d0fdf1 = L.popup({&quot;maxWidth&quot;: &quot;100%&quot;});\n",
       "\n",
       "        \n",
       "            var html_6587ebd6f1ebd5346077b0ecdedca568 = $(`&lt;div id=&quot;html_6587ebd6f1ebd5346077b0ecdedca568&quot; style=&quot;width: 100.0%; height: 100.0%;&quot;&gt;[&#x27;FWR030&#x27;, 0.0]&lt;/div&gt;`)[0];\n",
       "            popup_4655fd421f8049c1ec95b5e0a4d0fdf1.setContent(html_6587ebd6f1ebd5346077b0ecdedca568);\n",
       "        \n",
       "\n",
       "        marker_26077f02548a487ad918aa26282387a9.bindPopup(popup_4655fd421f8049c1ec95b5e0a4d0fdf1)\n",
       "        ;\n",
       "\n",
       "        \n",
       "    \n",
       "    \n",
       "            var marker_3c0ec8449a004136afd75f2db219f695 = L.marker(\n",
       "                [18.56875, 73.87351],\n",
       "                {}\n",
       "            ).addTo(map_a0c914550f9e4dff92ab9d67f628a2a9);\n",
       "        \n",
       "    \n",
       "            var icon_62f9458bfea865a9b1d9018adc83634a = L.AwesomeMarkers.icon(\n",
       "                {&quot;extraClasses&quot;: &quot;fa-rotate-0&quot;, &quot;icon&quot;: &quot;tint&quot;, &quot;iconColor&quot;: &quot;white&quot;, &quot;markerColor&quot;: &quot;blue&quot;, &quot;prefix&quot;: &quot;glyphicon&quot;}\n",
       "            );\n",
       "            marker_3c0ec8449a004136afd75f2db219f695.setIcon(icon_62f9458bfea865a9b1d9018adc83634a);\n",
       "        \n",
       "    \n",
       "        var popup_91a483b3056419ef38420768bb47659c = L.popup({&quot;maxWidth&quot;: &quot;100%&quot;});\n",
       "\n",
       "        \n",
       "            var html_2451d2fb3e76198620198abb4945b6a1 = $(`&lt;div id=&quot;html_2451d2fb3e76198620198abb4945b6a1&quot; style=&quot;width: 100.0%; height: 100.0%;&quot;&gt;[&#x27;FWR033&#x27;, 11.14]&lt;/div&gt;`)[0];\n",
       "            popup_91a483b3056419ef38420768bb47659c.setContent(html_2451d2fb3e76198620198abb4945b6a1);\n",
       "        \n",
       "\n",
       "        marker_3c0ec8449a004136afd75f2db219f695.bindPopup(popup_91a483b3056419ef38420768bb47659c)\n",
       "        ;\n",
       "\n",
       "        \n",
       "    \n",
       "    \n",
       "            var marker_2a615511cd5bd1923e3c21fb06b5b661 = L.marker(\n",
       "                [18.478267, 73.8318],\n",
       "                {}\n",
       "            ).addTo(map_a0c914550f9e4dff92ab9d67f628a2a9);\n",
       "        \n",
       "    \n",
       "            var icon_f6a5d3869dfe2c1ef29b02962a7c6390 = L.AwesomeMarkers.icon(\n",
       "                {&quot;extraClasses&quot;: &quot;fa-rotate-0&quot;, &quot;icon&quot;: &quot;tint&quot;, &quot;iconColor&quot;: &quot;white&quot;, &quot;markerColor&quot;: &quot;blue&quot;, &quot;prefix&quot;: &quot;glyphicon&quot;}\n",
       "            );\n",
       "            marker_2a615511cd5bd1923e3c21fb06b5b661.setIcon(icon_f6a5d3869dfe2c1ef29b02962a7c6390);\n",
       "        \n",
       "    \n",
       "        var popup_b1e9ac4c7e191c1f0a1d4f32eb9f1e17 = L.popup({&quot;maxWidth&quot;: &quot;100%&quot;});\n",
       "\n",
       "        \n",
       "            var html_a743dd5e8305cb0fb7393bf622d18e4b = $(`&lt;div id=&quot;html_a743dd5e8305cb0fb7393bf622d18e4b&quot; style=&quot;width: 100.0%; height: 100.0%;&quot;&gt;[&#x27;FWR034&#x27;, 5.48]&lt;/div&gt;`)[0];\n",
       "            popup_b1e9ac4c7e191c1f0a1d4f32eb9f1e17.setContent(html_a743dd5e8305cb0fb7393bf622d18e4b);\n",
       "        \n",
       "\n",
       "        marker_2a615511cd5bd1923e3c21fb06b5b661.bindPopup(popup_b1e9ac4c7e191c1f0a1d4f32eb9f1e17)\n",
       "        ;\n",
       "\n",
       "        \n",
       "    \n",
       "    \n",
       "            var marker_d242f071b686ebd1f1798991e436b69c = L.marker(\n",
       "                [18.513477, 73.84296],\n",
       "                {}\n",
       "            ).addTo(map_a0c914550f9e4dff92ab9d67f628a2a9);\n",
       "        \n",
       "    \n",
       "            var icon_146fd82b5b26ce1287463e1f136f17bf = L.AwesomeMarkers.icon(\n",
       "                {&quot;extraClasses&quot;: &quot;fa-rotate-0&quot;, &quot;icon&quot;: &quot;tint&quot;, &quot;iconColor&quot;: &quot;white&quot;, &quot;markerColor&quot;: &quot;blue&quot;, &quot;prefix&quot;: &quot;glyphicon&quot;}\n",
       "            );\n",
       "            marker_d242f071b686ebd1f1798991e436b69c.setIcon(icon_146fd82b5b26ce1287463e1f136f17bf);\n",
       "        \n",
       "    \n",
       "        var popup_7c383d27ede35d531934c73d2e00ed22 = L.popup({&quot;maxWidth&quot;: &quot;100%&quot;});\n",
       "\n",
       "        \n",
       "            var html_bdf446a528a8340c8535ef4ca27285f1 = $(`&lt;div id=&quot;html_bdf446a528a8340c8535ef4ca27285f1&quot; style=&quot;width: 100.0%; height: 100.0%;&quot;&gt;[&#x27;FWR035&#x27;, 4.44]&lt;/div&gt;`)[0];\n",
       "            popup_7c383d27ede35d531934c73d2e00ed22.setContent(html_bdf446a528a8340c8535ef4ca27285f1);\n",
       "        \n",
       "\n",
       "        marker_d242f071b686ebd1f1798991e436b69c.bindPopup(popup_7c383d27ede35d531934c73d2e00ed22)\n",
       "        ;\n",
       "\n",
       "        \n",
       "    \n",
       "    \n",
       "            var marker_6a0ba223c33395503afd9fe75369f1d1 = L.marker(\n",
       "                [18.4691, 73.861],\n",
       "                {}\n",
       "            ).addTo(map_a0c914550f9e4dff92ab9d67f628a2a9);\n",
       "        \n",
       "    \n",
       "            var icon_0abdd442c0a69f91fc7bc9e9514d211a = L.AwesomeMarkers.icon(\n",
       "                {&quot;extraClasses&quot;: &quot;fa-rotate-0&quot;, &quot;icon&quot;: &quot;tint&quot;, &quot;iconColor&quot;: &quot;white&quot;, &quot;markerColor&quot;: &quot;blue&quot;, &quot;prefix&quot;: &quot;glyphicon&quot;}\n",
       "            );\n",
       "            marker_6a0ba223c33395503afd9fe75369f1d1.setIcon(icon_0abdd442c0a69f91fc7bc9e9514d211a);\n",
       "        \n",
       "    \n",
       "        var popup_70b80219d9a8ef5e499582e18103951f = L.popup({&quot;maxWidth&quot;: &quot;100%&quot;});\n",
       "\n",
       "        \n",
       "            var html_f5c7723dcb44afee7952a60973d82bc2 = $(`&lt;div id=&quot;html_f5c7723dcb44afee7952a60973d82bc2&quot; style=&quot;width: 100.0%; height: 100.0%;&quot;&gt;[&#x27;FWR036&#x27;, 6.12]&lt;/div&gt;`)[0];\n",
       "            popup_70b80219d9a8ef5e499582e18103951f.setContent(html_f5c7723dcb44afee7952a60973d82bc2);\n",
       "        \n",
       "\n",
       "        marker_6a0ba223c33395503afd9fe75369f1d1.bindPopup(popup_70b80219d9a8ef5e499582e18103951f)\n",
       "        ;\n",
       "\n",
       "        \n",
       "    \n",
       "    \n",
       "            var marker_eeb9f81eb77df42717dec6671f4cf4af = L.marker(\n",
       "                [18.479271, 73.824593],\n",
       "                {}\n",
       "            ).addTo(map_a0c914550f9e4dff92ab9d67f628a2a9);\n",
       "        \n",
       "    \n",
       "            var icon_d9014fcc44399fa547bbbc8946e9583b = L.AwesomeMarkers.icon(\n",
       "                {&quot;extraClasses&quot;: &quot;fa-rotate-0&quot;, &quot;icon&quot;: &quot;tint&quot;, &quot;iconColor&quot;: &quot;white&quot;, &quot;markerColor&quot;: &quot;blue&quot;, &quot;prefix&quot;: &quot;glyphicon&quot;}\n",
       "            );\n",
       "            marker_eeb9f81eb77df42717dec6671f4cf4af.setIcon(icon_d9014fcc44399fa547bbbc8946e9583b);\n",
       "        \n",
       "    \n",
       "        var popup_241278a949de419b16bf26867944d186 = L.popup({&quot;maxWidth&quot;: &quot;100%&quot;});\n",
       "\n",
       "        \n",
       "            var html_3e73e11f5479e10dfa86c85cb4223ac9 = $(`&lt;div id=&quot;html_3e73e11f5479e10dfa86c85cb4223ac9&quot; style=&quot;width: 100.0%; height: 100.0%;&quot;&gt;[&#x27;FWR037&#x27;, 2.92]&lt;/div&gt;`)[0];\n",
       "            popup_241278a949de419b16bf26867944d186.setContent(html_3e73e11f5479e10dfa86c85cb4223ac9);\n",
       "        \n",
       "\n",
       "        marker_eeb9f81eb77df42717dec6671f4cf4af.bindPopup(popup_241278a949de419b16bf26867944d186)\n",
       "        ;\n",
       "\n",
       "        \n",
       "    \n",
       "    \n",
       "            var marker_efd3fa6092089076dccac0890449ef8e = L.marker(\n",
       "                [18.518623, 73.861964],\n",
       "                {}\n",
       "            ).addTo(map_a0c914550f9e4dff92ab9d67f628a2a9);\n",
       "        \n",
       "    \n",
       "            var icon_40a14a825fd58e7a4f5508e435b93056 = L.AwesomeMarkers.icon(\n",
       "                {&quot;extraClasses&quot;: &quot;fa-rotate-0&quot;, &quot;icon&quot;: &quot;tint&quot;, &quot;iconColor&quot;: &quot;white&quot;, &quot;markerColor&quot;: &quot;blue&quot;, &quot;prefix&quot;: &quot;glyphicon&quot;}\n",
       "            );\n",
       "            marker_efd3fa6092089076dccac0890449ef8e.setIcon(icon_40a14a825fd58e7a4f5508e435b93056);\n",
       "        \n",
       "    \n",
       "        var popup_a788dfa6c85fd82ef6bbe8536661adb0 = L.popup({&quot;maxWidth&quot;: &quot;100%&quot;});\n",
       "\n",
       "        \n",
       "            var html_68bbeae7dec66a1130c95f5d87ff9b4f = $(`&lt;div id=&quot;html_68bbeae7dec66a1130c95f5d87ff9b4f&quot; style=&quot;width: 100.0%; height: 100.0%;&quot;&gt;[&#x27;FWR039&#x27;, 5.66]&lt;/div&gt;`)[0];\n",
       "            popup_a788dfa6c85fd82ef6bbe8536661adb0.setContent(html_68bbeae7dec66a1130c95f5d87ff9b4f);\n",
       "        \n",
       "\n",
       "        marker_efd3fa6092089076dccac0890449ef8e.bindPopup(popup_a788dfa6c85fd82ef6bbe8536661adb0)\n",
       "        ;\n",
       "\n",
       "        \n",
       "    \n",
       "    \n",
       "            var marker_da1325431ae46859becfbad8664f1306 = L.marker(\n",
       "                [18.499747, 73.850911],\n",
       "                {}\n",
       "            ).addTo(map_a0c914550f9e4dff92ab9d67f628a2a9);\n",
       "        \n",
       "    \n",
       "            var icon_51b093a1e1a54d76f9e05c605cabc367 = L.AwesomeMarkers.icon(\n",
       "                {&quot;extraClasses&quot;: &quot;fa-rotate-0&quot;, &quot;icon&quot;: &quot;tint&quot;, &quot;iconColor&quot;: &quot;white&quot;, &quot;markerColor&quot;: &quot;blue&quot;, &quot;prefix&quot;: &quot;glyphicon&quot;}\n",
       "            );\n",
       "            marker_da1325431ae46859becfbad8664f1306.setIcon(icon_51b093a1e1a54d76f9e05c605cabc367);\n",
       "        \n",
       "    \n",
       "        var popup_14a286cf14438bbfd4d501641fdfa107 = L.popup({&quot;maxWidth&quot;: &quot;100%&quot;});\n",
       "\n",
       "        \n",
       "            var html_110fb25979f611347b4ea2889927ced6 = $(`&lt;div id=&quot;html_110fb25979f611347b4ea2889927ced6&quot; style=&quot;width: 100.0%; height: 100.0%;&quot;&gt;[&#x27;FWR044&#x27;, 6.35]&lt;/div&gt;`)[0];\n",
       "            popup_14a286cf14438bbfd4d501641fdfa107.setContent(html_110fb25979f611347b4ea2889927ced6);\n",
       "        \n",
       "\n",
       "        marker_da1325431ae46859becfbad8664f1306.bindPopup(popup_14a286cf14438bbfd4d501641fdfa107)\n",
       "        ;\n",
       "\n",
       "        \n",
       "    \n",
       "    \n",
       "            var marker_82ce717856bdc14dcd1dfde63e80d6b6 = L.marker(\n",
       "                [18.448922, 73.839582],\n",
       "                {}\n",
       "            ).addTo(map_a0c914550f9e4dff92ab9d67f628a2a9);\n",
       "        \n",
       "    \n",
       "            var icon_35a98bc88d4c04136a22ae198eeda9c2 = L.AwesomeMarkers.icon(\n",
       "                {&quot;extraClasses&quot;: &quot;fa-rotate-0&quot;, &quot;icon&quot;: &quot;tint&quot;, &quot;iconColor&quot;: &quot;white&quot;, &quot;markerColor&quot;: &quot;blue&quot;, &quot;prefix&quot;: &quot;glyphicon&quot;}\n",
       "            );\n",
       "            marker_82ce717856bdc14dcd1dfde63e80d6b6.setIcon(icon_35a98bc88d4c04136a22ae198eeda9c2);\n",
       "        \n",
       "    \n",
       "        var popup_94bc1c88bd7a49b89b789b81897dd3d8 = L.popup({&quot;maxWidth&quot;: &quot;100%&quot;});\n",
       "\n",
       "        \n",
       "            var html_7e6b316f67ede13f13306d1d0699d4a8 = $(`&lt;div id=&quot;html_7e6b316f67ede13f13306d1d0699d4a8&quot; style=&quot;width: 100.0%; height: 100.0%;&quot;&gt;[&#x27;FWR045&#x27;, 3.42]&lt;/div&gt;`)[0];\n",
       "            popup_94bc1c88bd7a49b89b789b81897dd3d8.setContent(html_7e6b316f67ede13f13306d1d0699d4a8);\n",
       "        \n",
       "\n",
       "        marker_82ce717856bdc14dcd1dfde63e80d6b6.bindPopup(popup_94bc1c88bd7a49b89b789b81897dd3d8)\n",
       "        ;\n",
       "\n",
       "        \n",
       "    \n",
       "    \n",
       "            var marker_47460ea01e0969ee75c38229173f6f44 = L.marker(\n",
       "                [18.548194, 73.948909],\n",
       "                {}\n",
       "            ).addTo(map_a0c914550f9e4dff92ab9d67f628a2a9);\n",
       "        \n",
       "    \n",
       "            var icon_d3e1d6a3d6d7978eac134009a673516e = L.AwesomeMarkers.icon(\n",
       "                {&quot;extraClasses&quot;: &quot;fa-rotate-0&quot;, &quot;icon&quot;: &quot;tint&quot;, &quot;iconColor&quot;: &quot;white&quot;, &quot;markerColor&quot;: &quot;blue&quot;, &quot;prefix&quot;: &quot;glyphicon&quot;}\n",
       "            );\n",
       "            marker_47460ea01e0969ee75c38229173f6f44.setIcon(icon_d3e1d6a3d6d7978eac134009a673516e);\n",
       "        \n",
       "    \n",
       "        var popup_100c5eff13b4bb08c9867c4501b49dde = L.popup({&quot;maxWidth&quot;: &quot;100%&quot;});\n",
       "\n",
       "        \n",
       "            var html_8fa7e5d123d044a89c122ff76066028b = $(`&lt;div id=&quot;html_8fa7e5d123d044a89c122ff76066028b&quot; style=&quot;width: 100.0%; height: 100.0%;&quot;&gt;[&#x27;FWR046&#x27;, 0.0]&lt;/div&gt;`)[0];\n",
       "            popup_100c5eff13b4bb08c9867c4501b49dde.setContent(html_8fa7e5d123d044a89c122ff76066028b);\n",
       "        \n",
       "\n",
       "        marker_47460ea01e0969ee75c38229173f6f44.bindPopup(popup_100c5eff13b4bb08c9867c4501b49dde)\n",
       "        ;\n",
       "\n",
       "        \n",
       "    \n",
       "    \n",
       "            var marker_2561e0ff3de594158bcd5f4c814b99a8 = L.marker(\n",
       "                [18.47424, 73.857543],\n",
       "                {}\n",
       "            ).addTo(map_a0c914550f9e4dff92ab9d67f628a2a9);\n",
       "        \n",
       "    \n",
       "            var icon_716a02a9ee4ca1f219eacd58bea4c796 = L.AwesomeMarkers.icon(\n",
       "                {&quot;extraClasses&quot;: &quot;fa-rotate-0&quot;, &quot;icon&quot;: &quot;tint&quot;, &quot;iconColor&quot;: &quot;white&quot;, &quot;markerColor&quot;: &quot;blue&quot;, &quot;prefix&quot;: &quot;glyphicon&quot;}\n",
       "            );\n",
       "            marker_2561e0ff3de594158bcd5f4c814b99a8.setIcon(icon_716a02a9ee4ca1f219eacd58bea4c796);\n",
       "        \n",
       "    \n",
       "        var popup_df8ccadacd6a8c5b6241ceb09dee9a7f = L.popup({&quot;maxWidth&quot;: &quot;100%&quot;});\n",
       "\n",
       "        \n",
       "            var html_2b444bf30aaafc5775f4fa42b9c6ed62 = $(`&lt;div id=&quot;html_2b444bf30aaafc5775f4fa42b9c6ed62&quot; style=&quot;width: 100.0%; height: 100.0%;&quot;&gt;[&#x27;FWR047&#x27;, 4.48]&lt;/div&gt;`)[0];\n",
       "            popup_df8ccadacd6a8c5b6241ceb09dee9a7f.setContent(html_2b444bf30aaafc5775f4fa42b9c6ed62);\n",
       "        \n",
       "\n",
       "        marker_2561e0ff3de594158bcd5f4c814b99a8.bindPopup(popup_df8ccadacd6a8c5b6241ceb09dee9a7f)\n",
       "        ;\n",
       "\n",
       "        \n",
       "    \n",
       "    \n",
       "            var marker_3186c24ec6a4e8e9f23b590b4f9c746c = L.marker(\n",
       "                [18.52085, 73.8494],\n",
       "                {}\n",
       "            ).addTo(map_a0c914550f9e4dff92ab9d67f628a2a9);\n",
       "        \n",
       "    \n",
       "            var icon_82b28f5664371117f9f771104ef51e6d = L.AwesomeMarkers.icon(\n",
       "                {&quot;extraClasses&quot;: &quot;fa-rotate-0&quot;, &quot;icon&quot;: &quot;tint&quot;, &quot;iconColor&quot;: &quot;white&quot;, &quot;markerColor&quot;: &quot;blue&quot;, &quot;prefix&quot;: &quot;glyphicon&quot;}\n",
       "            );\n",
       "            marker_3186c24ec6a4e8e9f23b590b4f9c746c.setIcon(icon_82b28f5664371117f9f771104ef51e6d);\n",
       "        \n",
       "    \n",
       "        var popup_20d2256485749a416bca8dc15b809439 = L.popup({&quot;maxWidth&quot;: &quot;100%&quot;});\n",
       "\n",
       "        \n",
       "            var html_a373d24468cbdf71222693846af8d42e = $(`&lt;div id=&quot;html_a373d24468cbdf71222693846af8d42e&quot; style=&quot;width: 100.0%; height: 100.0%;&quot;&gt;[&#x27;FWR048&#x27;, 14.0]&lt;/div&gt;`)[0];\n",
       "            popup_20d2256485749a416bca8dc15b809439.setContent(html_a373d24468cbdf71222693846af8d42e);\n",
       "        \n",
       "\n",
       "        marker_3186c24ec6a4e8e9f23b590b4f9c746c.bindPopup(popup_20d2256485749a416bca8dc15b809439)\n",
       "        ;\n",
       "\n",
       "        \n",
       "    \n",
       "    \n",
       "            var marker_657d29f2cb63cba65b90fad4c96c6ed8 = L.marker(\n",
       "                [18.52962, 73.8604],\n",
       "                {}\n",
       "            ).addTo(map_a0c914550f9e4dff92ab9d67f628a2a9);\n",
       "        \n",
       "    \n",
       "            var icon_a6e8d03a936786bb0dd2f8a10a6994a7 = L.AwesomeMarkers.icon(\n",
       "                {&quot;extraClasses&quot;: &quot;fa-rotate-0&quot;, &quot;icon&quot;: &quot;tint&quot;, &quot;iconColor&quot;: &quot;white&quot;, &quot;markerColor&quot;: &quot;blue&quot;, &quot;prefix&quot;: &quot;glyphicon&quot;}\n",
       "            );\n",
       "            marker_657d29f2cb63cba65b90fad4c96c6ed8.setIcon(icon_a6e8d03a936786bb0dd2f8a10a6994a7);\n",
       "        \n",
       "    \n",
       "        var popup_9314f1b53e5657769a3c6834c87da5e1 = L.popup({&quot;maxWidth&quot;: &quot;100%&quot;});\n",
       "\n",
       "        \n",
       "            var html_2698c0b30833f8b0ee4784a5491cb43e = $(`&lt;div id=&quot;html_2698c0b30833f8b0ee4784a5491cb43e&quot; style=&quot;width: 100.0%; height: 100.0%;&quot;&gt;[&#x27;FWR049&#x27;, 13.6]&lt;/div&gt;`)[0];\n",
       "            popup_9314f1b53e5657769a3c6834c87da5e1.setContent(html_2698c0b30833f8b0ee4784a5491cb43e);\n",
       "        \n",
       "\n",
       "        marker_657d29f2cb63cba65b90fad4c96c6ed8.bindPopup(popup_9314f1b53e5657769a3c6834c87da5e1)\n",
       "        ;\n",
       "\n",
       "        \n",
       "    \n",
       "    \n",
       "            var marker_12772fa21baca7cbf7c9e770daa7b2b6 = L.marker(\n",
       "                [18.535548, 73.933558],\n",
       "                {}\n",
       "            ).addTo(map_a0c914550f9e4dff92ab9d67f628a2a9);\n",
       "        \n",
       "    \n",
       "            var icon_a69826a3fe97ed7da85fd0b8e588131c = L.AwesomeMarkers.icon(\n",
       "                {&quot;extraClasses&quot;: &quot;fa-rotate-0&quot;, &quot;icon&quot;: &quot;tint&quot;, &quot;iconColor&quot;: &quot;white&quot;, &quot;markerColor&quot;: &quot;blue&quot;, &quot;prefix&quot;: &quot;glyphicon&quot;}\n",
       "            );\n",
       "            marker_12772fa21baca7cbf7c9e770daa7b2b6.setIcon(icon_a69826a3fe97ed7da85fd0b8e588131c);\n",
       "        \n",
       "    \n",
       "        var popup_39a384ccc3f497754e2724e2e3dcafe1 = L.popup({&quot;maxWidth&quot;: &quot;100%&quot;});\n",
       "\n",
       "        \n",
       "            var html_b3ad7b5430a9e7efb77b1a01fd2e7117 = $(`&lt;div id=&quot;html_b3ad7b5430a9e7efb77b1a01fd2e7117&quot; style=&quot;width: 100.0%; height: 100.0%;&quot;&gt;[&#x27;FWR050&#x27;, 12.39]&lt;/div&gt;`)[0];\n",
       "            popup_39a384ccc3f497754e2724e2e3dcafe1.setContent(html_b3ad7b5430a9e7efb77b1a01fd2e7117);\n",
       "        \n",
       "\n",
       "        marker_12772fa21baca7cbf7c9e770daa7b2b6.bindPopup(popup_39a384ccc3f497754e2724e2e3dcafe1)\n",
       "        ;\n",
       "\n",
       "        \n",
       "    \n",
       "    \n",
       "            var marker_857e55718353d86a5fe081d1d1aad50e = L.marker(\n",
       "                [18.5325, 73.8559],\n",
       "                {}\n",
       "            ).addTo(map_a0c914550f9e4dff92ab9d67f628a2a9);\n",
       "        \n",
       "    \n",
       "            var icon_1ececbfd8d944282ab8f13c42ec4d15b = L.AwesomeMarkers.icon(\n",
       "                {&quot;extraClasses&quot;: &quot;fa-rotate-0&quot;, &quot;icon&quot;: &quot;tint&quot;, &quot;iconColor&quot;: &quot;white&quot;, &quot;markerColor&quot;: &quot;blue&quot;, &quot;prefix&quot;: &quot;glyphicon&quot;}\n",
       "            );\n",
       "            marker_857e55718353d86a5fe081d1d1aad50e.setIcon(icon_1ececbfd8d944282ab8f13c42ec4d15b);\n",
       "        \n",
       "    \n",
       "        var popup_583944d87b70ab38982463760fd9ea01 = L.popup({&quot;maxWidth&quot;: &quot;100%&quot;});\n",
       "\n",
       "        \n",
       "            var html_ba25ab7c67bcbb0f05fe87e015eea07f = $(`&lt;div id=&quot;html_ba25ab7c67bcbb0f05fe87e015eea07f&quot; style=&quot;width: 100.0%; height: 100.0%;&quot;&gt;[&#x27;FWR051&#x27;, 13.73]&lt;/div&gt;`)[0];\n",
       "            popup_583944d87b70ab38982463760fd9ea01.setContent(html_ba25ab7c67bcbb0f05fe87e015eea07f);\n",
       "        \n",
       "\n",
       "        marker_857e55718353d86a5fe081d1d1aad50e.bindPopup(popup_583944d87b70ab38982463760fd9ea01)\n",
       "        ;\n",
       "\n",
       "        \n",
       "    \n",
       "    \n",
       "            var marker_9b9c80813f9e52a7805c9ebaccc70ac7 = L.marker(\n",
       "                [18.56794, 73.81145],\n",
       "                {}\n",
       "            ).addTo(map_a0c914550f9e4dff92ab9d67f628a2a9);\n",
       "        \n",
       "    \n",
       "            var icon_620c23a014e526d51e6165a4b82c0983 = L.AwesomeMarkers.icon(\n",
       "                {&quot;extraClasses&quot;: &quot;fa-rotate-0&quot;, &quot;icon&quot;: &quot;tint&quot;, &quot;iconColor&quot;: &quot;white&quot;, &quot;markerColor&quot;: &quot;blue&quot;, &quot;prefix&quot;: &quot;glyphicon&quot;}\n",
       "            );\n",
       "            marker_9b9c80813f9e52a7805c9ebaccc70ac7.setIcon(icon_620c23a014e526d51e6165a4b82c0983);\n",
       "        \n",
       "    \n",
       "        var popup_4dd41854a60b135b5ddad99d5e2c8474 = L.popup({&quot;maxWidth&quot;: &quot;100%&quot;});\n",
       "\n",
       "        \n",
       "            var html_badf4993fe34200ec5f7b44ada82bb02 = $(`&lt;div id=&quot;html_badf4993fe34200ec5f7b44ada82bb02&quot; style=&quot;width: 100.0%; height: 100.0%;&quot;&gt;[&#x27;FWR052&#x27;, 10.35]&lt;/div&gt;`)[0];\n",
       "            popup_4dd41854a60b135b5ddad99d5e2c8474.setContent(html_badf4993fe34200ec5f7b44ada82bb02);\n",
       "        \n",
       "\n",
       "        marker_9b9c80813f9e52a7805c9ebaccc70ac7.bindPopup(popup_4dd41854a60b135b5ddad99d5e2c8474)\n",
       "        ;\n",
       "\n",
       "        \n",
       "    \n",
       "    \n",
       "            var marker_a2d0c6ed0c9a815a1153ec5ff0272fba = L.marker(\n",
       "                [18.554551, 73.863551],\n",
       "                {}\n",
       "            ).addTo(map_a0c914550f9e4dff92ab9d67f628a2a9);\n",
       "        \n",
       "    \n",
       "            var icon_40199e0c3b55c4f40f411931b072131d = L.AwesomeMarkers.icon(\n",
       "                {&quot;extraClasses&quot;: &quot;fa-rotate-0&quot;, &quot;icon&quot;: &quot;tint&quot;, &quot;iconColor&quot;: &quot;white&quot;, &quot;markerColor&quot;: &quot;blue&quot;, &quot;prefix&quot;: &quot;glyphicon&quot;}\n",
       "            );\n",
       "            marker_a2d0c6ed0c9a815a1153ec5ff0272fba.setIcon(icon_40199e0c3b55c4f40f411931b072131d);\n",
       "        \n",
       "    \n",
       "        var popup_e38ec3df71acefec9c712a23daffcc2d = L.popup({&quot;maxWidth&quot;: &quot;100%&quot;});\n",
       "\n",
       "        \n",
       "            var html_3838ae9d7503c0198ad998227ccf765d = $(`&lt;div id=&quot;html_3838ae9d7503c0198ad998227ccf765d&quot; style=&quot;width: 100.0%; height: 100.0%;&quot;&gt;[&#x27;FWR053&#x27;, 9.45]&lt;/div&gt;`)[0];\n",
       "            popup_e38ec3df71acefec9c712a23daffcc2d.setContent(html_3838ae9d7503c0198ad998227ccf765d);\n",
       "        \n",
       "\n",
       "        marker_a2d0c6ed0c9a815a1153ec5ff0272fba.bindPopup(popup_e38ec3df71acefec9c712a23daffcc2d)\n",
       "        ;\n",
       "\n",
       "        \n",
       "    \n",
       "    \n",
       "            var marker_51a8c6d4fbb5b0daa1b208ae2e30b361 = L.marker(\n",
       "                [18.576225, 73.8261],\n",
       "                {}\n",
       "            ).addTo(map_a0c914550f9e4dff92ab9d67f628a2a9);\n",
       "        \n",
       "    \n",
       "            var icon_a2fbf653764dc3a65db4608362c91dc9 = L.AwesomeMarkers.icon(\n",
       "                {&quot;extraClasses&quot;: &quot;fa-rotate-0&quot;, &quot;icon&quot;: &quot;tint&quot;, &quot;iconColor&quot;: &quot;white&quot;, &quot;markerColor&quot;: &quot;blue&quot;, &quot;prefix&quot;: &quot;glyphicon&quot;}\n",
       "            );\n",
       "            marker_51a8c6d4fbb5b0daa1b208ae2e30b361.setIcon(icon_a2fbf653764dc3a65db4608362c91dc9);\n",
       "        \n",
       "    \n",
       "        var popup_ecc912e0e855071dc02236542d37b80d = L.popup({&quot;maxWidth&quot;: &quot;100%&quot;});\n",
       "\n",
       "        \n",
       "            var html_d4b1c5b5710fd08ff51ca55c5840c88b = $(`&lt;div id=&quot;html_d4b1c5b5710fd08ff51ca55c5840c88b&quot; style=&quot;width: 100.0%; height: 100.0%;&quot;&gt;[&#x27;FWR054&#x27;, 10.87]&lt;/div&gt;`)[0];\n",
       "            popup_ecc912e0e855071dc02236542d37b80d.setContent(html_d4b1c5b5710fd08ff51ca55c5840c88b);\n",
       "        \n",
       "\n",
       "        marker_51a8c6d4fbb5b0daa1b208ae2e30b361.bindPopup(popup_ecc912e0e855071dc02236542d37b80d)\n",
       "        ;\n",
       "\n",
       "        \n",
       "    \n",
       "    \n",
       "            var marker_281e9d4b9b99ae7f06e0ade16c513105 = L.marker(\n",
       "                [18.488375, 73.82772],\n",
       "                {}\n",
       "            ).addTo(map_a0c914550f9e4dff92ab9d67f628a2a9);\n",
       "        \n",
       "    \n",
       "            var icon_a46078f0b55779453f9edc863ae23171 = L.AwesomeMarkers.icon(\n",
       "                {&quot;extraClasses&quot;: &quot;fa-rotate-0&quot;, &quot;icon&quot;: &quot;tint&quot;, &quot;iconColor&quot;: &quot;white&quot;, &quot;markerColor&quot;: &quot;blue&quot;, &quot;prefix&quot;: &quot;glyphicon&quot;}\n",
       "            );\n",
       "            marker_281e9d4b9b99ae7f06e0ade16c513105.setIcon(icon_a46078f0b55779453f9edc863ae23171);\n",
       "        \n",
       "    \n",
       "        var popup_07be31c61529a6a6a9158c064198e176 = L.popup({&quot;maxWidth&quot;: &quot;100%&quot;});\n",
       "\n",
       "        \n",
       "            var html_2cc2a55b04c39c0e9d7321ad1e71a7ab = $(`&lt;div id=&quot;html_2cc2a55b04c39c0e9d7321ad1e71a7ab&quot; style=&quot;width: 100.0%; height: 100.0%;&quot;&gt;[&#x27;FWR055&#x27;, 15.21]&lt;/div&gt;`)[0];\n",
       "            popup_07be31c61529a6a6a9158c064198e176.setContent(html_2cc2a55b04c39c0e9d7321ad1e71a7ab);\n",
       "        \n",
       "\n",
       "        marker_281e9d4b9b99ae7f06e0ade16c513105.bindPopup(popup_07be31c61529a6a6a9158c064198e176)\n",
       "        ;\n",
       "\n",
       "        \n",
       "    \n",
       "    \n",
       "            var marker_e72b904721e5427690924882a9eed072 = L.marker(\n",
       "                [18.504515, 73.83652],\n",
       "                {}\n",
       "            ).addTo(map_a0c914550f9e4dff92ab9d67f628a2a9);\n",
       "        \n",
       "    \n",
       "            var icon_c2d4febbe508b1d093fed17c5b2e0ca5 = L.AwesomeMarkers.icon(\n",
       "                {&quot;extraClasses&quot;: &quot;fa-rotate-0&quot;, &quot;icon&quot;: &quot;tint&quot;, &quot;iconColor&quot;: &quot;white&quot;, &quot;markerColor&quot;: &quot;blue&quot;, &quot;prefix&quot;: &quot;glyphicon&quot;}\n",
       "            );\n",
       "            marker_e72b904721e5427690924882a9eed072.setIcon(icon_c2d4febbe508b1d093fed17c5b2e0ca5);\n",
       "        \n",
       "    \n",
       "        var popup_3ec0bbbb5023c36583d39a6299a72276 = L.popup({&quot;maxWidth&quot;: &quot;100%&quot;});\n",
       "\n",
       "        \n",
       "            var html_d04166cdabe66eb023566697c1a32daa = $(`&lt;div id=&quot;html_d04166cdabe66eb023566697c1a32daa&quot; style=&quot;width: 100.0%; height: 100.0%;&quot;&gt;[&#x27;FWR056&#x27;, 12.38]&lt;/div&gt;`)[0];\n",
       "            popup_3ec0bbbb5023c36583d39a6299a72276.setContent(html_d04166cdabe66eb023566697c1a32daa);\n",
       "        \n",
       "\n",
       "        marker_e72b904721e5427690924882a9eed072.bindPopup(popup_3ec0bbbb5023c36583d39a6299a72276)\n",
       "        ;\n",
       "\n",
       "        \n",
       "    \n",
       "    \n",
       "            var marker_6875b39fbf2ba6c77855952743ec9a30 = L.marker(\n",
       "                [18.49852, 73.82698],\n",
       "                {}\n",
       "            ).addTo(map_a0c914550f9e4dff92ab9d67f628a2a9);\n",
       "        \n",
       "    \n",
       "            var icon_0c3681ccc6c278eaf16ec0499a44fc10 = L.AwesomeMarkers.icon(\n",
       "                {&quot;extraClasses&quot;: &quot;fa-rotate-0&quot;, &quot;icon&quot;: &quot;tint&quot;, &quot;iconColor&quot;: &quot;white&quot;, &quot;markerColor&quot;: &quot;blue&quot;, &quot;prefix&quot;: &quot;glyphicon&quot;}\n",
       "            );\n",
       "            marker_6875b39fbf2ba6c77855952743ec9a30.setIcon(icon_0c3681ccc6c278eaf16ec0499a44fc10);\n",
       "        \n",
       "    \n",
       "        var popup_e4e022cf433d954a5c24d3bd2f0b7320 = L.popup({&quot;maxWidth&quot;: &quot;100%&quot;});\n",
       "\n",
       "        \n",
       "            var html_3f41e818d70ddb4bf732bc9b69820941 = $(`&lt;div id=&quot;html_3f41e818d70ddb4bf732bc9b69820941&quot; style=&quot;width: 100.0%; height: 100.0%;&quot;&gt;[&#x27;FWR057&#x27;, 5.87]&lt;/div&gt;`)[0];\n",
       "            popup_e4e022cf433d954a5c24d3bd2f0b7320.setContent(html_3f41e818d70ddb4bf732bc9b69820941);\n",
       "        \n",
       "\n",
       "        marker_6875b39fbf2ba6c77855952743ec9a30.bindPopup(popup_e4e022cf433d954a5c24d3bd2f0b7320)\n",
       "        ;\n",
       "\n",
       "        \n",
       "    \n",
       "    \n",
       "            var marker_8e7de9b99f29e0b76da29d34555ae56e = L.marker(\n",
       "                [18.587, 73.75921],\n",
       "                {}\n",
       "            ).addTo(map_a0c914550f9e4dff92ab9d67f628a2a9);\n",
       "        \n",
       "    \n",
       "            var icon_e7de90e880e238dde257f6d1f3816b08 = L.AwesomeMarkers.icon(\n",
       "                {&quot;extraClasses&quot;: &quot;fa-rotate-0&quot;, &quot;icon&quot;: &quot;tint&quot;, &quot;iconColor&quot;: &quot;white&quot;, &quot;markerColor&quot;: &quot;blue&quot;, &quot;prefix&quot;: &quot;glyphicon&quot;}\n",
       "            );\n",
       "            marker_8e7de9b99f29e0b76da29d34555ae56e.setIcon(icon_e7de90e880e238dde257f6d1f3816b08);\n",
       "        \n",
       "    \n",
       "        var popup_861ed34ef022f02b6f30e586b72d52b8 = L.popup({&quot;maxWidth&quot;: &quot;100%&quot;});\n",
       "\n",
       "        \n",
       "            var html_d03c429c948734216edb3cf1b9b6186f = $(`&lt;div id=&quot;html_d03c429c948734216edb3cf1b9b6186f&quot; style=&quot;width: 100.0%; height: 100.0%;&quot;&gt;[&#x27;FWR058&#x27;, 13.07]&lt;/div&gt;`)[0];\n",
       "            popup_861ed34ef022f02b6f30e586b72d52b8.setContent(html_d03c429c948734216edb3cf1b9b6186f);\n",
       "        \n",
       "\n",
       "        marker_8e7de9b99f29e0b76da29d34555ae56e.bindPopup(popup_861ed34ef022f02b6f30e586b72d52b8)\n",
       "        ;\n",
       "\n",
       "        \n",
       "    \n",
       "    \n",
       "            var marker_5282bb63fea648d1ddc368afa42954e8 = L.marker(\n",
       "                [18.47449, 73.80939],\n",
       "                {}\n",
       "            ).addTo(map_a0c914550f9e4dff92ab9d67f628a2a9);\n",
       "        \n",
       "    \n",
       "            var icon_c13497470795d1d23ff45566591111bd = L.AwesomeMarkers.icon(\n",
       "                {&quot;extraClasses&quot;: &quot;fa-rotate-0&quot;, &quot;icon&quot;: &quot;tint&quot;, &quot;iconColor&quot;: &quot;white&quot;, &quot;markerColor&quot;: &quot;blue&quot;, &quot;prefix&quot;: &quot;glyphicon&quot;}\n",
       "            );\n",
       "            marker_5282bb63fea648d1ddc368afa42954e8.setIcon(icon_c13497470795d1d23ff45566591111bd);\n",
       "        \n",
       "    \n",
       "        var popup_d9efc703974a838fa21157a660e48aa2 = L.popup({&quot;maxWidth&quot;: &quot;100%&quot;});\n",
       "\n",
       "        \n",
       "            var html_3d5d44112d460a5ae4ebb8995cc00f90 = $(`&lt;div id=&quot;html_3d5d44112d460a5ae4ebb8995cc00f90&quot; style=&quot;width: 100.0%; height: 100.0%;&quot;&gt;[&#x27;FWR059&#x27;, 12.55]&lt;/div&gt;`)[0];\n",
       "            popup_d9efc703974a838fa21157a660e48aa2.setContent(html_3d5d44112d460a5ae4ebb8995cc00f90);\n",
       "        \n",
       "\n",
       "        marker_5282bb63fea648d1ddc368afa42954e8.bindPopup(popup_d9efc703974a838fa21157a660e48aa2)\n",
       "        ;\n",
       "\n",
       "        \n",
       "    \n",
       "    \n",
       "            var marker_44afd0dbf1854bf0ebe23431bba28a89 = L.marker(\n",
       "                [18.573785, 73.83292],\n",
       "                {}\n",
       "            ).addTo(map_a0c914550f9e4dff92ab9d67f628a2a9);\n",
       "        \n",
       "    \n",
       "            var icon_6784430e035c1ce257f53d989dc0f114 = L.AwesomeMarkers.icon(\n",
       "                {&quot;extraClasses&quot;: &quot;fa-rotate-0&quot;, &quot;icon&quot;: &quot;tint&quot;, &quot;iconColor&quot;: &quot;white&quot;, &quot;markerColor&quot;: &quot;blue&quot;, &quot;prefix&quot;: &quot;glyphicon&quot;}\n",
       "            );\n",
       "            marker_44afd0dbf1854bf0ebe23431bba28a89.setIcon(icon_6784430e035c1ce257f53d989dc0f114);\n",
       "        \n",
       "    \n",
       "        var popup_6a93755e81837fea774c46383a5a1760 = L.popup({&quot;maxWidth&quot;: &quot;100%&quot;});\n",
       "\n",
       "        \n",
       "            var html_7dd812d6cdf299040a557bce643a4dc3 = $(`&lt;div id=&quot;html_7dd812d6cdf299040a557bce643a4dc3&quot; style=&quot;width: 100.0%; height: 100.0%;&quot;&gt;[&#x27;FWR060&#x27;, 9.35]&lt;/div&gt;`)[0];\n",
       "            popup_6a93755e81837fea774c46383a5a1760.setContent(html_7dd812d6cdf299040a557bce643a4dc3);\n",
       "        \n",
       "\n",
       "        marker_44afd0dbf1854bf0ebe23431bba28a89.bindPopup(popup_6a93755e81837fea774c46383a5a1760)\n",
       "        ;\n",
       "\n",
       "        \n",
       "    \n",
       "    \n",
       "            var marker_1e2b84ba36589d45877b2f85b82c7b40 = L.marker(\n",
       "                [18.483555, 73.80282],\n",
       "                {}\n",
       "            ).addTo(map_a0c914550f9e4dff92ab9d67f628a2a9);\n",
       "        \n",
       "    \n",
       "            var icon_0fb1d5450156a0c73e088354b2ba5e0b = L.AwesomeMarkers.icon(\n",
       "                {&quot;extraClasses&quot;: &quot;fa-rotate-0&quot;, &quot;icon&quot;: &quot;tint&quot;, &quot;iconColor&quot;: &quot;white&quot;, &quot;markerColor&quot;: &quot;blue&quot;, &quot;prefix&quot;: &quot;glyphicon&quot;}\n",
       "            );\n",
       "            marker_1e2b84ba36589d45877b2f85b82c7b40.setIcon(icon_0fb1d5450156a0c73e088354b2ba5e0b);\n",
       "        \n",
       "    \n",
       "        var popup_c68ba94a3150e2832bc98db43353f468 = L.popup({&quot;maxWidth&quot;: &quot;100%&quot;});\n",
       "\n",
       "        \n",
       "            var html_3c5296b40a9d435a67aa864768aad4ce = $(`&lt;div id=&quot;html_3c5296b40a9d435a67aa864768aad4ce&quot; style=&quot;width: 100.0%; height: 100.0%;&quot;&gt;[&#x27;FWR061&#x27;, 4.91]&lt;/div&gt;`)[0];\n",
       "            popup_c68ba94a3150e2832bc98db43353f468.setContent(html_3c5296b40a9d435a67aa864768aad4ce);\n",
       "        \n",
       "\n",
       "        marker_1e2b84ba36589d45877b2f85b82c7b40.bindPopup(popup_c68ba94a3150e2832bc98db43353f468)\n",
       "        ;\n",
       "\n",
       "        \n",
       "    \n",
       "    \n",
       "            var marker_f45315dc144efd4c360059be40e24b8f = L.marker(\n",
       "                [18.541038, 73.904219],\n",
       "                {}\n",
       "            ).addTo(map_a0c914550f9e4dff92ab9d67f628a2a9);\n",
       "        \n",
       "    \n",
       "            var icon_5c7a7da297863f7ccd796fc19ee145cc = L.AwesomeMarkers.icon(\n",
       "                {&quot;extraClasses&quot;: &quot;fa-rotate-0&quot;, &quot;icon&quot;: &quot;tint&quot;, &quot;iconColor&quot;: &quot;white&quot;, &quot;markerColor&quot;: &quot;blue&quot;, &quot;prefix&quot;: &quot;glyphicon&quot;}\n",
       "            );\n",
       "            marker_f45315dc144efd4c360059be40e24b8f.setIcon(icon_5c7a7da297863f7ccd796fc19ee145cc);\n",
       "        \n",
       "    \n",
       "        var popup_06bc9eedb26306bb1e98ed8efd7637b7 = L.popup({&quot;maxWidth&quot;: &quot;100%&quot;});\n",
       "\n",
       "        \n",
       "            var html_c7d13f04c1473596fd30e040f02210c6 = $(`&lt;div id=&quot;html_c7d13f04c1473596fd30e040f02210c6&quot; style=&quot;width: 100.0%; height: 100.0%;&quot;&gt;[&#x27;FWR063&#x27;, 14.11]&lt;/div&gt;`)[0];\n",
       "            popup_06bc9eedb26306bb1e98ed8efd7637b7.setContent(html_c7d13f04c1473596fd30e040f02210c6);\n",
       "        \n",
       "\n",
       "        marker_f45315dc144efd4c360059be40e24b8f.bindPopup(popup_06bc9eedb26306bb1e98ed8efd7637b7)\n",
       "        ;\n",
       "\n",
       "        \n",
       "    \n",
       "    \n",
       "            var marker_0ce6da0bdfe64e358b33d6b1f0398032 = L.marker(\n",
       "                [18.5432, 73.8836],\n",
       "                {}\n",
       "            ).addTo(map_a0c914550f9e4dff92ab9d67f628a2a9);\n",
       "        \n",
       "    \n",
       "            var icon_f6a1495c4efbac65c74a4eb964039695 = L.AwesomeMarkers.icon(\n",
       "                {&quot;extraClasses&quot;: &quot;fa-rotate-0&quot;, &quot;icon&quot;: &quot;tint&quot;, &quot;iconColor&quot;: &quot;white&quot;, &quot;markerColor&quot;: &quot;blue&quot;, &quot;prefix&quot;: &quot;glyphicon&quot;}\n",
       "            );\n",
       "            marker_0ce6da0bdfe64e358b33d6b1f0398032.setIcon(icon_f6a1495c4efbac65c74a4eb964039695);\n",
       "        \n",
       "    \n",
       "        var popup_8d151b6ae51a233ae9b8f9f4106f518e = L.popup({&quot;maxWidth&quot;: &quot;100%&quot;});\n",
       "\n",
       "        \n",
       "            var html_3536a1f23fcd24017c66018fab0a6fe0 = $(`&lt;div id=&quot;html_3536a1f23fcd24017c66018fab0a6fe0&quot; style=&quot;width: 100.0%; height: 100.0%;&quot;&gt;[&#x27;FWR064&#x27;, 14.34]&lt;/div&gt;`)[0];\n",
       "            popup_8d151b6ae51a233ae9b8f9f4106f518e.setContent(html_3536a1f23fcd24017c66018fab0a6fe0);\n",
       "        \n",
       "\n",
       "        marker_0ce6da0bdfe64e358b33d6b1f0398032.bindPopup(popup_8d151b6ae51a233ae9b8f9f4106f518e)\n",
       "        ;\n",
       "\n",
       "        \n",
       "    \n",
       "    \n",
       "            var marker_9ab39d2a3db5bfcb8ea6e94adf6b59b6 = L.marker(\n",
       "                [18.56908, 73.87749],\n",
       "                {}\n",
       "            ).addTo(map_a0c914550f9e4dff92ab9d67f628a2a9);\n",
       "        \n",
       "    \n",
       "            var icon_798460b4f5f5ea70487e9109923b138f = L.AwesomeMarkers.icon(\n",
       "                {&quot;extraClasses&quot;: &quot;fa-rotate-0&quot;, &quot;icon&quot;: &quot;tint&quot;, &quot;iconColor&quot;: &quot;white&quot;, &quot;markerColor&quot;: &quot;blue&quot;, &quot;prefix&quot;: &quot;glyphicon&quot;}\n",
       "            );\n",
       "            marker_9ab39d2a3db5bfcb8ea6e94adf6b59b6.setIcon(icon_798460b4f5f5ea70487e9109923b138f);\n",
       "        \n",
       "    \n",
       "        var popup_5780751649ac8dc77c23fcc43da5dd32 = L.popup({&quot;maxWidth&quot;: &quot;100%&quot;});\n",
       "\n",
       "        \n",
       "            var html_f641cdc293dc3793edb7d317dbef81c8 = $(`&lt;div id=&quot;html_f641cdc293dc3793edb7d317dbef81c8&quot; style=&quot;width: 100.0%; height: 100.0%;&quot;&gt;[&#x27;FWR065&#x27;, 5.37]&lt;/div&gt;`)[0];\n",
       "            popup_5780751649ac8dc77c23fcc43da5dd32.setContent(html_f641cdc293dc3793edb7d317dbef81c8);\n",
       "        \n",
       "\n",
       "        marker_9ab39d2a3db5bfcb8ea6e94adf6b59b6.bindPopup(popup_5780751649ac8dc77c23fcc43da5dd32)\n",
       "        ;\n",
       "\n",
       "        \n",
       "    \n",
       "    \n",
       "            var marker_47820be404df7e226378a759b6c410be = L.marker(\n",
       "                [18.444614, 73.86131],\n",
       "                {}\n",
       "            ).addTo(map_a0c914550f9e4dff92ab9d67f628a2a9);\n",
       "        \n",
       "    \n",
       "            var icon_865cee5e3983f59f376cb03035c577e3 = L.AwesomeMarkers.icon(\n",
       "                {&quot;extraClasses&quot;: &quot;fa-rotate-0&quot;, &quot;icon&quot;: &quot;tint&quot;, &quot;iconColor&quot;: &quot;white&quot;, &quot;markerColor&quot;: &quot;blue&quot;, &quot;prefix&quot;: &quot;glyphicon&quot;}\n",
       "            );\n",
       "            marker_47820be404df7e226378a759b6c410be.setIcon(icon_865cee5e3983f59f376cb03035c577e3);\n",
       "        \n",
       "    \n",
       "        var popup_ebe93d6216419620a6c978fba85f3daa = L.popup({&quot;maxWidth&quot;: &quot;100%&quot;});\n",
       "\n",
       "        \n",
       "            var html_1855efde0fb2cc475f2df368ea2e6970 = $(`&lt;div id=&quot;html_1855efde0fb2cc475f2df368ea2e6970&quot; style=&quot;width: 100.0%; height: 100.0%;&quot;&gt;[&#x27;FWR066&#x27;, 5.22]&lt;/div&gt;`)[0];\n",
       "            popup_ebe93d6216419620a6c978fba85f3daa.setContent(html_1855efde0fb2cc475f2df368ea2e6970);\n",
       "        \n",
       "\n",
       "        marker_47820be404df7e226378a759b6c410be.bindPopup(popup_ebe93d6216419620a6c978fba85f3daa)\n",
       "        ;\n",
       "\n",
       "        \n",
       "    \n",
       "    \n",
       "            var marker_983d33355db70a8c33357d9ea044a5d8 = L.marker(\n",
       "                [18.562762, 73.828951],\n",
       "                {}\n",
       "            ).addTo(map_a0c914550f9e4dff92ab9d67f628a2a9);\n",
       "        \n",
       "    \n",
       "            var icon_7588b569374f8669eae3e375a92e9c03 = L.AwesomeMarkers.icon(\n",
       "                {&quot;extraClasses&quot;: &quot;fa-rotate-0&quot;, &quot;icon&quot;: &quot;tint&quot;, &quot;iconColor&quot;: &quot;white&quot;, &quot;markerColor&quot;: &quot;blue&quot;, &quot;prefix&quot;: &quot;glyphicon&quot;}\n",
       "            );\n",
       "            marker_983d33355db70a8c33357d9ea044a5d8.setIcon(icon_7588b569374f8669eae3e375a92e9c03);\n",
       "        \n",
       "    \n",
       "        var popup_9d33a1778531a8e885442f3fd83ab4dd = L.popup({&quot;maxWidth&quot;: &quot;100%&quot;});\n",
       "\n",
       "        \n",
       "            var html_a21727912f8d477de37be7081cf5e7d9 = $(`&lt;div id=&quot;html_a21727912f8d477de37be7081cf5e7d9&quot; style=&quot;width: 100.0%; height: 100.0%;&quot;&gt;[&#x27;FWR067&#x27;, 2.98]&lt;/div&gt;`)[0];\n",
       "            popup_9d33a1778531a8e885442f3fd83ab4dd.setContent(html_a21727912f8d477de37be7081cf5e7d9);\n",
       "        \n",
       "\n",
       "        marker_983d33355db70a8c33357d9ea044a5d8.bindPopup(popup_9d33a1778531a8e885442f3fd83ab4dd)\n",
       "        ;\n",
       "\n",
       "        \n",
       "    \n",
       "    \n",
       "            var marker_d12e9738f135b332a75a37a1e9625409 = L.marker(\n",
       "                [18.52438, 73.901408],\n",
       "                {}\n",
       "            ).addTo(map_a0c914550f9e4dff92ab9d67f628a2a9);\n",
       "        \n",
       "    \n",
       "            var icon_8dc8ada8dcf4beb1008ca2e9f12723aa = L.AwesomeMarkers.icon(\n",
       "                {&quot;extraClasses&quot;: &quot;fa-rotate-0&quot;, &quot;icon&quot;: &quot;tint&quot;, &quot;iconColor&quot;: &quot;white&quot;, &quot;markerColor&quot;: &quot;blue&quot;, &quot;prefix&quot;: &quot;glyphicon&quot;}\n",
       "            );\n",
       "            marker_d12e9738f135b332a75a37a1e9625409.setIcon(icon_8dc8ada8dcf4beb1008ca2e9f12723aa);\n",
       "        \n",
       "    \n",
       "        var popup_76bb3c32a83b07e0a1f26396a5ff91ba = L.popup({&quot;maxWidth&quot;: &quot;100%&quot;});\n",
       "\n",
       "        \n",
       "            var html_15836932c250e7dd5157d8ac5e014b62 = $(`&lt;div id=&quot;html_15836932c250e7dd5157d8ac5e014b62&quot; style=&quot;width: 100.0%; height: 100.0%;&quot;&gt;[&#x27;FWR068&#x27;, 4.14]&lt;/div&gt;`)[0];\n",
       "            popup_76bb3c32a83b07e0a1f26396a5ff91ba.setContent(html_15836932c250e7dd5157d8ac5e014b62);\n",
       "        \n",
       "\n",
       "        marker_d12e9738f135b332a75a37a1e9625409.bindPopup(popup_76bb3c32a83b07e0a1f26396a5ff91ba)\n",
       "        ;\n",
       "\n",
       "        \n",
       "    \n",
       "    \n",
       "            var marker_373551a94b9f67e641740ac561b6de9c = L.marker(\n",
       "                [18.476596, 73.822295],\n",
       "                {}\n",
       "            ).addTo(map_a0c914550f9e4dff92ab9d67f628a2a9);\n",
       "        \n",
       "    \n",
       "            var icon_f33627baa70bf6060f931e7e1576cb35 = L.AwesomeMarkers.icon(\n",
       "                {&quot;extraClasses&quot;: &quot;fa-rotate-0&quot;, &quot;icon&quot;: &quot;tint&quot;, &quot;iconColor&quot;: &quot;white&quot;, &quot;markerColor&quot;: &quot;blue&quot;, &quot;prefix&quot;: &quot;glyphicon&quot;}\n",
       "            );\n",
       "            marker_373551a94b9f67e641740ac561b6de9c.setIcon(icon_f33627baa70bf6060f931e7e1576cb35);\n",
       "        \n",
       "    \n",
       "        var popup_e9cb92bf6f910bc9660874cc84855af4 = L.popup({&quot;maxWidth&quot;: &quot;100%&quot;});\n",
       "\n",
       "        \n",
       "            var html_4c5cdc54cc6fdcb378c2910182c2e10d = $(`&lt;div id=&quot;html_4c5cdc54cc6fdcb378c2910182c2e10d&quot; style=&quot;width: 100.0%; height: 100.0%;&quot;&gt;[&#x27;FWR069&#x27;, 4.48]&lt;/div&gt;`)[0];\n",
       "            popup_e9cb92bf6f910bc9660874cc84855af4.setContent(html_4c5cdc54cc6fdcb378c2910182c2e10d);\n",
       "        \n",
       "\n",
       "        marker_373551a94b9f67e641740ac561b6de9c.bindPopup(popup_e9cb92bf6f910bc9660874cc84855af4)\n",
       "        ;\n",
       "\n",
       "        \n",
       "    \n",
       "    \n",
       "            var marker_ba4b25df510fdaf03494495a6d72fa66 = L.marker(\n",
       "                [18.459801, 73.863522],\n",
       "                {}\n",
       "            ).addTo(map_a0c914550f9e4dff92ab9d67f628a2a9);\n",
       "        \n",
       "    \n",
       "            var icon_d13ca26fb201e4637f49ab79987dfed8 = L.AwesomeMarkers.icon(\n",
       "                {&quot;extraClasses&quot;: &quot;fa-rotate-0&quot;, &quot;icon&quot;: &quot;tint&quot;, &quot;iconColor&quot;: &quot;white&quot;, &quot;markerColor&quot;: &quot;blue&quot;, &quot;prefix&quot;: &quot;glyphicon&quot;}\n",
       "            );\n",
       "            marker_ba4b25df510fdaf03494495a6d72fa66.setIcon(icon_d13ca26fb201e4637f49ab79987dfed8);\n",
       "        \n",
       "    \n",
       "        var popup_f565ad1bafbabf75cd81ccd63d59ff50 = L.popup({&quot;maxWidth&quot;: &quot;100%&quot;});\n",
       "\n",
       "        \n",
       "            var html_d10f057c4ed9bed20d815c244eb7dc61 = $(`&lt;div id=&quot;html_d10f057c4ed9bed20d815c244eb7dc61&quot; style=&quot;width: 100.0%; height: 100.0%;&quot;&gt;[&#x27;FWR070&#x27;, 4.43]&lt;/div&gt;`)[0];\n",
       "            popup_f565ad1bafbabf75cd81ccd63d59ff50.setContent(html_d10f057c4ed9bed20d815c244eb7dc61);\n",
       "        \n",
       "\n",
       "        marker_ba4b25df510fdaf03494495a6d72fa66.bindPopup(popup_f565ad1bafbabf75cd81ccd63d59ff50)\n",
       "        ;\n",
       "\n",
       "        \n",
       "    \n",
       "&lt;/script&gt;\" style=\"position:absolute;width:100%;height:100%;left:0;top:0;border:none !important;\" allowfullscreen webkitallowfullscreen mozallowfullscreen></iframe></div></div>"
      ],
      "text/plain": [
       "<folium.folium.Map at 0x7ffa2ab70490>"
      ]
     },
     "execution_count": 8,
     "metadata": {},
     "output_type": "execute_result"
    }
   ],
   "source": [
    "flood_data = []\n",
    "\n",
    "map_flooddata_popup =[]\n",
    "for i,row in floodDF.iterrows():\n",
    "    flood_data.append([row.latitude, row.longitude,row.measuredDistance])\n",
    "    map_flooddata_popup.append([row.latitude, row.longitude,row.Device,row.measuredDistance])\n",
    "map_heatmap = folium.Map(location = [18.5470,73.8633],tiles='OpenStreetMap', zoom_start=13)\n",
    "\n",
    "flood_map_heatmap = folium.Map(location = [18.5470,73.8633],tiles='OpenStreetMap', zoom_start=13)\n",
    "\n",
    "\n",
    "plugins.HeatMap(flood_data).add_to(flood_map_heatmap)\n",
    "# map_heatmap.add_child(plugins.HeatMap(co2_data,gradient={0.4: 'blue', 0.65: 'lime', 1: 'red'}))\n",
    "\n",
    "# add latitude and longitude tool to map\n",
    "map_heatmap.add_child(folium.LatLngPopup())\n",
    "\n",
    "c = [ folium.Marker(i[0:2], popup = i[2:], icon=folium.Icon(icon=\"tint\",color='blue')).add_to(flood_map_heatmap) for i in map_flooddata_popup]\n",
    "\n",
    "# display map\n",
    "flood_map_heatmap"
   ]
  },
  {
   "cell_type": "markdown",
   "id": "d59d3d15",
   "metadata": {
    "extensions": {
     "jupyter_dashboards": {
      "activeView": "grid_default",
      "views": {
       "grid_default": {
        "col": 0,
        "height": 3,
        "hidden": false,
        "locked": true,
        "row": 18,
        "width": 12
       }
      }
     }
    },
    "tags": []
   },
   "source": [
    "# Sensor Outage Analysis"
   ]
  },
  {
   "cell_type": "code",
   "execution_count": 9,
   "id": "2bb16b59",
   "metadata": {
    "extensions": {
     "jupyter_dashboards": {
      "activeView": "grid_default",
      "views": {
       "grid_default": {
        "col": 0,
        "height": 18,
        "hidden": false,
        "locked": true,
        "row": 21,
        "width": 12
       }
      }
     }
    },
    "tags": []
   },
   "outputs": [
    {
     "data": {
      "application/vnd.jupyter.widget-view+json": {
       "model_id": "bda50c41c5e748b38c57e15f5eca7029",
       "version_major": 2,
       "version_minor": 0
      },
      "text/plain": [
       "VBox(children=(HBox(children=(Dropdown(description='Device:', index=1, options=('FWR013', 'FWR015', 'FWR016', …"
      ]
     },
     "metadata": {},
     "output_type": "display_data"
    }
   ],
   "source": [
    "drop_down = widgets.Dropdown(options=devices,\n",
    "                                value=\"FWR015\",\n",
    "                                description='Device:',\n",
    "                                disabled=False)\n",
    "\n",
    "from_date = widgets.DatePicker(\n",
    "    description='From Date',\n",
    "    value = datetime.date(2022,1,1),\n",
    "    disabled=False\n",
    ")\n",
    "\n",
    "to_date = widgets.DatePicker(\n",
    "    description='To Date',\n",
    "    value = datetime.date(2022,5,1),\n",
    "    disabled=False\n",
    ")\n",
    "\n",
    "\n",
    "\n",
    "\n",
    "def f(fromD, to):\n",
    "    if fromD!=None and to!=None:\n",
    "        print('Collecting data from {} to {}'.format(fromD, to), type(fromD), type(to))\n",
    "\n",
    "\n",
    "\n",
    "# widgets.HBox([widgets.VBox([start_date, end_date]), out])\n",
    "\n",
    "# https://github.com/ChakriCherukuri/mlviz/blob/master/notebooks/supervised-learning/linear-regression.ipynb\n",
    "def refresh(*args):\n",
    "    print(\"Collecting data !!!\")\n",
    "    return \"Collecting data !\"+from_date\n",
    "\n",
    "\n",
    "\n",
    "from ipywidgets import Button\n",
    "reset_button = Button(description='Refresh', button_style='success')\n",
    "reset_button.layout.margin = '0px 30px 0px 60px'\n",
    "reset_button.on_click(lambda btn: refresh())\n",
    "\n",
    "def generate_password(sensor): \n",
    "    \n",
    "    print(\"Sensor chosen is \"+str(sensor))\n",
    "    return \"Sensor chosen is \"+str(sensor)\n",
    "DF1=pd.DataFrame([])\n",
    "def displayPublishInterval(DF):\n",
    "    fig = px.line(DF, x=DF.observationDateTime, y = DF[\"PI (in minutes)\"], hover_data=[DF.observationDateTime, DF.toDateTime, DF.publishInterval])\n",
    "    fig.update_layout(template=\"plotly_dark\")\n",
    "    fig.show()\n",
    "\n",
    "def displaydf(sensor,fromdate, todate):\n",
    "    df = pd.read_csv(\"pune_flood_\"+sensor+\".csv\")\n",
    "    if fromdate!=None and todate!=None:\n",
    "          print(\"Collected data between \"+str(fromdate)+\" and \"+str(todate))\n",
    "    df[\"observationDateTime\"]=pd.to_datetime(df[\"observationDateTime\"],errors ='coerce')\n",
    "    df.sort_values(by = [\"observationDateTime\"], inplace=True)\n",
    "    # df.info()\n",
    "    df.reset_index(inplace=True)\n",
    "    df.drop([\"index\"],axis=1, inplace=True)\n",
    "    df.head()\n",
    "\n",
    "    df[\"publishInterval\"] = pd.to_timedelta('0 days 00:00:00.0000')\n",
    "    df[\"toDateTime\"] = \"\"\n",
    "    for i,row in df.iterrows():\n",
    "        if i != df.shape[0]-1:\n",
    "    #         df[\"publishInterval\"][i] = df[\"observationDateTime\"][i+1] - df[\"observationDateTime\"][i]\n",
    "            df[\"toDateTime\"][i] = df[\"observationDateTime\"][i+1]\n",
    "            df[\"publishInterval\"][i] = df[\"toDateTime\"][i] - df[\"observationDateTime\"][i]\n",
    "\n",
    "\n",
    "    df[\"seconds\"] = df[\"publishInterval\"].apply(lambda x: x.total_seconds())\n",
    "    df[\"PI (in minutes)\"] = df[\"seconds\"]/60\n",
    "#     df = df.sort_values(by = [\"observationDateTime\"], ascending = False)\n",
    "    global DF1 \n",
    "    DF1 = df\n",
    "    display(df.head())\n",
    "    \n",
    "    displayPublishInterval(DF1)\n",
    "\n",
    "# widgets.interact(displaydf, sensor=drop_down);\n",
    "out = widgets.interactive_output(displaydf, {'sensor':drop_down,'fromdate': from_date, 'todate': to_date})\n",
    "widgets.VBox([widgets.HBox([drop_down, from_date, to_date, reset_button]), out])"
   ]
  },
  {
   "cell_type": "code",
   "execution_count": 10,
   "id": "a66e196c",
   "metadata": {
    "extensions": {
     "jupyter_dashboards": {
      "activeView": "grid_default",
      "views": {
       "grid_default": {
        "col": null,
        "height": 2,
        "hidden": true,
        "locked": true,
        "row": null,
        "width": 2
       }
      }
     }
    }
   },
   "outputs": [],
   "source": [
    "def checkDuplicates(df):\n",
    "    d = {}\n",
    "    d[\"Total Count\"] = df.shape[0]\n",
    "    d[\"Duplicate Count\"] = df[df.duplicated()].shape[0]\n",
    "    d[\" Duplicate Percentage\"] = round((df[df.duplicated()].shape[0]/df.shape[0])*100,2)\n",
    "    if df[df.duplicated()].shape[0] != 0: \n",
    "        return \"Duplicates Present ... |\"+ str(d)\n",
    "    else:\n",
    "        return \"No Duplicated Found |\"+ str(d)\n",
    "    \n",
    "    \n",
    "def dataprocessing(df):\n",
    "    df.drop([\"id\"],axis=1,inplace=True)\n",
    "    df[\"observationDateTime\"]=pd.to_datetime(df[\"observationDateTime\"],errors ='coerce')\n",
    "    df[\"date\"] = df[\"observationDateTime\"].dt.date\n",
    "    df['date'] = pd.to_datetime(df['date'],format=\"%Y-%m-%d\")\n",
    "    df[\"checkCurrentLevel\"] = round((df[\"referenceLevel\"]-df[\"measuredDistance\"]),2)-df[\"currentLevel\"]\n",
    "#     print(\"checkCurrentLevel value \",df[\"checkCurrentLevel\"].unique())\n",
    "    return df\n",
    "\n",
    "def plot(df):\n",
    "    f,ax=plt.subplots(3,2, figsize=(20,10))\n",
    "    sns.lineplot(x=\"observationDateTime\",y=\"currentLevel\",data = df, ax=ax[0,0])\n",
    "    sns.lineplot(x=\"observationDateTime\",y=\"measuredDistance\",data = df, ax=ax[0,1])\n",
    "    sns.lineplot(x=\"observationDateTime\",y=\"referenceLevel\",data = df, ax=ax[1,0])\n",
    "    sns.lineplot(x=\"referenceLevel\",y=\"currentLevel\",data = df, ax=ax[1,1])\n",
    "    sns.lineplot(x=\"currentLevel\",y=\"measuredDistance\",data = df, ax=ax[2,0])\n",
    "    sns.lineplot(x=\"referenceLevel\",y=\"measuredDistance\",data = df, ax=ax[2,1])"
   ]
  },
  {
   "cell_type": "code",
   "execution_count": 11,
   "id": "44ee9003",
   "metadata": {
    "extensions": {
     "jupyter_dashboards": {
      "activeView": "grid_default",
      "views": {
       "grid_default": {
        "col": null,
        "height": 2,
        "hidden": true,
        "locked": true,
        "row": null,
        "width": 2
       }
      }
     }
    }
   },
   "outputs": [],
   "source": [
    "L = []\n",
    "for file in csvfiles:\n",
    "    d = {}\n",
    "    df = pd.read_csv(file)\n",
    "    df[\"Sensor\"] = file[11:17]\n",
    "#     print(file[11:17])\n",
    "#     print(checkDuplicates(df))\n",
    "    \n",
    "    dup = checkDuplicates(df)\n",
    "    df = dataprocessing(df)\n",
    "#     col = \"currentLevel\"\n",
    "#     df[col].value_counts()\n",
    "#     df[col].unique()\n",
    "    j = ast.literal_eval(dup.split(\"|\")[1])\n",
    "    d[\"Sensor\"] = df[\"Sensor\"][0]\n",
    "    d[\"MaxMeasuredDistance\"] = df[\"measuredDistance\"].max()\n",
    "    d[\"TotalCount\"] = j[\"Total Count\"]\n",
    "    d[\"Duplicate Count\"] = j[\"Duplicate Count\"]\n",
    "    d[\"Duplicate Percentage\"] = j[\" Duplicate Percentage\"]\n",
    "    d[\"CheckCurrentLevel\"] = df[\"checkCurrentLevel\"].unique()\n",
    "    d[\"AllZeroCount\"] = df[(df[\"currentLevel\"]==0.0) & (df[\"measuredDistance\"]==0.0) & (df[\"referenceLevel\"]==0.0)].shape[0] \n",
    "    d[\"AllZeroPercentage\"] = round((d[\"AllZeroCount\"]/d[\"TotalCount\"])*100,2)\n",
    "    L.append(d)\n",
    "    "
   ]
  },
  {
   "cell_type": "code",
   "execution_count": 12,
   "id": "47ca1aa7",
   "metadata": {
    "extensions": {
     "jupyter_dashboards": {
      "activeView": "grid_default",
      "views": {
       "grid_default": {
        "col": null,
        "height": 2,
        "hidden": true,
        "locked": true,
        "row": null,
        "width": 2
       }
      }
     }
    }
   },
   "outputs": [],
   "source": [
    "DF = pd.DataFrame(L)\n",
    "DF.sort_values(by=[\"TotalCount\"], ascending = False)\n",
    "DF = DF.sort_values(by=[\"AllZeroPercentage\"], ascending = False)"
   ]
  },
  {
   "cell_type": "markdown",
   "id": "fd57ded2",
   "metadata": {
    "extensions": {
     "jupyter_dashboards": {
      "activeView": "grid_default",
      "views": {
       "grid_default": {
        "col": 0,
        "height": 4,
        "hidden": false,
        "locked": true,
        "row": 39,
        "width": 6
       }
      }
     }
    },
    "tags": []
   },
   "source": [
    "# Percentage of duplicate data present - for all sensors"
   ]
  },
  {
   "cell_type": "code",
   "execution_count": 13,
   "id": "9baac9ae",
   "metadata": {
    "extensions": {
     "jupyter_dashboards": {
      "activeView": "grid_default",
      "views": {
       "grid_default": {
        "col": 0,
        "height": 13,
        "hidden": false,
        "locked": true,
        "row": 43,
        "width": 6
       }
      }
     }
    },
    "tags": []
   },
   "outputs": [
    {
     "data": {
      "application/vnd.plotly.v1+json": {
       "config": {
        "plotlyServerURL": "https://plot.ly"
       },
       "data": [
        {
         "domain": {
          "x": [
           0,
           1
          ],
          "y": [
           0,
           1
          ]
         },
         "hole": 0.5,
         "hovertemplate": "Sensor=%{label}<br>Duplicate Percentage=%{value}<extra></extra>",
         "labels": [
          "FWR015"
         ],
         "legendgroup": "",
         "name": "",
         "showlegend": true,
         "textinfo": "percent",
         "textposition": "inside",
         "type": "pie",
         "values": [
          0.04
         ]
        }
       ],
       "layout": {
        "height": 500,
        "legend": {
         "tracegroupgap": 0
        },
        "margin": {
         "t": 60
        },
        "template": {
         "data": {
          "bar": [
           {
            "error_x": {
             "color": "#2a3f5f"
            },
            "error_y": {
             "color": "#2a3f5f"
            },
            "marker": {
             "line": {
              "color": "#E5ECF6",
              "width": 0.5
             },
             "pattern": {
              "fillmode": "overlay",
              "size": 10,
              "solidity": 0.2
             }
            },
            "type": "bar"
           }
          ],
          "barpolar": [
           {
            "marker": {
             "line": {
              "color": "#E5ECF6",
              "width": 0.5
             },
             "pattern": {
              "fillmode": "overlay",
              "size": 10,
              "solidity": 0.2
             }
            },
            "type": "barpolar"
           }
          ],
          "carpet": [
           {
            "aaxis": {
             "endlinecolor": "#2a3f5f",
             "gridcolor": "white",
             "linecolor": "white",
             "minorgridcolor": "white",
             "startlinecolor": "#2a3f5f"
            },
            "baxis": {
             "endlinecolor": "#2a3f5f",
             "gridcolor": "white",
             "linecolor": "white",
             "minorgridcolor": "white",
             "startlinecolor": "#2a3f5f"
            },
            "type": "carpet"
           }
          ],
          "choropleth": [
           {
            "colorbar": {
             "outlinewidth": 0,
             "ticks": ""
            },
            "type": "choropleth"
           }
          ],
          "contour": [
           {
            "colorbar": {
             "outlinewidth": 0,
             "ticks": ""
            },
            "colorscale": [
             [
              0,
              "#0d0887"
             ],
             [
              0.1111111111111111,
              "#46039f"
             ],
             [
              0.2222222222222222,
              "#7201a8"
             ],
             [
              0.3333333333333333,
              "#9c179e"
             ],
             [
              0.4444444444444444,
              "#bd3786"
             ],
             [
              0.5555555555555556,
              "#d8576b"
             ],
             [
              0.6666666666666666,
              "#ed7953"
             ],
             [
              0.7777777777777778,
              "#fb9f3a"
             ],
             [
              0.8888888888888888,
              "#fdca26"
             ],
             [
              1,
              "#f0f921"
             ]
            ],
            "type": "contour"
           }
          ],
          "contourcarpet": [
           {
            "colorbar": {
             "outlinewidth": 0,
             "ticks": ""
            },
            "type": "contourcarpet"
           }
          ],
          "heatmap": [
           {
            "colorbar": {
             "outlinewidth": 0,
             "ticks": ""
            },
            "colorscale": [
             [
              0,
              "#0d0887"
             ],
             [
              0.1111111111111111,
              "#46039f"
             ],
             [
              0.2222222222222222,
              "#7201a8"
             ],
             [
              0.3333333333333333,
              "#9c179e"
             ],
             [
              0.4444444444444444,
              "#bd3786"
             ],
             [
              0.5555555555555556,
              "#d8576b"
             ],
             [
              0.6666666666666666,
              "#ed7953"
             ],
             [
              0.7777777777777778,
              "#fb9f3a"
             ],
             [
              0.8888888888888888,
              "#fdca26"
             ],
             [
              1,
              "#f0f921"
             ]
            ],
            "type": "heatmap"
           }
          ],
          "heatmapgl": [
           {
            "colorbar": {
             "outlinewidth": 0,
             "ticks": ""
            },
            "colorscale": [
             [
              0,
              "#0d0887"
             ],
             [
              0.1111111111111111,
              "#46039f"
             ],
             [
              0.2222222222222222,
              "#7201a8"
             ],
             [
              0.3333333333333333,
              "#9c179e"
             ],
             [
              0.4444444444444444,
              "#bd3786"
             ],
             [
              0.5555555555555556,
              "#d8576b"
             ],
             [
              0.6666666666666666,
              "#ed7953"
             ],
             [
              0.7777777777777778,
              "#fb9f3a"
             ],
             [
              0.8888888888888888,
              "#fdca26"
             ],
             [
              1,
              "#f0f921"
             ]
            ],
            "type": "heatmapgl"
           }
          ],
          "histogram": [
           {
            "marker": {
             "pattern": {
              "fillmode": "overlay",
              "size": 10,
              "solidity": 0.2
             }
            },
            "type": "histogram"
           }
          ],
          "histogram2d": [
           {
            "colorbar": {
             "outlinewidth": 0,
             "ticks": ""
            },
            "colorscale": [
             [
              0,
              "#0d0887"
             ],
             [
              0.1111111111111111,
              "#46039f"
             ],
             [
              0.2222222222222222,
              "#7201a8"
             ],
             [
              0.3333333333333333,
              "#9c179e"
             ],
             [
              0.4444444444444444,
              "#bd3786"
             ],
             [
              0.5555555555555556,
              "#d8576b"
             ],
             [
              0.6666666666666666,
              "#ed7953"
             ],
             [
              0.7777777777777778,
              "#fb9f3a"
             ],
             [
              0.8888888888888888,
              "#fdca26"
             ],
             [
              1,
              "#f0f921"
             ]
            ],
            "type": "histogram2d"
           }
          ],
          "histogram2dcontour": [
           {
            "colorbar": {
             "outlinewidth": 0,
             "ticks": ""
            },
            "colorscale": [
             [
              0,
              "#0d0887"
             ],
             [
              0.1111111111111111,
              "#46039f"
             ],
             [
              0.2222222222222222,
              "#7201a8"
             ],
             [
              0.3333333333333333,
              "#9c179e"
             ],
             [
              0.4444444444444444,
              "#bd3786"
             ],
             [
              0.5555555555555556,
              "#d8576b"
             ],
             [
              0.6666666666666666,
              "#ed7953"
             ],
             [
              0.7777777777777778,
              "#fb9f3a"
             ],
             [
              0.8888888888888888,
              "#fdca26"
             ],
             [
              1,
              "#f0f921"
             ]
            ],
            "type": "histogram2dcontour"
           }
          ],
          "mesh3d": [
           {
            "colorbar": {
             "outlinewidth": 0,
             "ticks": ""
            },
            "type": "mesh3d"
           }
          ],
          "parcoords": [
           {
            "line": {
             "colorbar": {
              "outlinewidth": 0,
              "ticks": ""
             }
            },
            "type": "parcoords"
           }
          ],
          "pie": [
           {
            "automargin": true,
            "type": "pie"
           }
          ],
          "scatter": [
           {
            "fillpattern": {
             "fillmode": "overlay",
             "size": 10,
             "solidity": 0.2
            },
            "type": "scatter"
           }
          ],
          "scatter3d": [
           {
            "line": {
             "colorbar": {
              "outlinewidth": 0,
              "ticks": ""
             }
            },
            "marker": {
             "colorbar": {
              "outlinewidth": 0,
              "ticks": ""
             }
            },
            "type": "scatter3d"
           }
          ],
          "scattercarpet": [
           {
            "marker": {
             "colorbar": {
              "outlinewidth": 0,
              "ticks": ""
             }
            },
            "type": "scattercarpet"
           }
          ],
          "scattergeo": [
           {
            "marker": {
             "colorbar": {
              "outlinewidth": 0,
              "ticks": ""
             }
            },
            "type": "scattergeo"
           }
          ],
          "scattergl": [
           {
            "marker": {
             "colorbar": {
              "outlinewidth": 0,
              "ticks": ""
             }
            },
            "type": "scattergl"
           }
          ],
          "scattermapbox": [
           {
            "marker": {
             "colorbar": {
              "outlinewidth": 0,
              "ticks": ""
             }
            },
            "type": "scattermapbox"
           }
          ],
          "scatterpolar": [
           {
            "marker": {
             "colorbar": {
              "outlinewidth": 0,
              "ticks": ""
             }
            },
            "type": "scatterpolar"
           }
          ],
          "scatterpolargl": [
           {
            "marker": {
             "colorbar": {
              "outlinewidth": 0,
              "ticks": ""
             }
            },
            "type": "scatterpolargl"
           }
          ],
          "scatterternary": [
           {
            "marker": {
             "colorbar": {
              "outlinewidth": 0,
              "ticks": ""
             }
            },
            "type": "scatterternary"
           }
          ],
          "surface": [
           {
            "colorbar": {
             "outlinewidth": 0,
             "ticks": ""
            },
            "colorscale": [
             [
              0,
              "#0d0887"
             ],
             [
              0.1111111111111111,
              "#46039f"
             ],
             [
              0.2222222222222222,
              "#7201a8"
             ],
             [
              0.3333333333333333,
              "#9c179e"
             ],
             [
              0.4444444444444444,
              "#bd3786"
             ],
             [
              0.5555555555555556,
              "#d8576b"
             ],
             [
              0.6666666666666666,
              "#ed7953"
             ],
             [
              0.7777777777777778,
              "#fb9f3a"
             ],
             [
              0.8888888888888888,
              "#fdca26"
             ],
             [
              1,
              "#f0f921"
             ]
            ],
            "type": "surface"
           }
          ],
          "table": [
           {
            "cells": {
             "fill": {
              "color": "#EBF0F8"
             },
             "line": {
              "color": "white"
             }
            },
            "header": {
             "fill": {
              "color": "#C8D4E3"
             },
             "line": {
              "color": "white"
             }
            },
            "type": "table"
           }
          ]
         },
         "layout": {
          "annotationdefaults": {
           "arrowcolor": "#2a3f5f",
           "arrowhead": 0,
           "arrowwidth": 1
          },
          "autotypenumbers": "strict",
          "coloraxis": {
           "colorbar": {
            "outlinewidth": 0,
            "ticks": ""
           }
          },
          "colorscale": {
           "diverging": [
            [
             0,
             "#8e0152"
            ],
            [
             0.1,
             "#c51b7d"
            ],
            [
             0.2,
             "#de77ae"
            ],
            [
             0.3,
             "#f1b6da"
            ],
            [
             0.4,
             "#fde0ef"
            ],
            [
             0.5,
             "#f7f7f7"
            ],
            [
             0.6,
             "#e6f5d0"
            ],
            [
             0.7,
             "#b8e186"
            ],
            [
             0.8,
             "#7fbc41"
            ],
            [
             0.9,
             "#4d9221"
            ],
            [
             1,
             "#276419"
            ]
           ],
           "sequential": [
            [
             0,
             "#0d0887"
            ],
            [
             0.1111111111111111,
             "#46039f"
            ],
            [
             0.2222222222222222,
             "#7201a8"
            ],
            [
             0.3333333333333333,
             "#9c179e"
            ],
            [
             0.4444444444444444,
             "#bd3786"
            ],
            [
             0.5555555555555556,
             "#d8576b"
            ],
            [
             0.6666666666666666,
             "#ed7953"
            ],
            [
             0.7777777777777778,
             "#fb9f3a"
            ],
            [
             0.8888888888888888,
             "#fdca26"
            ],
            [
             1,
             "#f0f921"
            ]
           ],
           "sequentialminus": [
            [
             0,
             "#0d0887"
            ],
            [
             0.1111111111111111,
             "#46039f"
            ],
            [
             0.2222222222222222,
             "#7201a8"
            ],
            [
             0.3333333333333333,
             "#9c179e"
            ],
            [
             0.4444444444444444,
             "#bd3786"
            ],
            [
             0.5555555555555556,
             "#d8576b"
            ],
            [
             0.6666666666666666,
             "#ed7953"
            ],
            [
             0.7777777777777778,
             "#fb9f3a"
            ],
            [
             0.8888888888888888,
             "#fdca26"
            ],
            [
             1,
             "#f0f921"
            ]
           ]
          },
          "colorway": [
           "#636efa",
           "#EF553B",
           "#00cc96",
           "#ab63fa",
           "#FFA15A",
           "#19d3f3",
           "#FF6692",
           "#B6E880",
           "#FF97FF",
           "#FECB52"
          ],
          "font": {
           "color": "#2a3f5f"
          },
          "geo": {
           "bgcolor": "white",
           "lakecolor": "white",
           "landcolor": "#E5ECF6",
           "showlakes": true,
           "showland": true,
           "subunitcolor": "white"
          },
          "hoverlabel": {
           "align": "left"
          },
          "hovermode": "closest",
          "mapbox": {
           "style": "light"
          },
          "paper_bgcolor": "white",
          "plot_bgcolor": "#E5ECF6",
          "polar": {
           "angularaxis": {
            "gridcolor": "white",
            "linecolor": "white",
            "ticks": ""
           },
           "bgcolor": "#E5ECF6",
           "radialaxis": {
            "gridcolor": "white",
            "linecolor": "white",
            "ticks": ""
           }
          },
          "scene": {
           "xaxis": {
            "backgroundcolor": "#E5ECF6",
            "gridcolor": "white",
            "gridwidth": 2,
            "linecolor": "white",
            "showbackground": true,
            "ticks": "",
            "zerolinecolor": "white"
           },
           "yaxis": {
            "backgroundcolor": "#E5ECF6",
            "gridcolor": "white",
            "gridwidth": 2,
            "linecolor": "white",
            "showbackground": true,
            "ticks": "",
            "zerolinecolor": "white"
           },
           "zaxis": {
            "backgroundcolor": "#E5ECF6",
            "gridcolor": "white",
            "gridwidth": 2,
            "linecolor": "white",
            "showbackground": true,
            "ticks": "",
            "zerolinecolor": "white"
           }
          },
          "shapedefaults": {
           "line": {
            "color": "#2a3f5f"
           }
          },
          "ternary": {
           "aaxis": {
            "gridcolor": "white",
            "linecolor": "white",
            "ticks": ""
           },
           "baxis": {
            "gridcolor": "white",
            "linecolor": "white",
            "ticks": ""
           },
           "bgcolor": "#E5ECF6",
           "caxis": {
            "gridcolor": "white",
            "linecolor": "white",
            "ticks": ""
           }
          },
          "title": {
           "x": 0.05
          },
          "xaxis": {
           "automargin": true,
           "gridcolor": "white",
           "linecolor": "white",
           "ticks": "",
           "title": {
            "standoff": 15
           },
           "zerolinecolor": "white",
           "zerolinewidth": 2
          },
          "yaxis": {
           "automargin": true,
           "gridcolor": "white",
           "linecolor": "white",
           "ticks": "",
           "title": {
            "standoff": 15
           },
           "zerolinecolor": "white",
           "zerolinewidth": 2
          }
         }
        }
       }
      },
      "text/html": [
       "<div>                            <div id=\"fb088e6c-6ece-47a0-b56f-2933d2237ee3\" class=\"plotly-graph-div\" style=\"height:500px; width:100%;\"></div>            <script type=\"text/javascript\">                require([\"plotly\"], function(Plotly) {                    window.PLOTLYENV=window.PLOTLYENV || {};                                    if (document.getElementById(\"fb088e6c-6ece-47a0-b56f-2933d2237ee3\")) {                    Plotly.newPlot(                        \"fb088e6c-6ece-47a0-b56f-2933d2237ee3\",                        [{\"domain\":{\"x\":[0.0,1.0],\"y\":[0.0,1.0]},\"hole\":0.5,\"hovertemplate\":\"Sensor=%{label}<br>Duplicate Percentage=%{value}<extra></extra>\",\"labels\":[\"FWR015\"],\"legendgroup\":\"\",\"name\":\"\",\"showlegend\":true,\"values\":[0.04],\"type\":\"pie\",\"textinfo\":\"percent\",\"textposition\":\"inside\"}],                        {\"template\":{\"data\":{\"histogram2dcontour\":[{\"type\":\"histogram2dcontour\",\"colorbar\":{\"outlinewidth\":0,\"ticks\":\"\"},\"colorscale\":[[0.0,\"#0d0887\"],[0.1111111111111111,\"#46039f\"],[0.2222222222222222,\"#7201a8\"],[0.3333333333333333,\"#9c179e\"],[0.4444444444444444,\"#bd3786\"],[0.5555555555555556,\"#d8576b\"],[0.6666666666666666,\"#ed7953\"],[0.7777777777777778,\"#fb9f3a\"],[0.8888888888888888,\"#fdca26\"],[1.0,\"#f0f921\"]]}],\"choropleth\":[{\"type\":\"choropleth\",\"colorbar\":{\"outlinewidth\":0,\"ticks\":\"\"}}],\"histogram2d\":[{\"type\":\"histogram2d\",\"colorbar\":{\"outlinewidth\":0,\"ticks\":\"\"},\"colorscale\":[[0.0,\"#0d0887\"],[0.1111111111111111,\"#46039f\"],[0.2222222222222222,\"#7201a8\"],[0.3333333333333333,\"#9c179e\"],[0.4444444444444444,\"#bd3786\"],[0.5555555555555556,\"#d8576b\"],[0.6666666666666666,\"#ed7953\"],[0.7777777777777778,\"#fb9f3a\"],[0.8888888888888888,\"#fdca26\"],[1.0,\"#f0f921\"]]}],\"heatmap\":[{\"type\":\"heatmap\",\"colorbar\":{\"outlinewidth\":0,\"ticks\":\"\"},\"colorscale\":[[0.0,\"#0d0887\"],[0.1111111111111111,\"#46039f\"],[0.2222222222222222,\"#7201a8\"],[0.3333333333333333,\"#9c179e\"],[0.4444444444444444,\"#bd3786\"],[0.5555555555555556,\"#d8576b\"],[0.6666666666666666,\"#ed7953\"],[0.7777777777777778,\"#fb9f3a\"],[0.8888888888888888,\"#fdca26\"],[1.0,\"#f0f921\"]]}],\"heatmapgl\":[{\"type\":\"heatmapgl\",\"colorbar\":{\"outlinewidth\":0,\"ticks\":\"\"},\"colorscale\":[[0.0,\"#0d0887\"],[0.1111111111111111,\"#46039f\"],[0.2222222222222222,\"#7201a8\"],[0.3333333333333333,\"#9c179e\"],[0.4444444444444444,\"#bd3786\"],[0.5555555555555556,\"#d8576b\"],[0.6666666666666666,\"#ed7953\"],[0.7777777777777778,\"#fb9f3a\"],[0.8888888888888888,\"#fdca26\"],[1.0,\"#f0f921\"]]}],\"contourcarpet\":[{\"type\":\"contourcarpet\",\"colorbar\":{\"outlinewidth\":0,\"ticks\":\"\"}}],\"contour\":[{\"type\":\"contour\",\"colorbar\":{\"outlinewidth\":0,\"ticks\":\"\"},\"colorscale\":[[0.0,\"#0d0887\"],[0.1111111111111111,\"#46039f\"],[0.2222222222222222,\"#7201a8\"],[0.3333333333333333,\"#9c179e\"],[0.4444444444444444,\"#bd3786\"],[0.5555555555555556,\"#d8576b\"],[0.6666666666666666,\"#ed7953\"],[0.7777777777777778,\"#fb9f3a\"],[0.8888888888888888,\"#fdca26\"],[1.0,\"#f0f921\"]]}],\"surface\":[{\"type\":\"surface\",\"colorbar\":{\"outlinewidth\":0,\"ticks\":\"\"},\"colorscale\":[[0.0,\"#0d0887\"],[0.1111111111111111,\"#46039f\"],[0.2222222222222222,\"#7201a8\"],[0.3333333333333333,\"#9c179e\"],[0.4444444444444444,\"#bd3786\"],[0.5555555555555556,\"#d8576b\"],[0.6666666666666666,\"#ed7953\"],[0.7777777777777778,\"#fb9f3a\"],[0.8888888888888888,\"#fdca26\"],[1.0,\"#f0f921\"]]}],\"mesh3d\":[{\"type\":\"mesh3d\",\"colorbar\":{\"outlinewidth\":0,\"ticks\":\"\"}}],\"scatter\":[{\"fillpattern\":{\"fillmode\":\"overlay\",\"size\":10,\"solidity\":0.2},\"type\":\"scatter\"}],\"parcoords\":[{\"type\":\"parcoords\",\"line\":{\"colorbar\":{\"outlinewidth\":0,\"ticks\":\"\"}}}],\"scatterpolargl\":[{\"type\":\"scatterpolargl\",\"marker\":{\"colorbar\":{\"outlinewidth\":0,\"ticks\":\"\"}}}],\"bar\":[{\"error_x\":{\"color\":\"#2a3f5f\"},\"error_y\":{\"color\":\"#2a3f5f\"},\"marker\":{\"line\":{\"color\":\"#E5ECF6\",\"width\":0.5},\"pattern\":{\"fillmode\":\"overlay\",\"size\":10,\"solidity\":0.2}},\"type\":\"bar\"}],\"scattergeo\":[{\"type\":\"scattergeo\",\"marker\":{\"colorbar\":{\"outlinewidth\":0,\"ticks\":\"\"}}}],\"scatterpolar\":[{\"type\":\"scatterpolar\",\"marker\":{\"colorbar\":{\"outlinewidth\":0,\"ticks\":\"\"}}}],\"histogram\":[{\"marker\":{\"pattern\":{\"fillmode\":\"overlay\",\"size\":10,\"solidity\":0.2}},\"type\":\"histogram\"}],\"scattergl\":[{\"type\":\"scattergl\",\"marker\":{\"colorbar\":{\"outlinewidth\":0,\"ticks\":\"\"}}}],\"scatter3d\":[{\"type\":\"scatter3d\",\"line\":{\"colorbar\":{\"outlinewidth\":0,\"ticks\":\"\"}},\"marker\":{\"colorbar\":{\"outlinewidth\":0,\"ticks\":\"\"}}}],\"scattermapbox\":[{\"type\":\"scattermapbox\",\"marker\":{\"colorbar\":{\"outlinewidth\":0,\"ticks\":\"\"}}}],\"scatterternary\":[{\"type\":\"scatterternary\",\"marker\":{\"colorbar\":{\"outlinewidth\":0,\"ticks\":\"\"}}}],\"scattercarpet\":[{\"type\":\"scattercarpet\",\"marker\":{\"colorbar\":{\"outlinewidth\":0,\"ticks\":\"\"}}}],\"carpet\":[{\"aaxis\":{\"endlinecolor\":\"#2a3f5f\",\"gridcolor\":\"white\",\"linecolor\":\"white\",\"minorgridcolor\":\"white\",\"startlinecolor\":\"#2a3f5f\"},\"baxis\":{\"endlinecolor\":\"#2a3f5f\",\"gridcolor\":\"white\",\"linecolor\":\"white\",\"minorgridcolor\":\"white\",\"startlinecolor\":\"#2a3f5f\"},\"type\":\"carpet\"}],\"table\":[{\"cells\":{\"fill\":{\"color\":\"#EBF0F8\"},\"line\":{\"color\":\"white\"}},\"header\":{\"fill\":{\"color\":\"#C8D4E3\"},\"line\":{\"color\":\"white\"}},\"type\":\"table\"}],\"barpolar\":[{\"marker\":{\"line\":{\"color\":\"#E5ECF6\",\"width\":0.5},\"pattern\":{\"fillmode\":\"overlay\",\"size\":10,\"solidity\":0.2}},\"type\":\"barpolar\"}],\"pie\":[{\"automargin\":true,\"type\":\"pie\"}]},\"layout\":{\"autotypenumbers\":\"strict\",\"colorway\":[\"#636efa\",\"#EF553B\",\"#00cc96\",\"#ab63fa\",\"#FFA15A\",\"#19d3f3\",\"#FF6692\",\"#B6E880\",\"#FF97FF\",\"#FECB52\"],\"font\":{\"color\":\"#2a3f5f\"},\"hovermode\":\"closest\",\"hoverlabel\":{\"align\":\"left\"},\"paper_bgcolor\":\"white\",\"plot_bgcolor\":\"#E5ECF6\",\"polar\":{\"bgcolor\":\"#E5ECF6\",\"angularaxis\":{\"gridcolor\":\"white\",\"linecolor\":\"white\",\"ticks\":\"\"},\"radialaxis\":{\"gridcolor\":\"white\",\"linecolor\":\"white\",\"ticks\":\"\"}},\"ternary\":{\"bgcolor\":\"#E5ECF6\",\"aaxis\":{\"gridcolor\":\"white\",\"linecolor\":\"white\",\"ticks\":\"\"},\"baxis\":{\"gridcolor\":\"white\",\"linecolor\":\"white\",\"ticks\":\"\"},\"caxis\":{\"gridcolor\":\"white\",\"linecolor\":\"white\",\"ticks\":\"\"}},\"coloraxis\":{\"colorbar\":{\"outlinewidth\":0,\"ticks\":\"\"}},\"colorscale\":{\"sequential\":[[0.0,\"#0d0887\"],[0.1111111111111111,\"#46039f\"],[0.2222222222222222,\"#7201a8\"],[0.3333333333333333,\"#9c179e\"],[0.4444444444444444,\"#bd3786\"],[0.5555555555555556,\"#d8576b\"],[0.6666666666666666,\"#ed7953\"],[0.7777777777777778,\"#fb9f3a\"],[0.8888888888888888,\"#fdca26\"],[1.0,\"#f0f921\"]],\"sequentialminus\":[[0.0,\"#0d0887\"],[0.1111111111111111,\"#46039f\"],[0.2222222222222222,\"#7201a8\"],[0.3333333333333333,\"#9c179e\"],[0.4444444444444444,\"#bd3786\"],[0.5555555555555556,\"#d8576b\"],[0.6666666666666666,\"#ed7953\"],[0.7777777777777778,\"#fb9f3a\"],[0.8888888888888888,\"#fdca26\"],[1.0,\"#f0f921\"]],\"diverging\":[[0,\"#8e0152\"],[0.1,\"#c51b7d\"],[0.2,\"#de77ae\"],[0.3,\"#f1b6da\"],[0.4,\"#fde0ef\"],[0.5,\"#f7f7f7\"],[0.6,\"#e6f5d0\"],[0.7,\"#b8e186\"],[0.8,\"#7fbc41\"],[0.9,\"#4d9221\"],[1,\"#276419\"]]},\"xaxis\":{\"gridcolor\":\"white\",\"linecolor\":\"white\",\"ticks\":\"\",\"title\":{\"standoff\":15},\"zerolinecolor\":\"white\",\"automargin\":true,\"zerolinewidth\":2},\"yaxis\":{\"gridcolor\":\"white\",\"linecolor\":\"white\",\"ticks\":\"\",\"title\":{\"standoff\":15},\"zerolinecolor\":\"white\",\"automargin\":true,\"zerolinewidth\":2},\"scene\":{\"xaxis\":{\"backgroundcolor\":\"#E5ECF6\",\"gridcolor\":\"white\",\"linecolor\":\"white\",\"showbackground\":true,\"ticks\":\"\",\"zerolinecolor\":\"white\",\"gridwidth\":2},\"yaxis\":{\"backgroundcolor\":\"#E5ECF6\",\"gridcolor\":\"white\",\"linecolor\":\"white\",\"showbackground\":true,\"ticks\":\"\",\"zerolinecolor\":\"white\",\"gridwidth\":2},\"zaxis\":{\"backgroundcolor\":\"#E5ECF6\",\"gridcolor\":\"white\",\"linecolor\":\"white\",\"showbackground\":true,\"ticks\":\"\",\"zerolinecolor\":\"white\",\"gridwidth\":2}},\"shapedefaults\":{\"line\":{\"color\":\"#2a3f5f\"}},\"annotationdefaults\":{\"arrowcolor\":\"#2a3f5f\",\"arrowhead\":0,\"arrowwidth\":1},\"geo\":{\"bgcolor\":\"white\",\"landcolor\":\"#E5ECF6\",\"subunitcolor\":\"white\",\"showland\":true,\"showlakes\":true,\"lakecolor\":\"white\"},\"title\":{\"x\":0.05},\"mapbox\":{\"style\":\"light\"}}},\"legend\":{\"tracegroupgap\":0},\"margin\":{\"t\":60},\"height\":500},                        {\"responsive\": true}                    ).then(function(){\n",
       "                            \n",
       "var gd = document.getElementById('fb088e6c-6ece-47a0-b56f-2933d2237ee3');\n",
       "var x = new MutationObserver(function (mutations, observer) {{\n",
       "        var display = window.getComputedStyle(gd).display;\n",
       "        if (!display || display === 'none') {{\n",
       "            console.log([gd, 'removed!']);\n",
       "            Plotly.purge(gd);\n",
       "            observer.disconnect();\n",
       "        }}\n",
       "}});\n",
       "\n",
       "// Listen for the removal of the full notebook cells\n",
       "var notebookContainer = gd.closest('#notebook-container');\n",
       "if (notebookContainer) {{\n",
       "    x.observe(notebookContainer, {childList: true});\n",
       "}}\n",
       "\n",
       "// Listen for the clearing of the current output cell\n",
       "var outputEl = gd.closest('.output');\n",
       "if (outputEl) {{\n",
       "    x.observe(outputEl, {childList: true});\n",
       "}}\n",
       "\n",
       "                        })                };                });            </script>        </div>"
      ]
     },
     "metadata": {},
     "output_type": "display_data"
    }
   ],
   "source": [
    "fig = px.pie(DF, values=\"Duplicate Percentage\", names= str(\"Sensor\"), height=500, hole=0.5)\n",
    "fig.update_traces(textposition='inside', textinfo='percent')\n",
    "fig.show()\n",
    "# fig.layout.width = 'auto'\n",
    "# fig.layout.width = 400\n",
    "\n",
    "# fig.layout.height = 500\n",
    "# fig.layout.min_height = '300px' # so it shows nicely in the notebook\n",
    "# fig.layout.flex = '1'"
   ]
  },
  {
   "cell_type": "markdown",
   "id": "7e6e61a0",
   "metadata": {
    "extensions": {
     "jupyter_dashboards": {
      "activeView": "grid_default",
      "views": {
       "grid_default": {
        "col": 6,
        "height": 4,
        "hidden": false,
        "locked": true,
        "row": 39,
        "width": 6
       }
      }
     }
    },
    "tags": []
   },
   "source": [
    "# Sensor wise depiction of percentage of all-zero measures"
   ]
  },
  {
   "cell_type": "code",
   "execution_count": 14,
   "id": "0fe9ee64",
   "metadata": {
    "extensions": {
     "jupyter_dashboards": {
      "activeView": "grid_default",
      "views": {
       "grid_default": {
        "col": 6,
        "height": 13,
        "hidden": false,
        "locked": true,
        "row": 43,
        "width": 6
       }
      }
     }
    },
    "tags": []
   },
   "outputs": [
    {
     "data": {
      "application/vnd.plotly.v1+json": {
       "config": {
        "plotlyServerURL": "https://plot.ly"
       },
       "data": [
        {
         "domain": {
          "x": [
           0,
           1
          ],
          "y": [
           0,
           1
          ]
         },
         "hole": 0.5,
         "hovertemplate": "Sensor=%{label}<br>AllZeroPercentage=%{value}<extra></extra>",
         "labels": [
          "FWR015"
         ],
         "legendgroup": "",
         "name": "",
         "showlegend": true,
         "textinfo": "percent",
         "textposition": "inside",
         "type": "pie",
         "values": [
          0
         ]
        }
       ],
       "layout": {
        "legend": {
         "tracegroupgap": 0
        },
        "margin": {
         "t": 60
        },
        "template": {
         "data": {
          "bar": [
           {
            "error_x": {
             "color": "#2a3f5f"
            },
            "error_y": {
             "color": "#2a3f5f"
            },
            "marker": {
             "line": {
              "color": "#E5ECF6",
              "width": 0.5
             },
             "pattern": {
              "fillmode": "overlay",
              "size": 10,
              "solidity": 0.2
             }
            },
            "type": "bar"
           }
          ],
          "barpolar": [
           {
            "marker": {
             "line": {
              "color": "#E5ECF6",
              "width": 0.5
             },
             "pattern": {
              "fillmode": "overlay",
              "size": 10,
              "solidity": 0.2
             }
            },
            "type": "barpolar"
           }
          ],
          "carpet": [
           {
            "aaxis": {
             "endlinecolor": "#2a3f5f",
             "gridcolor": "white",
             "linecolor": "white",
             "minorgridcolor": "white",
             "startlinecolor": "#2a3f5f"
            },
            "baxis": {
             "endlinecolor": "#2a3f5f",
             "gridcolor": "white",
             "linecolor": "white",
             "minorgridcolor": "white",
             "startlinecolor": "#2a3f5f"
            },
            "type": "carpet"
           }
          ],
          "choropleth": [
           {
            "colorbar": {
             "outlinewidth": 0,
             "ticks": ""
            },
            "type": "choropleth"
           }
          ],
          "contour": [
           {
            "colorbar": {
             "outlinewidth": 0,
             "ticks": ""
            },
            "colorscale": [
             [
              0,
              "#0d0887"
             ],
             [
              0.1111111111111111,
              "#46039f"
             ],
             [
              0.2222222222222222,
              "#7201a8"
             ],
             [
              0.3333333333333333,
              "#9c179e"
             ],
             [
              0.4444444444444444,
              "#bd3786"
             ],
             [
              0.5555555555555556,
              "#d8576b"
             ],
             [
              0.6666666666666666,
              "#ed7953"
             ],
             [
              0.7777777777777778,
              "#fb9f3a"
             ],
             [
              0.8888888888888888,
              "#fdca26"
             ],
             [
              1,
              "#f0f921"
             ]
            ],
            "type": "contour"
           }
          ],
          "contourcarpet": [
           {
            "colorbar": {
             "outlinewidth": 0,
             "ticks": ""
            },
            "type": "contourcarpet"
           }
          ],
          "heatmap": [
           {
            "colorbar": {
             "outlinewidth": 0,
             "ticks": ""
            },
            "colorscale": [
             [
              0,
              "#0d0887"
             ],
             [
              0.1111111111111111,
              "#46039f"
             ],
             [
              0.2222222222222222,
              "#7201a8"
             ],
             [
              0.3333333333333333,
              "#9c179e"
             ],
             [
              0.4444444444444444,
              "#bd3786"
             ],
             [
              0.5555555555555556,
              "#d8576b"
             ],
             [
              0.6666666666666666,
              "#ed7953"
             ],
             [
              0.7777777777777778,
              "#fb9f3a"
             ],
             [
              0.8888888888888888,
              "#fdca26"
             ],
             [
              1,
              "#f0f921"
             ]
            ],
            "type": "heatmap"
           }
          ],
          "heatmapgl": [
           {
            "colorbar": {
             "outlinewidth": 0,
             "ticks": ""
            },
            "colorscale": [
             [
              0,
              "#0d0887"
             ],
             [
              0.1111111111111111,
              "#46039f"
             ],
             [
              0.2222222222222222,
              "#7201a8"
             ],
             [
              0.3333333333333333,
              "#9c179e"
             ],
             [
              0.4444444444444444,
              "#bd3786"
             ],
             [
              0.5555555555555556,
              "#d8576b"
             ],
             [
              0.6666666666666666,
              "#ed7953"
             ],
             [
              0.7777777777777778,
              "#fb9f3a"
             ],
             [
              0.8888888888888888,
              "#fdca26"
             ],
             [
              1,
              "#f0f921"
             ]
            ],
            "type": "heatmapgl"
           }
          ],
          "histogram": [
           {
            "marker": {
             "pattern": {
              "fillmode": "overlay",
              "size": 10,
              "solidity": 0.2
             }
            },
            "type": "histogram"
           }
          ],
          "histogram2d": [
           {
            "colorbar": {
             "outlinewidth": 0,
             "ticks": ""
            },
            "colorscale": [
             [
              0,
              "#0d0887"
             ],
             [
              0.1111111111111111,
              "#46039f"
             ],
             [
              0.2222222222222222,
              "#7201a8"
             ],
             [
              0.3333333333333333,
              "#9c179e"
             ],
             [
              0.4444444444444444,
              "#bd3786"
             ],
             [
              0.5555555555555556,
              "#d8576b"
             ],
             [
              0.6666666666666666,
              "#ed7953"
             ],
             [
              0.7777777777777778,
              "#fb9f3a"
             ],
             [
              0.8888888888888888,
              "#fdca26"
             ],
             [
              1,
              "#f0f921"
             ]
            ],
            "type": "histogram2d"
           }
          ],
          "histogram2dcontour": [
           {
            "colorbar": {
             "outlinewidth": 0,
             "ticks": ""
            },
            "colorscale": [
             [
              0,
              "#0d0887"
             ],
             [
              0.1111111111111111,
              "#46039f"
             ],
             [
              0.2222222222222222,
              "#7201a8"
             ],
             [
              0.3333333333333333,
              "#9c179e"
             ],
             [
              0.4444444444444444,
              "#bd3786"
             ],
             [
              0.5555555555555556,
              "#d8576b"
             ],
             [
              0.6666666666666666,
              "#ed7953"
             ],
             [
              0.7777777777777778,
              "#fb9f3a"
             ],
             [
              0.8888888888888888,
              "#fdca26"
             ],
             [
              1,
              "#f0f921"
             ]
            ],
            "type": "histogram2dcontour"
           }
          ],
          "mesh3d": [
           {
            "colorbar": {
             "outlinewidth": 0,
             "ticks": ""
            },
            "type": "mesh3d"
           }
          ],
          "parcoords": [
           {
            "line": {
             "colorbar": {
              "outlinewidth": 0,
              "ticks": ""
             }
            },
            "type": "parcoords"
           }
          ],
          "pie": [
           {
            "automargin": true,
            "type": "pie"
           }
          ],
          "scatter": [
           {
            "fillpattern": {
             "fillmode": "overlay",
             "size": 10,
             "solidity": 0.2
            },
            "type": "scatter"
           }
          ],
          "scatter3d": [
           {
            "line": {
             "colorbar": {
              "outlinewidth": 0,
              "ticks": ""
             }
            },
            "marker": {
             "colorbar": {
              "outlinewidth": 0,
              "ticks": ""
             }
            },
            "type": "scatter3d"
           }
          ],
          "scattercarpet": [
           {
            "marker": {
             "colorbar": {
              "outlinewidth": 0,
              "ticks": ""
             }
            },
            "type": "scattercarpet"
           }
          ],
          "scattergeo": [
           {
            "marker": {
             "colorbar": {
              "outlinewidth": 0,
              "ticks": ""
             }
            },
            "type": "scattergeo"
           }
          ],
          "scattergl": [
           {
            "marker": {
             "colorbar": {
              "outlinewidth": 0,
              "ticks": ""
             }
            },
            "type": "scattergl"
           }
          ],
          "scattermapbox": [
           {
            "marker": {
             "colorbar": {
              "outlinewidth": 0,
              "ticks": ""
             }
            },
            "type": "scattermapbox"
           }
          ],
          "scatterpolar": [
           {
            "marker": {
             "colorbar": {
              "outlinewidth": 0,
              "ticks": ""
             }
            },
            "type": "scatterpolar"
           }
          ],
          "scatterpolargl": [
           {
            "marker": {
             "colorbar": {
              "outlinewidth": 0,
              "ticks": ""
             }
            },
            "type": "scatterpolargl"
           }
          ],
          "scatterternary": [
           {
            "marker": {
             "colorbar": {
              "outlinewidth": 0,
              "ticks": ""
             }
            },
            "type": "scatterternary"
           }
          ],
          "surface": [
           {
            "colorbar": {
             "outlinewidth": 0,
             "ticks": ""
            },
            "colorscale": [
             [
              0,
              "#0d0887"
             ],
             [
              0.1111111111111111,
              "#46039f"
             ],
             [
              0.2222222222222222,
              "#7201a8"
             ],
             [
              0.3333333333333333,
              "#9c179e"
             ],
             [
              0.4444444444444444,
              "#bd3786"
             ],
             [
              0.5555555555555556,
              "#d8576b"
             ],
             [
              0.6666666666666666,
              "#ed7953"
             ],
             [
              0.7777777777777778,
              "#fb9f3a"
             ],
             [
              0.8888888888888888,
              "#fdca26"
             ],
             [
              1,
              "#f0f921"
             ]
            ],
            "type": "surface"
           }
          ],
          "table": [
           {
            "cells": {
             "fill": {
              "color": "#EBF0F8"
             },
             "line": {
              "color": "white"
             }
            },
            "header": {
             "fill": {
              "color": "#C8D4E3"
             },
             "line": {
              "color": "white"
             }
            },
            "type": "table"
           }
          ]
         },
         "layout": {
          "annotationdefaults": {
           "arrowcolor": "#2a3f5f",
           "arrowhead": 0,
           "arrowwidth": 1
          },
          "autotypenumbers": "strict",
          "coloraxis": {
           "colorbar": {
            "outlinewidth": 0,
            "ticks": ""
           }
          },
          "colorscale": {
           "diverging": [
            [
             0,
             "#8e0152"
            ],
            [
             0.1,
             "#c51b7d"
            ],
            [
             0.2,
             "#de77ae"
            ],
            [
             0.3,
             "#f1b6da"
            ],
            [
             0.4,
             "#fde0ef"
            ],
            [
             0.5,
             "#f7f7f7"
            ],
            [
             0.6,
             "#e6f5d0"
            ],
            [
             0.7,
             "#b8e186"
            ],
            [
             0.8,
             "#7fbc41"
            ],
            [
             0.9,
             "#4d9221"
            ],
            [
             1,
             "#276419"
            ]
           ],
           "sequential": [
            [
             0,
             "#0d0887"
            ],
            [
             0.1111111111111111,
             "#46039f"
            ],
            [
             0.2222222222222222,
             "#7201a8"
            ],
            [
             0.3333333333333333,
             "#9c179e"
            ],
            [
             0.4444444444444444,
             "#bd3786"
            ],
            [
             0.5555555555555556,
             "#d8576b"
            ],
            [
             0.6666666666666666,
             "#ed7953"
            ],
            [
             0.7777777777777778,
             "#fb9f3a"
            ],
            [
             0.8888888888888888,
             "#fdca26"
            ],
            [
             1,
             "#f0f921"
            ]
           ],
           "sequentialminus": [
            [
             0,
             "#0d0887"
            ],
            [
             0.1111111111111111,
             "#46039f"
            ],
            [
             0.2222222222222222,
             "#7201a8"
            ],
            [
             0.3333333333333333,
             "#9c179e"
            ],
            [
             0.4444444444444444,
             "#bd3786"
            ],
            [
             0.5555555555555556,
             "#d8576b"
            ],
            [
             0.6666666666666666,
             "#ed7953"
            ],
            [
             0.7777777777777778,
             "#fb9f3a"
            ],
            [
             0.8888888888888888,
             "#fdca26"
            ],
            [
             1,
             "#f0f921"
            ]
           ]
          },
          "colorway": [
           "#636efa",
           "#EF553B",
           "#00cc96",
           "#ab63fa",
           "#FFA15A",
           "#19d3f3",
           "#FF6692",
           "#B6E880",
           "#FF97FF",
           "#FECB52"
          ],
          "font": {
           "color": "#2a3f5f"
          },
          "geo": {
           "bgcolor": "white",
           "lakecolor": "white",
           "landcolor": "#E5ECF6",
           "showlakes": true,
           "showland": true,
           "subunitcolor": "white"
          },
          "hoverlabel": {
           "align": "left"
          },
          "hovermode": "closest",
          "mapbox": {
           "style": "light"
          },
          "paper_bgcolor": "white",
          "plot_bgcolor": "#E5ECF6",
          "polar": {
           "angularaxis": {
            "gridcolor": "white",
            "linecolor": "white",
            "ticks": ""
           },
           "bgcolor": "#E5ECF6",
           "radialaxis": {
            "gridcolor": "white",
            "linecolor": "white",
            "ticks": ""
           }
          },
          "scene": {
           "xaxis": {
            "backgroundcolor": "#E5ECF6",
            "gridcolor": "white",
            "gridwidth": 2,
            "linecolor": "white",
            "showbackground": true,
            "ticks": "",
            "zerolinecolor": "white"
           },
           "yaxis": {
            "backgroundcolor": "#E5ECF6",
            "gridcolor": "white",
            "gridwidth": 2,
            "linecolor": "white",
            "showbackground": true,
            "ticks": "",
            "zerolinecolor": "white"
           },
           "zaxis": {
            "backgroundcolor": "#E5ECF6",
            "gridcolor": "white",
            "gridwidth": 2,
            "linecolor": "white",
            "showbackground": true,
            "ticks": "",
            "zerolinecolor": "white"
           }
          },
          "shapedefaults": {
           "line": {
            "color": "#2a3f5f"
           }
          },
          "ternary": {
           "aaxis": {
            "gridcolor": "white",
            "linecolor": "white",
            "ticks": ""
           },
           "baxis": {
            "gridcolor": "white",
            "linecolor": "white",
            "ticks": ""
           },
           "bgcolor": "#E5ECF6",
           "caxis": {
            "gridcolor": "white",
            "linecolor": "white",
            "ticks": ""
           }
          },
          "title": {
           "x": 0.05
          },
          "xaxis": {
           "automargin": true,
           "gridcolor": "white",
           "linecolor": "white",
           "ticks": "",
           "title": {
            "standoff": 15
           },
           "zerolinecolor": "white",
           "zerolinewidth": 2
          },
          "yaxis": {
           "automargin": true,
           "gridcolor": "white",
           "linecolor": "white",
           "ticks": "",
           "title": {
            "standoff": 15
           },
           "zerolinecolor": "white",
           "zerolinewidth": 2
          }
         }
        }
       }
      },
      "text/html": [
       "<div>                            <div id=\"18366558-e6d1-4e31-bab8-aac8394dc512\" class=\"plotly-graph-div\" style=\"height:525px; width:100%;\"></div>            <script type=\"text/javascript\">                require([\"plotly\"], function(Plotly) {                    window.PLOTLYENV=window.PLOTLYENV || {};                                    if (document.getElementById(\"18366558-e6d1-4e31-bab8-aac8394dc512\")) {                    Plotly.newPlot(                        \"18366558-e6d1-4e31-bab8-aac8394dc512\",                        [{\"domain\":{\"x\":[0.0,1.0],\"y\":[0.0,1.0]},\"hole\":0.5,\"hovertemplate\":\"Sensor=%{label}<br>AllZeroPercentage=%{value}<extra></extra>\",\"labels\":[\"FWR015\"],\"legendgroup\":\"\",\"name\":\"\",\"showlegend\":true,\"values\":[0.0],\"type\":\"pie\",\"textinfo\":\"percent\",\"textposition\":\"inside\"}],                        {\"template\":{\"data\":{\"histogram2dcontour\":[{\"type\":\"histogram2dcontour\",\"colorbar\":{\"outlinewidth\":0,\"ticks\":\"\"},\"colorscale\":[[0.0,\"#0d0887\"],[0.1111111111111111,\"#46039f\"],[0.2222222222222222,\"#7201a8\"],[0.3333333333333333,\"#9c179e\"],[0.4444444444444444,\"#bd3786\"],[0.5555555555555556,\"#d8576b\"],[0.6666666666666666,\"#ed7953\"],[0.7777777777777778,\"#fb9f3a\"],[0.8888888888888888,\"#fdca26\"],[1.0,\"#f0f921\"]]}],\"choropleth\":[{\"type\":\"choropleth\",\"colorbar\":{\"outlinewidth\":0,\"ticks\":\"\"}}],\"histogram2d\":[{\"type\":\"histogram2d\",\"colorbar\":{\"outlinewidth\":0,\"ticks\":\"\"},\"colorscale\":[[0.0,\"#0d0887\"],[0.1111111111111111,\"#46039f\"],[0.2222222222222222,\"#7201a8\"],[0.3333333333333333,\"#9c179e\"],[0.4444444444444444,\"#bd3786\"],[0.5555555555555556,\"#d8576b\"],[0.6666666666666666,\"#ed7953\"],[0.7777777777777778,\"#fb9f3a\"],[0.8888888888888888,\"#fdca26\"],[1.0,\"#f0f921\"]]}],\"heatmap\":[{\"type\":\"heatmap\",\"colorbar\":{\"outlinewidth\":0,\"ticks\":\"\"},\"colorscale\":[[0.0,\"#0d0887\"],[0.1111111111111111,\"#46039f\"],[0.2222222222222222,\"#7201a8\"],[0.3333333333333333,\"#9c179e\"],[0.4444444444444444,\"#bd3786\"],[0.5555555555555556,\"#d8576b\"],[0.6666666666666666,\"#ed7953\"],[0.7777777777777778,\"#fb9f3a\"],[0.8888888888888888,\"#fdca26\"],[1.0,\"#f0f921\"]]}],\"heatmapgl\":[{\"type\":\"heatmapgl\",\"colorbar\":{\"outlinewidth\":0,\"ticks\":\"\"},\"colorscale\":[[0.0,\"#0d0887\"],[0.1111111111111111,\"#46039f\"],[0.2222222222222222,\"#7201a8\"],[0.3333333333333333,\"#9c179e\"],[0.4444444444444444,\"#bd3786\"],[0.5555555555555556,\"#d8576b\"],[0.6666666666666666,\"#ed7953\"],[0.7777777777777778,\"#fb9f3a\"],[0.8888888888888888,\"#fdca26\"],[1.0,\"#f0f921\"]]}],\"contourcarpet\":[{\"type\":\"contourcarpet\",\"colorbar\":{\"outlinewidth\":0,\"ticks\":\"\"}}],\"contour\":[{\"type\":\"contour\",\"colorbar\":{\"outlinewidth\":0,\"ticks\":\"\"},\"colorscale\":[[0.0,\"#0d0887\"],[0.1111111111111111,\"#46039f\"],[0.2222222222222222,\"#7201a8\"],[0.3333333333333333,\"#9c179e\"],[0.4444444444444444,\"#bd3786\"],[0.5555555555555556,\"#d8576b\"],[0.6666666666666666,\"#ed7953\"],[0.7777777777777778,\"#fb9f3a\"],[0.8888888888888888,\"#fdca26\"],[1.0,\"#f0f921\"]]}],\"surface\":[{\"type\":\"surface\",\"colorbar\":{\"outlinewidth\":0,\"ticks\":\"\"},\"colorscale\":[[0.0,\"#0d0887\"],[0.1111111111111111,\"#46039f\"],[0.2222222222222222,\"#7201a8\"],[0.3333333333333333,\"#9c179e\"],[0.4444444444444444,\"#bd3786\"],[0.5555555555555556,\"#d8576b\"],[0.6666666666666666,\"#ed7953\"],[0.7777777777777778,\"#fb9f3a\"],[0.8888888888888888,\"#fdca26\"],[1.0,\"#f0f921\"]]}],\"mesh3d\":[{\"type\":\"mesh3d\",\"colorbar\":{\"outlinewidth\":0,\"ticks\":\"\"}}],\"scatter\":[{\"fillpattern\":{\"fillmode\":\"overlay\",\"size\":10,\"solidity\":0.2},\"type\":\"scatter\"}],\"parcoords\":[{\"type\":\"parcoords\",\"line\":{\"colorbar\":{\"outlinewidth\":0,\"ticks\":\"\"}}}],\"scatterpolargl\":[{\"type\":\"scatterpolargl\",\"marker\":{\"colorbar\":{\"outlinewidth\":0,\"ticks\":\"\"}}}],\"bar\":[{\"error_x\":{\"color\":\"#2a3f5f\"},\"error_y\":{\"color\":\"#2a3f5f\"},\"marker\":{\"line\":{\"color\":\"#E5ECF6\",\"width\":0.5},\"pattern\":{\"fillmode\":\"overlay\",\"size\":10,\"solidity\":0.2}},\"type\":\"bar\"}],\"scattergeo\":[{\"type\":\"scattergeo\",\"marker\":{\"colorbar\":{\"outlinewidth\":0,\"ticks\":\"\"}}}],\"scatterpolar\":[{\"type\":\"scatterpolar\",\"marker\":{\"colorbar\":{\"outlinewidth\":0,\"ticks\":\"\"}}}],\"histogram\":[{\"marker\":{\"pattern\":{\"fillmode\":\"overlay\",\"size\":10,\"solidity\":0.2}},\"type\":\"histogram\"}],\"scattergl\":[{\"type\":\"scattergl\",\"marker\":{\"colorbar\":{\"outlinewidth\":0,\"ticks\":\"\"}}}],\"scatter3d\":[{\"type\":\"scatter3d\",\"line\":{\"colorbar\":{\"outlinewidth\":0,\"ticks\":\"\"}},\"marker\":{\"colorbar\":{\"outlinewidth\":0,\"ticks\":\"\"}}}],\"scattermapbox\":[{\"type\":\"scattermapbox\",\"marker\":{\"colorbar\":{\"outlinewidth\":0,\"ticks\":\"\"}}}],\"scatterternary\":[{\"type\":\"scatterternary\",\"marker\":{\"colorbar\":{\"outlinewidth\":0,\"ticks\":\"\"}}}],\"scattercarpet\":[{\"type\":\"scattercarpet\",\"marker\":{\"colorbar\":{\"outlinewidth\":0,\"ticks\":\"\"}}}],\"carpet\":[{\"aaxis\":{\"endlinecolor\":\"#2a3f5f\",\"gridcolor\":\"white\",\"linecolor\":\"white\",\"minorgridcolor\":\"white\",\"startlinecolor\":\"#2a3f5f\"},\"baxis\":{\"endlinecolor\":\"#2a3f5f\",\"gridcolor\":\"white\",\"linecolor\":\"white\",\"minorgridcolor\":\"white\",\"startlinecolor\":\"#2a3f5f\"},\"type\":\"carpet\"}],\"table\":[{\"cells\":{\"fill\":{\"color\":\"#EBF0F8\"},\"line\":{\"color\":\"white\"}},\"header\":{\"fill\":{\"color\":\"#C8D4E3\"},\"line\":{\"color\":\"white\"}},\"type\":\"table\"}],\"barpolar\":[{\"marker\":{\"line\":{\"color\":\"#E5ECF6\",\"width\":0.5},\"pattern\":{\"fillmode\":\"overlay\",\"size\":10,\"solidity\":0.2}},\"type\":\"barpolar\"}],\"pie\":[{\"automargin\":true,\"type\":\"pie\"}]},\"layout\":{\"autotypenumbers\":\"strict\",\"colorway\":[\"#636efa\",\"#EF553B\",\"#00cc96\",\"#ab63fa\",\"#FFA15A\",\"#19d3f3\",\"#FF6692\",\"#B6E880\",\"#FF97FF\",\"#FECB52\"],\"font\":{\"color\":\"#2a3f5f\"},\"hovermode\":\"closest\",\"hoverlabel\":{\"align\":\"left\"},\"paper_bgcolor\":\"white\",\"plot_bgcolor\":\"#E5ECF6\",\"polar\":{\"bgcolor\":\"#E5ECF6\",\"angularaxis\":{\"gridcolor\":\"white\",\"linecolor\":\"white\",\"ticks\":\"\"},\"radialaxis\":{\"gridcolor\":\"white\",\"linecolor\":\"white\",\"ticks\":\"\"}},\"ternary\":{\"bgcolor\":\"#E5ECF6\",\"aaxis\":{\"gridcolor\":\"white\",\"linecolor\":\"white\",\"ticks\":\"\"},\"baxis\":{\"gridcolor\":\"white\",\"linecolor\":\"white\",\"ticks\":\"\"},\"caxis\":{\"gridcolor\":\"white\",\"linecolor\":\"white\",\"ticks\":\"\"}},\"coloraxis\":{\"colorbar\":{\"outlinewidth\":0,\"ticks\":\"\"}},\"colorscale\":{\"sequential\":[[0.0,\"#0d0887\"],[0.1111111111111111,\"#46039f\"],[0.2222222222222222,\"#7201a8\"],[0.3333333333333333,\"#9c179e\"],[0.4444444444444444,\"#bd3786\"],[0.5555555555555556,\"#d8576b\"],[0.6666666666666666,\"#ed7953\"],[0.7777777777777778,\"#fb9f3a\"],[0.8888888888888888,\"#fdca26\"],[1.0,\"#f0f921\"]],\"sequentialminus\":[[0.0,\"#0d0887\"],[0.1111111111111111,\"#46039f\"],[0.2222222222222222,\"#7201a8\"],[0.3333333333333333,\"#9c179e\"],[0.4444444444444444,\"#bd3786\"],[0.5555555555555556,\"#d8576b\"],[0.6666666666666666,\"#ed7953\"],[0.7777777777777778,\"#fb9f3a\"],[0.8888888888888888,\"#fdca26\"],[1.0,\"#f0f921\"]],\"diverging\":[[0,\"#8e0152\"],[0.1,\"#c51b7d\"],[0.2,\"#de77ae\"],[0.3,\"#f1b6da\"],[0.4,\"#fde0ef\"],[0.5,\"#f7f7f7\"],[0.6,\"#e6f5d0\"],[0.7,\"#b8e186\"],[0.8,\"#7fbc41\"],[0.9,\"#4d9221\"],[1,\"#276419\"]]},\"xaxis\":{\"gridcolor\":\"white\",\"linecolor\":\"white\",\"ticks\":\"\",\"title\":{\"standoff\":15},\"zerolinecolor\":\"white\",\"automargin\":true,\"zerolinewidth\":2},\"yaxis\":{\"gridcolor\":\"white\",\"linecolor\":\"white\",\"ticks\":\"\",\"title\":{\"standoff\":15},\"zerolinecolor\":\"white\",\"automargin\":true,\"zerolinewidth\":2},\"scene\":{\"xaxis\":{\"backgroundcolor\":\"#E5ECF6\",\"gridcolor\":\"white\",\"linecolor\":\"white\",\"showbackground\":true,\"ticks\":\"\",\"zerolinecolor\":\"white\",\"gridwidth\":2},\"yaxis\":{\"backgroundcolor\":\"#E5ECF6\",\"gridcolor\":\"white\",\"linecolor\":\"white\",\"showbackground\":true,\"ticks\":\"\",\"zerolinecolor\":\"white\",\"gridwidth\":2},\"zaxis\":{\"backgroundcolor\":\"#E5ECF6\",\"gridcolor\":\"white\",\"linecolor\":\"white\",\"showbackground\":true,\"ticks\":\"\",\"zerolinecolor\":\"white\",\"gridwidth\":2}},\"shapedefaults\":{\"line\":{\"color\":\"#2a3f5f\"}},\"annotationdefaults\":{\"arrowcolor\":\"#2a3f5f\",\"arrowhead\":0,\"arrowwidth\":1},\"geo\":{\"bgcolor\":\"white\",\"landcolor\":\"#E5ECF6\",\"subunitcolor\":\"white\",\"showland\":true,\"showlakes\":true,\"lakecolor\":\"white\"},\"title\":{\"x\":0.05},\"mapbox\":{\"style\":\"light\"}}},\"legend\":{\"tracegroupgap\":0},\"margin\":{\"t\":60}},                        {\"responsive\": true}                    ).then(function(){\n",
       "                            \n",
       "var gd = document.getElementById('18366558-e6d1-4e31-bab8-aac8394dc512');\n",
       "var x = new MutationObserver(function (mutations, observer) {{\n",
       "        var display = window.getComputedStyle(gd).display;\n",
       "        if (!display || display === 'none') {{\n",
       "            console.log([gd, 'removed!']);\n",
       "            Plotly.purge(gd);\n",
       "            observer.disconnect();\n",
       "        }}\n",
       "}});\n",
       "\n",
       "// Listen for the removal of the full notebook cells\n",
       "var notebookContainer = gd.closest('#notebook-container');\n",
       "if (notebookContainer) {{\n",
       "    x.observe(notebookContainer, {childList: true});\n",
       "}}\n",
       "\n",
       "// Listen for the clearing of the current output cell\n",
       "var outputEl = gd.closest('.output');\n",
       "if (outputEl) {{\n",
       "    x.observe(outputEl, {childList: true});\n",
       "}}\n",
       "\n",
       "                        })                };                });            </script>        </div>"
      ]
     },
     "metadata": {},
     "output_type": "display_data"
    }
   ],
   "source": [
    "fig = px.pie(DF, values=\"AllZeroPercentage\", names= str(\"Sensor\"), hole=0.5)\n",
    "fig.update_traces(textposition='inside', textinfo='percent')\n",
    "# fig.update_layout(template=\"plotly_dark\") # , height=500, width=700,\n",
    "fig.show()\n",
    "# fig.layout.width = 'auto'\n",
    "# fig.layout.height = 'auto'\n",
    "# fig.layout.min_height = '300px' # so it shows nicely in the notebook\n",
    "# fig.layout.flex = '1'"
   ]
  },
  {
   "cell_type": "markdown",
   "id": "90f1063b",
   "metadata": {
    "extensions": {
     "jupyter_dashboards": {
      "activeView": "grid_default",
      "views": {
       "grid_default": {
        "col": null,
        "height": 2,
        "hidden": true,
        "locked": true,
        "row": null,
        "width": 2
       }
      }
     }
    }
   },
   "source": [
    "<!-- # Sensor Outage Analysis -->"
   ]
  },
  {
   "cell_type": "code",
   "execution_count": 15,
   "id": "84005686",
   "metadata": {
    "extensions": {
     "jupyter_dashboards": {
      "activeView": "grid_default",
      "views": {
       "grid_default": {
        "col": null,
        "height": 2,
        "hidden": true,
        "locked": true,
        "row": null,
        "width": 2
       }
      }
     }
    }
   },
   "outputs": [],
   "source": [
    "# drop_down = widgets.Dropdown(options=devices,\n",
    "#                                 value=\"FWR015\",\n",
    "#                                 description='Device:',\n",
    "#                                 disabled=False)\n",
    "\n",
    "# from_date = widgets.DatePicker(\n",
    "#     description='From Date',\n",
    "#     value = datetime.date(2022,1,1),\n",
    "#     disabled=False\n",
    "# )\n",
    "\n",
    "# to_date = widgets.DatePicker(\n",
    "#     description='To Date',\n",
    "#     value = datetime.date(2022,5,1),\n",
    "#     disabled=False\n",
    "# )\n",
    "\n",
    "\n",
    "\n",
    "\n",
    "# def f(fromD, to):\n",
    "#     if fromD!=None and to!=None:\n",
    "#         print('Collecting data from {} to {}'.format(fromD, to), type(fromD), type(to))\n",
    "\n",
    "\n",
    "\n",
    "# # widgets.HBox([widgets.VBox([start_date, end_date]), out])\n",
    "\n",
    "# # https://github.com/ChakriCherukuri/mlviz/blob/master/notebooks/supervised-learning/linear-regression.ipynb\n",
    "# def refresh(*args):\n",
    "#     print(\"Collecting data !!!\")\n",
    "#     return \"Collecting data !\"+from_date\n",
    "\n",
    "\n",
    "\n",
    "# from ipywidgets import Button\n",
    "# reset_button = Button(description='Refresh', button_style='success')\n",
    "# reset_button.layout.margin = '0px 30px 0px 60px'\n",
    "# reset_button.on_click(lambda btn: refresh())\n",
    "\n",
    "# def generate_password(sensor): \n",
    "    \n",
    "#     print(\"Sensor chosen is \"+str(sensor))\n",
    "#     return \"Sensor chosen is \"+str(sensor)\n",
    "# DF1=pd.DataFrame([])\n",
    "# def displayPublishInterval(DF):\n",
    "#     fig = px.line(DF, x=DF.observationDateTime, y = DF[\"PI (in minutes)\"], hover_data=[DF.observationDateTime, DF.toDateTime, DF.publishInterval])\n",
    "#     fig.update_layout(template=\"plotly_dark\")\n",
    "#     fig.show()\n",
    "\n",
    "# def displaydf(sensor,fromdate, todate):\n",
    "#     df = pd.read_csv(\"pune_flood_\"+sensor+\".csv\")\n",
    "#     if fromdate!=None and todate!=None:\n",
    "#           print(\"Collected data between \"+str(fromdate)+\" and \"+str(todate))\n",
    "#     df[\"observationDateTime\"]=pd.to_datetime(df[\"observationDateTime\"],errors ='coerce')\n",
    "#     df.sort_values(by = [\"observationDateTime\"], inplace=True)\n",
    "#     # df.info()\n",
    "#     df.reset_index(inplace=True)\n",
    "#     df.drop([\"index\"],axis=1, inplace=True)\n",
    "#     df.head()\n",
    "\n",
    "#     df[\"publishInterval\"] = pd.to_timedelta('0 days 00:00:00.0000')\n",
    "#     df[\"toDateTime\"] = \"\"\n",
    "#     for i,row in df.iterrows():\n",
    "#         if i != df.shape[0]-1:\n",
    "#     #         df[\"publishInterval\"][i] = df[\"observationDateTime\"][i+1] - df[\"observationDateTime\"][i]\n",
    "#             df[\"toDateTime\"][i] = df[\"observationDateTime\"][i+1]\n",
    "#             df[\"publishInterval\"][i] = df[\"toDateTime\"][i] - df[\"observationDateTime\"][i]\n",
    "\n",
    "\n",
    "#     df[\"seconds\"] = df[\"publishInterval\"].apply(lambda x: x.total_seconds())\n",
    "#     df[\"PI (in minutes)\"] = df[\"seconds\"]/60\n",
    "#     df = df.sort_values(by = [\"observationDateTime\"], ascending = False)\n",
    "#     global DF1 \n",
    "#     DF1 = df\n",
    "#     display(df.head())\n",
    "    \n",
    "#     displayPublishInterval(DF1)\n",
    "\n",
    "# # widgets.interact(displaydf, sensor=drop_down);\n",
    "# out = widgets.interactive_output(displaydf, {'sensor':drop_down,'fromdate': from_date, 'todate': to_date})\n",
    "# widgets.VBox([widgets.HBox([drop_down, from_date, to_date, reset_button]), out])"
   ]
  },
  {
   "cell_type": "code",
   "execution_count": null,
   "id": "a737a0e7",
   "metadata": {
    "extensions": {
     "jupyter_dashboards": {
      "activeView": "grid_default",
      "views": {
       "grid_default": {
        "col": null,
        "height": 2,
        "hidden": true,
        "locked": true,
        "row": null,
        "width": 2
       }
      }
     }
    }
   },
   "outputs": [],
   "source": []
  },
  {
   "cell_type": "code",
   "execution_count": null,
   "id": "2845d1f5",
   "metadata": {
    "extensions": {
     "jupyter_dashboards": {
      "activeView": "grid_default",
      "views": {
       "grid_default": {
        "col": null,
        "height": 2,
        "hidden": true,
        "locked": true,
        "row": null,
        "width": 2
       }
      }
     }
    }
   },
   "outputs": [],
   "source": []
  },
  {
   "cell_type": "code",
   "execution_count": null,
   "id": "395d5a48",
   "metadata": {
    "extensions": {
     "jupyter_dashboards": {
      "activeView": "grid_default",
      "views": {
       "grid_default": {
        "col": null,
        "height": 2,
        "hidden": true,
        "locked": true,
        "row": null,
        "width": 2
       }
      }
     }
    }
   },
   "outputs": [],
   "source": []
  },
  {
   "cell_type": "code",
   "execution_count": null,
   "id": "52908308",
   "metadata": {
    "extensions": {
     "jupyter_dashboards": {
      "activeView": "grid_default",
      "views": {
       "grid_default": {
        "col": null,
        "height": 2,
        "hidden": true,
        "locked": true,
        "row": null,
        "width": 2
       }
      }
     }
    }
   },
   "outputs": [],
   "source": []
  },
  {
   "cell_type": "code",
   "execution_count": null,
   "id": "1e9ba9a4",
   "metadata": {
    "extensions": {
     "jupyter_dashboards": {
      "activeView": "grid_default",
      "views": {
       "grid_default": {
        "col": null,
        "height": 2,
        "hidden": true,
        "locked": true,
        "row": null,
        "width": 2
       }
      }
     }
    }
   },
   "outputs": [],
   "source": []
  },
  {
   "cell_type": "code",
   "execution_count": null,
   "id": "2c4b8fb9",
   "metadata": {
    "extensions": {
     "jupyter_dashboards": {
      "activeView": "grid_default",
      "views": {
       "grid_default": {
        "col": null,
        "height": 2,
        "hidden": true,
        "locked": true,
        "row": null,
        "width": 2
       }
      }
     }
    }
   },
   "outputs": [],
   "source": []
  },
  {
   "cell_type": "code",
   "execution_count": null,
   "id": "ce1ef26d",
   "metadata": {
    "extensions": {
     "jupyter_dashboards": {
      "activeView": "grid_default",
      "views": {
       "grid_default": {
        "col": null,
        "height": 2,
        "hidden": true,
        "locked": true,
        "row": null,
        "width": 2
       }
      }
     }
    }
   },
   "outputs": [],
   "source": []
  },
  {
   "cell_type": "code",
   "execution_count": null,
   "id": "3e90ca87",
   "metadata": {
    "extensions": {
     "jupyter_dashboards": {
      "activeView": "grid_default",
      "views": {
       "grid_default": {
        "col": null,
        "height": 2,
        "hidden": true,
        "locked": true,
        "row": null,
        "width": 2
       }
      }
     }
    }
   },
   "outputs": [],
   "source": []
  },
  {
   "cell_type": "code",
   "execution_count": null,
   "id": "65870e4d",
   "metadata": {
    "extensions": {
     "jupyter_dashboards": {
      "activeView": "grid_default",
      "views": {
       "grid_default": {
        "col": null,
        "height": 2,
        "hidden": true,
        "locked": true,
        "row": null,
        "width": 2
       }
      }
     }
    },
    "tags": []
   },
   "outputs": [],
   "source": []
  }
 ],
 "metadata": {
  "extensions": {
   "jupyter_dashboards": {
    "activeView": "grid_default",
    "version": 1,
    "views": {
     "grid_default": {
      "cellMargin": 2,
      "defaultCellHeight": 40,
      "maxColumns": 12,
      "name": "grid",
      "type": "grid"
     }
    }
   }
  },
  "hide_input": false,
  "kernelspec": {
   "display_name": "Python 3 (ipykernel)",
   "language": "python",
   "name": "python3"
  },
  "language_info": {
   "codemirror_mode": {
    "name": "ipython",
    "version": 3
   },
   "file_extension": ".py",
   "mimetype": "text/x-python",
   "name": "python",
   "nbconvert_exporter": "python",
   "pygments_lexer": "ipython3",
   "version": "3.9.12"
  },
  "widgets": {
   "application/vnd.jupyter.widget-state+json": {
    "state": {},
    "version_major": 2,
    "version_minor": 0
   }
  }
 },
 "nbformat": 4,
 "nbformat_minor": 5
}
