{
 "cells": [
  {
   "cell_type": "code",
   "execution_count": 1,
   "id": "16ebadf2",
   "metadata": {},
   "outputs": [],
   "source": [
    "import pandas as pd\n",
    "import numpy as np\n",
    "import json\n",
    "import requests\n",
    "import dateutil.parser as dp\n",
    "import seaborn as sns\n",
    "import matplotlib.pyplot as plt"
   ]
  },
  {
   "cell_type": "code",
   "execution_count": 2,
   "id": "258463b0",
   "metadata": {},
   "outputs": [],
   "source": [
    "def getToken(itemid,resourceType):\n",
    "    try:\n",
    "        \n",
    "        if resourceType == \"private\":\n",
    "            url = \"https://authorization.iudx.org.in/auth/v1/token\"\n",
    "            payload = '{\"itemId\":\"'+itemid+'\",\"itemType\": \"resource\",\"role\": \"consumer\"}'\n",
    "            headers = {\n",
    "              'clientId': '6e35f7e5-b1aa-4117-8485-1acc78f054ab',\n",
    "              'clientSecret': '19496cf8b6817fee23ca45e9409a4d2b6b456ada',\n",
    "              'Content-Type': 'application/json'\n",
    "            }\n",
    "            response = requests.request(\"POST\", url, headers=headers, data=payload)\n",
    "            return str(response.json()[\"results\"][\"accessToken\"])\n",
    "        \n",
    "        elif resourceType == \"public\":            \n",
    "            url = \"https://authorization.iudx.org.in/auth/v1/token\"\n",
    "            payload = '{\"itemId\": \"rs.iudx.org.in\",\"itemType\": \"resource_server\",\"role\": \"consumer\"}'                \n",
    "            headers = {\n",
    "              'clientId': '6e35f7e5-b1aa-4117-8485-1acc78f054ab',\n",
    "              'clientSecret': '19496cf8b6817fee23ca45e9409a4d2b6b456ada',\n",
    "              'Content-Type': 'application/json'\n",
    "            }\n",
    "            response = requests.request(\"POST\", url, headers=headers, data=payload)\n",
    "            return str(response.json()[\"results\"][\"accessToken\"])\n",
    "    \n",
    "    except Exception as e:\n",
    "        print(\"Error Occurred while fetching token -> \",e)\n",
    "\n",
    "\n",
    " "
   ]
  },
  {
   "cell_type": "code",
   "execution_count": 3,
   "id": "2bfa1c64",
   "metadata": {},
   "outputs": [],
   "source": [
    "def getData(itemid,resourceType,fromDate,toDate,baseurl):\n",
    "\n",
    "    ID = itemid\n",
    "    fromtime = fromDate\n",
    "    totime = toDate\n",
    "\n",
    "    url=baseurl+\"?id=\"+ID+\"&timerel=during&time=\"+fromtime+\"&endtime=\"+totime\n",
    "\n",
    "    payload={}\n",
    "    \n",
    "    headers = {\n",
    "      'token': getToken(itemid,resourceType)\n",
    "    }\n",
    "    \n",
    "    response = requests.request(\"GET\", url, headers=headers, data=payload)\n",
    "    res = response.json()['results']\n",
    "    \n",
    "    return pd.DataFrame(res)\n"
   ]
  },
  {
   "cell_type": "code",
   "execution_count": 4,
   "id": "be9b1257",
   "metadata": {},
   "outputs": [],
   "source": [
    "def checkDuplicates(df):\n",
    "    if df[df.duplicated()].shape[0] != 0: \n",
    "        print(\"Duplicates found in the dataset ...\")\n",
    "        print(\"Total packet count : \",df.shape[0])\n",
    "        print(\"Total duplicate packet count :\", df[df.duplicated()].shape[0])\n",
    "        print(\"Percentage of duplicates : \",round((df[df.duplicated()].shape[0]/df.shape[0])*100,2),\"%\")\n",
    "        df.drop_duplicates(inplace=True)\n",
    "#         display(df)\n",
    "        return \"Removed Duplicates ...\"\n",
    "    else:\n",
    "        return \"No Duplicated Found\"\n",
    "\n",
    "    "
   ]
  },
  {
   "cell_type": "markdown",
   "id": "b828dcfe",
   "metadata": {},
   "source": [
    "## Fetch Data from IUDX"
   ]
  },
  {
   "cell_type": "markdown",
   "id": "d339272c",
   "metadata": {},
   "source": [
    "## 1) Employee Attendance Dataset"
   ]
  },
  {
   "cell_type": "code",
   "execution_count": 5,
   "id": "2eeabbd7",
   "metadata": {},
   "outputs": [
    {
     "data": {
      "text/html": [
       "<div>\n",
       "<style scoped>\n",
       "    .dataframe tbody tr th:only-of-type {\n",
       "        vertical-align: middle;\n",
       "    }\n",
       "\n",
       "    .dataframe tbody tr th {\n",
       "        vertical-align: top;\n",
       "    }\n",
       "\n",
       "    .dataframe thead th {\n",
       "        text-align: right;\n",
       "    }\n",
       "</style>\n",
       "<table border=\"1\" class=\"dataframe\">\n",
       "  <thead>\n",
       "    <tr style=\"text-align: right;\">\n",
       "      <th></th>\n",
       "      <th>totalAbsent</th>\n",
       "      <th>id</th>\n",
       "      <th>totalPresent</th>\n",
       "      <th>totalEmployee</th>\n",
       "      <th>wardNum</th>\n",
       "      <th>observationDateTime</th>\n",
       "    </tr>\n",
       "  </thead>\n",
       "  <tbody>\n",
       "    <tr>\n",
       "      <th>0</th>\n",
       "      <td>3</td>\n",
       "      <td>varanasismartcity.gov.in/62d1f729edd3d2a1a090c...</td>\n",
       "      <td>42</td>\n",
       "      <td>45</td>\n",
       "      <td>3</td>\n",
       "      <td>2022-02-21T23:15:00+05:30</td>\n",
       "    </tr>\n",
       "    <tr>\n",
       "      <th>1</th>\n",
       "      <td>12</td>\n",
       "      <td>varanasismartcity.gov.in/62d1f729edd3d2a1a090c...</td>\n",
       "      <td>26</td>\n",
       "      <td>38</td>\n",
       "      <td>6</td>\n",
       "      <td>2022-02-21T23:15:01+05:30</td>\n",
       "    </tr>\n",
       "    <tr>\n",
       "      <th>2</th>\n",
       "      <td>7</td>\n",
       "      <td>varanasismartcity.gov.in/62d1f729edd3d2a1a090c...</td>\n",
       "      <td>31</td>\n",
       "      <td>38</td>\n",
       "      <td>7</td>\n",
       "      <td>2022-02-21T23:15:01+05:30</td>\n",
       "    </tr>\n",
       "    <tr>\n",
       "      <th>3</th>\n",
       "      <td>6</td>\n",
       "      <td>varanasismartcity.gov.in/62d1f729edd3d2a1a090c...</td>\n",
       "      <td>37</td>\n",
       "      <td>43</td>\n",
       "      <td>8</td>\n",
       "      <td>2022-02-21T23:15:01+05:30</td>\n",
       "    </tr>\n",
       "    <tr>\n",
       "      <th>4</th>\n",
       "      <td>13</td>\n",
       "      <td>varanasismartcity.gov.in/62d1f729edd3d2a1a090c...</td>\n",
       "      <td>40</td>\n",
       "      <td>53</td>\n",
       "      <td>9</td>\n",
       "      <td>2022-02-21T23:15:01+05:30</td>\n",
       "    </tr>\n",
       "    <tr>\n",
       "      <th>...</th>\n",
       "      <td>...</td>\n",
       "      <td>...</td>\n",
       "      <td>...</td>\n",
       "      <td>...</td>\n",
       "      <td>...</td>\n",
       "      <td>...</td>\n",
       "    </tr>\n",
       "    <tr>\n",
       "      <th>1245</th>\n",
       "      <td>5</td>\n",
       "      <td>varanasismartcity.gov.in/62d1f729edd3d2a1a090c...</td>\n",
       "      <td>24</td>\n",
       "      <td>29</td>\n",
       "      <td>229</td>\n",
       "      <td>2022-02-16T23:15:04+05:30</td>\n",
       "    </tr>\n",
       "    <tr>\n",
       "      <th>1246</th>\n",
       "      <td>0</td>\n",
       "      <td>varanasismartcity.gov.in/62d1f729edd3d2a1a090c...</td>\n",
       "      <td>0</td>\n",
       "      <td>0</td>\n",
       "      <td>240</td>\n",
       "      <td>2022-02-16T23:15:04+05:30</td>\n",
       "    </tr>\n",
       "    <tr>\n",
       "      <th>1247</th>\n",
       "      <td>13</td>\n",
       "      <td>varanasismartcity.gov.in/62d1f729edd3d2a1a090c...</td>\n",
       "      <td>0</td>\n",
       "      <td>13</td>\n",
       "      <td>241</td>\n",
       "      <td>2022-02-16T23:15:04+05:30</td>\n",
       "    </tr>\n",
       "    <tr>\n",
       "      <th>1248</th>\n",
       "      <td>1</td>\n",
       "      <td>varanasismartcity.gov.in/62d1f729edd3d2a1a090c...</td>\n",
       "      <td>15</td>\n",
       "      <td>16</td>\n",
       "      <td>242</td>\n",
       "      <td>2022-02-16T23:15:04+05:30</td>\n",
       "    </tr>\n",
       "    <tr>\n",
       "      <th>1249</th>\n",
       "      <td>4</td>\n",
       "      <td>varanasismartcity.gov.in/62d1f729edd3d2a1a090c...</td>\n",
       "      <td>21</td>\n",
       "      <td>25</td>\n",
       "      <td>243</td>\n",
       "      <td>2022-02-16T23:15:04+05:30</td>\n",
       "    </tr>\n",
       "  </tbody>\n",
       "</table>\n",
       "<p>1250 rows × 6 columns</p>\n",
       "</div>"
      ],
      "text/plain": [
       "      totalAbsent                                                 id  \\\n",
       "0               3  varanasismartcity.gov.in/62d1f729edd3d2a1a090c...   \n",
       "1              12  varanasismartcity.gov.in/62d1f729edd3d2a1a090c...   \n",
       "2               7  varanasismartcity.gov.in/62d1f729edd3d2a1a090c...   \n",
       "3               6  varanasismartcity.gov.in/62d1f729edd3d2a1a090c...   \n",
       "4              13  varanasismartcity.gov.in/62d1f729edd3d2a1a090c...   \n",
       "...           ...                                                ...   \n",
       "1245            5  varanasismartcity.gov.in/62d1f729edd3d2a1a090c...   \n",
       "1246            0  varanasismartcity.gov.in/62d1f729edd3d2a1a090c...   \n",
       "1247           13  varanasismartcity.gov.in/62d1f729edd3d2a1a090c...   \n",
       "1248            1  varanasismartcity.gov.in/62d1f729edd3d2a1a090c...   \n",
       "1249            4  varanasismartcity.gov.in/62d1f729edd3d2a1a090c...   \n",
       "\n",
       "      totalPresent  totalEmployee  wardNum        observationDateTime  \n",
       "0               42             45        3  2022-02-21T23:15:00+05:30  \n",
       "1               26             38        6  2022-02-21T23:15:01+05:30  \n",
       "2               31             38        7  2022-02-21T23:15:01+05:30  \n",
       "3               37             43        8  2022-02-21T23:15:01+05:30  \n",
       "4               40             53        9  2022-02-21T23:15:01+05:30  \n",
       "...            ...            ...      ...                        ...  \n",
       "1245            24             29      229  2022-02-16T23:15:04+05:30  \n",
       "1246             0              0      240  2022-02-16T23:15:04+05:30  \n",
       "1247             0             13      241  2022-02-16T23:15:04+05:30  \n",
       "1248            15             16      242  2022-02-16T23:15:04+05:30  \n",
       "1249            21             25      243  2022-02-16T23:15:04+05:30  \n",
       "\n",
       "[1250 rows x 6 columns]"
      ]
     },
     "execution_count": 5,
     "metadata": {},
     "output_type": "execute_result"
    }
   ],
   "source": [
    "itemid = \"varanasismartcity.gov.in/62d1f729edd3d2a1a090cb1c6c89356296963d55/rs.iudx.org.in/varanasi-swm-employees/employee-attendance\"\n",
    "fromDate = \"2022-02-15T00:00:00Z\"\n",
    "to = \"2022-02-25T00:00:00Z\"\n",
    "baseurl = \"https://rs.iudx.org.in/ngsi-ld/v1/temporal/entities\"\n",
    "emp = getData(itemid,\"private\",fromDate,to,baseurl)\n",
    "emp"
   ]
  },
  {
   "cell_type": "markdown",
   "id": "985afda5",
   "metadata": {},
   "source": [
    "#### 1.1) Histogram of numeric properties"
   ]
  },
  {
   "cell_type": "code",
   "execution_count": 6,
   "id": "0b413756",
   "metadata": {},
   "outputs": [
    {
     "data": {
      "text/plain": [
       "array([[<AxesSubplot:title={'center':'totalAbsent'}>,\n",
       "        <AxesSubplot:title={'center':'totalPresent'}>],\n",
       "       [<AxesSubplot:title={'center':'totalEmployee'}>,\n",
       "        <AxesSubplot:title={'center':'wardNum'}>]], dtype=object)"
      ]
     },
     "metadata": {},
     "output_type": "display_data"
    },
    {
     "data": {
      "image/png": "[encoded data removed]",
      "text/plain": [
       "<Figure size 432x288 with 4 Axes>"
      ]
     },
     "metadata": {
      "needs_background": "light"
     },
     "output_type": "display_data"
    }
   ],
   "source": [
    "display(emp.hist())"
   ]
  },
  {
   "cell_type": "markdown",
   "id": "d435d338",
   "metadata": {},
   "source": [
    "##### 1.2) Checking for duplicates"
   ]
  },
  {
   "cell_type": "code",
   "execution_count": 7,
   "id": "704a0ef2",
   "metadata": {},
   "outputs": [
    {
     "data": {
      "text/plain": [
       "'No Duplicated Found'"
      ]
     },
     "execution_count": 7,
     "metadata": {},
     "output_type": "execute_result"
    }
   ],
   "source": [
    "checkDuplicates(emp)"
   ]
  },
  {
   "cell_type": "code",
   "execution_count": 8,
   "id": "67b43ba9",
   "metadata": {},
   "outputs": [
    {
     "data": {
      "text/html": [
       "<div>\n",
       "<style scoped>\n",
       "    .dataframe tbody tr th:only-of-type {\n",
       "        vertical-align: middle;\n",
       "    }\n",
       "\n",
       "    .dataframe tbody tr th {\n",
       "        vertical-align: top;\n",
       "    }\n",
       "\n",
       "    .dataframe thead th {\n",
       "        text-align: right;\n",
       "    }\n",
       "</style>\n",
       "<table border=\"1\" class=\"dataframe\">\n",
       "  <thead>\n",
       "    <tr style=\"text-align: right;\">\n",
       "      <th></th>\n",
       "      <th>totalAbsent</th>\n",
       "      <th>totalPresent</th>\n",
       "      <th>totalEmployee</th>\n",
       "      <th>wardNum</th>\n",
       "      <th>observationDateTime</th>\n",
       "      <th>date</th>\n",
       "    </tr>\n",
       "  </thead>\n",
       "  <tbody>\n",
       "    <tr>\n",
       "      <th>0</th>\n",
       "      <td>3</td>\n",
       "      <td>42</td>\n",
       "      <td>45</td>\n",
       "      <td>3</td>\n",
       "      <td>2022-02-21 23:15:00+05:30</td>\n",
       "      <td>2022-02-21</td>\n",
       "    </tr>\n",
       "    <tr>\n",
       "      <th>1</th>\n",
       "      <td>12</td>\n",
       "      <td>26</td>\n",
       "      <td>38</td>\n",
       "      <td>6</td>\n",
       "      <td>2022-02-21 23:15:01+05:30</td>\n",
       "      <td>2022-02-21</td>\n",
       "    </tr>\n",
       "    <tr>\n",
       "      <th>2</th>\n",
       "      <td>7</td>\n",
       "      <td>31</td>\n",
       "      <td>38</td>\n",
       "      <td>7</td>\n",
       "      <td>2022-02-21 23:15:01+05:30</td>\n",
       "      <td>2022-02-21</td>\n",
       "    </tr>\n",
       "    <tr>\n",
       "      <th>3</th>\n",
       "      <td>6</td>\n",
       "      <td>37</td>\n",
       "      <td>43</td>\n",
       "      <td>8</td>\n",
       "      <td>2022-02-21 23:15:01+05:30</td>\n",
       "      <td>2022-02-21</td>\n",
       "    </tr>\n",
       "    <tr>\n",
       "      <th>4</th>\n",
       "      <td>13</td>\n",
       "      <td>40</td>\n",
       "      <td>53</td>\n",
       "      <td>9</td>\n",
       "      <td>2022-02-21 23:15:01+05:30</td>\n",
       "      <td>2022-02-21</td>\n",
       "    </tr>\n",
       "    <tr>\n",
       "      <th>...</th>\n",
       "      <td>...</td>\n",
       "      <td>...</td>\n",
       "      <td>...</td>\n",
       "      <td>...</td>\n",
       "      <td>...</td>\n",
       "      <td>...</td>\n",
       "    </tr>\n",
       "    <tr>\n",
       "      <th>1245</th>\n",
       "      <td>5</td>\n",
       "      <td>24</td>\n",
       "      <td>29</td>\n",
       "      <td>229</td>\n",
       "      <td>2022-02-16 23:15:04+05:30</td>\n",
       "      <td>2022-02-16</td>\n",
       "    </tr>\n",
       "    <tr>\n",
       "      <th>1246</th>\n",
       "      <td>0</td>\n",
       "      <td>0</td>\n",
       "      <td>0</td>\n",
       "      <td>240</td>\n",
       "      <td>2022-02-16 23:15:04+05:30</td>\n",
       "      <td>2022-02-16</td>\n",
       "    </tr>\n",
       "    <tr>\n",
       "      <th>1247</th>\n",
       "      <td>13</td>\n",
       "      <td>0</td>\n",
       "      <td>13</td>\n",
       "      <td>241</td>\n",
       "      <td>2022-02-16 23:15:04+05:30</td>\n",
       "      <td>2022-02-16</td>\n",
       "    </tr>\n",
       "    <tr>\n",
       "      <th>1248</th>\n",
       "      <td>1</td>\n",
       "      <td>15</td>\n",
       "      <td>16</td>\n",
       "      <td>242</td>\n",
       "      <td>2022-02-16 23:15:04+05:30</td>\n",
       "      <td>2022-02-16</td>\n",
       "    </tr>\n",
       "    <tr>\n",
       "      <th>1249</th>\n",
       "      <td>4</td>\n",
       "      <td>21</td>\n",
       "      <td>25</td>\n",
       "      <td>243</td>\n",
       "      <td>2022-02-16 23:15:04+05:30</td>\n",
       "      <td>2022-02-16</td>\n",
       "    </tr>\n",
       "  </tbody>\n",
       "</table>\n",
       "<p>1250 rows × 6 columns</p>\n",
       "</div>"
      ],
      "text/plain": [
       "      totalAbsent  totalPresent  totalEmployee  wardNum  \\\n",
       "0               3            42             45        3   \n",
       "1              12            26             38        6   \n",
       "2               7            31             38        7   \n",
       "3               6            37             43        8   \n",
       "4              13            40             53        9   \n",
       "...           ...           ...            ...      ...   \n",
       "1245            5            24             29      229   \n",
       "1246            0             0              0      240   \n",
       "1247           13             0             13      241   \n",
       "1248            1            15             16      242   \n",
       "1249            4            21             25      243   \n",
       "\n",
       "           observationDateTime        date  \n",
       "0    2022-02-21 23:15:00+05:30  2022-02-21  \n",
       "1    2022-02-21 23:15:01+05:30  2022-02-21  \n",
       "2    2022-02-21 23:15:01+05:30  2022-02-21  \n",
       "3    2022-02-21 23:15:01+05:30  2022-02-21  \n",
       "4    2022-02-21 23:15:01+05:30  2022-02-21  \n",
       "...                        ...         ...  \n",
       "1245 2022-02-16 23:15:04+05:30  2022-02-16  \n",
       "1246 2022-02-16 23:15:04+05:30  2022-02-16  \n",
       "1247 2022-02-16 23:15:04+05:30  2022-02-16  \n",
       "1248 2022-02-16 23:15:04+05:30  2022-02-16  \n",
       "1249 2022-02-16 23:15:04+05:30  2022-02-16  \n",
       "\n",
       "[1250 rows x 6 columns]"
      ]
     },
     "execution_count": 8,
     "metadata": {},
     "output_type": "execute_result"
    }
   ],
   "source": [
    "emp.drop([\"id\"],axis=1,inplace=True)\n",
    "# emp = emp.sort_values(['observationDateTime'])\n",
    "emp[\"observationDateTime\"]=pd.to_datetime(emp[\"observationDateTime\"],errors ='coerce')\n",
    "emp[\"date\"] = emp[\"observationDateTime\"].dt.date\n",
    "emp"
   ]
  },
  {
   "cell_type": "markdown",
   "id": "26d0c369",
   "metadata": {},
   "source": [
    "##### 1.3) Viewing missing values and data types"
   ]
  },
  {
   "cell_type": "code",
   "execution_count": 9,
   "id": "35bf0c71",
   "metadata": {},
   "outputs": [
    {
     "name": "stdout",
     "output_type": "stream",
     "text": [
      "<class 'pandas.core.frame.DataFrame'>\n",
      "RangeIndex: 1250 entries, 0 to 1249\n",
      "Data columns (total 6 columns):\n",
      " #   Column               Non-Null Count  Dtype                                \n",
      "---  ------               --------------  -----                                \n",
      " 0   totalAbsent          1250 non-null   int64                                \n",
      " 1   totalPresent         1250 non-null   int64                                \n",
      " 2   totalEmployee        1250 non-null   int64                                \n",
      " 3   wardNum              1250 non-null   int64                                \n",
      " 4   observationDateTime  1250 non-null   datetime64[ns, pytz.FixedOffset(330)]\n",
      " 5   date                 1250 non-null   object                               \n",
      "dtypes: datetime64[ns, pytz.FixedOffset(330)](1), int64(4), object(1)\n",
      "memory usage: 58.7+ KB\n"
     ]
    }
   ],
   "source": [
    "emp.replace('',np.nan,inplace=True)\n",
    "emp.info()"
   ]
  },
  {
   "cell_type": "markdown",
   "id": "c8db0fbf",
   "metadata": {},
   "source": [
    "##### 1.4) Viewing the total wards present"
   ]
  },
  {
   "cell_type": "code",
   "execution_count": 10,
   "id": "8437baac",
   "metadata": {},
   "outputs": [
    {
     "name": "stdout",
     "output_type": "stream",
     "text": [
      "All ward numbers : \n",
      " [  1   2   3   4   5   6   7   8   9  10  11  12  13  14  15  16  17  18\n",
      "  19  20  21  22  23  24  25  26  27  28  29  30  31  32  33  34  35  36\n",
      "  37  38  39  40  41  42  43  44  45  46  47  48  49  50  51  52  53  54\n",
      "  55  56  57  58  59  60  61  62  63  64  65  66  67  68  69  70  71  72\n",
      "  73  74  75  76  77  78  79  80  81  82  83  84  85  86  87  88  89  90\n",
      " 104 114 201 202 203 204 205 206 207 208 209 210 211 212 213 214 215 216\n",
      " 217 218 219 220 221 222 223 224 225 226 227 228 229 240 241 242 243] \n",
      " \n",
      "Total ward count :  125\n"
     ]
    }
   ],
   "source": [
    "wardNums = emp['wardNum'].unique()\n",
    "wardNums.sort(axis=0)\n",
    "emp[\"wardNum\"] = emp[\"wardNum\"].astype('object')\n",
    "print(\"All ward numbers : \\n\",wardNums,\"\\n \")\n",
    "print(\"Total ward count : \",emp['wardNum'].nunique())"
   ]
  },
  {
   "cell_type": "markdown",
   "id": "53a3e788",
   "metadata": {},
   "source": [
    "##### 1.5) Calculating and visualising the percentage of employees absent in each ward"
   ]
  },
  {
   "cell_type": "code",
   "execution_count": 11,
   "id": "9d1325d7",
   "metadata": {},
   "outputs": [
    {
     "data": {
      "text/html": [
       "<div>\n",
       "<style scoped>\n",
       "    .dataframe tbody tr th:only-of-type {\n",
       "        vertical-align: middle;\n",
       "    }\n",
       "\n",
       "    .dataframe tbody tr th {\n",
       "        vertical-align: top;\n",
       "    }\n",
       "\n",
       "    .dataframe thead th {\n",
       "        text-align: right;\n",
       "    }\n",
       "</style>\n",
       "<table border=\"1\" class=\"dataframe\">\n",
       "  <thead>\n",
       "    <tr style=\"text-align: right;\">\n",
       "      <th></th>\n",
       "      <th>date</th>\n",
       "      <th>observationDateTime</th>\n",
       "      <th>wardNum</th>\n",
       "      <th>totalEmployee</th>\n",
       "      <th>totalAbsent</th>\n",
       "      <th>totalPresent</th>\n",
       "      <th>percent_absent</th>\n",
       "    </tr>\n",
       "  </thead>\n",
       "  <tbody>\n",
       "    <tr>\n",
       "      <th>0</th>\n",
       "      <td>2022-02-15</td>\n",
       "      <td>2022-02-15 23:15:00+05:30</td>\n",
       "      <td>1</td>\n",
       "      <td>60</td>\n",
       "      <td>3</td>\n",
       "      <td>57</td>\n",
       "      <td>5.00</td>\n",
       "    </tr>\n",
       "    <tr>\n",
       "      <th>1</th>\n",
       "      <td>2022-02-15</td>\n",
       "      <td>2022-02-15 23:15:00+05:30</td>\n",
       "      <td>2</td>\n",
       "      <td>52</td>\n",
       "      <td>8</td>\n",
       "      <td>44</td>\n",
       "      <td>15.38</td>\n",
       "    </tr>\n",
       "    <tr>\n",
       "      <th>2</th>\n",
       "      <td>2022-02-15</td>\n",
       "      <td>2022-02-15 23:15:00+05:30</td>\n",
       "      <td>3</td>\n",
       "      <td>45</td>\n",
       "      <td>6</td>\n",
       "      <td>39</td>\n",
       "      <td>13.33</td>\n",
       "    </tr>\n",
       "    <tr>\n",
       "      <th>3</th>\n",
       "      <td>2022-02-15</td>\n",
       "      <td>2022-02-15 23:15:00+05:30</td>\n",
       "      <td>4</td>\n",
       "      <td>35</td>\n",
       "      <td>0</td>\n",
       "      <td>35</td>\n",
       "      <td>0.00</td>\n",
       "    </tr>\n",
       "    <tr>\n",
       "      <th>4</th>\n",
       "      <td>2022-02-15</td>\n",
       "      <td>2022-02-15 23:15:00+05:30</td>\n",
       "      <td>5</td>\n",
       "      <td>37</td>\n",
       "      <td>37</td>\n",
       "      <td>0</td>\n",
       "      <td>100.00</td>\n",
       "    </tr>\n",
       "    <tr>\n",
       "      <th>...</th>\n",
       "      <td>...</td>\n",
       "      <td>...</td>\n",
       "      <td>...</td>\n",
       "      <td>...</td>\n",
       "      <td>...</td>\n",
       "      <td>...</td>\n",
       "      <td>...</td>\n",
       "    </tr>\n",
       "    <tr>\n",
       "      <th>1245</th>\n",
       "      <td>2022-02-24</td>\n",
       "      <td>2022-02-24 23:15:03+05:30</td>\n",
       "      <td>229</td>\n",
       "      <td>29</td>\n",
       "      <td>4</td>\n",
       "      <td>25</td>\n",
       "      <td>13.79</td>\n",
       "    </tr>\n",
       "    <tr>\n",
       "      <th>1246</th>\n",
       "      <td>2022-02-24</td>\n",
       "      <td>2022-02-24 23:15:03+05:30</td>\n",
       "      <td>240</td>\n",
       "      <td>0</td>\n",
       "      <td>0</td>\n",
       "      <td>0</td>\n",
       "      <td>0.00</td>\n",
       "    </tr>\n",
       "    <tr>\n",
       "      <th>1247</th>\n",
       "      <td>2022-02-24</td>\n",
       "      <td>2022-02-24 23:15:03+05:30</td>\n",
       "      <td>241</td>\n",
       "      <td>13</td>\n",
       "      <td>13</td>\n",
       "      <td>0</td>\n",
       "      <td>100.00</td>\n",
       "    </tr>\n",
       "    <tr>\n",
       "      <th>1248</th>\n",
       "      <td>2022-02-24</td>\n",
       "      <td>2022-02-24 23:15:03+05:30</td>\n",
       "      <td>242</td>\n",
       "      <td>16</td>\n",
       "      <td>3</td>\n",
       "      <td>13</td>\n",
       "      <td>18.75</td>\n",
       "    </tr>\n",
       "    <tr>\n",
       "      <th>1249</th>\n",
       "      <td>2022-02-24</td>\n",
       "      <td>2022-02-24 23:15:03+05:30</td>\n",
       "      <td>243</td>\n",
       "      <td>24</td>\n",
       "      <td>2</td>\n",
       "      <td>22</td>\n",
       "      <td>8.33</td>\n",
       "    </tr>\n",
       "  </tbody>\n",
       "</table>\n",
       "<p>1250 rows × 7 columns</p>\n",
       "</div>"
      ],
      "text/plain": [
       "            date       observationDateTime  wardNum  totalEmployee  \\\n",
       "0     2022-02-15 2022-02-15 23:15:00+05:30        1             60   \n",
       "1     2022-02-15 2022-02-15 23:15:00+05:30        2             52   \n",
       "2     2022-02-15 2022-02-15 23:15:00+05:30        3             45   \n",
       "3     2022-02-15 2022-02-15 23:15:00+05:30        4             35   \n",
       "4     2022-02-15 2022-02-15 23:15:00+05:30        5             37   \n",
       "...          ...                       ...      ...            ...   \n",
       "1245  2022-02-24 2022-02-24 23:15:03+05:30      229             29   \n",
       "1246  2022-02-24 2022-02-24 23:15:03+05:30      240              0   \n",
       "1247  2022-02-24 2022-02-24 23:15:03+05:30      241             13   \n",
       "1248  2022-02-24 2022-02-24 23:15:03+05:30      242             16   \n",
       "1249  2022-02-24 2022-02-24 23:15:03+05:30      243             24   \n",
       "\n",
       "      totalAbsent  totalPresent  percent_absent  \n",
       "0               3            57            5.00  \n",
       "1               8            44           15.38  \n",
       "2               6            39           13.33  \n",
       "3               0            35            0.00  \n",
       "4              37             0          100.00  \n",
       "...           ...           ...             ...  \n",
       "1245            4            25           13.79  \n",
       "1246            0             0            0.00  \n",
       "1247           13             0          100.00  \n",
       "1248            3            13           18.75  \n",
       "1249            2            22            8.33  \n",
       "\n",
       "[1250 rows x 7 columns]"
      ]
     },
     "execution_count": 11,
     "metadata": {},
     "output_type": "execute_result"
    }
   ],
   "source": [
    "emp[\"percent_absent\"] = round((emp['totalAbsent']/emp['totalEmployee'])*100,2)\n",
    "emp = emp.groupby(['date','observationDateTime','wardNum'])[['totalEmployee', 'totalAbsent',\n",
    "       'totalPresent','percent_absent']].sum()\n",
    "# display(emp.head(100))\n",
    "emp.reset_index(inplace=True)\n",
    "emp\n"
   ]
  },
  {
   "cell_type": "code",
   "execution_count": 12,
   "id": "e7ae4dae",
   "metadata": {},
   "outputs": [
    {
     "data": {
      "text/plain": [
       "<matplotlib.legend.Legend at 0x7fe87aa8eac0>"
      ]
     },
     "execution_count": 12,
     "metadata": {},
     "output_type": "execute_result"
    },
    {
     "data": {
      "image/png": "[encoded data removed]",
      "text/plain": [
       "<Figure size 1440x360 with 1 Axes>"
      ]
     },
     "metadata": {
      "needs_background": "light"
     },
     "output_type": "display_data"
    }
   ],
   "source": [
    "fig,ax1=plt.subplots(figsize=(20,5))\n",
    "plt.xticks(wardNums,rotation=90,size=7)\n",
    "sns.barplot(x=\"wardNum\",y=\"percent_absent\",hue=\"date\",data = emp,palette = \"coolwarm_r\",ax=ax1 )\n",
    "plt.title(\" Ward-wise employee absent percentage\")\n",
    "plt.legend(bbox_to_anchor=(1.02, 1), loc='upper left', borderaxespad=0)"
   ]
  },
  {
   "cell_type": "markdown",
   "id": "358129ab",
   "metadata": {},
   "source": [
    "##### 1.6) Day-wise absentism"
   ]
  },
  {
   "cell_type": "code",
   "execution_count": 13,
   "id": "c7c48646",
   "metadata": {},
   "outputs": [
    {
     "data": {
      "text/plain": [
       "(array([19038., 19039., 19040., 19041., 19042., 19043., 19044., 19045.,\n",
       "        19046., 19047.]),\n",
       " [Text(0, 0, ''),\n",
       "  Text(0, 0, ''),\n",
       "  Text(0, 0, ''),\n",
       "  Text(0, 0, ''),\n",
       "  Text(0, 0, ''),\n",
       "  Text(0, 0, ''),\n",
       "  Text(0, 0, ''),\n",
       "  Text(0, 0, ''),\n",
       "  Text(0, 0, ''),\n",
       "  Text(0, 0, '')])"
      ]
     },
     "execution_count": 13,
     "metadata": {},
     "output_type": "execute_result"
    },
    {
     "data": {
      "image/png": "[encoded data removed]",
      "text/plain": [
       "<Figure size 432x288 with 1 Axes>"
      ]
     },
     "metadata": {
      "needs_background": "light"
     },
     "output_type": "display_data"
    }
   ],
   "source": [
    "sns.lineplot(x=\"date\",y=\"percent_absent\",data = emp,ci=None)\n",
    "plt.xticks(rotation=90)"
   ]
  },
  {
   "cell_type": "markdown",
   "id": "58cbb37c",
   "metadata": {},
   "source": [
    "##### 1.6) Deducing the non functional wards"
   ]
  },
  {
   "cell_type": "code",
   "execution_count": 14,
   "id": "5032f162",
   "metadata": {},
   "outputs": [
    {
     "data": {
      "text/html": [
       "<div>\n",
       "<style scoped>\n",
       "    .dataframe tbody tr th:only-of-type {\n",
       "        vertical-align: middle;\n",
       "    }\n",
       "\n",
       "    .dataframe tbody tr th {\n",
       "        vertical-align: top;\n",
       "    }\n",
       "\n",
       "    .dataframe thead th {\n",
       "        text-align: right;\n",
       "    }\n",
       "</style>\n",
       "<table border=\"1\" class=\"dataframe\">\n",
       "  <thead>\n",
       "    <tr style=\"text-align: right;\">\n",
       "      <th></th>\n",
       "      <th>date</th>\n",
       "      <th>observationDateTime</th>\n",
       "      <th>wardNum</th>\n",
       "      <th>totalEmployee</th>\n",
       "      <th>totalAbsent</th>\n",
       "      <th>totalPresent</th>\n",
       "      <th>percent_absent</th>\n",
       "    </tr>\n",
       "  </thead>\n",
       "  <tbody>\n",
       "    <tr>\n",
       "      <th>4</th>\n",
       "      <td>2022-02-15</td>\n",
       "      <td>2022-02-15 23:15:00+05:30</td>\n",
       "      <td>5</td>\n",
       "      <td>37</td>\n",
       "      <td>37</td>\n",
       "      <td>0</td>\n",
       "      <td>100.0</td>\n",
       "    </tr>\n",
       "    <tr>\n",
       "      <th>56</th>\n",
       "      <td>2022-02-15</td>\n",
       "      <td>2022-02-15 23:15:02+05:30</td>\n",
       "      <td>57</td>\n",
       "      <td>39</td>\n",
       "      <td>39</td>\n",
       "      <td>0</td>\n",
       "      <td>100.0</td>\n",
       "    </tr>\n",
       "    <tr>\n",
       "      <th>79</th>\n",
       "      <td>2022-02-15</td>\n",
       "      <td>2022-02-15 23:15:02+05:30</td>\n",
       "      <td>80</td>\n",
       "      <td>32</td>\n",
       "      <td>32</td>\n",
       "      <td>0</td>\n",
       "      <td>100.0</td>\n",
       "    </tr>\n",
       "    <tr>\n",
       "      <th>88</th>\n",
       "      <td>2022-02-15</td>\n",
       "      <td>2022-02-15 23:15:02+05:30</td>\n",
       "      <td>89</td>\n",
       "      <td>14</td>\n",
       "      <td>14</td>\n",
       "      <td>0</td>\n",
       "      <td>100.0</td>\n",
       "    </tr>\n",
       "    <tr>\n",
       "      <th>92</th>\n",
       "      <td>2022-02-15</td>\n",
       "      <td>2022-02-15 23:15:03+05:30</td>\n",
       "      <td>201</td>\n",
       "      <td>183</td>\n",
       "      <td>183</td>\n",
       "      <td>0</td>\n",
       "      <td>100.0</td>\n",
       "    </tr>\n",
       "    <tr>\n",
       "      <th>...</th>\n",
       "      <td>...</td>\n",
       "      <td>...</td>\n",
       "      <td>...</td>\n",
       "      <td>...</td>\n",
       "      <td>...</td>\n",
       "      <td>...</td>\n",
       "      <td>...</td>\n",
       "    </tr>\n",
       "    <tr>\n",
       "      <th>1181</th>\n",
       "      <td>2022-02-24</td>\n",
       "      <td>2022-02-24 23:15:02+05:30</td>\n",
       "      <td>57</td>\n",
       "      <td>39</td>\n",
       "      <td>39</td>\n",
       "      <td>0</td>\n",
       "      <td>100.0</td>\n",
       "    </tr>\n",
       "    <tr>\n",
       "      <th>1213</th>\n",
       "      <td>2022-02-24</td>\n",
       "      <td>2022-02-24 23:15:03+05:30</td>\n",
       "      <td>89</td>\n",
       "      <td>13</td>\n",
       "      <td>13</td>\n",
       "      <td>0</td>\n",
       "      <td>100.0</td>\n",
       "    </tr>\n",
       "    <tr>\n",
       "      <th>1217</th>\n",
       "      <td>2022-02-24</td>\n",
       "      <td>2022-02-24 23:15:03+05:30</td>\n",
       "      <td>201</td>\n",
       "      <td>183</td>\n",
       "      <td>183</td>\n",
       "      <td>0</td>\n",
       "      <td>100.0</td>\n",
       "    </tr>\n",
       "    <tr>\n",
       "      <th>1240</th>\n",
       "      <td>2022-02-24</td>\n",
       "      <td>2022-02-24 23:15:03+05:30</td>\n",
       "      <td>224</td>\n",
       "      <td>10</td>\n",
       "      <td>10</td>\n",
       "      <td>0</td>\n",
       "      <td>100.0</td>\n",
       "    </tr>\n",
       "    <tr>\n",
       "      <th>1247</th>\n",
       "      <td>2022-02-24</td>\n",
       "      <td>2022-02-24 23:15:03+05:30</td>\n",
       "      <td>241</td>\n",
       "      <td>13</td>\n",
       "      <td>13</td>\n",
       "      <td>0</td>\n",
       "      <td>100.0</td>\n",
       "    </tr>\n",
       "  </tbody>\n",
       "</table>\n",
       "<p>88 rows × 7 columns</p>\n",
       "</div>"
      ],
      "text/plain": [
       "            date       observationDateTime  wardNum  totalEmployee  \\\n",
       "4     2022-02-15 2022-02-15 23:15:00+05:30        5             37   \n",
       "56    2022-02-15 2022-02-15 23:15:02+05:30       57             39   \n",
       "79    2022-02-15 2022-02-15 23:15:02+05:30       80             32   \n",
       "88    2022-02-15 2022-02-15 23:15:02+05:30       89             14   \n",
       "92    2022-02-15 2022-02-15 23:15:03+05:30      201            183   \n",
       "...          ...                       ...      ...            ...   \n",
       "1181  2022-02-24 2022-02-24 23:15:02+05:30       57             39   \n",
       "1213  2022-02-24 2022-02-24 23:15:03+05:30       89             13   \n",
       "1217  2022-02-24 2022-02-24 23:15:03+05:30      201            183   \n",
       "1240  2022-02-24 2022-02-24 23:15:03+05:30      224             10   \n",
       "1247  2022-02-24 2022-02-24 23:15:03+05:30      241             13   \n",
       "\n",
       "      totalAbsent  totalPresent  percent_absent  \n",
       "4              37             0           100.0  \n",
       "56             39             0           100.0  \n",
       "79             32             0           100.0  \n",
       "88             14             0           100.0  \n",
       "92            183             0           100.0  \n",
       "...           ...           ...             ...  \n",
       "1181           39             0           100.0  \n",
       "1213           13             0           100.0  \n",
       "1217          183             0           100.0  \n",
       "1240           10             0           100.0  \n",
       "1247           13             0           100.0  \n",
       "\n",
       "[88 rows x 7 columns]"
      ]
     },
     "metadata": {},
     "output_type": "display_data"
    }
   ],
   "source": [
    "display(emp[emp[\"percent_absent\"]==100.00])\n",
    "non_functional_wards = emp[emp[\"percent_absent\"]==100.00]"
   ]
  },
  {
   "cell_type": "code",
   "execution_count": 15,
   "id": "16c9bc19",
   "metadata": {},
   "outputs": [
    {
     "name": "stdout",
     "output_type": "stream",
     "text": [
      "Ward Number of non-functional wards :  [5, 57, 80, 89, 201, 202, 224, 241, 65, 223, 60, 4, 43, 66, 73, 86, 206, 225, 243, 41, 72, 221]\n"
     ]
    }
   ],
   "source": [
    "print( \"Ward Number of non-functional wards : \",list(non_functional_wards[\"wardNum\"].unique()))"
   ]
  },
  {
   "cell_type": "markdown",
   "id": "09c691a3",
   "metadata": {},
   "source": [
    "## 2) Employee Details Dataset  (Static)"
   ]
  },
  {
   "cell_type": "code",
   "execution_count": 16,
   "id": "9a52b7ef",
   "metadata": {},
   "outputs": [
    {
     "data": {
      "text/html": [
       "<div>\n",
       "<style scoped>\n",
       "    .dataframe tbody tr th:only-of-type {\n",
       "        vertical-align: middle;\n",
       "    }\n",
       "\n",
       "    .dataframe tbody tr th {\n",
       "        vertical-align: top;\n",
       "    }\n",
       "\n",
       "    .dataframe thead th {\n",
       "        text-align: right;\n",
       "    }\n",
       "</style>\n",
       "<table border=\"1\" class=\"dataframe\">\n",
       "  <thead>\n",
       "    <tr style=\"text-align: right;\">\n",
       "      <th></th>\n",
       "      <th>id</th>\n",
       "      <th>serviceCompany</th>\n",
       "      <th>employmentUnit</th>\n",
       "      <th>department</th>\n",
       "      <th>employeeDesignation</th>\n",
       "      <th>employmentType</th>\n",
       "      <th>employeeID</th>\n",
       "      <th>gender</th>\n",
       "      <th>shiftOfOperation</th>\n",
       "      <th>wardNum</th>\n",
       "    </tr>\n",
       "  </thead>\n",
       "  <tbody>\n",
       "    <tr>\n",
       "      <th>0</th>\n",
       "      <td>varanasismartcity.gov.in/62d1f729edd3d2a1a090c...</td>\n",
       "      <td>VNN</td>\n",
       "      <td>Sweeping</td>\n",
       "      <td>health</td>\n",
       "      <td>Sweeper</td>\n",
       "      <td>Contractual New</td>\n",
       "      <td>30174</td>\n",
       "      <td>Male</td>\n",
       "      <td>Day</td>\n",
       "      <td>78</td>\n",
       "    </tr>\n",
       "    <tr>\n",
       "      <th>1</th>\n",
       "      <td>varanasismartcity.gov.in/62d1f729edd3d2a1a090c...</td>\n",
       "      <td>VNN</td>\n",
       "      <td>Sweeping</td>\n",
       "      <td>health</td>\n",
       "      <td>Sweeper</td>\n",
       "      <td>Outsourcing</td>\n",
       "      <td>52071</td>\n",
       "      <td>Male</td>\n",
       "      <td>Day</td>\n",
       "      <td>30</td>\n",
       "    </tr>\n",
       "    <tr>\n",
       "      <th>2</th>\n",
       "      <td>varanasismartcity.gov.in/62d1f729edd3d2a1a090c...</td>\n",
       "      <td>VNN</td>\n",
       "      <td>Sweeping</td>\n",
       "      <td>health</td>\n",
       "      <td>Sweeper</td>\n",
       "      <td>Contractual New</td>\n",
       "      <td>30533</td>\n",
       "      <td>Male</td>\n",
       "      <td>Day</td>\n",
       "      <td>22</td>\n",
       "    </tr>\n",
       "    <tr>\n",
       "      <th>3</th>\n",
       "      <td>varanasismartcity.gov.in/62d1f729edd3d2a1a090c...</td>\n",
       "      <td>VNN</td>\n",
       "      <td>Sweeping</td>\n",
       "      <td>health</td>\n",
       "      <td>Sweeper</td>\n",
       "      <td>Contractual New</td>\n",
       "      <td>30537</td>\n",
       "      <td>Male</td>\n",
       "      <td>Day</td>\n",
       "      <td>1</td>\n",
       "    </tr>\n",
       "    <tr>\n",
       "      <th>4</th>\n",
       "      <td>varanasismartcity.gov.in/62d1f729edd3d2a1a090c...</td>\n",
       "      <td>VNN</td>\n",
       "      <td>Sweeping</td>\n",
       "      <td>health</td>\n",
       "      <td>Sweeper</td>\n",
       "      <td>Contractual New</td>\n",
       "      <td>30045</td>\n",
       "      <td>Female</td>\n",
       "      <td>Day</td>\n",
       "      <td>43</td>\n",
       "    </tr>\n",
       "    <tr>\n",
       "      <th>...</th>\n",
       "      <td>...</td>\n",
       "      <td>...</td>\n",
       "      <td>...</td>\n",
       "      <td>...</td>\n",
       "      <td>...</td>\n",
       "      <td>...</td>\n",
       "      <td>...</td>\n",
       "      <td>...</td>\n",
       "      <td>...</td>\n",
       "      <td>...</td>\n",
       "    </tr>\n",
       "    <tr>\n",
       "      <th>4031</th>\n",
       "      <td>varanasismartcity.gov.in/62d1f729edd3d2a1a090c...</td>\n",
       "      <td>VNN</td>\n",
       "      <td>Sweeping</td>\n",
       "      <td>health</td>\n",
       "      <td>Sweeper</td>\n",
       "      <td>Regular</td>\n",
       "      <td>85168602</td>\n",
       "      <td>Male</td>\n",
       "      <td>Day</td>\n",
       "      <td>87</td>\n",
       "    </tr>\n",
       "    <tr>\n",
       "      <th>4032</th>\n",
       "      <td>varanasismartcity.gov.in/62d1f729edd3d2a1a090c...</td>\n",
       "      <td>VNN</td>\n",
       "      <td>Drainage</td>\n",
       "      <td>health</td>\n",
       "      <td>Safai Meth</td>\n",
       "      <td>Contractual New</td>\n",
       "      <td>30333</td>\n",
       "      <td>Male</td>\n",
       "      <td>Day</td>\n",
       "      <td>202</td>\n",
       "    </tr>\n",
       "    <tr>\n",
       "      <th>4033</th>\n",
       "      <td>varanasismartcity.gov.in/62d1f729edd3d2a1a090c...</td>\n",
       "      <td>VNN</td>\n",
       "      <td>Sweeping</td>\n",
       "      <td>Health</td>\n",
       "      <td>Sweeper</td>\n",
       "      <td>Outsourcing</td>\n",
       "      <td>18305</td>\n",
       "      <td>Male</td>\n",
       "      <td>Day</td>\n",
       "      <td>71</td>\n",
       "    </tr>\n",
       "    <tr>\n",
       "      <th>4034</th>\n",
       "      <td>varanasismartcity.gov.in/62d1f729edd3d2a1a090c...</td>\n",
       "      <td>VNN</td>\n",
       "      <td>Sweeping</td>\n",
       "      <td>health</td>\n",
       "      <td>Sweeper</td>\n",
       "      <td>Contractual New</td>\n",
       "      <td>6012120</td>\n",
       "      <td>Male</td>\n",
       "      <td>Day</td>\n",
       "      <td>35</td>\n",
       "    </tr>\n",
       "    <tr>\n",
       "      <th>4035</th>\n",
       "      <td>varanasismartcity.gov.in/62d1f729edd3d2a1a090c...</td>\n",
       "      <td>VNN</td>\n",
       "      <td>Drainage</td>\n",
       "      <td>health</td>\n",
       "      <td>Cleaner</td>\n",
       "      <td>Regular</td>\n",
       "      <td>82826066</td>\n",
       "      <td>Male</td>\n",
       "      <td>Day</td>\n",
       "      <td>243</td>\n",
       "    </tr>\n",
       "  </tbody>\n",
       "</table>\n",
       "<p>4036 rows × 10 columns</p>\n",
       "</div>"
      ],
      "text/plain": [
       "                                                     id serviceCompany  \\\n",
       "0     varanasismartcity.gov.in/62d1f729edd3d2a1a090c...            VNN   \n",
       "1     varanasismartcity.gov.in/62d1f729edd3d2a1a090c...            VNN   \n",
       "2     varanasismartcity.gov.in/62d1f729edd3d2a1a090c...            VNN   \n",
       "3     varanasismartcity.gov.in/62d1f729edd3d2a1a090c...            VNN   \n",
       "4     varanasismartcity.gov.in/62d1f729edd3d2a1a090c...            VNN   \n",
       "...                                                 ...            ...   \n",
       "4031  varanasismartcity.gov.in/62d1f729edd3d2a1a090c...            VNN   \n",
       "4032  varanasismartcity.gov.in/62d1f729edd3d2a1a090c...            VNN   \n",
       "4033  varanasismartcity.gov.in/62d1f729edd3d2a1a090c...            VNN   \n",
       "4034  varanasismartcity.gov.in/62d1f729edd3d2a1a090c...            VNN   \n",
       "4035  varanasismartcity.gov.in/62d1f729edd3d2a1a090c...            VNN   \n",
       "\n",
       "     employmentUnit department employeeDesignation   employmentType  \\\n",
       "0          Sweeping     health             Sweeper  Contractual New   \n",
       "1          Sweeping     health             Sweeper      Outsourcing   \n",
       "2          Sweeping     health             Sweeper  Contractual New   \n",
       "3          Sweeping     health             Sweeper  Contractual New   \n",
       "4          Sweeping     health             Sweeper  Contractual New   \n",
       "...             ...        ...                 ...              ...   \n",
       "4031       Sweeping     health             Sweeper          Regular   \n",
       "4032       Drainage     health          Safai Meth  Contractual New   \n",
       "4033       Sweeping     Health             Sweeper      Outsourcing   \n",
       "4034       Sweeping     health             Sweeper  Contractual New   \n",
       "4035       Drainage     health             Cleaner          Regular   \n",
       "\n",
       "      employeeID  gender shiftOfOperation  wardNum  \n",
       "0          30174    Male              Day       78  \n",
       "1          52071    Male              Day       30  \n",
       "2          30533    Male              Day       22  \n",
       "3          30537    Male              Day        1  \n",
       "4          30045  Female              Day       43  \n",
       "...          ...     ...              ...      ...  \n",
       "4031    85168602    Male              Day       87  \n",
       "4032       30333    Male              Day      202  \n",
       "4033       18305    Male              Day       71  \n",
       "4034     6012120    Male              Day       35  \n",
       "4035    82826066    Male              Day      243  \n",
       "\n",
       "[4036 rows x 10 columns]"
      ]
     },
     "execution_count": 16,
     "metadata": {},
     "output_type": "execute_result"
    }
   ],
   "source": [
    "staticEmp = pd.read_json(\"static-emp-info.json\")\n",
    "# staticEmp.drop([\"id\"],axis=1,inplace=True)\n",
    "staticEmp\n"
   ]
  },
  {
   "cell_type": "markdown",
   "id": "4b1694df",
   "metadata": {},
   "source": [
    "##### 2.1) Viewing missing values count and data types"
   ]
  },
  {
   "cell_type": "code",
   "execution_count": 17,
   "id": "a32a2d51",
   "metadata": {},
   "outputs": [
    {
     "name": "stdout",
     "output_type": "stream",
     "text": [
      "<class 'pandas.core.frame.DataFrame'>\n",
      "RangeIndex: 4036 entries, 0 to 4035\n",
      "Data columns (total 10 columns):\n",
      " #   Column               Non-Null Count  Dtype \n",
      "---  ------               --------------  ----- \n",
      " 0   id                   4036 non-null   object\n",
      " 1   serviceCompany       4035 non-null   object\n",
      " 2   employmentUnit       3459 non-null   object\n",
      " 3   department           3982 non-null   object\n",
      " 4   employeeDesignation  4007 non-null   object\n",
      " 5   employmentType       4033 non-null   object\n",
      " 6   employeeID           4036 non-null   int64 \n",
      " 7   gender               3620 non-null   object\n",
      " 8   shiftOfOperation     4027 non-null   object\n",
      " 9   wardNum              4036 non-null   int64 \n",
      "dtypes: int64(2), object(8)\n",
      "memory usage: 315.4+ KB\n"
     ]
    }
   ],
   "source": [
    "staticEmp.replace( '',np.nan,inplace=True)\n",
    "staticEmp.info()"
   ]
  },
  {
   "cell_type": "markdown",
   "id": "e96f0220",
   "metadata": {},
   "source": [
    "##### 2.2) Viewing ward count from the dataset"
   ]
  },
  {
   "cell_type": "code",
   "execution_count": 18,
   "id": "b7150b60",
   "metadata": {},
   "outputs": [
    {
     "name": "stdout",
     "output_type": "stream",
     "text": [
      "All ward numbers \n",
      " [  1   2   3   4   5   6   7   8   9  10  11  12  13  14  15  16  17  18\n",
      "  19  20  21  22  23  24  25  26  27  28  29  30  31  32  33  34  35  36\n",
      "  37  38  39  40  41  42  43  44  45  46  47  48  49  50  51  52  53  54\n",
      "  55  56  57  58  59  60  61  62  63  64  65  66  67  68  69  70  71  72\n",
      "  73  74  75  76  77  78  79  80  81  82  83  84  85  86  87  88  89  90\n",
      " 114 201 202 203 204 205 206 207 208 212 216 218 220 221 222 223 224 225\n",
      " 226 227 228 229 241 242 243] \n",
      "\n",
      " Total wards :  115\n"
     ]
    }
   ],
   "source": [
    "staticWardNums=staticEmp[\"wardNum\"].unique()\n",
    "staticWardNums.sort(axis=0)\n",
    "print(\"All ward numbers \\n\",staticWardNums,\"\\n\")\n",
    "print(\" Total wards : \",staticEmp[\"wardNum\"].nunique())\n"
   ]
  },
  {
   "cell_type": "code",
   "execution_count": 19,
   "id": "4bee4d93",
   "metadata": {},
   "outputs": [
    {
     "name": "stdout",
     "output_type": "stream",
     "text": [
      "Number of wards in static dataset is less than the ward count present in realtime(employee attendance) dataset \n",
      "\n",
      "Wards in dynamic packets , but not in static data --->  {104, 240, 209, 210, 211, 213, 214, 215, 217, 219}\n"
     ]
    }
   ],
   "source": [
    "if staticEmp[\"wardNum\"].nunique() < emp['wardNum'].nunique():\n",
    "    print(\"Number of wards in static dataset is less than the ward count present in realtime(employee attendance) dataset \\n\")\n",
    "    A = set(wardNums)\n",
    "    B = set(staticWardNums)\n",
    "    print(\"Wards in dynamic packets , but not in static data ---> \",A.difference(B)) "
   ]
  },
  {
   "cell_type": "markdown",
   "id": "f4191533",
   "metadata": {},
   "source": [
    "##### 2.3) Visualizing various Employment units across wards"
   ]
  },
  {
   "cell_type": "code",
   "execution_count": 20,
   "id": "d087f4a0",
   "metadata": {},
   "outputs": [
    {
     "data": {
      "text/html": [
       "<div>\n",
       "<style scoped>\n",
       "    .dataframe tbody tr th:only-of-type {\n",
       "        vertical-align: middle;\n",
       "    }\n",
       "\n",
       "    .dataframe tbody tr th {\n",
       "        vertical-align: top;\n",
       "    }\n",
       "\n",
       "    .dataframe thead th {\n",
       "        text-align: right;\n",
       "    }\n",
       "</style>\n",
       "<table border=\"1\" class=\"dataframe\">\n",
       "  <thead>\n",
       "    <tr style=\"text-align: right;\">\n",
       "      <th></th>\n",
       "      <th>employmentUnit</th>\n",
       "      <th>wardCount</th>\n",
       "    </tr>\n",
       "  </thead>\n",
       "  <tbody>\n",
       "    <tr>\n",
       "      <th>0</th>\n",
       "      <td>0</td>\n",
       "      <td>79</td>\n",
       "    </tr>\n",
       "    <tr>\n",
       "      <th>1</th>\n",
       "      <td>Door to Door</td>\n",
       "      <td>72</td>\n",
       "    </tr>\n",
       "    <tr>\n",
       "      <th>2</th>\n",
       "      <td>Drainage</td>\n",
       "      <td>166</td>\n",
       "    </tr>\n",
       "    <tr>\n",
       "      <th>3</th>\n",
       "      <td>Office Work</td>\n",
       "      <td>1</td>\n",
       "    </tr>\n",
       "    <tr>\n",
       "      <th>4</th>\n",
       "      <td>Supervisor</td>\n",
       "      <td>64</td>\n",
       "    </tr>\n",
       "    <tr>\n",
       "      <th>5</th>\n",
       "      <td>Sweeping</td>\n",
       "      <td>3067</td>\n",
       "    </tr>\n",
       "    <tr>\n",
       "      <th>6</th>\n",
       "      <td>Vehicle-Driver</td>\n",
       "      <td>7</td>\n",
       "    </tr>\n",
       "    <tr>\n",
       "      <th>7</th>\n",
       "      <td>Workshop</td>\n",
       "      <td>3</td>\n",
       "    </tr>\n",
       "  </tbody>\n",
       "</table>\n",
       "</div>"
      ],
      "text/plain": [
       "   employmentUnit  wardCount\n",
       "0               0         79\n",
       "1    Door to Door         72\n",
       "2        Drainage        166\n",
       "3     Office Work          1\n",
       "4      Supervisor         64\n",
       "5        Sweeping       3067\n",
       "6  Vehicle-Driver          7\n",
       "7        Workshop          3"
      ]
     },
     "metadata": {},
     "output_type": "display_data"
    },
    {
     "data": {
      "text/plain": [
       "(array([0, 1, 2, 3, 4, 5, 6, 7]),\n",
       " [Text(0, 0, '0'),\n",
       "  Text(1, 0, 'Door to Door'),\n",
       "  Text(2, 0, 'Drainage'),\n",
       "  Text(3, 0, 'Office Work'),\n",
       "  Text(4, 0, 'Supervisor'),\n",
       "  Text(5, 0, 'Sweeping'),\n",
       "  Text(6, 0, 'Vehicle-Driver'),\n",
       "  Text(7, 0, 'Workshop')])"
      ]
     },
     "execution_count": 20,
     "metadata": {},
     "output_type": "execute_result"
    },
    {
     "data": {
      "image/png": "[encoded data removed]",
      "text/plain": [
       "<Figure size 432x288 with 1 Axes>"
      ]
     },
     "metadata": {
      "needs_background": "light"
     },
     "output_type": "display_data"
    }
   ],
   "source": [
    "empUnits = staticEmp.groupby([\"employmentUnit\"])[[\"wardNum\"]].count()\n",
    "empUnits.reset_index(inplace=True)\n",
    "empUnits.rename(columns = {'wardNum':'wardCount'}, inplace = True)\n",
    "display(empUnits)\n",
    "sns.barplot(x=\"employmentUnit\",y=\"wardCount\",data = empUnits,color=\"blue\")\n",
    "plt.xticks(rotation=70)"
   ]
  },
  {
   "cell_type": "markdown",
   "id": "6a574c03",
   "metadata": {},
   "source": [
    "##### 2.4) Visualizing prominent Employment Types across different wards"
   ]
  },
  {
   "cell_type": "code",
   "execution_count": 21,
   "id": "bfdf5287",
   "metadata": {},
   "outputs": [
    {
     "data": {
      "text/html": [
       "<div>\n",
       "<style scoped>\n",
       "    .dataframe tbody tr th:only-of-type {\n",
       "        vertical-align: middle;\n",
       "    }\n",
       "\n",
       "    .dataframe tbody tr th {\n",
       "        vertical-align: top;\n",
       "    }\n",
       "\n",
       "    .dataframe thead th {\n",
       "        text-align: right;\n",
       "    }\n",
       "</style>\n",
       "<table border=\"1\" class=\"dataframe\">\n",
       "  <thead>\n",
       "    <tr style=\"text-align: right;\">\n",
       "      <th></th>\n",
       "      <th>employmentType</th>\n",
       "      <th>wardCount</th>\n",
       "    </tr>\n",
       "  </thead>\n",
       "  <tbody>\n",
       "    <tr>\n",
       "      <th>0</th>\n",
       "      <td>Contractual New</td>\n",
       "      <td>643</td>\n",
       "    </tr>\n",
       "    <tr>\n",
       "      <th>1</th>\n",
       "      <td>Contractual Old</td>\n",
       "      <td>406</td>\n",
       "    </tr>\n",
       "    <tr>\n",
       "      <th>2</th>\n",
       "      <td>Outsourcing</td>\n",
       "      <td>2082</td>\n",
       "    </tr>\n",
       "    <tr>\n",
       "      <th>3</th>\n",
       "      <td>Regular</td>\n",
       "      <td>902</td>\n",
       "    </tr>\n",
       "  </tbody>\n",
       "</table>\n",
       "</div>"
      ],
      "text/plain": [
       "    employmentType  wardCount\n",
       "0  Contractual New        643\n",
       "1  Contractual Old        406\n",
       "2      Outsourcing       2082\n",
       "3          Regular        902"
      ]
     },
     "metadata": {},
     "output_type": "display_data"
    },
    {
     "data": {
      "text/plain": [
       "(array([0, 1, 2, 3]),\n",
       " [Text(0, 0, 'Contractual New'),\n",
       "  Text(1, 0, 'Contractual Old'),\n",
       "  Text(2, 0, 'Outsourcing'),\n",
       "  Text(3, 0, 'Regular')])"
      ]
     },
     "execution_count": 21,
     "metadata": {},
     "output_type": "execute_result"
    },
    {
     "data": {
      "image/png": "[encoded data removed]",
      "text/plain": [
       "<Figure size 432x288 with 1 Axes>"
      ]
     },
     "metadata": {
      "needs_background": "light"
     },
     "output_type": "display_data"
    }
   ],
   "source": [
    "empTypes = staticEmp.groupby([\"employmentType\"])[[\"wardNum\"]].count()\n",
    "empTypes.reset_index(inplace=True)\n",
    "empTypes.rename(columns = {'wardNum':'wardCount'}, inplace = True)\n",
    "display(empTypes)\n",
    "sns.barplot(x=\"employmentType\",y=\"wardCount\",data = empTypes,color=\"blue\")\n",
    "plt.xticks(rotation=30)"
   ]
  },
  {
   "cell_type": "markdown",
   "id": "0d22ef38",
   "metadata": {},
   "source": [
    "##### 2.5) Visualizing Employee gender-wise count"
   ]
  },
  {
   "cell_type": "code",
   "execution_count": 22,
   "id": "d4b77073",
   "metadata": {},
   "outputs": [
    {
     "data": {
      "text/html": [
       "<div>\n",
       "<style scoped>\n",
       "    .dataframe tbody tr th:only-of-type {\n",
       "        vertical-align: middle;\n",
       "    }\n",
       "\n",
       "    .dataframe tbody tr th {\n",
       "        vertical-align: top;\n",
       "    }\n",
       "\n",
       "    .dataframe thead th {\n",
       "        text-align: right;\n",
       "    }\n",
       "</style>\n",
       "<table border=\"1\" class=\"dataframe\">\n",
       "  <thead>\n",
       "    <tr style=\"text-align: right;\">\n",
       "      <th></th>\n",
       "      <th>gender</th>\n",
       "      <th>wardCount</th>\n",
       "    </tr>\n",
       "  </thead>\n",
       "  <tbody>\n",
       "    <tr>\n",
       "      <th>0</th>\n",
       "      <td>Female</td>\n",
       "      <td>782</td>\n",
       "    </tr>\n",
       "    <tr>\n",
       "      <th>1</th>\n",
       "      <td>Male</td>\n",
       "      <td>2838</td>\n",
       "    </tr>\n",
       "  </tbody>\n",
       "</table>\n",
       "</div>"
      ],
      "text/plain": [
       "   gender  wardCount\n",
       "0  Female        782\n",
       "1    Male       2838"
      ]
     },
     "metadata": {},
     "output_type": "display_data"
    },
    {
     "data": {
      "text/plain": [
       "(array([0, 1]), [Text(0, 0, 'Female'), Text(1, 0, 'Male')])"
      ]
     },
     "execution_count": 22,
     "metadata": {},
     "output_type": "execute_result"
    },
    {
     "data": {
      "image/png": "[encoded data removed]",
      "text/plain": [
       "<Figure size 432x288 with 1 Axes>"
      ]
     },
     "metadata": {
      "needs_background": "light"
     },
     "output_type": "display_data"
    }
   ],
   "source": [
    "empGender = staticEmp.groupby([\"gender\"])[[\"wardNum\"]].count()\n",
    "empGender.reset_index(inplace=True)\n",
    "empGender.rename(columns = {'wardNum':'wardCount'}, inplace = True)\n",
    "display(empGender)\n",
    "sns.barplot(x=\"gender\",y=\"wardCount\",data = empGender,color=\"blue\")\n",
    "plt.xticks(rotation=30)"
   ]
  },
  {
   "cell_type": "code",
   "execution_count": null,
   "id": "3d07ae25",
   "metadata": {},
   "outputs": [],
   "source": []
  },
  {
   "cell_type": "code",
   "execution_count": null,
   "id": "f581dc3a",
   "metadata": {},
   "outputs": [],
   "source": []
  },
  {
   "cell_type": "code",
   "execution_count": null,
   "id": "1643dc42",
   "metadata": {},
   "outputs": [],
   "source": []
  },
  {
   "cell_type": "code",
   "execution_count": null,
   "id": "a22ca556",
   "metadata": {},
   "outputs": [],
   "source": []
  },
  {
   "cell_type": "code",
   "execution_count": null,
   "id": "32b03076",
   "metadata": {},
   "outputs": [],
   "source": []
  }
 ],
 "metadata": {
  "hide_input": false,
  "kernelspec": {
   "display_name": "Python 3 (ipykernel)",
   "language": "python",
   "name": "python3"
  },
  "language_info": {
   "codemirror_mode": {
    "name": "ipython",
    "version": 3
   },
   "file_extension": ".py",
   "mimetype": "text/x-python",
   "name": "python",
   "nbconvert_exporter": "python",
   "pygments_lexer": "ipython3",
   "version": "3.9.12"
  }
 },
 "nbformat": 4,
 "nbformat_minor": 5
}
