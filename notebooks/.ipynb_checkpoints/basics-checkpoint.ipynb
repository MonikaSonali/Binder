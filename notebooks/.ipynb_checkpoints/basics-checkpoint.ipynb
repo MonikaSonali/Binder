{
 "cells": [
  {
   "cell_type": "markdown",
   "metadata": {},
   "source": [
    "# So easy, *voilà*!\n",
    "\n",
    "In this example notebook, we demonstrate how Voilà can render Jupyter notebooks with interactions requiring a roundtrip to the kernel."
   ]
  },
  {
   "cell_type": "markdown",
   "metadata": {},
   "source": [
    "## Jupyter Widgets"
   ]
  },
  {
   "cell_type": "code",
   "execution_count": 2,
   "metadata": {},
   "outputs": [
    {
     "data": {
      "application/vnd.jupyter.widget-view+json": {
       "model_id": "aedbf8d9598f415ba2d2374782d8883a",
       "version_major": 2,
       "version_minor": 0
      },
      "text/plain": [
       "VBox(children=(FloatSlider(value=4.0, description='$x$'), FloatText(value=16.0, description='$x^2$', disabled=…"
      ]
     },
     "metadata": {},
     "output_type": "display_data"
    }
   ],
   "source": [
    "import ipywidgets as widgets\n",
    "\n",
    "slider = widgets.FloatSlider(description='$x$')\n",
    "text = widgets.FloatText(disabled=True, description='$x^2$')\n",
    "\n",
    "def compute(*ignore):\n",
    "    text.value = str(slider.value ** 2)\n",
    "\n",
    "slider.observe(compute, 'value')\n",
    "\n",
    "slider.value = 4\n",
    "\n",
    "\n",
    "widgets.VBox([slider, text])"
   ]
  },
  {
   "cell_type": "code",
   "execution_count": 3,
   "metadata": {},
   "outputs": [
    {
     "data": {
      "application/vnd.jupyter.widget-view+json": {
       "model_id": "dc1d08367f144d108b8f392ff4b2737e",
       "version_major": 2,
       "version_minor": 0
      },
      "text/plain": [
       "HBox(children=(VBox(children=(IntSlider(value=0), IntSlider(value=0))), Output()))"
      ]
     },
     "metadata": {},
     "output_type": "display_data"
    }
   ],
   "source": [
    "from ipywidgets import HBox, VBox, IntSlider, interactive_output\n",
    "from IPython.display import display\n",
    "\n",
    "a = IntSlider()\n",
    "b = IntSlider()\n",
    "\n",
    "def f(a, b):\n",
    "    print(\"{} * {} = {}\".format(a, b, a * b))\n",
    "\n",
    "out = interactive_output(f, { \"a\": a, \"b\": b })\n",
    "\n",
    "display(HBox([VBox([a, b]), out]))"
   ]
  },
  {
   "cell_type": "markdown",
   "metadata": {},
   "source": [
    "## Basic outputs of code cells"
   ]
  },
  {
   "cell_type": "code",
   "execution_count": null,
   "metadata": {},
   "outputs": [],
   "source": [
    "import pandas as pd\n",
    "\n",
    "iris = pd.read_csv('https://raw.githubusercontent.com/mwaskom/seaborn-data/master/iris.csv')\n",
    "iris"
   ]
  },
  {
   "cell_type": "code",
   "execution_count": null,
   "metadata": {},
   "outputs": [],
   "source": []
  },
  {
   "cell_type": "code",
   "execution_count": null,
   "metadata": {},
   "outputs": [],
   "source": []
  },
  {
   "cell_type": "markdown",
   "metadata": {},
   "source": [
    "# So easy, *voilà*!\n",
    "\n",
    "In this example notebook, we demonstrate how Voilà can render notebooks making use of ipywidget's `@interact`."
   ]
  },
  {
   "cell_type": "code",
   "execution_count": 10,
   "metadata": {},
   "outputs": [
    {
     "data": {
      "application/vnd.jupyter.widget-view+json": {
       "model_id": "3ad86f7979604a0d98fd38c69a602c51",
       "version_major": 2,
       "version_minor": 0
      },
      "text/plain": [
       "HBox(children=(VBox(children=(IntSlider(value=0), IntSlider(value=0))), Output()))"
      ]
     },
     "metadata": {},
     "output_type": "display_data"
    }
   ],
   "source": [
    "from ipywidgets import HBox, VBox, IntSlider, interactive_output\n",
    "from IPython.display import display\n",
    "\n",
    "a = IntSlider()\n",
    "b = IntSlider()\n",
    "\n",
    "def f(a, b):\n",
    "    print(\"{} * {} = {}\".format(a, b, a * b))\n",
    "\n",
    "out = interactive_output(f, { \"a\": a, \"b\": b })\n",
    "\n",
    "display(HBox([VBox([a, b]), out]))"
   ]
  },
  {
   "cell_type": "code",
   "execution_count": 8,
   "metadata": {},
   "outputs": [
    {
     "data": {
      "application/vnd.jupyter.widget-view+json": {
       "model_id": "af656af18c7344a3923ec3535a87eac6",
       "version_major": 2,
       "version_minor": 0
      },
      "text/plain": [
       "HBox(children=(VBox(children=(IntSlider(value=0), IntSlider(value=0))), Output()))"
      ]
     },
     "metadata": {},
     "output_type": "display_data"
    }
   ],
   "source": [
    "# from ipywidgets import HBox, VBox, IntSlider, interactive_output, FloatSlider\n",
    "import ipywidgets as widgets\n",
    "from IPython.display import display\n",
    "\n",
    "a = widgets.IntSlider()\n",
    "b = widgets.IntSlider()\n",
    "\n",
    "def f(a, b):\n",
    "    print(\"{} * {} = {}\".format(a, b, a * b))\n",
    "\n",
    "out = interactive_output(f, { \"a\": a, \"b\": b })\n",
    "display(widgets.HBox([widgets.VBox([a, b]), out]))"
   ]
  },
  {
   "cell_type": "markdown",
   "metadata": {
    "extensions": {
     "jupyter_dashboards": {
      "version": 1,
      "views": {
       "grid_default": {},
       "report_default": {}
      }
     }
    }
   },
   "source": [
    "# Python Add Interactivity to Jupyter Notebooks with ipywidgets\n",
    "GitHub Notebook"
   ]
  },
  {
   "cell_type": "code",
   "execution_count": 1,
   "metadata": {
    "extensions": {
     "jupyter_dashboards": {
      "version": 1,
      "views": {
       "grid_default": {},
       "report_default": {}
      }
     }
    }
   },
   "outputs": [],
   "source": [
    "# https://www.youtube.com/watch?v=HY7cf-CYs1o"
   ]
  },
  {
   "cell_type": "code",
   "execution_count": 2,
   "metadata": {
    "extensions": {
     "jupyter_dashboards": {
      "version": 1,
      "views": {
       "grid_default": {},
       "report_default": {}
      }
     }
    }
   },
   "outputs": [],
   "source": [
    "import warnings\n",
    "warnings.filterwarnings('ignore')\n",
    "warnings.simplefilter('ignore')"
   ]
  },
  {
   "cell_type": "code",
   "execution_count": 28,
   "metadata": {
    "extensions": {
     "jupyter_dashboards": {
      "version": 1,
      "views": {
       "grid_default": {},
       "report_default": {}
      }
     }
    },
    "scrolled": false
   },
   "outputs": [],
   "source": [
    "# from IPython.display import IFrame\n",
    "# documentation = IFrame(src='https://ipywidgets.readthedocs.io/en/latest/examples/Widget%20List.html', \n",
    "#                        width=1000, \n",
    "#                        height=400)\n",
    "# display(documentation)"
   ]
  },
  {
   "cell_type": "code",
   "execution_count": 7,
   "metadata": {
    "extensions": {
     "jupyter_dashboards": {
      "version": 1,
      "views": {
       "grid_default": {},
       "report_default": {}
      }
     }
    }
   },
   "outputs": [
    {
     "data": {
      "application/vnd.jupyter.widget-view+json": {
       "model_id": "c7ba6af0342a4ed498d2328d1bda1187",
       "version_major": 2,
       "version_minor": 0
      },
      "text/plain": [
       "IntSlider(value=0, description='x')"
      ]
     },
     "metadata": {},
     "output_type": "display_data"
    }
   ],
   "source": [
    "import ipywidgets\n",
    "\n",
    "# ; to hide output details"
   ]
  },
  {
   "cell_type": "code",
   "execution_count": 12,
   "metadata": {},
   "outputs": [
    {
     "data": {
      "application/vnd.jupyter.widget-view+json": {
       "model_id": "4a9d0b85c38047eaa4950141a929d61a",
       "version_major": 2,
       "version_minor": 0
      },
      "text/plain": [
       "VBox(children=(FloatSlider(value=4.0, description='$x$'), FloatText(value=16.0, description='$x^2$', disabled=…"
      ]
     },
     "metadata": {},
     "output_type": "display_data"
    }
   ],
   "source": [
    "import ipywidgets as widgets\n",
    "\n",
    "slider = widgets.FloatSlider(description='$x$')\n",
    "text = widgets.FloatText(disabled=True, description='$x^2$')\n",
    "\n",
    "def compute(*ignore):\n",
    "    text.value = str(slider.value ** 2)\n",
    "\n",
    "slider.observe(compute, 'value')\n",
    "\n",
    "slider.value = 4\n",
    "display(widgets.VBox([slider, text]))\n",
    "\n",
    "\n",
    "\n",
    "# a = IntSlider()\n",
    "# b = IntSlider()\n",
    "\n",
    "# def f(a, b):\n",
    "#     print(\"{} * {} = {}\".format(a, b, a * b))\n",
    "\n",
    "# out = interactive_output(f, { \"a\": a, \"b\": b })\n",
    "\n",
    "# display(HBox([VBox([a, b]), out]))"
   ]
  },
  {
   "cell_type": "code",
   "execution_count": 24,
   "metadata": {},
   "outputs": [
    {
     "data": {
      "application/javascript": [
       "/* Put everything inside the global mpl namespace */\n",
       "/* global mpl */\n",
       "window.mpl = {};\n",
       "\n",
       "mpl.get_websocket_type = function () {\n",
       "    if (typeof WebSocket !== 'undefined') {\n",
       "        return WebSocket;\n",
       "    } else if (typeof MozWebSocket !== 'undefined') {\n",
       "        return MozWebSocket;\n",
       "    } else {\n",
       "        alert(\n",
       "            'Your browser does not have WebSocket support. ' +\n",
       "                'Please try Chrome, Safari or Firefox ≥ 6. ' +\n",
       "                'Firefox 4 and 5 are also supported but you ' +\n",
       "                'have to enable WebSockets in about:config.'\n",
       "        );\n",
       "    }\n",
       "};\n",
       "\n",
       "mpl.figure = function (figure_id, websocket, ondownload, parent_element) {\n",
       "    this.id = figure_id;\n",
       "\n",
       "    this.ws = websocket;\n",
       "\n",
       "    this.supports_binary = this.ws.binaryType !== undefined;\n",
       "\n",
       "    if (!this.supports_binary) {\n",
       "        var warnings = document.getElementById('mpl-warnings');\n",
       "        if (warnings) {\n",
       "            warnings.style.display = 'block';\n",
       "            warnings.textContent =\n",
       "                'This browser does not support binary websocket messages. ' +\n",
       "                'Performance may be slow.';\n",
       "        }\n",
       "    }\n",
       "\n",
       "    this.imageObj = new Image();\n",
       "\n",
       "    this.context = undefined;\n",
       "    this.message = undefined;\n",
       "    this.canvas = undefined;\n",
       "    this.rubberband_canvas = undefined;\n",
       "    this.rubberband_context = undefined;\n",
       "    this.format_dropdown = undefined;\n",
       "\n",
       "    this.image_mode = 'full';\n",
       "\n",
       "    this.root = document.createElement('div');\n",
       "    this.root.setAttribute('style', 'display: inline-block');\n",
       "    this._root_extra_style(this.root);\n",
       "\n",
       "    parent_element.appendChild(this.root);\n",
       "\n",
       "    this._init_header(this);\n",
       "    this._init_canvas(this);\n",
       "    this._init_toolbar(this);\n",
       "\n",
       "    var fig = this;\n",
       "\n",
       "    this.waiting = false;\n",
       "\n",
       "    this.ws.onopen = function () {\n",
       "        fig.send_message('supports_binary', { value: fig.supports_binary });\n",
       "        fig.send_message('send_image_mode', {});\n",
       "        if (fig.ratio !== 1) {\n",
       "            fig.send_message('set_device_pixel_ratio', {\n",
       "                device_pixel_ratio: fig.ratio,\n",
       "            });\n",
       "        }\n",
       "        fig.send_message('refresh', {});\n",
       "    };\n",
       "\n",
       "    this.imageObj.onload = function () {\n",
       "        if (fig.image_mode === 'full') {\n",
       "            // Full images could contain transparency (where diff images\n",
       "            // almost always do), so we need to clear the canvas so that\n",
       "            // there is no ghosting.\n",
       "            fig.context.clearRect(0, 0, fig.canvas.width, fig.canvas.height);\n",
       "        }\n",
       "        fig.context.drawImage(fig.imageObj, 0, 0);\n",
       "    };\n",
       "\n",
       "    this.imageObj.onunload = function () {\n",
       "        fig.ws.close();\n",
       "    };\n",
       "\n",
       "    this.ws.onmessage = this._make_on_message_function(this);\n",
       "\n",
       "    this.ondownload = ondownload;\n",
       "};\n",
       "\n",
       "mpl.figure.prototype._init_header = function () {\n",
       "    var titlebar = document.createElement('div');\n",
       "    titlebar.classList =\n",
       "        'ui-dialog-titlebar ui-widget-header ui-corner-all ui-helper-clearfix';\n",
       "    var titletext = document.createElement('div');\n",
       "    titletext.classList = 'ui-dialog-title';\n",
       "    titletext.setAttribute(\n",
       "        'style',\n",
       "        'width: 100%; text-align: center; padding: 3px;'\n",
       "    );\n",
       "    titlebar.appendChild(titletext);\n",
       "    this.root.appendChild(titlebar);\n",
       "    this.header = titletext;\n",
       "};\n",
       "\n",
       "mpl.figure.prototype._canvas_extra_style = function (_canvas_div) {};\n",
       "\n",
       "mpl.figure.prototype._root_extra_style = function (_canvas_div) {};\n",
       "\n",
       "mpl.figure.prototype._init_canvas = function () {\n",
       "    var fig = this;\n",
       "\n",
       "    var canvas_div = (this.canvas_div = document.createElement('div'));\n",
       "    canvas_div.setAttribute(\n",
       "        'style',\n",
       "        'border: 1px solid #ddd;' +\n",
       "            'box-sizing: content-box;' +\n",
       "            'clear: both;' +\n",
       "            'min-height: 1px;' +\n",
       "            'min-width: 1px;' +\n",
       "            'outline: 0;' +\n",
       "            'overflow: hidden;' +\n",
       "            'position: relative;' +\n",
       "            'resize: both;'\n",
       "    );\n",
       "\n",
       "    function on_keyboard_event_closure(name) {\n",
       "        return function (event) {\n",
       "            return fig.key_event(event, name);\n",
       "        };\n",
       "    }\n",
       "\n",
       "    canvas_div.addEventListener(\n",
       "        'keydown',\n",
       "        on_keyboard_event_closure('key_press')\n",
       "    );\n",
       "    canvas_div.addEventListener(\n",
       "        'keyup',\n",
       "        on_keyboard_event_closure('key_release')\n",
       "    );\n",
       "\n",
       "    this._canvas_extra_style(canvas_div);\n",
       "    this.root.appendChild(canvas_div);\n",
       "\n",
       "    var canvas = (this.canvas = document.createElement('canvas'));\n",
       "    canvas.classList.add('mpl-canvas');\n",
       "    canvas.setAttribute('style', 'box-sizing: content-box;');\n",
       "\n",
       "    this.context = canvas.getContext('2d');\n",
       "\n",
       "    var backingStore =\n",
       "        this.context.backingStorePixelRatio ||\n",
       "        this.context.webkitBackingStorePixelRatio ||\n",
       "        this.context.mozBackingStorePixelRatio ||\n",
       "        this.context.msBackingStorePixelRatio ||\n",
       "        this.context.oBackingStorePixelRatio ||\n",
       "        this.context.backingStorePixelRatio ||\n",
       "        1;\n",
       "\n",
       "    this.ratio = (window.devicePixelRatio || 1) / backingStore;\n",
       "\n",
       "    var rubberband_canvas = (this.rubberband_canvas = document.createElement(\n",
       "        'canvas'\n",
       "    ));\n",
       "    rubberband_canvas.setAttribute(\n",
       "        'style',\n",
       "        'box-sizing: content-box; position: absolute; left: 0; top: 0; z-index: 1;'\n",
       "    );\n",
       "\n",
       "    // Apply a ponyfill if ResizeObserver is not implemented by browser.\n",
       "    if (this.ResizeObserver === undefined) {\n",
       "        if (window.ResizeObserver !== undefined) {\n",
       "            this.ResizeObserver = window.ResizeObserver;\n",
       "        } else {\n",
       "            var obs = _JSXTOOLS_RESIZE_OBSERVER({});\n",
       "            this.ResizeObserver = obs.ResizeObserver;\n",
       "        }\n",
       "    }\n",
       "\n",
       "    this.resizeObserverInstance = new this.ResizeObserver(function (entries) {\n",
       "        var nentries = entries.length;\n",
       "        for (var i = 0; i < nentries; i++) {\n",
       "            var entry = entries[i];\n",
       "            var width, height;\n",
       "            if (entry.contentBoxSize) {\n",
       "                if (entry.contentBoxSize instanceof Array) {\n",
       "                    // Chrome 84 implements new version of spec.\n",
       "                    width = entry.contentBoxSize[0].inlineSize;\n",
       "                    height = entry.contentBoxSize[0].blockSize;\n",
       "                } else {\n",
       "                    // Firefox implements old version of spec.\n",
       "                    width = entry.contentBoxSize.inlineSize;\n",
       "                    height = entry.contentBoxSize.blockSize;\n",
       "                }\n",
       "            } else {\n",
       "                // Chrome <84 implements even older version of spec.\n",
       "                width = entry.contentRect.width;\n",
       "                height = entry.contentRect.height;\n",
       "            }\n",
       "\n",
       "            // Keep the size of the canvas and rubber band canvas in sync with\n",
       "            // the canvas container.\n",
       "            if (entry.devicePixelContentBoxSize) {\n",
       "                // Chrome 84 implements new version of spec.\n",
       "                canvas.setAttribute(\n",
       "                    'width',\n",
       "                    entry.devicePixelContentBoxSize[0].inlineSize\n",
       "                );\n",
       "                canvas.setAttribute(\n",
       "                    'height',\n",
       "                    entry.devicePixelContentBoxSize[0].blockSize\n",
       "                );\n",
       "            } else {\n",
       "                canvas.setAttribute('width', width * fig.ratio);\n",
       "                canvas.setAttribute('height', height * fig.ratio);\n",
       "            }\n",
       "            canvas.setAttribute(\n",
       "                'style',\n",
       "                'width: ' + width + 'px; height: ' + height + 'px;'\n",
       "            );\n",
       "\n",
       "            rubberband_canvas.setAttribute('width', width);\n",
       "            rubberband_canvas.setAttribute('height', height);\n",
       "\n",
       "            // And update the size in Python. We ignore the initial 0/0 size\n",
       "            // that occurs as the element is placed into the DOM, which should\n",
       "            // otherwise not happen due to the minimum size styling.\n",
       "            if (fig.ws.readyState == 1 && width != 0 && height != 0) {\n",
       "                fig.request_resize(width, height);\n",
       "            }\n",
       "        }\n",
       "    });\n",
       "    this.resizeObserverInstance.observe(canvas_div);\n",
       "\n",
       "    function on_mouse_event_closure(name) {\n",
       "        return function (event) {\n",
       "            return fig.mouse_event(event, name);\n",
       "        };\n",
       "    }\n",
       "\n",
       "    rubberband_canvas.addEventListener(\n",
       "        'mousedown',\n",
       "        on_mouse_event_closure('button_press')\n",
       "    );\n",
       "    rubberband_canvas.addEventListener(\n",
       "        'mouseup',\n",
       "        on_mouse_event_closure('button_release')\n",
       "    );\n",
       "    rubberband_canvas.addEventListener(\n",
       "        'dblclick',\n",
       "        on_mouse_event_closure('dblclick')\n",
       "    );\n",
       "    // Throttle sequential mouse events to 1 every 20ms.\n",
       "    rubberband_canvas.addEventListener(\n",
       "        'mousemove',\n",
       "        on_mouse_event_closure('motion_notify')\n",
       "    );\n",
       "\n",
       "    rubberband_canvas.addEventListener(\n",
       "        'mouseenter',\n",
       "        on_mouse_event_closure('figure_enter')\n",
       "    );\n",
       "    rubberband_canvas.addEventListener(\n",
       "        'mouseleave',\n",
       "        on_mouse_event_closure('figure_leave')\n",
       "    );\n",
       "\n",
       "    canvas_div.addEventListener('wheel', function (event) {\n",
       "        if (event.deltaY < 0) {\n",
       "            event.step = 1;\n",
       "        } else {\n",
       "            event.step = -1;\n",
       "        }\n",
       "        on_mouse_event_closure('scroll')(event);\n",
       "    });\n",
       "\n",
       "    canvas_div.appendChild(canvas);\n",
       "    canvas_div.appendChild(rubberband_canvas);\n",
       "\n",
       "    this.rubberband_context = rubberband_canvas.getContext('2d');\n",
       "    this.rubberband_context.strokeStyle = '#000000';\n",
       "\n",
       "    this._resize_canvas = function (width, height, forward) {\n",
       "        if (forward) {\n",
       "            canvas_div.style.width = width + 'px';\n",
       "            canvas_div.style.height = height + 'px';\n",
       "        }\n",
       "    };\n",
       "\n",
       "    // Disable right mouse context menu.\n",
       "    this.rubberband_canvas.addEventListener('contextmenu', function (_e) {\n",
       "        event.preventDefault();\n",
       "        return false;\n",
       "    });\n",
       "\n",
       "    function set_focus() {\n",
       "        canvas.focus();\n",
       "        canvas_div.focus();\n",
       "    }\n",
       "\n",
       "    window.setTimeout(set_focus, 100);\n",
       "};\n",
       "\n",
       "mpl.figure.prototype._init_toolbar = function () {\n",
       "    var fig = this;\n",
       "\n",
       "    var toolbar = document.createElement('div');\n",
       "    toolbar.classList = 'mpl-toolbar';\n",
       "    this.root.appendChild(toolbar);\n",
       "\n",
       "    function on_click_closure(name) {\n",
       "        return function (_event) {\n",
       "            return fig.toolbar_button_onclick(name);\n",
       "        };\n",
       "    }\n",
       "\n",
       "    function on_mouseover_closure(tooltip) {\n",
       "        return function (event) {\n",
       "            if (!event.currentTarget.disabled) {\n",
       "                return fig.toolbar_button_onmouseover(tooltip);\n",
       "            }\n",
       "        };\n",
       "    }\n",
       "\n",
       "    fig.buttons = {};\n",
       "    var buttonGroup = document.createElement('div');\n",
       "    buttonGroup.classList = 'mpl-button-group';\n",
       "    for (var toolbar_ind in mpl.toolbar_items) {\n",
       "        var name = mpl.toolbar_items[toolbar_ind][0];\n",
       "        var tooltip = mpl.toolbar_items[toolbar_ind][1];\n",
       "        var image = mpl.toolbar_items[toolbar_ind][2];\n",
       "        var method_name = mpl.toolbar_items[toolbar_ind][3];\n",
       "\n",
       "        if (!name) {\n",
       "            /* Instead of a spacer, we start a new button group. */\n",
       "            if (buttonGroup.hasChildNodes()) {\n",
       "                toolbar.appendChild(buttonGroup);\n",
       "            }\n",
       "            buttonGroup = document.createElement('div');\n",
       "            buttonGroup.classList = 'mpl-button-group';\n",
       "            continue;\n",
       "        }\n",
       "\n",
       "        var button = (fig.buttons[name] = document.createElement('button'));\n",
       "        button.classList = 'mpl-widget';\n",
       "        button.setAttribute('role', 'button');\n",
       "        button.setAttribute('aria-disabled', 'false');\n",
       "        button.addEventListener('click', on_click_closure(method_name));\n",
       "        button.addEventListener('mouseover', on_mouseover_closure(tooltip));\n",
       "\n",
       "        var icon_img = document.createElement('img');\n",
       "        icon_img.src = '_images/' + image + '.png';\n",
       "        icon_img.srcset = '_images/' + image + '_large.png 2x';\n",
       "        icon_img.alt = tooltip;\n",
       "        button.appendChild(icon_img);\n",
       "\n",
       "        buttonGroup.appendChild(button);\n",
       "    }\n",
       "\n",
       "    if (buttonGroup.hasChildNodes()) {\n",
       "        toolbar.appendChild(buttonGroup);\n",
       "    }\n",
       "\n",
       "    var fmt_picker = document.createElement('select');\n",
       "    fmt_picker.classList = 'mpl-widget';\n",
       "    toolbar.appendChild(fmt_picker);\n",
       "    this.format_dropdown = fmt_picker;\n",
       "\n",
       "    for (var ind in mpl.extensions) {\n",
       "        var fmt = mpl.extensions[ind];\n",
       "        var option = document.createElement('option');\n",
       "        option.selected = fmt === mpl.default_extension;\n",
       "        option.innerHTML = fmt;\n",
       "        fmt_picker.appendChild(option);\n",
       "    }\n",
       "\n",
       "    var status_bar = document.createElement('span');\n",
       "    status_bar.classList = 'mpl-message';\n",
       "    toolbar.appendChild(status_bar);\n",
       "    this.message = status_bar;\n",
       "};\n",
       "\n",
       "mpl.figure.prototype.request_resize = function (x_pixels, y_pixels) {\n",
       "    // Request matplotlib to resize the figure. Matplotlib will then trigger a resize in the client,\n",
       "    // which will in turn request a refresh of the image.\n",
       "    this.send_message('resize', { width: x_pixels, height: y_pixels });\n",
       "};\n",
       "\n",
       "mpl.figure.prototype.send_message = function (type, properties) {\n",
       "    properties['type'] = type;\n",
       "    properties['figure_id'] = this.id;\n",
       "    this.ws.send(JSON.stringify(properties));\n",
       "};\n",
       "\n",
       "mpl.figure.prototype.send_draw_message = function () {\n",
       "    if (!this.waiting) {\n",
       "        this.waiting = true;\n",
       "        this.ws.send(JSON.stringify({ type: 'draw', figure_id: this.id }));\n",
       "    }\n",
       "};\n",
       "\n",
       "mpl.figure.prototype.handle_save = function (fig, _msg) {\n",
       "    var format_dropdown = fig.format_dropdown;\n",
       "    var format = format_dropdown.options[format_dropdown.selectedIndex].value;\n",
       "    fig.ondownload(fig, format);\n",
       "};\n",
       "\n",
       "mpl.figure.prototype.handle_resize = function (fig, msg) {\n",
       "    var size = msg['size'];\n",
       "    if (size[0] !== fig.canvas.width || size[1] !== fig.canvas.height) {\n",
       "        fig._resize_canvas(size[0], size[1], msg['forward']);\n",
       "        fig.send_message('refresh', {});\n",
       "    }\n",
       "};\n",
       "\n",
       "mpl.figure.prototype.handle_rubberband = function (fig, msg) {\n",
       "    var x0 = msg['x0'] / fig.ratio;\n",
       "    var y0 = (fig.canvas.height - msg['y0']) / fig.ratio;\n",
       "    var x1 = msg['x1'] / fig.ratio;\n",
       "    var y1 = (fig.canvas.height - msg['y1']) / fig.ratio;\n",
       "    x0 = Math.floor(x0) + 0.5;\n",
       "    y0 = Math.floor(y0) + 0.5;\n",
       "    x1 = Math.floor(x1) + 0.5;\n",
       "    y1 = Math.floor(y1) + 0.5;\n",
       "    var min_x = Math.min(x0, x1);\n",
       "    var min_y = Math.min(y0, y1);\n",
       "    var width = Math.abs(x1 - x0);\n",
       "    var height = Math.abs(y1 - y0);\n",
       "\n",
       "    fig.rubberband_context.clearRect(\n",
       "        0,\n",
       "        0,\n",
       "        fig.canvas.width / fig.ratio,\n",
       "        fig.canvas.height / fig.ratio\n",
       "    );\n",
       "\n",
       "    fig.rubberband_context.strokeRect(min_x, min_y, width, height);\n",
       "};\n",
       "\n",
       "mpl.figure.prototype.handle_figure_label = function (fig, msg) {\n",
       "    // Updates the figure title.\n",
       "    fig.header.textContent = msg['label'];\n",
       "};\n",
       "\n",
       "mpl.figure.prototype.handle_cursor = function (fig, msg) {\n",
       "    fig.rubberband_canvas.style.cursor = msg['cursor'];\n",
       "};\n",
       "\n",
       "mpl.figure.prototype.handle_message = function (fig, msg) {\n",
       "    fig.message.textContent = msg['message'];\n",
       "};\n",
       "\n",
       "mpl.figure.prototype.handle_draw = function (fig, _msg) {\n",
       "    // Request the server to send over a new figure.\n",
       "    fig.send_draw_message();\n",
       "};\n",
       "\n",
       "mpl.figure.prototype.handle_image_mode = function (fig, msg) {\n",
       "    fig.image_mode = msg['mode'];\n",
       "};\n",
       "\n",
       "mpl.figure.prototype.handle_history_buttons = function (fig, msg) {\n",
       "    for (var key in msg) {\n",
       "        if (!(key in fig.buttons)) {\n",
       "            continue;\n",
       "        }\n",
       "        fig.buttons[key].disabled = !msg[key];\n",
       "        fig.buttons[key].setAttribute('aria-disabled', !msg[key]);\n",
       "    }\n",
       "};\n",
       "\n",
       "mpl.figure.prototype.handle_navigate_mode = function (fig, msg) {\n",
       "    if (msg['mode'] === 'PAN') {\n",
       "        fig.buttons['Pan'].classList.add('active');\n",
       "        fig.buttons['Zoom'].classList.remove('active');\n",
       "    } else if (msg['mode'] === 'ZOOM') {\n",
       "        fig.buttons['Pan'].classList.remove('active');\n",
       "        fig.buttons['Zoom'].classList.add('active');\n",
       "    } else {\n",
       "        fig.buttons['Pan'].classList.remove('active');\n",
       "        fig.buttons['Zoom'].classList.remove('active');\n",
       "    }\n",
       "};\n",
       "\n",
       "mpl.figure.prototype.updated_canvas_event = function () {\n",
       "    // Called whenever the canvas gets updated.\n",
       "    this.send_message('ack', {});\n",
       "};\n",
       "\n",
       "// A function to construct a web socket function for onmessage handling.\n",
       "// Called in the figure constructor.\n",
       "mpl.figure.prototype._make_on_message_function = function (fig) {\n",
       "    return function socket_on_message(evt) {\n",
       "        if (evt.data instanceof Blob) {\n",
       "            var img = evt.data;\n",
       "            if (img.type !== 'image/png') {\n",
       "                /* FIXME: We get \"Resource interpreted as Image but\n",
       "                 * transferred with MIME type text/plain:\" errors on\n",
       "                 * Chrome.  But how to set the MIME type?  It doesn't seem\n",
       "                 * to be part of the websocket stream */\n",
       "                img.type = 'image/png';\n",
       "            }\n",
       "\n",
       "            /* Free the memory for the previous frames */\n",
       "            if (fig.imageObj.src) {\n",
       "                (window.URL || window.webkitURL).revokeObjectURL(\n",
       "                    fig.imageObj.src\n",
       "                );\n",
       "            }\n",
       "\n",
       "            fig.imageObj.src = (window.URL || window.webkitURL).createObjectURL(\n",
       "                img\n",
       "            );\n",
       "            fig.updated_canvas_event();\n",
       "            fig.waiting = false;\n",
       "            return;\n",
       "        } else if (\n",
       "            typeof evt.data === 'string' &&\n",
       "            evt.data.slice(0, 21) === 'data:image/png;base64'\n",
       "        ) {\n",
       "            fig.imageObj.src = evt.data;\n",
       "            fig.updated_canvas_event();\n",
       "            fig.waiting = false;\n",
       "            return;\n",
       "        }\n",
       "\n",
       "        var msg = JSON.parse(evt.data);\n",
       "        var msg_type = msg['type'];\n",
       "\n",
       "        // Call the  \"handle_{type}\" callback, which takes\n",
       "        // the figure and JSON message as its only arguments.\n",
       "        try {\n",
       "            var callback = fig['handle_' + msg_type];\n",
       "        } catch (e) {\n",
       "            console.log(\n",
       "                \"No handler for the '\" + msg_type + \"' message type: \",\n",
       "                msg\n",
       "            );\n",
       "            return;\n",
       "        }\n",
       "\n",
       "        if (callback) {\n",
       "            try {\n",
       "                // console.log(\"Handling '\" + msg_type + \"' message: \", msg);\n",
       "                callback(fig, msg);\n",
       "            } catch (e) {\n",
       "                console.log(\n",
       "                    \"Exception inside the 'handler_\" + msg_type + \"' callback:\",\n",
       "                    e,\n",
       "                    e.stack,\n",
       "                    msg\n",
       "                );\n",
       "            }\n",
       "        }\n",
       "    };\n",
       "};\n",
       "\n",
       "// from https://stackoverflow.com/questions/1114465/getting-mouse-location-in-canvas\n",
       "mpl.findpos = function (e) {\n",
       "    //this section is from http://www.quirksmode.org/js/events_properties.html\n",
       "    var targ;\n",
       "    if (!e) {\n",
       "        e = window.event;\n",
       "    }\n",
       "    if (e.target) {\n",
       "        targ = e.target;\n",
       "    } else if (e.srcElement) {\n",
       "        targ = e.srcElement;\n",
       "    }\n",
       "    if (targ.nodeType === 3) {\n",
       "        // defeat Safari bug\n",
       "        targ = targ.parentNode;\n",
       "    }\n",
       "\n",
       "    // pageX,Y are the mouse positions relative to the document\n",
       "    var boundingRect = targ.getBoundingClientRect();\n",
       "    var x = e.pageX - (boundingRect.left + document.body.scrollLeft);\n",
       "    var y = e.pageY - (boundingRect.top + document.body.scrollTop);\n",
       "\n",
       "    return { x: x, y: y };\n",
       "};\n",
       "\n",
       "/*\n",
       " * return a copy of an object with only non-object keys\n",
       " * we need this to avoid circular references\n",
       " * https://stackoverflow.com/a/24161582/3208463\n",
       " */\n",
       "function simpleKeys(original) {\n",
       "    return Object.keys(original).reduce(function (obj, key) {\n",
       "        if (typeof original[key] !== 'object') {\n",
       "            obj[key] = original[key];\n",
       "        }\n",
       "        return obj;\n",
       "    }, {});\n",
       "}\n",
       "\n",
       "mpl.figure.prototype.mouse_event = function (event, name) {\n",
       "    var canvas_pos = mpl.findpos(event);\n",
       "\n",
       "    if (name === 'button_press') {\n",
       "        this.canvas.focus();\n",
       "        this.canvas_div.focus();\n",
       "    }\n",
       "\n",
       "    var x = canvas_pos.x * this.ratio;\n",
       "    var y = canvas_pos.y * this.ratio;\n",
       "\n",
       "    this.send_message(name, {\n",
       "        x: x,\n",
       "        y: y,\n",
       "        button: event.button,\n",
       "        step: event.step,\n",
       "        guiEvent: simpleKeys(event),\n",
       "    });\n",
       "\n",
       "    /* This prevents the web browser from automatically changing to\n",
       "     * the text insertion cursor when the button is pressed.  We want\n",
       "     * to control all of the cursor setting manually through the\n",
       "     * 'cursor' event from matplotlib */\n",
       "    event.preventDefault();\n",
       "    return false;\n",
       "};\n",
       "\n",
       "mpl.figure.prototype._key_event_extra = function (_event, _name) {\n",
       "    // Handle any extra behaviour associated with a key event\n",
       "};\n",
       "\n",
       "mpl.figure.prototype.key_event = function (event, name) {\n",
       "    // Prevent repeat events\n",
       "    if (name === 'key_press') {\n",
       "        if (event.key === this._key) {\n",
       "            return;\n",
       "        } else {\n",
       "            this._key = event.key;\n",
       "        }\n",
       "    }\n",
       "    if (name === 'key_release') {\n",
       "        this._key = null;\n",
       "    }\n",
       "\n",
       "    var value = '';\n",
       "    if (event.ctrlKey && event.key !== 'Control') {\n",
       "        value += 'ctrl+';\n",
       "    }\n",
       "    else if (event.altKey && event.key !== 'Alt') {\n",
       "        value += 'alt+';\n",
       "    }\n",
       "    else if (event.shiftKey && event.key !== 'Shift') {\n",
       "        value += 'shift+';\n",
       "    }\n",
       "\n",
       "    value += 'k' + event.key;\n",
       "\n",
       "    this._key_event_extra(event, name);\n",
       "\n",
       "    this.send_message(name, { key: value, guiEvent: simpleKeys(event) });\n",
       "    return false;\n",
       "};\n",
       "\n",
       "mpl.figure.prototype.toolbar_button_onclick = function (name) {\n",
       "    if (name === 'download') {\n",
       "        this.handle_save(this, null);\n",
       "    } else {\n",
       "        this.send_message('toolbar_button', { name: name });\n",
       "    }\n",
       "};\n",
       "\n",
       "mpl.figure.prototype.toolbar_button_onmouseover = function (tooltip) {\n",
       "    this.message.textContent = tooltip;\n",
       "};\n",
       "\n",
       "///////////////// REMAINING CONTENT GENERATED BY embed_js.py /////////////////\n",
       "// prettier-ignore\n",
       "var _JSXTOOLS_RESIZE_OBSERVER=function(A){var t,i=new WeakMap,n=new WeakMap,a=new WeakMap,r=new WeakMap,o=new Set;function s(e){if(!(this instanceof s))throw new TypeError(\"Constructor requires 'new' operator\");i.set(this,e)}function h(){throw new TypeError(\"Function is not a constructor\")}function c(e,t,i,n){e=0 in arguments?Number(arguments[0]):0,t=1 in arguments?Number(arguments[1]):0,i=2 in arguments?Number(arguments[2]):0,n=3 in arguments?Number(arguments[3]):0,this.right=(this.x=this.left=e)+(this.width=i),this.bottom=(this.y=this.top=t)+(this.height=n),Object.freeze(this)}function d(){t=requestAnimationFrame(d);var s=new WeakMap,p=new Set;o.forEach((function(t){r.get(t).forEach((function(i){var r=t instanceof window.SVGElement,o=a.get(t),d=r?0:parseFloat(o.paddingTop),f=r?0:parseFloat(o.paddingRight),l=r?0:parseFloat(o.paddingBottom),u=r?0:parseFloat(o.paddingLeft),g=r?0:parseFloat(o.borderTopWidth),m=r?0:parseFloat(o.borderRightWidth),w=r?0:parseFloat(o.borderBottomWidth),b=u+f,F=d+l,v=(r?0:parseFloat(o.borderLeftWidth))+m,W=g+w,y=r?0:t.offsetHeight-W-t.clientHeight,E=r?0:t.offsetWidth-v-t.clientWidth,R=b+v,z=F+W,M=r?t.width:parseFloat(o.width)-R-E,O=r?t.height:parseFloat(o.height)-z-y;if(n.has(t)){var k=n.get(t);if(k[0]===M&&k[1]===O)return}n.set(t,[M,O]);var S=Object.create(h.prototype);S.target=t,S.contentRect=new c(u,d,M,O),s.has(i)||(s.set(i,[]),p.add(i)),s.get(i).push(S)}))})),p.forEach((function(e){i.get(e).call(e,s.get(e),e)}))}return s.prototype.observe=function(i){if(i instanceof window.Element){r.has(i)||(r.set(i,new Set),o.add(i),a.set(i,window.getComputedStyle(i)));var n=r.get(i);n.has(this)||n.add(this),cancelAnimationFrame(t),t=requestAnimationFrame(d)}},s.prototype.unobserve=function(i){if(i instanceof window.Element&&r.has(i)){var n=r.get(i);n.has(this)&&(n.delete(this),n.size||(r.delete(i),o.delete(i))),n.size||r.delete(i),o.size||cancelAnimationFrame(t)}},A.DOMRectReadOnly=c,A.ResizeObserver=s,A.ResizeObserverEntry=h,A}; // eslint-disable-line\n",
       "mpl.toolbar_items = [[\"Home\", \"Reset original view\", \"fa fa-home icon-home\", \"home\"], [\"Back\", \"Back to previous view\", \"fa fa-arrow-left icon-arrow-left\", \"back\"], [\"Forward\", \"Forward to next view\", \"fa fa-arrow-right icon-arrow-right\", \"forward\"], [\"\", \"\", \"\", \"\"], [\"Pan\", \"Left button pans, Right button zooms\\nx/y fixes axis, CTRL fixes aspect\", \"fa fa-arrows icon-move\", \"pan\"], [\"Zoom\", \"Zoom to rectangle\\nx/y fixes axis\", \"fa fa-square-o icon-check-empty\", \"zoom\"], [\"\", \"\", \"\", \"\"], [\"Download\", \"Download plot\", \"fa fa-floppy-o icon-save\", \"download\"]];\n",
       "\n",
       "mpl.extensions = [\"eps\", \"jpeg\", \"pgf\", \"pdf\", \"png\", \"ps\", \"raw\", \"svg\", \"tif\"];\n",
       "\n",
       "mpl.default_extension = \"png\";/* global mpl */\n",
       "\n",
       "var comm_websocket_adapter = function (comm) {\n",
       "    // Create a \"websocket\"-like object which calls the given IPython comm\n",
       "    // object with the appropriate methods. Currently this is a non binary\n",
       "    // socket, so there is still some room for performance tuning.\n",
       "    var ws = {};\n",
       "\n",
       "    ws.binaryType = comm.kernel.ws.binaryType;\n",
       "    ws.readyState = comm.kernel.ws.readyState;\n",
       "    function updateReadyState(_event) {\n",
       "        if (comm.kernel.ws) {\n",
       "            ws.readyState = comm.kernel.ws.readyState;\n",
       "        } else {\n",
       "            ws.readyState = 3; // Closed state.\n",
       "        }\n",
       "    }\n",
       "    comm.kernel.ws.addEventListener('open', updateReadyState);\n",
       "    comm.kernel.ws.addEventListener('close', updateReadyState);\n",
       "    comm.kernel.ws.addEventListener('error', updateReadyState);\n",
       "\n",
       "    ws.close = function () {\n",
       "        comm.close();\n",
       "    };\n",
       "    ws.send = function (m) {\n",
       "        //console.log('sending', m);\n",
       "        comm.send(m);\n",
       "    };\n",
       "    // Register the callback with on_msg.\n",
       "    comm.on_msg(function (msg) {\n",
       "        //console.log('receiving', msg['content']['data'], msg);\n",
       "        var data = msg['content']['data'];\n",
       "        if (data['blob'] !== undefined) {\n",
       "            data = {\n",
       "                data: new Blob(msg['buffers'], { type: data['blob'] }),\n",
       "            };\n",
       "        }\n",
       "        // Pass the mpl event to the overridden (by mpl) onmessage function.\n",
       "        ws.onmessage(data);\n",
       "    });\n",
       "    return ws;\n",
       "};\n",
       "\n",
       "mpl.mpl_figure_comm = function (comm, msg) {\n",
       "    // This is the function which gets called when the mpl process\n",
       "    // starts-up an IPython Comm through the \"matplotlib\" channel.\n",
       "\n",
       "    var id = msg.content.data.id;\n",
       "    // Get hold of the div created by the display call when the Comm\n",
       "    // socket was opened in Python.\n",
       "    var element = document.getElementById(id);\n",
       "    var ws_proxy = comm_websocket_adapter(comm);\n",
       "\n",
       "    function ondownload(figure, _format) {\n",
       "        window.open(figure.canvas.toDataURL());\n",
       "    }\n",
       "\n",
       "    var fig = new mpl.figure(id, ws_proxy, ondownload, element);\n",
       "\n",
       "    // Call onopen now - mpl needs it, as it is assuming we've passed it a real\n",
       "    // web socket which is closed, not our websocket->open comm proxy.\n",
       "    ws_proxy.onopen();\n",
       "\n",
       "    fig.parent_element = element;\n",
       "    fig.cell_info = mpl.find_output_cell(\"<div id='\" + id + \"'></div>\");\n",
       "    if (!fig.cell_info) {\n",
       "        console.error('Failed to find cell for figure', id, fig);\n",
       "        return;\n",
       "    }\n",
       "    fig.cell_info[0].output_area.element.on(\n",
       "        'cleared',\n",
       "        { fig: fig },\n",
       "        fig._remove_fig_handler\n",
       "    );\n",
       "};\n",
       "\n",
       "mpl.figure.prototype.handle_close = function (fig, msg) {\n",
       "    var width = fig.canvas.width / fig.ratio;\n",
       "    fig.cell_info[0].output_area.element.off(\n",
       "        'cleared',\n",
       "        fig._remove_fig_handler\n",
       "    );\n",
       "    fig.resizeObserverInstance.unobserve(fig.canvas_div);\n",
       "\n",
       "    // Update the output cell to use the data from the current canvas.\n",
       "    fig.push_to_output();\n",
       "    var dataURL = fig.canvas.toDataURL();\n",
       "    // Re-enable the keyboard manager in IPython - without this line, in FF,\n",
       "    // the notebook keyboard shortcuts fail.\n",
       "    IPython.keyboard_manager.enable();\n",
       "    fig.parent_element.innerHTML =\n",
       "        '<img src=\"' + dataURL + '\" width=\"' + width + '\">';\n",
       "    fig.close_ws(fig, msg);\n",
       "};\n",
       "\n",
       "mpl.figure.prototype.close_ws = function (fig, msg) {\n",
       "    fig.send_message('closing', msg);\n",
       "    // fig.ws.close()\n",
       "};\n",
       "\n",
       "mpl.figure.prototype.push_to_output = function (_remove_interactive) {\n",
       "    // Turn the data on the canvas into data in the output cell.\n",
       "    var width = this.canvas.width / this.ratio;\n",
       "    var dataURL = this.canvas.toDataURL();\n",
       "    this.cell_info[1]['text/html'] =\n",
       "        '<img src=\"' + dataURL + '\" width=\"' + width + '\">';\n",
       "};\n",
       "\n",
       "mpl.figure.prototype.updated_canvas_event = function () {\n",
       "    // Tell IPython that the notebook contents must change.\n",
       "    IPython.notebook.set_dirty(true);\n",
       "    this.send_message('ack', {});\n",
       "    var fig = this;\n",
       "    // Wait a second, then push the new image to the DOM so\n",
       "    // that it is saved nicely (might be nice to debounce this).\n",
       "    setTimeout(function () {\n",
       "        fig.push_to_output();\n",
       "    }, 1000);\n",
       "};\n",
       "\n",
       "mpl.figure.prototype._init_toolbar = function () {\n",
       "    var fig = this;\n",
       "\n",
       "    var toolbar = document.createElement('div');\n",
       "    toolbar.classList = 'btn-toolbar';\n",
       "    this.root.appendChild(toolbar);\n",
       "\n",
       "    function on_click_closure(name) {\n",
       "        return function (_event) {\n",
       "            return fig.toolbar_button_onclick(name);\n",
       "        };\n",
       "    }\n",
       "\n",
       "    function on_mouseover_closure(tooltip) {\n",
       "        return function (event) {\n",
       "            if (!event.currentTarget.disabled) {\n",
       "                return fig.toolbar_button_onmouseover(tooltip);\n",
       "            }\n",
       "        };\n",
       "    }\n",
       "\n",
       "    fig.buttons = {};\n",
       "    var buttonGroup = document.createElement('div');\n",
       "    buttonGroup.classList = 'btn-group';\n",
       "    var button;\n",
       "    for (var toolbar_ind in mpl.toolbar_items) {\n",
       "        var name = mpl.toolbar_items[toolbar_ind][0];\n",
       "        var tooltip = mpl.toolbar_items[toolbar_ind][1];\n",
       "        var image = mpl.toolbar_items[toolbar_ind][2];\n",
       "        var method_name = mpl.toolbar_items[toolbar_ind][3];\n",
       "\n",
       "        if (!name) {\n",
       "            /* Instead of a spacer, we start a new button group. */\n",
       "            if (buttonGroup.hasChildNodes()) {\n",
       "                toolbar.appendChild(buttonGroup);\n",
       "            }\n",
       "            buttonGroup = document.createElement('div');\n",
       "            buttonGroup.classList = 'btn-group';\n",
       "            continue;\n",
       "        }\n",
       "\n",
       "        button = fig.buttons[name] = document.createElement('button');\n",
       "        button.classList = 'btn btn-default';\n",
       "        button.href = '#';\n",
       "        button.title = name;\n",
       "        button.innerHTML = '<i class=\"fa ' + image + ' fa-lg\"></i>';\n",
       "        button.addEventListener('click', on_click_closure(method_name));\n",
       "        button.addEventListener('mouseover', on_mouseover_closure(tooltip));\n",
       "        buttonGroup.appendChild(button);\n",
       "    }\n",
       "\n",
       "    if (buttonGroup.hasChildNodes()) {\n",
       "        toolbar.appendChild(buttonGroup);\n",
       "    }\n",
       "\n",
       "    // Add the status bar.\n",
       "    var status_bar = document.createElement('span');\n",
       "    status_bar.classList = 'mpl-message pull-right';\n",
       "    toolbar.appendChild(status_bar);\n",
       "    this.message = status_bar;\n",
       "\n",
       "    // Add the close button to the window.\n",
       "    var buttongrp = document.createElement('div');\n",
       "    buttongrp.classList = 'btn-group inline pull-right';\n",
       "    button = document.createElement('button');\n",
       "    button.classList = 'btn btn-mini btn-primary';\n",
       "    button.href = '#';\n",
       "    button.title = 'Stop Interaction';\n",
       "    button.innerHTML = '<i class=\"fa fa-power-off icon-remove icon-large\"></i>';\n",
       "    button.addEventListener('click', function (_evt) {\n",
       "        fig.handle_close(fig, {});\n",
       "    });\n",
       "    button.addEventListener(\n",
       "        'mouseover',\n",
       "        on_mouseover_closure('Stop Interaction')\n",
       "    );\n",
       "    buttongrp.appendChild(button);\n",
       "    var titlebar = this.root.querySelector('.ui-dialog-titlebar');\n",
       "    titlebar.insertBefore(buttongrp, titlebar.firstChild);\n",
       "};\n",
       "\n",
       "mpl.figure.prototype._remove_fig_handler = function (event) {\n",
       "    var fig = event.data.fig;\n",
       "    if (event.target !== this) {\n",
       "        // Ignore bubbled events from children.\n",
       "        return;\n",
       "    }\n",
       "    fig.close_ws(fig, {});\n",
       "};\n",
       "\n",
       "mpl.figure.prototype._root_extra_style = function (el) {\n",
       "    el.style.boxSizing = 'content-box'; // override notebook setting of border-box.\n",
       "};\n",
       "\n",
       "mpl.figure.prototype._canvas_extra_style = function (el) {\n",
       "    // this is important to make the div 'focusable\n",
       "    el.setAttribute('tabindex', 0);\n",
       "    // reach out to IPython and tell the keyboard manager to turn it's self\n",
       "    // off when our div gets focus\n",
       "\n",
       "    // location in version 3\n",
       "    if (IPython.notebook.keyboard_manager) {\n",
       "        IPython.notebook.keyboard_manager.register_events(el);\n",
       "    } else {\n",
       "        // location in version 2\n",
       "        IPython.keyboard_manager.register_events(el);\n",
       "    }\n",
       "};\n",
       "\n",
       "mpl.figure.prototype._key_event_extra = function (event, _name) {\n",
       "    // Check for shift+enter\n",
       "    if (event.shiftKey && event.which === 13) {\n",
       "        this.canvas_div.blur();\n",
       "        // select the cell after this one\n",
       "        var index = IPython.notebook.find_cell_index(this.cell_info[0]);\n",
       "        IPython.notebook.select(index + 1);\n",
       "    }\n",
       "};\n",
       "\n",
       "mpl.figure.prototype.handle_save = function (fig, _msg) {\n",
       "    fig.ondownload(fig, null);\n",
       "};\n",
       "\n",
       "mpl.find_output_cell = function (html_output) {\n",
       "    // Return the cell and output element which can be found *uniquely* in the notebook.\n",
       "    // Note - this is a bit hacky, but it is done because the \"notebook_saving.Notebook\"\n",
       "    // IPython event is triggered only after the cells have been serialised, which for\n",
       "    // our purposes (turning an active figure into a static one), is too late.\n",
       "    var cells = IPython.notebook.get_cells();\n",
       "    var ncells = cells.length;\n",
       "    for (var i = 0; i < ncells; i++) {\n",
       "        var cell = cells[i];\n",
       "        if (cell.cell_type === 'code') {\n",
       "            for (var j = 0; j < cell.output_area.outputs.length; j++) {\n",
       "                var data = cell.output_area.outputs[j];\n",
       "                if (data.data) {\n",
       "                    // IPython >= 3 moved mimebundle to data attribute of output\n",
       "                    data = data.data;\n",
       "                }\n",
       "                if (data['text/html'] === html_output) {\n",
       "                    return [cell, data, j];\n",
       "                }\n",
       "            }\n",
       "        }\n",
       "    }\n",
       "};\n",
       "\n",
       "// Register the function which deals with the matplotlib target/channel.\n",
       "// The kernel may be null if the page has been refreshed.\n",
       "if (IPython.notebook.kernel !== null) {\n",
       "    IPython.notebook.kernel.comm_manager.register_target(\n",
       "        'matplotlib',\n",
       "        mpl.mpl_figure_comm\n",
       "    );\n",
       "}\n"
      ],
      "text/plain": [
       "<IPython.core.display.Javascript object>"
      ]
     },
     "metadata": {},
     "output_type": "display_data"
    },
    {
     "data": {
      "text/html": [
       "<img src=\"data:image/png;base64,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\" width=\"999.9999783255842\">"
      ],
      "text/plain": [
       "<IPython.core.display.HTML object>"
      ]
     },
     "metadata": {},
     "output_type": "display_data"
    },
    {
     "data": {
      "application/vnd.jupyter.widget-view+json": {
       "model_id": "cbb15ae874f44b93b3031d8771968e13",
       "version_major": 2,
       "version_minor": 0
      },
      "text/plain": [
       "interactive(children=(FloatSlider(value=1.0, description='Amp:', max=10.0, min=1.0), FloatSlider(value=0.0, de…"
      ]
     },
     "metadata": {},
     "output_type": "display_data"
    }
   ],
   "source": [
    "import ipywidgets as widgets\n",
    "from IPython.display import display\n",
    "import matplotlib.pyplot as plt\n",
    "import numpy as np\n",
    "%matplotlib nbagg\n",
    "x = np.linspace(0, 2, 1000)\n",
    "fig, ax = plt.subplots(1, figsize=(10, 4))\n",
    "plt.suptitle('Sine Wave')\n",
    "\n",
    "\n",
    "def update_plot(amp, phase, freq):\n",
    "    \n",
    "    ax.clear()\n",
    "    y = amp * np.sin(freq * 2 * np.pi * x + phase * 2 * np.pi)\n",
    "    units = 'amp = {} $(psi)$ \\nphase = {} $(s)$ \\nfreq = {} $(Hz)$'\n",
    "    \n",
    "    ax.plot(x, y, label=units.format(amp, phase, freq))\n",
    "    ax.set_xlim(x[0], x[-1])\n",
    "    ax.legend(loc=1)\n",
    "    ax.set_xlabel('$(s)$')\n",
    "    plt.show()\n",
    "\n",
    "\n",
    "amp = widgets.FloatSlider(min=1, max=10, value=1, description='Amp:')\n",
    "phase = widgets.FloatSlider(min=0, max=5, value=0, description='Phase:')\n",
    "freq = widgets.FloatSlider(min=1, max=10, value=1, description='Freq:')\n",
    "  \n",
    "widgets.interactive(update_plot, amp=amp, phase=phase, freq=freq)"
   ]
  },
  {
   "cell_type": "markdown",
   "metadata": {
    "extensions": {
     "jupyter_dashboards": {
      "version": 1,
      "views": {
       "grid_default": {},
       "report_default": {}
      }
     }
    }
   },
   "source": [
    "# IntSlider"
   ]
  },
  {
   "cell_type": "code",
   "execution_count": 26,
   "metadata": {
    "extensions": {
     "jupyter_dashboards": {
      "version": 1,
      "views": {
       "grid_default": {},
       "report_default": {}
      }
     }
    }
   },
   "outputs": [
    {
     "data": {
      "application/vnd.jupyter.widget-view+json": {
       "model_id": "1b56796eb4444feb9a29497cee1df498",
       "version_major": 2,
       "version_minor": 0
      },
      "text/plain": [
       "interactive(children=(IntSlider(value=5, continuous_update=False, description='Square:', max=10), Output()), _…"
      ]
     },
     "metadata": {},
     "output_type": "display_data"
    }
   ],
   "source": [
    "# IntSlider\n",
    "# square number\n",
    "\n",
    "slider = widgets.IntSlider(value=5,\n",
    "                              min=0,\n",
    "                              max=10,\n",
    "                              step=1,\n",
    "                              description='Square:',\n",
    "                              disabled=False,\n",
    "                              continuous_update=False,\n",
    "                              orientation='horizontal',\n",
    "                              readout=True,\n",
    "                              readout_format='d')\n",
    "\n",
    "def square1(number):\n",
    "    print(number*number)\n",
    "    return number*number\n",
    "\n",
    "widgets.interactive(square1, number=slider)"
   ]
  },
  {
   "cell_type": "code",
   "execution_count": 27,
   "metadata": {
    "extensions": {
     "jupyter_dashboards": {
      "version": 1,
      "views": {
       "grid_default": {},
       "report_default": {}
      }
     }
    }
   },
   "outputs": [
    {
     "data": {
      "application/vnd.jupyter.widget-view+json": {
       "model_id": "b2aac586a68a45cdb26eb4027b857344",
       "version_major": 2,
       "version_minor": 0
      },
      "text/plain": [
       "interactive(children=(IntSlider(value=5, description='number', max=10), Output()), _dom_classes=('widget-inter…"
      ]
     },
     "metadata": {},
     "output_type": "display_data"
    }
   ],
   "source": [
    "# IntSlider with function\n",
    "# square number\n",
    "\n",
    "def square2(number):\n",
    "    return number*number\n",
    "    \n",
    "widgets.interact(square2, number=(0,10));"
   ]
  },
  {
   "cell_type": "code",
   "execution_count": 29,
   "metadata": {
    "extensions": {
     "jupyter_dashboards": {
      "version": 1,
      "views": {
       "grid_default": {},
       "report_default": {}
      }
     }
    }
   },
   "outputs": [
    {
     "data": {
      "application/vnd.jupyter.widget-view+json": {
       "model_id": "2859c495dd2749a882d5c2b17f45fe34",
       "version_major": 2,
       "version_minor": 0
      },
      "text/plain": [
       "interactive(children=(IntSlider(value=5, description='number', max=10, min=1), Output()), _dom_classes=('widge…"
      ]
     },
     "metadata": {},
     "output_type": "display_data"
    }
   ],
   "source": [
    "# IntSlider with decorator\n",
    "# square number\n",
    "\n",
    "@widgets.interact(number=(1,10))\n",
    "def square3(number):\n",
    "    return number*number"
   ]
  },
  {
   "cell_type": "markdown",
   "metadata": {
    "extensions": {
     "jupyter_dashboards": {
      "version": 1,
      "views": {
       "grid_default": {},
       "report_default": {}
      }
     }
    }
   },
   "source": [
    "# BoundedIntText"
   ]
  },
  {
   "cell_type": "code",
   "execution_count": 35,
   "metadata": {
    "extensions": {
     "jupyter_dashboards": {
      "version": 1,
      "views": {
       "grid_default": {},
       "report_default": {}
      }
     }
    }
   },
   "outputs": [
    {
     "data": {
      "application/vnd.jupyter.widget-view+json": {
       "model_id": "7cb7bc3d101a4407a4e1e57bddd2b8dc",
       "version_major": 2,
       "version_minor": 0
      },
      "text/plain": [
       "interactive(children=(BoundedIntText(value=50, description='Bins:', min=25), Output()), _dom_classes=('widget-…"
      ]
     },
     "metadata": {},
     "output_type": "display_data"
    }
   ],
   "source": [
    "# make chart interactive\n",
    "# change number of bins for histogram\n",
    "\n",
    "import matplotlib.pyplot as plt\n",
    "%matplotlib inline\n",
    "from vega_datasets import data\n",
    "\n",
    "# data\n",
    "cars = data.cars()\n",
    "hist_data = cars['Miles_per_Gallon'].dropna()\n",
    "\n",
    "arrow = widgets.BoundedIntText(value=50,\n",
    "                                  min=25,\n",
    "                                  max=100,\n",
    "                                  step=1,\n",
    "                                  description='Bins:',\n",
    "                                  disabled=False)\n",
    "\n",
    "def create_histogram(bins):\n",
    "    plt.hist(hist_data, bins=bins)\n",
    "    \n",
    "widgets.interact(create_histogram, bins=arrow);"
   ]
  },
  {
   "cell_type": "markdown",
   "metadata": {
    "extensions": {
     "jupyter_dashboards": {
      "version": 1,
      "views": {
       "grid_default": {},
       "report_default": {}
      }
     }
    }
   },
   "source": [
    "# Checkbox"
   ]
  },
  {
   "cell_type": "code",
   "execution_count": 9,
   "metadata": {
    "extensions": {
     "jupyter_dashboards": {
      "version": 1,
      "views": {
       "grid_default": {},
       "report_default": {}
      }
     }
    }
   },
   "outputs": [],
   "source": [
    "# # add map layers to cartopy map\n",
    "# !pip install cartopy\n",
    "# from ipywidgets import Layout\n",
    "# import matplotlib.pyplot as plt\n",
    "# import cartopy.crs as ccrs\n",
    "# import cartopy.feature as cfeature\n",
    "\n",
    "# land = ipywidgets.Checkbox(description='land', style={'description_width': 'initial'})\n",
    "# ocean = ipywidgets.Checkbox(description='ocean', style={'description_width': 'initial'})\n",
    "# coastline = ipywidgets.Checkbox(description='coastline', style={'description_width': 'initial'})\n",
    "# borders = ipywidgets.Checkbox(description='borders', style={'description_width': 'initial'})\n",
    "# lakes = ipywidgets.Checkbox(description='lakes', style={'description_width': 'initial'})\n",
    "# rivers = ipywidgets.Checkbox(description='rivers', style={'description_width': 'initial'})\n",
    "# plot_locations = ipywidgets.Checkbox(description='plot_locations', style={'description_width': 'initial'})\n",
    "\n",
    "# box_layout = ipywidgets.Layout(display='inline-flex',                               \n",
    "#                                flex_flow='row',\n",
    "#                                align_items='stretch',\n",
    "#                                border='solid',\n",
    "#                                width='100%')\n",
    "\n",
    "# ui = ipywidgets.HBox([land, ocean, coastline, borders, lakes, rivers, plot_locations], layout=box_layout)\n",
    "\n",
    "# def create_map(land,ocean,coastline,borders,lakes,rivers,plot_locations):\n",
    "#     data_crs = ccrs.PlateCarree()\n",
    "#     fig = plt.figure(figsize=(12, 8))\n",
    "#     ax = fig.add_subplot(1, 1, 1, projection=data_crs)\n",
    "#     # make the map global rather than have it zoom in to the extents of any plotted data\n",
    "#     ax.set_global()\n",
    "#     if land == True: ax.add_feature(cfeature.LAND)\n",
    "#     if ocean == True: ax.add_feature(cfeature.OCEAN)\n",
    "#     if coastline == True: ax.add_feature(cfeature.COASTLINE)\n",
    "#     if borders == True: ax.add_feature(cfeature.BORDERS, linestyle=':')\n",
    "#     if lakes == True: ax.add_feature(cfeature.LAKES, alpha=0.5)\n",
    "#     if rivers == True: ax.add_feature(cfeature.RIVERS)\n",
    "#     if plot_locations == True:\n",
    "#         ny_lon, ny_lat = -75, 43\n",
    "#         delhi_lon, delhi_lat = 77.23, 28.61\n",
    "#         ax.plot(ny_lon, ny_lat, 'o', transform=data_crs)\n",
    "#         ax.plot(delhi_lon, delhi_lat, 'o', transform=data_crs)\n",
    "#         ax.text(ny_lon - 2, ny_lat - 4, 'New York', horizontalalignment='right', transform=data_crs)\n",
    "#         ax.text(delhi_lon + 1, delhi_lat - 6, 'Delhi', horizontalalignment='left', transform=data_crs)\n",
    "        \n",
    "# out = ipywidgets.interactive_output(create_map, {'land': land,\n",
    "#                                                  'ocean': ocean,\n",
    "#                                                  'coastline': coastline,\n",
    "#                                                  'borders': borders,\n",
    "#                                                  'lakes': lakes,\n",
    "#                                                  'rivers': rivers,\n",
    "#                                                  'plot_locations': plot_locations})\n",
    "\n",
    "# display(ui, out)"
   ]
  },
  {
   "cell_type": "markdown",
   "metadata": {
    "extensions": {
     "jupyter_dashboards": {
      "version": 1,
      "views": {
       "grid_default": {},
       "report_default": {}
      }
     }
    }
   },
   "source": [
    "# Dropdown"
   ]
  },
  {
   "cell_type": "code",
   "execution_count": 4,
   "metadata": {
    "extensions": {
     "jupyter_dashboards": {
      "version": 1,
      "views": {
       "grid_default": {},
       "report_default": {}
      }
     }
    }
   },
   "outputs": [
    {
     "data": {
      "application/vnd.jupyter.widget-view+json": {
       "model_id": "3054ec53891c406f9c38af55b8c72661",
       "version_major": 2,
       "version_minor": 0
      },
      "text/plain": [
       "interactive(children=(Dropdown(description='Number:', options=(8, 9, 10, 11, 12, 13, 14, 15, 16, 17, 18, 19, 2…"
      ]
     },
     "metadata": {},
     "output_type": "display_data"
    }
   ],
   "source": [
    "# generate password\n",
    "\n",
    "drop_down = widgets.Dropdown(options=list(range(8,21)),\n",
    "                                value=8,\n",
    "                                description='Number:',\n",
    "                                disabled=False)\n",
    "\n",
    "def generate_password(length): \n",
    "    import string\n",
    "    import random\n",
    "    password_choices = string.ascii_letters+'123456789'+'!@#$%^&*'\n",
    "    password = [random.choice(password_choices) for _ in range(length)]\n",
    "    return ''.join(password)\n",
    "\n",
    "widgets.interact(generate_password, length=drop_down);"
   ]
  },
  {
   "cell_type": "code",
   "execution_count": 9,
   "metadata": {},
   "outputs": [
    {
     "data": {
      "application/vnd.jupyter.widget-view+json": {
       "model_id": "87f8f48b2bb0471f90431767e2ef440f",
       "version_major": 2,
       "version_minor": 0
      },
      "text/plain": [
       "interactive(children=(Dropdown(description='Device:', options=(8, 9, 10, 11, 12, 13, 14, 15, 16, 17, 18, 19, 2…"
      ]
     },
     "metadata": {},
     "output_type": "display_data"
    }
   ],
   "source": [
    "\n",
    "drop_down = widgets.Dropdown(options=list(range(8,21)),\n",
    "                                value=8,\n",
    "                                description='Device:',\n",
    "                                disabled=False)\n",
    "\n",
    "def generate_password(sensor): \n",
    "    \n",
    "    print(\"Sensor chosen is \"+str(sensor))\n",
    "    return \"Sensor chosen is \"+str(sensor)\n",
    "\n",
    "widgets.interact(generate_password, sensor=drop_down);"
   ]
  },
  {
   "cell_type": "markdown",
   "metadata": {
    "extensions": {
     "jupyter_dashboards": {
      "version": 1,
      "views": {
       "grid_default": {},
       "report_default": {}
      }
     }
    }
   },
   "source": [
    "# Text"
   ]
  },
  {
   "cell_type": "code",
   "execution_count": 46,
   "metadata": {
    "extensions": {
     "jupyter_dashboards": {
      "version": 1,
      "views": {
       "grid_default": {},
       "report_default": {}
      }
     }
    }
   },
   "outputs": [
    {
     "data": {
      "application/vnd.jupyter.widget-view+json": {
       "model_id": "a3bb27576fde459c80a01d324c92aec0",
       "version_major": 2,
       "version_minor": 0
      },
      "text/plain": [
       "HTML(value='Enter your name:')"
      ]
     },
     "metadata": {},
     "output_type": "display_data"
    },
    {
     "data": {
      "application/vnd.jupyter.widget-view+json": {
       "model_id": "5860b65f6b6e4f748aff10b70c266633",
       "version_major": 2,
       "version_minor": 0
      },
      "text/plain": [
       "Text(value='', description='String:', placeholder='type here')"
      ]
     },
     "metadata": {},
     "output_type": "display_data"
    },
    {
     "name": "stdout",
     "output_type": "stream",
     "text": [
      "Hello Monika Sonali\n",
      "Hello Monika Sonali /\n"
     ]
    }
   ],
   "source": [
    "# take user input\n",
    "\n",
    "text = widgets.Text(value='',\n",
    "                       placeholder='type here',\n",
    "                       description='String:',\n",
    "                       disabled=False)\n",
    "\n",
    "instructions = widgets.widgets.HTML('Enter your name:')\n",
    "display(instructions)\n",
    "\n",
    "display(text)\n",
    "\n",
    "def submit(greeting):\n",
    "    print('Hello {}'.format(text.value))\n",
    "\n",
    "text.on_submit(submit)"
   ]
  },
  {
   "cell_type": "markdown",
   "metadata": {
    "extensions": {
     "jupyter_dashboards": {
      "version": 1,
      "views": {
       "grid_default": {},
       "report_default": {}
      }
     }
    }
   },
   "source": [
    "# Link Widgets"
   ]
  },
  {
   "cell_type": "code",
   "execution_count": 47,
   "metadata": {
    "extensions": {
     "jupyter_dashboards": {
      "version": 1,
      "views": {
       "grid_default": {},
       "report_default": {}
      }
     }
    }
   },
   "outputs": [
    {
     "data": {
      "application/vnd.jupyter.widget-view+json": {
       "model_id": "8d8e6d1295934621a7671f37bc11b57a",
       "version_major": 2,
       "version_minor": 0
      },
      "text/plain": [
       "FloatText(value=0.0)"
      ]
     },
     "metadata": {},
     "output_type": "display_data"
    },
    {
     "data": {
      "application/vnd.jupyter.widget-view+json": {
       "model_id": "4efac87f93824fc39bc9814812ceeee5",
       "version_major": 2,
       "version_minor": 0
      },
      "text/plain": [
       "FloatLogSlider(value=1.0)"
      ]
     },
     "metadata": {},
     "output_type": "display_data"
    }
   ],
   "source": [
    "# link widgets together\n",
    "\n",
    "a = widgets.widgets.FloatText()\n",
    "b = widgets.widgets.FloatLogSlider()\n",
    "display(a,b)\n",
    "\n",
    "link_widgets = widgets.link((a, 'value'), (b, 'value'))"
   ]
  },
  {
   "cell_type": "code",
   "execution_count": 17,
   "metadata": {
    "extensions": {
     "jupyter_dashboards": {
      "version": 1,
      "views": {
       "grid_default": {},
       "report_default": {}
      }
     }
    }
   },
   "outputs": [],
   "source": [
    "# ipywidgets.link?"
   ]
  },
  {
   "cell_type": "markdown",
   "metadata": {
    "extensions": {
     "jupyter_dashboards": {
      "version": 1,
      "views": {
       "grid_default": {},
       "report_default": {}
      }
     }
    }
   },
   "source": [
    "# Interact Manual"
   ]
  },
  {
   "cell_type": "code",
   "execution_count": 29,
   "metadata": {
    "extensions": {
     "jupyter_dashboards": {
      "version": 1,
      "views": {
       "grid_default": {},
       "report_default": {}
      }
     }
    }
   },
   "outputs": [
    {
     "data": {
      "application/vnd.jupyter.widget-view+json": {
       "model_id": "39b80a37ed774c2d8597c142c91a72ae",
       "version_major": 2,
       "version_minor": 0
      },
      "text/plain": [
       "interactive(children=(Button(description='Run Interact', style=ButtonStyle()), Output()), _dom_classes=('widge…"
      ]
     },
     "metadata": {},
     "output_type": "display_data"
    }
   ],
   "source": [
    "# choose from list at random\n",
    "\n",
    "import random\n",
    "\n",
    "@widgets.interact_manual()\n",
    "def random_choice():\n",
    "    l = list('abcdefghijklmnopqrstuvwxyz')\n",
    "    print(random.choice(l))"
   ]
  },
  {
   "cell_type": "code",
   "execution_count": 31,
   "metadata": {
    "extensions": {
     "jupyter_dashboards": {
      "version": 1,
      "views": {
       "grid_default": {},
       "report_default": {}
      }
     }
    }
   },
   "outputs": [],
   "source": [
    "# randomly change color of image\n",
    "\n",
    "# import random\n",
    "# from PIL import Image\n",
    "\n",
    "# @ipywidgets.interact_manual()\n",
    "# def random_choice():\n",
    "#     flower = Image.open('path/img.jpg')\n",
    "#     r, g, b = flower.split()\n",
    "#     x = random.choice([r, g, b])\n",
    "#     y = random.choice([r, g, b])\n",
    "#     z = random.choice([r, g, b])\n",
    "#     flower_color = Image.merge('RGB', (x, y, z))\n",
    "#     flower_color.show()"
   ]
  },
  {
   "cell_type": "code",
   "execution_count": 39,
   "metadata": {
    "extensions": {
     "jupyter_dashboards": {
      "version": 1,
      "views": {
       "grid_default": {},
       "report_default": {}
      }
     }
    }
   },
   "outputs": [
    {
     "data": {
      "application/vnd.jupyter.widget-view+json": {
       "model_id": "8449628c411f4d70a8182580926cda8f",
       "version_major": 2,
       "version_minor": 0
      },
      "text/plain": [
       "HBox(children=(DatePicker(value=None, description='Start Date'), DatePicker(value=None, description='End Date'…"
      ]
     },
     "metadata": {},
     "output_type": "display_data"
    }
   ],
   "source": [
    "from __future__ import print_function\n",
    "from ipywidgets import interact, interactive, fixed, interact_manual, Layout\n",
    "import ipywidgets as widgets\n",
    "import datetime\n",
    "\n",
    "\n",
    "start_date = widgets.DatePicker(\n",
    "    description='Start Date',\n",
    "    disabled=False\n",
    ")\n",
    "end_date = widgets.DatePicker(\n",
    "    description='End Date',\n",
    "    disabled=False\n",
    ")\n",
    "\n",
    "widgets.HBox([start_date, end_date])"
   ]
  },
  {
   "cell_type": "code",
   "execution_count": 33,
   "metadata": {
    "extensions": {
     "jupyter_dashboards": {
      "version": 1,
      "views": {
       "grid_default": {},
       "report_default": {}
      }
     }
    }
   },
   "outputs": [],
   "source": [
    "# Displaying method 2 \n",
    "# from IPython.display import display\n",
    "# display(start_date, end_date)"
   ]
  },
  {
   "cell_type": "code",
   "execution_count": 34,
   "metadata": {
    "extensions": {
     "jupyter_dashboards": {
      "version": 1,
      "views": {
       "grid_default": {},
       "report_default": {}
      }
     }
    }
   },
   "outputs": [],
   "source": [
    "# linkDate = widgets.jslink((start_date, 'value'), (end_date, 'value'))\n",
    "# linkDate"
   ]
  },
  {
   "cell_type": "code",
   "execution_count": 35,
   "metadata": {
    "extensions": {
     "jupyter_dashboards": {
      "version": 1,
      "views": {
       "grid_default": {},
       "report_default": {}
      }
     }
    }
   },
   "outputs": [
    {
     "data": {
      "application/vnd.jupyter.widget-view+json": {
       "model_id": "a36b83c0f44f488390f106e404510161",
       "version_major": 2,
       "version_minor": 0
      },
      "text/plain": [
       "VBox(children=(HBox(children=(DatePicker(value=datetime.date(2022, 5, 11), description='Start Date'), DatePick…"
      ]
     },
     "metadata": {},
     "output_type": "display_data"
    }
   ],
   "source": [
    "def f(start, end):\n",
    "    print('start date: {}, end date: {}'.format(start, end))\n",
    "\n",
    "out = widgets.interactive_output(f, {'start': start_date, 'end': end_date})\n",
    "\n",
    "# widgets.HBox([widgets.VBox([start_date, end_date]), out])\n",
    "widgets.VBox([widgets.HBox([start_date, end_date]), out])"
   ]
  },
  {
   "cell_type": "code",
   "execution_count": 36,
   "metadata": {
    "extensions": {
     "jupyter_dashboards": {
      "version": 1,
      "views": {
       "grid_default": {},
       "report_default": {}
      }
     }
    }
   },
   "outputs": [
    {
     "data": {
      "application/vnd.jupyter.widget-view+json": {
       "model_id": "d17b6f4f680c4504bc3f3431c24c5243",
       "version_major": 2,
       "version_minor": 0
      },
      "text/plain": [
       "VBox(children=(HBox(children=(DatePicker(value=datetime.date(2022, 5, 11), description='Start Date'), DatePick…"
      ]
     },
     "metadata": {},
     "output_type": "display_data"
    }
   ],
   "source": [
    "widgets.VBox([widgets.HBox([start_date, end_date]), out])"
   ]
  },
  {
   "cell_type": "code",
   "execution_count": 44,
   "metadata": {
    "extensions": {
     "jupyter_dashboards": {
      "version": 1,
      "views": {
       "grid_default": {},
       "report_default": {}
      }
     }
    }
   },
   "outputs": [
    {
     "data": {
      "application/vnd.jupyter.widget-view+json": {
       "model_id": "1845e50b2f0d4275b580815aaca6322b",
       "version_major": 2,
       "version_minor": 0
      },
      "text/plain": [
       "VBox(children=(HBox(children=(DatePicker(value=None, description='From Date'), DatePicker(value=None, descript…"
      ]
     },
     "metadata": {},
     "output_type": "display_data"
    },
    {
     "name": "stdout",
     "output_type": "stream",
     "text": [
      "Collecting data !!!\n"
     ]
    }
   ],
   "source": [
    "\n",
    "from_date = widgets.DatePicker(\n",
    "    description='From Date',\n",
    "    disabled=False\n",
    ")\n",
    "to_date = widgets.DatePicker(\n",
    "    description='To Date',\n",
    "    disabled=False\n",
    ")\n",
    "\n",
    "def f(fromD, to):\n",
    "    if fromD!=None and to!=None:\n",
    "        print('Collecting data from {} to {}'.format(fromD, to))\n",
    "\n",
    "out = widgets.interactive_output(f, {'fromD': from_date, 'to': to_date})\n",
    "\n",
    "# widgets.HBox([widgets.VBox([start_date, end_date]), out])\n",
    "\n",
    "# https://github.com/ChakriCherukuri/mlviz/blob/master/notebooks/supervised-learning/linear-regression.ipynb\n",
    "def refresh(*args):\n",
    "    print(\"Collecting data !!!\")\n",
    "    return \"Collecting data !\"\n",
    "\n",
    "\n",
    "\n",
    "from ipywidgets import Button\n",
    "reset_button = Button(description='Refresh', button_style='success')\n",
    "reset_button.layout.margin = '0px 30px 0px 60px'\n",
    "reset_button.on_click(lambda btn: refresh())\n",
    "\n",
    "\n",
    "widgets.VBox([widgets.HBox([from_date, to_date, reset_button]), out])"
   ]
  },
  {
   "cell_type": "code",
   "execution_count": 40,
   "metadata": {
    "extensions": {
     "jupyter_dashboards": {
      "version": 1,
      "views": {
       "grid_default": {},
       "report_default": {}
      }
     }
    }
   },
   "outputs": [],
   "source": []
  },
  {
   "cell_type": "code",
   "execution_count": null,
   "metadata": {
    "extensions": {
     "jupyter_dashboards": {
      "version": 1,
      "views": {
       "grid_default": {},
       "report_default": {}
      }
     }
    }
   },
   "outputs": [],
   "source": []
  },
  {
   "cell_type": "code",
   "execution_count": null,
   "metadata": {
    "extensions": {
     "jupyter_dashboards": {
      "version": 1,
      "views": {
       "grid_default": {},
       "report_default": {}
      }
     }
    }
   },
   "outputs": [],
   "source": []
  },
  {
   "cell_type": "code",
   "execution_count": null,
   "metadata": {
    "extensions": {
     "jupyter_dashboards": {
      "version": 1,
      "views": {
       "grid_default": {},
       "report_default": {}
      }
     }
    }
   },
   "outputs": [],
   "source": []
  },
  {
   "cell_type": "code",
   "execution_count": null,
   "metadata": {
    "extensions": {
     "jupyter_dashboards": {
      "version": 1,
      "views": {
       "grid_default": {},
       "report_default": {}
      }
     }
    }
   },
   "outputs": [],
   "source": []
  },
  {
   "cell_type": "code",
   "execution_count": null,
   "metadata": {
    "extensions": {
     "jupyter_dashboards": {
      "version": 1,
      "views": {
       "grid_default": {},
       "report_default": {}
      }
     }
    }
   },
   "outputs": [],
   "source": []
  },
  {
   "cell_type": "code",
   "execution_count": null,
   "metadata": {
    "extensions": {
     "jupyter_dashboards": {
      "version": 1,
      "views": {
       "grid_default": {},
       "report_default": {}
      }
     }
    }
   },
   "outputs": [],
   "source": []
  },
  {
   "cell_type": "code",
   "execution_count": null,
   "metadata": {
    "extensions": {
     "jupyter_dashboards": {
      "version": 1,
      "views": {
       "grid_default": {},
       "report_default": {}
      }
     }
    }
   },
   "outputs": [],
   "source": []
  },
  {
   "cell_type": "code",
   "execution_count": null,
   "metadata": {
    "extensions": {
     "jupyter_dashboards": {
      "version": 1,
      "views": {
       "grid_default": {},
       "report_default": {}
      }
     }
    }
   },
   "outputs": [],
   "source": []
  },
  {
   "cell_type": "code",
   "execution_count": null,
   "metadata": {
    "extensions": {
     "jupyter_dashboards": {
      "version": 1,
      "views": {
       "grid_default": {},
       "report_default": {}
      }
     }
    }
   },
   "outputs": [],
   "source": []
  },
  {
   "cell_type": "code",
   "execution_count": null,
   "metadata": {
    "extensions": {
     "jupyter_dashboards": {
      "version": 1,
      "views": {
       "grid_default": {},
       "report_default": {}
      }
     }
    }
   },
   "outputs": [],
   "source": []
  },
  {
   "cell_type": "code",
   "execution_count": null,
   "metadata": {
    "extensions": {
     "jupyter_dashboards": {
      "version": 1,
      "views": {
       "grid_default": {},
       "report_default": {}
      }
     }
    }
   },
   "outputs": [],
   "source": []
  },
  {
   "cell_type": "code",
   "execution_count": null,
   "metadata": {
    "extensions": {
     "jupyter_dashboards": {
      "version": 1,
      "views": {
       "grid_default": {},
       "report_default": {}
      }
     }
    }
   },
   "outputs": [],
   "source": []
  },
  {
   "cell_type": "code",
   "execution_count": null,
   "metadata": {
    "extensions": {
     "jupyter_dashboards": {
      "version": 1,
      "views": {
       "grid_default": {},
       "report_default": {}
      }
     }
    }
   },
   "outputs": [],
   "source": []
  },
  {
   "cell_type": "code",
   "execution_count": null,
   "metadata": {
    "extensions": {
     "jupyter_dashboards": {
      "version": 1,
      "views": {
       "grid_default": {},
       "report_default": {}
      }
     }
    }
   },
   "outputs": [],
   "source": []
  },
  {
   "cell_type": "code",
   "execution_count": null,
   "metadata": {},
   "outputs": [],
   "source": []
  },
  {
   "cell_type": "code",
   "execution_count": null,
   "metadata": {},
   "outputs": [],
   "source": []
  },
  {
   "cell_type": "code",
   "execution_count": null,
   "metadata": {},
   "outputs": [],
   "source": []
  },
  {
   "cell_type": "code",
   "execution_count": null,
   "metadata": {},
   "outputs": [],
   "source": []
  },
  {
   "cell_type": "code",
   "execution_count": null,
   "metadata": {},
   "outputs": [],
   "source": []
  },
  {
   "cell_type": "code",
   "execution_count": null,
   "metadata": {},
   "outputs": [],
   "source": []
  },
  {
   "cell_type": "code",
   "execution_count": null,
   "metadata": {},
   "outputs": [],
   "source": []
  },
  {
   "cell_type": "code",
   "execution_count": null,
   "metadata": {},
   "outputs": [],
   "source": []
  },
  {
   "cell_type": "code",
   "execution_count": null,
   "metadata": {},
   "outputs": [],
   "source": []
  },
  {
   "cell_type": "code",
   "execution_count": null,
   "metadata": {},
   "outputs": [],
   "source": []
  },
  {
   "cell_type": "code",
   "execution_count": null,
   "metadata": {},
   "outputs": [],
   "source": []
  },
  {
   "cell_type": "code",
   "execution_count": null,
   "metadata": {},
   "outputs": [],
   "source": []
  },
  {
   "cell_type": "code",
   "execution_count": null,
   "metadata": {},
   "outputs": [],
   "source": []
  },
  {
   "cell_type": "code",
   "execution_count": null,
   "metadata": {},
   "outputs": [],
   "source": []
  },
  {
   "cell_type": "code",
   "execution_count": null,
   "metadata": {},
   "outputs": [],
   "source": []
  },
  {
   "cell_type": "code",
   "execution_count": null,
   "metadata": {},
   "outputs": [],
   "source": []
  },
  {
   "cell_type": "code",
   "execution_count": null,
   "metadata": {},
   "outputs": [],
   "source": []
  },
  {
   "cell_type": "code",
   "execution_count": null,
   "metadata": {},
   "outputs": [],
   "source": []
  },
  {
   "cell_type": "code",
   "execution_count": null,
   "metadata": {},
   "outputs": [],
   "source": []
  },
  {
   "cell_type": "code",
   "execution_count": null,
   "metadata": {},
   "outputs": [],
   "source": []
  },
  {
   "cell_type": "code",
   "execution_count": null,
   "metadata": {},
   "outputs": [],
   "source": []
  },
  {
   "cell_type": "code",
   "execution_count": null,
   "metadata": {},
   "outputs": [],
   "source": []
  },
  {
   "cell_type": "code",
   "execution_count": null,
   "metadata": {},
   "outputs": [],
   "source": []
  },
  {
   "cell_type": "code",
   "execution_count": null,
   "metadata": {},
   "outputs": [],
   "source": []
  },
  {
   "cell_type": "code",
   "execution_count": null,
   "metadata": {},
   "outputs": [],
   "source": []
  },
  {
   "cell_type": "code",
   "execution_count": null,
   "metadata": {},
   "outputs": [],
   "source": []
  },
  {
   "cell_type": "code",
   "execution_count": null,
   "metadata": {},
   "outputs": [],
   "source": []
  },
  {
   "cell_type": "code",
   "execution_count": null,
   "metadata": {},
   "outputs": [],
   "source": []
  },
  {
   "cell_type": "code",
   "execution_count": null,
   "metadata": {},
   "outputs": [],
   "source": []
  },
  {
   "cell_type": "code",
   "execution_count": null,
   "metadata": {},
   "outputs": [],
   "source": []
  }
 ],
 "metadata": {
  "kernelspec": {
   "display_name": "Python 3 (ipykernel)",
   "language": "python",
   "name": "python3"
  },
  "language_info": {
   "codemirror_mode": {
    "name": "ipython",
    "version": 3
   },
   "file_extension": ".py",
   "mimetype": "text/x-python",
   "name": "python",
   "nbconvert_exporter": "python",
   "pygments_lexer": "ipython3",
   "version": "3.8.10"
  },
  "widgets": {
   "application/vnd.jupyter.widget-state+json": {
    "state": {
     "2c78a3895f334540ad3e38d0148c45ea": {
      "model_module": "@jupyter-widgets/base",
      "model_module_version": "1.2.0",
      "model_name": "LayoutModel",
      "state": {}
     },
     "6f18184cd54143a8be5ae6b5d4988556": {
      "model_module": "@jupyter-widgets/controls",
      "model_module_version": "1.5.0",
      "model_name": "SliderStyleModel",
      "state": {
       "description_width": ""
      }
     },
     "80ffcf9c1e604762a6af4bccebc2e674": {
      "model_module": "@jupyter-widgets/controls",
      "model_module_version": "1.5.0",
      "model_name": "DescriptionStyleModel",
      "state": {
       "description_width": ""
      }
     },
     "a1af6ad63d1944659e3eec28f4932018": {
      "model_module": "@jupyter-widgets/base",
      "model_module_version": "1.2.0",
      "model_name": "LayoutModel",
      "state": {}
     },
     "aedbf8d9598f415ba2d2374782d8883a": {
      "model_module": "@jupyter-widgets/controls",
      "model_module_version": "1.5.0",
      "model_name": "VBoxModel",
      "state": {
       "children": [
        "IPY_MODEL_d3942e3cc85d4c4397daa2525d0c7069",
        "IPY_MODEL_bffcc7a4924c4be09b11ea55b9adf8d0"
       ],
       "layout": "IPY_MODEL_a1af6ad63d1944659e3eec28f4932018"
      }
     },
     "bffcc7a4924c4be09b11ea55b9adf8d0": {
      "model_module": "@jupyter-widgets/controls",
      "model_module_version": "1.5.0",
      "model_name": "FloatTextModel",
      "state": {
       "description": "$x^2$",
       "disabled": true,
       "layout": "IPY_MODEL_2c78a3895f334540ad3e38d0148c45ea",
       "step": null,
       "style": "IPY_MODEL_80ffcf9c1e604762a6af4bccebc2e674",
       "value": 1332.25
      }
     },
     "cee7f33c0127479f88eba968cf95a0c7": {
      "model_module": "@jupyter-widgets/base",
      "model_module_version": "1.2.0",
      "model_name": "LayoutModel",
      "state": {}
     },
     "d3942e3cc85d4c4397daa2525d0c7069": {
      "model_module": "@jupyter-widgets/controls",
      "model_module_version": "1.5.0",
      "model_name": "FloatSliderModel",
      "state": {
       "description": "$x$",
       "layout": "IPY_MODEL_cee7f33c0127479f88eba968cf95a0c7",
       "step": 0.1,
       "style": "IPY_MODEL_6f18184cd54143a8be5ae6b5d4988556",
       "value": 36.5
      }
     }
    },
    "version_major": 2,
    "version_minor": 0
   }
  }
 },
 "nbformat": 4,
 "nbformat_minor": 4
}
