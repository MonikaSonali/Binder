{
 "cells": [
  {
   "cell_type": "markdown",
   "id": "1a7c1acb",
   "metadata": {},
   "source": [
    "#                            PUNE FLOOD SENSOR ANALYSIS"
   ]
  },
  {
   "cell_type": "code",
   "execution_count": 1,
   "id": "b227a34c",
   "metadata": {},
   "outputs": [],
   "source": [
    "import pandas as pd\n",
    "import glob\n",
    "import ipywidgets as widgets\n",
    "import plotly.express as px\n",
    "import json\n",
    "import seaborn as sns\n",
    "import matplotlib.pyplot as plt\n",
    "import ast\n",
    "import requests\n",
    "import datetime\n",
    "import folium\n",
    "from folium import plugins"
   ]
  },
  {
   "cell_type": "code",
   "execution_count": 2,
   "id": "4b38c75c",
   "metadata": {},
   "outputs": [],
   "source": [
    "import warnings\n",
    "warnings.filterwarnings('ignore')\n",
    "warnings.simplefilter('ignore')"
   ]
  },
  {
   "cell_type": "code",
   "execution_count": 3,
   "id": "f4de4cef",
   "metadata": {},
   "outputs": [],
   "source": [
    "def getToken(itemid,resourceType):\n",
    "    try:\n",
    "        \n",
    "        if resourceType == \"private\":\n",
    "            url = \"https://authorization.iudx.org.in/auth/v1/token\"\n",
    "            payload = '{\"itemId\":\"'+itemid+'\",\"itemType\": \"resource\",\"role\": \"consumer\"}'\n",
    "            headers = {\n",
    "              'clientId': '6e35f7e5-b1aa-4117-8485-1acc78f054ab',\n",
    "              'clientSecret': '19496cf8b6817fee23ca45e9409a4d2b6b456ada',\n",
    "              'Content-Type': 'application/json'\n",
    "            }\n",
    "            response = requests.request(\"POST\", url, headers=headers, data=payload)\n",
    "            return str(response.json()[\"results\"][\"accessToken\"])\n",
    "        \n",
    "        elif resourceType == \"public\":            \n",
    "            url = \"https://authorization.iudx.org.in/auth/v1/token\"\n",
    "            payload = '{\"itemId\": \"rs.iudx.org.in\",\"itemType\": \"resource_server\",\"role\": \"consumer\"}'                \n",
    "            headers = {\n",
    "              'clientId': '6e35f7e5-b1aa-4117-8485-1acc78f054ab',\n",
    "              'clientSecret': '19496cf8b6817fee23ca45e9409a4d2b6b456ada',\n",
    "              'Content-Type': 'application/json'\n",
    "            }\n",
    "            response = requests.request(\"POST\", url, headers=headers, data=payload)\n",
    "            return str(response.json()[\"results\"][\"accessToken\"])\n",
    "    \n",
    "    except Exception as e:\n",
    "        print(\"Error Occurred while fetching token -> \",e)\n",
    "\n",
    "\n",
    " "
   ]
  },
  {
   "cell_type": "code",
   "execution_count": 4,
   "id": "c8a633fd",
   "metadata": {},
   "outputs": [
    {
     "name": "stdout",
     "output_type": "stream",
     "text": [
      "No of Sensors that have given data :  43 out of 46 total sensors\n",
      "Flood Sensors which have not given data are :  ['FWR033', 'FWR022', 'FWR049']\n"
     ]
    }
   ],
   "source": [
    "\n",
    "\n",
    "csvfiles = []\n",
    "for file in glob.glob(\"*.csv\"):\n",
    "    csvfiles.append(file)\n",
    "\n",
    "print(\"No of Sensors that have given data : \",len(csvfiles), \"out of 46 total sensors\")\n",
    "\n",
    "# csvfiles\n",
    "\n",
    "devices = ['FWR013','FWR015','FWR016','FWR017','FWR018','FWR019','FWR020','FWR021','FWR022','FWR023','FWR024',\n",
    " 'FWR025','FWR026','FWR030','FWR033','FWR034','FWR035','FWR036','FWR037','FWR039','FWR044','FWR045',\n",
    " 'FWR046','FWR047','FWR048','FWR049','FWR050','FWR051','FWR052','FWR053','FWR054','FWR055','FWR056',\n",
    " 'FWR057','FWR058','FWR059','FWR060','FWR061','FWR063','FWR064','FWR065','FWR066','FWR067','FWR068',\n",
    " 'FWR069','FWR070']\n",
    "Allsensors = [ \"pune_flood_\"+i+\".csv\" for i in devices]\n",
    "\n",
    "# \n",
    "# print (\"Allsensors\",Allsensors)\n",
    "# print()\n",
    "# print (\"csvfiles\",csvfiles)\n",
    "# print()\n",
    "# print([ i.split(\"pune_flood_\")[1].split(\".\")[0] for i in set(Allsensors)-set(csvfiles)])\n",
    "print(\"Flood Sensors which have not given data are : \", [ i.split(\"pune_flood_\")[1].split(\".\")[0] for i in set(Allsensors)-set(csvfiles)])\n",
    "# No of Sensors that have given data :  43 out of 46 total sensors\n",
    "# Flood Sensors which have not given data are :  ['FWR033', 'FWR022', 'FWR049']\n"
   ]
  },
  {
   "cell_type": "markdown",
   "id": "579e8195",
   "metadata": {},
   "source": [
    "# Visualizing maximum distance measured  by all the flood sensors\n",
    "#### Click the pop up to see the sensor name and distance value"
   ]
  },
  {
   "cell_type": "code",
   "execution_count": 5,
   "id": "69408e37",
   "metadata": {},
   "outputs": [],
   "source": [
    "import xmltodict\n",
    "api = \"http://spatika.net/hydromet_dms/data_xfer/fms_data\"\n",
    "payload = {'usrkey': 'Gjy4rTjrt8Df'}\n",
    "response = requests.post(api, data=payload)\n",
    "dict_data = xmltodict.parse(response.content)\n",
    "result = dict_data[\"fms_data\"][\"fms_rec\"]\n",
    "L = []\n",
    "for item in result :\n",
    "    L.append(item[\"station_id\"])\n",
    "\n",
    "flood_sensor_loc = []\n",
    "for sensor in L :\n",
    "    s ={}\n",
    "    if sensor != \"FWR027\" and sensor != \"FWR071\":\n",
    "        url = \"https://api.catalogue.iudx.org.in/iudx/cat/v1/item?id=datakaveri.org/04a15c9960ffda227e9546f3f46e629e1fe4132b/rs.iudx.org.in/pune-env-flood/\"+sensor\n",
    "        res = requests.get(url)\n",
    "        res = res.json()[\"results\"] \n",
    "\n",
    "#         print(sensor,\" - \",res[0][\"location\"][\"geometry\"][\"coordinates\"])\n",
    "        s[\"device\"] = sensor\n",
    "        s[\"latitude\"] = res[0][\"location\"][\"geometry\"][\"coordinates\"][1]\n",
    "        s[\"longitude\"] = res[0][\"location\"][\"geometry\"][\"coordinates\"][0]\n",
    "\n",
    "        flood_sensor_loc.append(s)\n",
    "\n",
    "flood_loc_df = pd.DataFrame(flood_sensor_loc)\n",
    "# floodSensorCoords = [ [float(row[\"latitude\"]),float(row[\"longitude\"]),row[\"device\"]] for index, row in flood_loc_df.iterrows()]  \n"
   ]
  },
  {
   "cell_type": "code",
   "execution_count": null,
   "id": "e95c2dfd",
   "metadata": {
    "tags": [
     "hide-output"
    ]
   },
   "outputs": [],
   "source": [
    "!pip install git+https://github.com/datakaveri/iudx-python-sdk"
   ]
  },
  {
   "cell_type": "code",
   "execution_count": 6,
   "id": "a243dae5",
   "metadata": {},
   "outputs": [],
   "source": [
    "from iudx.rs.ResourceServer import ResourceServer\n",
    "from iudx.rs.ResourceQuery import ResourceQuery\n",
    "# itemid = \"\"\n",
    "# resourceType = \"\"\n",
    "token = getToken(\"\",\"public\")\n",
    "def latestQuery_Flood(endpoint,lat,long):\n",
    "    # entity id for the pune env aqm sensor.\n",
    "    entity_id = \"datakaveri.org/04a15c9960ffda227e9546f3f46e629e1fe4132b/rs.iudx.org.in/pune-env-flood/\"+endpoint\n",
    "\n",
    "    # creating an object of ResourceServer class using rs_url.\n",
    "    rs = ResourceServer(\n",
    "             rs_url=\"https://rs.iudx.org.in/ngsi-ld/v1\",\n",
    "             headers={\"content-type\": \"application/json\",\n",
    "                      \"token\":token\n",
    "                     }\n",
    "         )\n",
    "\n",
    "    # creating a query for fetching latest data for the entity_id.\n",
    "    rs_query = ResourceQuery()\n",
    "    rs_entity = rs_query.add_entity(entity_id)\n",
    "\n",
    "    # fetch results for a list of entities.\n",
    "    results = rs.get_latest([rs_entity])\n",
    "\n",
    "    # printing results\n",
    "#     print(f\"RESULTS: {results[0].results}\")        # get the result data of the resource query.\n",
    "#     print(f\"STATUS: {results[0].type}\")  \n",
    "    res = results[0].results\n",
    "    res[0][\"latitude\"] = lat\n",
    "    res[0][\"longitude\"] = long\n",
    "    res[0][\"Device\"] = endpoint\n",
    "#     print(\"res \",res[0])\n",
    "#     res[\"Institute_Organisation\"] = Institute\n",
    "    return res[0]\n"
   ]
  },
  {
   "cell_type": "code",
   "execution_count": 7,
   "id": "badda9ac",
   "metadata": {},
   "outputs": [],
   "source": [
    "F = [ latestQuery_Flood(i.device,i.latitude,i.longitude) for i in flood_loc_df.itertuples() if i.device != \"FWR027\" and i.device != \"FWR071\"]\n",
    "\n",
    "floodDF = pd.DataFrame(F)\n",
    "# floodDF"
   ]
  },
  {
   "cell_type": "code",
   "execution_count": 8,
   "id": "96cb597c",
   "metadata": {},
   "outputs": [
    {
     "data": {
      "text/html": [
       "<div style=\"width:100%;\"><div style=\"position:relative;width:100%;height:0;padding-bottom:60%;\"><span style=\"color:#565656\">Make this Notebook Trusted to load map: File -> Trust Notebook</span><iframe srcdoc=\"&lt;!DOCTYPE html&gt;\n",
       "&lt;head&gt;    \n",
       "    &lt;meta http-equiv=&quot;content-type&quot; content=&quot;text/html; charset=UTF-8&quot; /&gt;\n",
       "    \n",
       "        &lt;script&gt;\n",
       "            L_NO_TOUCH = false;\n",
       "            L_DISABLE_3D = false;\n",
       "        &lt;/script&gt;\n",
       "    \n",
       "    &lt;style&gt;html, body {width: 100%;height: 100%;margin: 0;padding: 0;}&lt;/style&gt;\n",
       "    &lt;style&gt;#map {position:absolute;top:0;bottom:0;right:0;left:0;}&lt;/style&gt;\n",
       "    &lt;script src=&quot;https://cdn.jsdelivr.net/npm/leaflet@1.6.0/dist/leaflet.js&quot;&gt;&lt;/script&gt;\n",
       "    &lt;script src=&quot;https://code.jquery.com/jquery-1.12.4.min.js&quot;&gt;&lt;/script&gt;\n",
       "    &lt;script src=&quot;https://maxcdn.bootstrapcdn.com/bootstrap/3.2.0/js/bootstrap.min.js&quot;&gt;&lt;/script&gt;\n",
       "    &lt;script src=&quot;https://cdnjs.cloudflare.com/ajax/libs/Leaflet.awesome-markers/2.0.2/leaflet.awesome-markers.js&quot;&gt;&lt;/script&gt;\n",
       "    &lt;link rel=&quot;stylesheet&quot; href=&quot;https://cdn.jsdelivr.net/npm/leaflet@1.6.0/dist/leaflet.css&quot;/&gt;\n",
       "    &lt;link rel=&quot;stylesheet&quot; href=&quot;https://maxcdn.bootstrapcdn.com/bootstrap/3.2.0/css/bootstrap.min.css&quot;/&gt;\n",
       "    &lt;link rel=&quot;stylesheet&quot; href=&quot;https://maxcdn.bootstrapcdn.com/bootstrap/3.2.0/css/bootstrap-theme.min.css&quot;/&gt;\n",
       "    &lt;link rel=&quot;stylesheet&quot; href=&quot;https://maxcdn.bootstrapcdn.com/font-awesome/4.6.3/css/font-awesome.min.css&quot;/&gt;\n",
       "    &lt;link rel=&quot;stylesheet&quot; href=&quot;https://cdnjs.cloudflare.com/ajax/libs/Leaflet.awesome-markers/2.0.2/leaflet.awesome-markers.css&quot;/&gt;\n",
       "    &lt;link rel=&quot;stylesheet&quot; href=&quot;https://cdn.jsdelivr.net/gh/python-visualization/folium/folium/templates/leaflet.awesome.rotate.min.css&quot;/&gt;\n",
       "    \n",
       "            &lt;meta name=&quot;viewport&quot; content=&quot;width=device-width,\n",
       "                initial-scale=1.0, maximum-scale=1.0, user-scalable=no&quot; /&gt;\n",
       "            &lt;style&gt;\n",
       "                #map_5be62211e478fff991979dcee3bc21a7 {\n",
       "                    position: relative;\n",
       "                    width: 100.0%;\n",
       "                    height: 100.0%;\n",
       "                    left: 0.0%;\n",
       "                    top: 0.0%;\n",
       "                }\n",
       "            &lt;/style&gt;\n",
       "        \n",
       "    &lt;script src=&quot;https://cdn.jsdelivr.net/gh/python-visualization/folium@master/folium/templates/leaflet_heat.min.js&quot;&gt;&lt;/script&gt;\n",
       "&lt;/head&gt;\n",
       "&lt;body&gt;    \n",
       "    \n",
       "            &lt;div class=&quot;folium-map&quot; id=&quot;map_5be62211e478fff991979dcee3bc21a7&quot; &gt;&lt;/div&gt;\n",
       "        \n",
       "&lt;/body&gt;\n",
       "&lt;script&gt;    \n",
       "    \n",
       "            var map_5be62211e478fff991979dcee3bc21a7 = L.map(\n",
       "                &quot;map_5be62211e478fff991979dcee3bc21a7&quot;,\n",
       "                {\n",
       "                    center: [18.547, 73.8633],\n",
       "                    crs: L.CRS.EPSG3857,\n",
       "                    zoom: 13,\n",
       "                    zoomControl: true,\n",
       "                    preferCanvas: false,\n",
       "                }\n",
       "            );\n",
       "\n",
       "            \n",
       "\n",
       "        \n",
       "    \n",
       "            var tile_layer_00c700ade58b88ba12dbc9843cbeae7f = L.tileLayer(\n",
       "                &quot;https://{s}.tile.openstreetmap.org/{z}/{x}/{y}.png&quot;,\n",
       "                {&quot;attribution&quot;: &quot;Data by \\u0026copy; \\u003ca href=\\&quot;http://openstreetmap.org\\&quot;\\u003eOpenStreetMap\\u003c/a\\u003e, under \\u003ca href=\\&quot;http://www.openstreetmap.org/copyright\\&quot;\\u003eODbL\\u003c/a\\u003e.&quot;, &quot;detectRetina&quot;: false, &quot;maxNativeZoom&quot;: 18, &quot;maxZoom&quot;: 18, &quot;minZoom&quot;: 0, &quot;noWrap&quot;: false, &quot;opacity&quot;: 1, &quot;subdomains&quot;: &quot;abc&quot;, &quot;tms&quot;: false}\n",
       "            ).addTo(map_5be62211e478fff991979dcee3bc21a7);\n",
       "        \n",
       "    \n",
       "            var heat_map_175c064c6d56115e58a883fb23931e4b = L.heatLayer(\n",
       "                [[18.489382, 73.895526, 3.61], [18.581647, 73.873011, 4.57], [18.4918, 73.863825, 2.73], [18.46013, 73.774537, 3.28], [18.536285, 73.791175, 4.54], [18.56235, 73.78405, 5.2], [18.54708, 73.798225, 4.85], [18.558611, 73.873944, 0.0], [18.467078, 73.81497, 4.08], [18.57595, 73.87652, 3.87], [18.480676, 73.822295, 2.67], [18.51329, 73.77026, 7.49], [18.481732, 73.852952, 3.52], [18.455577, 73.887711, 0.0], [18.56875, 73.87351, 11.14], [18.478267, 73.8318, 5.5], [18.513477, 73.84296, 4.44], [18.4691, 73.861, 6.05], [18.479271, 73.824593, 2.96], [18.518623, 73.861964, 5.67], [18.499747, 73.850911, 6.35], [18.448922, 73.839582, 3.54], [18.548194, 73.948909, 0.0], [18.47424, 73.857543, 4.48], [18.52085, 73.8494, 13.9], [18.52962, 73.8604, 13.6], [18.535548, 73.933558, 12.46], [18.5325, 73.8559, 13.71], [18.56794, 73.81145, 10.57], [18.554551, 73.863551, 9.46], [18.576225, 73.8261, 10.91], [18.488375, 73.82772, 2.05], [18.504515, 73.83652, 12.4], [18.49852, 73.82698, 5.87], [18.587, 73.75921, 13.1], [18.47449, 73.80939, 12.43], [18.573785, 73.83292, 9.35], [18.483555, 73.80282, 4.93], [18.541038, 73.904219, 14.07], [18.5432, 73.8836, 14.31], [18.56908, 73.87749, 5.37], [18.444614, 73.86131, 5.1], [18.562762, 73.828951, 2.98], [18.52438, 73.901408, 4.12], [18.476596, 73.822295, 4.48], [18.459801, 73.863522, 4.51]],\n",
       "                {&quot;blur&quot;: 15, &quot;maxZoom&quot;: 18, &quot;minOpacity&quot;: 0.5, &quot;radius&quot;: 25}\n",
       "            ).addTo(map_5be62211e478fff991979dcee3bc21a7);\n",
       "        \n",
       "    \n",
       "            var marker_ed224501474e78a28d81d7888c155db6 = L.marker(\n",
       "                [18.489382, 73.895526],\n",
       "                {}\n",
       "            ).addTo(map_5be62211e478fff991979dcee3bc21a7);\n",
       "        \n",
       "    \n",
       "            var icon_d403d3636ce70ae27ca746f138f19a0b = L.AwesomeMarkers.icon(\n",
       "                {&quot;extraClasses&quot;: &quot;fa-rotate-0&quot;, &quot;icon&quot;: &quot;tint&quot;, &quot;iconColor&quot;: &quot;white&quot;, &quot;markerColor&quot;: &quot;blue&quot;, &quot;prefix&quot;: &quot;glyphicon&quot;}\n",
       "            );\n",
       "            marker_ed224501474e78a28d81d7888c155db6.setIcon(icon_d403d3636ce70ae27ca746f138f19a0b);\n",
       "        \n",
       "    \n",
       "        var popup_d8f2db498bd6464de6eaa942519c9cd2 = L.popup({&quot;maxWidth&quot;: &quot;100%&quot;});\n",
       "\n",
       "        \n",
       "            var html_c008e34e8b0d888123060b9e33553560 = $(`&lt;div id=&quot;html_c008e34e8b0d888123060b9e33553560&quot; style=&quot;width: 100.0%; height: 100.0%;&quot;&gt;[&#x27;FWR013&#x27;, 3.61]&lt;/div&gt;`)[0];\n",
       "            popup_d8f2db498bd6464de6eaa942519c9cd2.setContent(html_c008e34e8b0d888123060b9e33553560);\n",
       "        \n",
       "\n",
       "        marker_ed224501474e78a28d81d7888c155db6.bindPopup(popup_d8f2db498bd6464de6eaa942519c9cd2)\n",
       "        ;\n",
       "\n",
       "        \n",
       "    \n",
       "    \n",
       "            var marker_732628587af43cc631664ec1c0d87be1 = L.marker(\n",
       "                [18.581647, 73.873011],\n",
       "                {}\n",
       "            ).addTo(map_5be62211e478fff991979dcee3bc21a7);\n",
       "        \n",
       "    \n",
       "            var icon_7d9d8a8f7f1a31d738e374b4018c3368 = L.AwesomeMarkers.icon(\n",
       "                {&quot;extraClasses&quot;: &quot;fa-rotate-0&quot;, &quot;icon&quot;: &quot;tint&quot;, &quot;iconColor&quot;: &quot;white&quot;, &quot;markerColor&quot;: &quot;blue&quot;, &quot;prefix&quot;: &quot;glyphicon&quot;}\n",
       "            );\n",
       "            marker_732628587af43cc631664ec1c0d87be1.setIcon(icon_7d9d8a8f7f1a31d738e374b4018c3368);\n",
       "        \n",
       "    \n",
       "        var popup_756c36d6148b82d2c3b5a3da8949513c = L.popup({&quot;maxWidth&quot;: &quot;100%&quot;});\n",
       "\n",
       "        \n",
       "            var html_cc55d3188658ef8481f17d8aec52acf4 = $(`&lt;div id=&quot;html_cc55d3188658ef8481f17d8aec52acf4&quot; style=&quot;width: 100.0%; height: 100.0%;&quot;&gt;[&#x27;FWR015&#x27;, 4.57]&lt;/div&gt;`)[0];\n",
       "            popup_756c36d6148b82d2c3b5a3da8949513c.setContent(html_cc55d3188658ef8481f17d8aec52acf4);\n",
       "        \n",
       "\n",
       "        marker_732628587af43cc631664ec1c0d87be1.bindPopup(popup_756c36d6148b82d2c3b5a3da8949513c)\n",
       "        ;\n",
       "\n",
       "        \n",
       "    \n",
       "    \n",
       "            var marker_0b290275a85b6ca42f61395cee86bbbe = L.marker(\n",
       "                [18.4918, 73.863825],\n",
       "                {}\n",
       "            ).addTo(map_5be62211e478fff991979dcee3bc21a7);\n",
       "        \n",
       "    \n",
       "            var icon_a4acab1eb2c0bfff6246252f41ccc2ea = L.AwesomeMarkers.icon(\n",
       "                {&quot;extraClasses&quot;: &quot;fa-rotate-0&quot;, &quot;icon&quot;: &quot;tint&quot;, &quot;iconColor&quot;: &quot;white&quot;, &quot;markerColor&quot;: &quot;blue&quot;, &quot;prefix&quot;: &quot;glyphicon&quot;}\n",
       "            );\n",
       "            marker_0b290275a85b6ca42f61395cee86bbbe.setIcon(icon_a4acab1eb2c0bfff6246252f41ccc2ea);\n",
       "        \n",
       "    \n",
       "        var popup_ed62c6761e528e1e713f6603b238db32 = L.popup({&quot;maxWidth&quot;: &quot;100%&quot;});\n",
       "\n",
       "        \n",
       "            var html_2a67e5771a8d11ddbbab9c1480879612 = $(`&lt;div id=&quot;html_2a67e5771a8d11ddbbab9c1480879612&quot; style=&quot;width: 100.0%; height: 100.0%;&quot;&gt;[&#x27;FWR016&#x27;, 2.73]&lt;/div&gt;`)[0];\n",
       "            popup_ed62c6761e528e1e713f6603b238db32.setContent(html_2a67e5771a8d11ddbbab9c1480879612);\n",
       "        \n",
       "\n",
       "        marker_0b290275a85b6ca42f61395cee86bbbe.bindPopup(popup_ed62c6761e528e1e713f6603b238db32)\n",
       "        ;\n",
       "\n",
       "        \n",
       "    \n",
       "    \n",
       "            var marker_22777d09710418df383fdc40b7812453 = L.marker(\n",
       "                [18.46013, 73.774537],\n",
       "                {}\n",
       "            ).addTo(map_5be62211e478fff991979dcee3bc21a7);\n",
       "        \n",
       "    \n",
       "            var icon_aa9553f05395b7cbcdc06bdecbc82c19 = L.AwesomeMarkers.icon(\n",
       "                {&quot;extraClasses&quot;: &quot;fa-rotate-0&quot;, &quot;icon&quot;: &quot;tint&quot;, &quot;iconColor&quot;: &quot;white&quot;, &quot;markerColor&quot;: &quot;blue&quot;, &quot;prefix&quot;: &quot;glyphicon&quot;}\n",
       "            );\n",
       "            marker_22777d09710418df383fdc40b7812453.setIcon(icon_aa9553f05395b7cbcdc06bdecbc82c19);\n",
       "        \n",
       "    \n",
       "        var popup_77f93c93139d4233d5f6707b6e65a07a = L.popup({&quot;maxWidth&quot;: &quot;100%&quot;});\n",
       "\n",
       "        \n",
       "            var html_49c65e61eaf34bfea298b5190e7b65f9 = $(`&lt;div id=&quot;html_49c65e61eaf34bfea298b5190e7b65f9&quot; style=&quot;width: 100.0%; height: 100.0%;&quot;&gt;[&#x27;FWR017&#x27;, 3.28]&lt;/div&gt;`)[0];\n",
       "            popup_77f93c93139d4233d5f6707b6e65a07a.setContent(html_49c65e61eaf34bfea298b5190e7b65f9);\n",
       "        \n",
       "\n",
       "        marker_22777d09710418df383fdc40b7812453.bindPopup(popup_77f93c93139d4233d5f6707b6e65a07a)\n",
       "        ;\n",
       "\n",
       "        \n",
       "    \n",
       "    \n",
       "            var marker_4f54e30160040c92ba7b6f6ee636f087 = L.marker(\n",
       "                [18.536285, 73.791175],\n",
       "                {}\n",
       "            ).addTo(map_5be62211e478fff991979dcee3bc21a7);\n",
       "        \n",
       "    \n",
       "            var icon_d483a5c5ef7e830c201badf1f4fc5f48 = L.AwesomeMarkers.icon(\n",
       "                {&quot;extraClasses&quot;: &quot;fa-rotate-0&quot;, &quot;icon&quot;: &quot;tint&quot;, &quot;iconColor&quot;: &quot;white&quot;, &quot;markerColor&quot;: &quot;blue&quot;, &quot;prefix&quot;: &quot;glyphicon&quot;}\n",
       "            );\n",
       "            marker_4f54e30160040c92ba7b6f6ee636f087.setIcon(icon_d483a5c5ef7e830c201badf1f4fc5f48);\n",
       "        \n",
       "    \n",
       "        var popup_8c02e3bc47a5fb7121575ee34b0d3fa0 = L.popup({&quot;maxWidth&quot;: &quot;100%&quot;});\n",
       "\n",
       "        \n",
       "            var html_cb52d64db183c6873b7f2e5661142f5f = $(`&lt;div id=&quot;html_cb52d64db183c6873b7f2e5661142f5f&quot; style=&quot;width: 100.0%; height: 100.0%;&quot;&gt;[&#x27;FWR018&#x27;, 4.54]&lt;/div&gt;`)[0];\n",
       "            popup_8c02e3bc47a5fb7121575ee34b0d3fa0.setContent(html_cb52d64db183c6873b7f2e5661142f5f);\n",
       "        \n",
       "\n",
       "        marker_4f54e30160040c92ba7b6f6ee636f087.bindPopup(popup_8c02e3bc47a5fb7121575ee34b0d3fa0)\n",
       "        ;\n",
       "\n",
       "        \n",
       "    \n",
       "    \n",
       "            var marker_08c6636f6ce2b97c09ba3ed3d19d162d = L.marker(\n",
       "                [18.56235, 73.78405],\n",
       "                {}\n",
       "            ).addTo(map_5be62211e478fff991979dcee3bc21a7);\n",
       "        \n",
       "    \n",
       "            var icon_75cd62f08929022070f5b87132b389f0 = L.AwesomeMarkers.icon(\n",
       "                {&quot;extraClasses&quot;: &quot;fa-rotate-0&quot;, &quot;icon&quot;: &quot;tint&quot;, &quot;iconColor&quot;: &quot;white&quot;, &quot;markerColor&quot;: &quot;blue&quot;, &quot;prefix&quot;: &quot;glyphicon&quot;}\n",
       "            );\n",
       "            marker_08c6636f6ce2b97c09ba3ed3d19d162d.setIcon(icon_75cd62f08929022070f5b87132b389f0);\n",
       "        \n",
       "    \n",
       "        var popup_b0275114d1c05cc9678c2d54a407ee3e = L.popup({&quot;maxWidth&quot;: &quot;100%&quot;});\n",
       "\n",
       "        \n",
       "            var html_ec561b13f753a83e5ab2a4eb90dd30ea = $(`&lt;div id=&quot;html_ec561b13f753a83e5ab2a4eb90dd30ea&quot; style=&quot;width: 100.0%; height: 100.0%;&quot;&gt;[&#x27;FWR019&#x27;, 5.2]&lt;/div&gt;`)[0];\n",
       "            popup_b0275114d1c05cc9678c2d54a407ee3e.setContent(html_ec561b13f753a83e5ab2a4eb90dd30ea);\n",
       "        \n",
       "\n",
       "        marker_08c6636f6ce2b97c09ba3ed3d19d162d.bindPopup(popup_b0275114d1c05cc9678c2d54a407ee3e)\n",
       "        ;\n",
       "\n",
       "        \n",
       "    \n",
       "    \n",
       "            var marker_76fa168c23fc8ecaf34236ea0efb3358 = L.marker(\n",
       "                [18.54708, 73.798225],\n",
       "                {}\n",
       "            ).addTo(map_5be62211e478fff991979dcee3bc21a7);\n",
       "        \n",
       "    \n",
       "            var icon_e3b600133a4b55f8c935cf40252b3c87 = L.AwesomeMarkers.icon(\n",
       "                {&quot;extraClasses&quot;: &quot;fa-rotate-0&quot;, &quot;icon&quot;: &quot;tint&quot;, &quot;iconColor&quot;: &quot;white&quot;, &quot;markerColor&quot;: &quot;blue&quot;, &quot;prefix&quot;: &quot;glyphicon&quot;}\n",
       "            );\n",
       "            marker_76fa168c23fc8ecaf34236ea0efb3358.setIcon(icon_e3b600133a4b55f8c935cf40252b3c87);\n",
       "        \n",
       "    \n",
       "        var popup_db081a81cef4ea78485c2dd6f5972b09 = L.popup({&quot;maxWidth&quot;: &quot;100%&quot;});\n",
       "\n",
       "        \n",
       "            var html_7003552bcace5afe964cc9454c964084 = $(`&lt;div id=&quot;html_7003552bcace5afe964cc9454c964084&quot; style=&quot;width: 100.0%; height: 100.0%;&quot;&gt;[&#x27;FWR020&#x27;, 4.85]&lt;/div&gt;`)[0];\n",
       "            popup_db081a81cef4ea78485c2dd6f5972b09.setContent(html_7003552bcace5afe964cc9454c964084);\n",
       "        \n",
       "\n",
       "        marker_76fa168c23fc8ecaf34236ea0efb3358.bindPopup(popup_db081a81cef4ea78485c2dd6f5972b09)\n",
       "        ;\n",
       "\n",
       "        \n",
       "    \n",
       "    \n",
       "            var marker_64e5ba41194640385614386ed840414b = L.marker(\n",
       "                [18.558611, 73.873944],\n",
       "                {}\n",
       "            ).addTo(map_5be62211e478fff991979dcee3bc21a7);\n",
       "        \n",
       "    \n",
       "            var icon_69fbbf09042114881038dfb0cc66bf2c = L.AwesomeMarkers.icon(\n",
       "                {&quot;extraClasses&quot;: &quot;fa-rotate-0&quot;, &quot;icon&quot;: &quot;tint&quot;, &quot;iconColor&quot;: &quot;white&quot;, &quot;markerColor&quot;: &quot;blue&quot;, &quot;prefix&quot;: &quot;glyphicon&quot;}\n",
       "            );\n",
       "            marker_64e5ba41194640385614386ed840414b.setIcon(icon_69fbbf09042114881038dfb0cc66bf2c);\n",
       "        \n",
       "    \n",
       "        var popup_8ab97daab997bf21fb27ace63d5d60c9 = L.popup({&quot;maxWidth&quot;: &quot;100%&quot;});\n",
       "\n",
       "        \n",
       "            var html_fb0ca98b166ddbb25c0544ec28383bf2 = $(`&lt;div id=&quot;html_fb0ca98b166ddbb25c0544ec28383bf2&quot; style=&quot;width: 100.0%; height: 100.0%;&quot;&gt;[&#x27;FWR021&#x27;, 0.0]&lt;/div&gt;`)[0];\n",
       "            popup_8ab97daab997bf21fb27ace63d5d60c9.setContent(html_fb0ca98b166ddbb25c0544ec28383bf2);\n",
       "        \n",
       "\n",
       "        marker_64e5ba41194640385614386ed840414b.bindPopup(popup_8ab97daab997bf21fb27ace63d5d60c9)\n",
       "        ;\n",
       "\n",
       "        \n",
       "    \n",
       "    \n",
       "            var marker_3c30eafbc0ebdd7116bfb7d3b40c6b71 = L.marker(\n",
       "                [18.467078, 73.81497],\n",
       "                {}\n",
       "            ).addTo(map_5be62211e478fff991979dcee3bc21a7);\n",
       "        \n",
       "    \n",
       "            var icon_44f034f7757f8ed4f41a734b55917c07 = L.AwesomeMarkers.icon(\n",
       "                {&quot;extraClasses&quot;: &quot;fa-rotate-0&quot;, &quot;icon&quot;: &quot;tint&quot;, &quot;iconColor&quot;: &quot;white&quot;, &quot;markerColor&quot;: &quot;blue&quot;, &quot;prefix&quot;: &quot;glyphicon&quot;}\n",
       "            );\n",
       "            marker_3c30eafbc0ebdd7116bfb7d3b40c6b71.setIcon(icon_44f034f7757f8ed4f41a734b55917c07);\n",
       "        \n",
       "    \n",
       "        var popup_79ae2a2ec11af75f45f86044633f25a7 = L.popup({&quot;maxWidth&quot;: &quot;100%&quot;});\n",
       "\n",
       "        \n",
       "            var html_6f9967565f0fd6cbb496cca638b36795 = $(`&lt;div id=&quot;html_6f9967565f0fd6cbb496cca638b36795&quot; style=&quot;width: 100.0%; height: 100.0%;&quot;&gt;[&#x27;FWR022&#x27;, 4.08]&lt;/div&gt;`)[0];\n",
       "            popup_79ae2a2ec11af75f45f86044633f25a7.setContent(html_6f9967565f0fd6cbb496cca638b36795);\n",
       "        \n",
       "\n",
       "        marker_3c30eafbc0ebdd7116bfb7d3b40c6b71.bindPopup(popup_79ae2a2ec11af75f45f86044633f25a7)\n",
       "        ;\n",
       "\n",
       "        \n",
       "    \n",
       "    \n",
       "            var marker_11de8939ca067aaaa60d9a4a3e77fd73 = L.marker(\n",
       "                [18.57595, 73.87652],\n",
       "                {}\n",
       "            ).addTo(map_5be62211e478fff991979dcee3bc21a7);\n",
       "        \n",
       "    \n",
       "            var icon_39d4224e1046aef173237e7832e6d010 = L.AwesomeMarkers.icon(\n",
       "                {&quot;extraClasses&quot;: &quot;fa-rotate-0&quot;, &quot;icon&quot;: &quot;tint&quot;, &quot;iconColor&quot;: &quot;white&quot;, &quot;markerColor&quot;: &quot;blue&quot;, &quot;prefix&quot;: &quot;glyphicon&quot;}\n",
       "            );\n",
       "            marker_11de8939ca067aaaa60d9a4a3e77fd73.setIcon(icon_39d4224e1046aef173237e7832e6d010);\n",
       "        \n",
       "    \n",
       "        var popup_55dfe0da346bd2826b50ed2a07fbd5dc = L.popup({&quot;maxWidth&quot;: &quot;100%&quot;});\n",
       "\n",
       "        \n",
       "            var html_14d6275c0c97eac8d2c5f8f718e62391 = $(`&lt;div id=&quot;html_14d6275c0c97eac8d2c5f8f718e62391&quot; style=&quot;width: 100.0%; height: 100.0%;&quot;&gt;[&#x27;FWR023&#x27;, 3.87]&lt;/div&gt;`)[0];\n",
       "            popup_55dfe0da346bd2826b50ed2a07fbd5dc.setContent(html_14d6275c0c97eac8d2c5f8f718e62391);\n",
       "        \n",
       "\n",
       "        marker_11de8939ca067aaaa60d9a4a3e77fd73.bindPopup(popup_55dfe0da346bd2826b50ed2a07fbd5dc)\n",
       "        ;\n",
       "\n",
       "        \n",
       "    \n",
       "    \n",
       "            var marker_09848c894b95d78e65dd10e3fb765633 = L.marker(\n",
       "                [18.480676, 73.822295],\n",
       "                {}\n",
       "            ).addTo(map_5be62211e478fff991979dcee3bc21a7);\n",
       "        \n",
       "    \n",
       "            var icon_be4cde5f825e1b6b291cd1af9b7c9105 = L.AwesomeMarkers.icon(\n",
       "                {&quot;extraClasses&quot;: &quot;fa-rotate-0&quot;, &quot;icon&quot;: &quot;tint&quot;, &quot;iconColor&quot;: &quot;white&quot;, &quot;markerColor&quot;: &quot;blue&quot;, &quot;prefix&quot;: &quot;glyphicon&quot;}\n",
       "            );\n",
       "            marker_09848c894b95d78e65dd10e3fb765633.setIcon(icon_be4cde5f825e1b6b291cd1af9b7c9105);\n",
       "        \n",
       "    \n",
       "        var popup_fbd5172e879ae686ed2709d7bc083a28 = L.popup({&quot;maxWidth&quot;: &quot;100%&quot;});\n",
       "\n",
       "        \n",
       "            var html_b863469e18b3c0a72db9c46830a307b6 = $(`&lt;div id=&quot;html_b863469e18b3c0a72db9c46830a307b6&quot; style=&quot;width: 100.0%; height: 100.0%;&quot;&gt;[&#x27;FWR024&#x27;, 2.67]&lt;/div&gt;`)[0];\n",
       "            popup_fbd5172e879ae686ed2709d7bc083a28.setContent(html_b863469e18b3c0a72db9c46830a307b6);\n",
       "        \n",
       "\n",
       "        marker_09848c894b95d78e65dd10e3fb765633.bindPopup(popup_fbd5172e879ae686ed2709d7bc083a28)\n",
       "        ;\n",
       "\n",
       "        \n",
       "    \n",
       "    \n",
       "            var marker_580f96a9179009ed01bd9b95a6b7aedf = L.marker(\n",
       "                [18.51329, 73.77026],\n",
       "                {}\n",
       "            ).addTo(map_5be62211e478fff991979dcee3bc21a7);\n",
       "        \n",
       "    \n",
       "            var icon_797fd2f5390147e18a72b613945bc084 = L.AwesomeMarkers.icon(\n",
       "                {&quot;extraClasses&quot;: &quot;fa-rotate-0&quot;, &quot;icon&quot;: &quot;tint&quot;, &quot;iconColor&quot;: &quot;white&quot;, &quot;markerColor&quot;: &quot;blue&quot;, &quot;prefix&quot;: &quot;glyphicon&quot;}\n",
       "            );\n",
       "            marker_580f96a9179009ed01bd9b95a6b7aedf.setIcon(icon_797fd2f5390147e18a72b613945bc084);\n",
       "        \n",
       "    \n",
       "        var popup_0630ba74fa3951ac709d63b03cbce651 = L.popup({&quot;maxWidth&quot;: &quot;100%&quot;});\n",
       "\n",
       "        \n",
       "            var html_3a91495765e51b04a936dba88786354a = $(`&lt;div id=&quot;html_3a91495765e51b04a936dba88786354a&quot; style=&quot;width: 100.0%; height: 100.0%;&quot;&gt;[&#x27;FWR025&#x27;, 7.49]&lt;/div&gt;`)[0];\n",
       "            popup_0630ba74fa3951ac709d63b03cbce651.setContent(html_3a91495765e51b04a936dba88786354a);\n",
       "        \n",
       "\n",
       "        marker_580f96a9179009ed01bd9b95a6b7aedf.bindPopup(popup_0630ba74fa3951ac709d63b03cbce651)\n",
       "        ;\n",
       "\n",
       "        \n",
       "    \n",
       "    \n",
       "            var marker_8263f5558362e5396c622a28f231ddad = L.marker(\n",
       "                [18.481732, 73.852952],\n",
       "                {}\n",
       "            ).addTo(map_5be62211e478fff991979dcee3bc21a7);\n",
       "        \n",
       "    \n",
       "            var icon_e2aadc96978b1a120af6fdd8965b978e = L.AwesomeMarkers.icon(\n",
       "                {&quot;extraClasses&quot;: &quot;fa-rotate-0&quot;, &quot;icon&quot;: &quot;tint&quot;, &quot;iconColor&quot;: &quot;white&quot;, &quot;markerColor&quot;: &quot;blue&quot;, &quot;prefix&quot;: &quot;glyphicon&quot;}\n",
       "            );\n",
       "            marker_8263f5558362e5396c622a28f231ddad.setIcon(icon_e2aadc96978b1a120af6fdd8965b978e);\n",
       "        \n",
       "    \n",
       "        var popup_ecf5cba14aff1dfbdb700bcef0ef2e5e = L.popup({&quot;maxWidth&quot;: &quot;100%&quot;});\n",
       "\n",
       "        \n",
       "            var html_5ef4cdfd7137d8cb2f43a0d7cc2d05b7 = $(`&lt;div id=&quot;html_5ef4cdfd7137d8cb2f43a0d7cc2d05b7&quot; style=&quot;width: 100.0%; height: 100.0%;&quot;&gt;[&#x27;FWR026&#x27;, 3.52]&lt;/div&gt;`)[0];\n",
       "            popup_ecf5cba14aff1dfbdb700bcef0ef2e5e.setContent(html_5ef4cdfd7137d8cb2f43a0d7cc2d05b7);\n",
       "        \n",
       "\n",
       "        marker_8263f5558362e5396c622a28f231ddad.bindPopup(popup_ecf5cba14aff1dfbdb700bcef0ef2e5e)\n",
       "        ;\n",
       "\n",
       "        \n",
       "    \n",
       "    \n",
       "            var marker_682174824fbc443bc108fdd2ca26c4d4 = L.marker(\n",
       "                [18.455577, 73.887711],\n",
       "                {}\n",
       "            ).addTo(map_5be62211e478fff991979dcee3bc21a7);\n",
       "        \n",
       "    \n",
       "            var icon_ff36feb9f69d3d20a7870687117f9af8 = L.AwesomeMarkers.icon(\n",
       "                {&quot;extraClasses&quot;: &quot;fa-rotate-0&quot;, &quot;icon&quot;: &quot;tint&quot;, &quot;iconColor&quot;: &quot;white&quot;, &quot;markerColor&quot;: &quot;blue&quot;, &quot;prefix&quot;: &quot;glyphicon&quot;}\n",
       "            );\n",
       "            marker_682174824fbc443bc108fdd2ca26c4d4.setIcon(icon_ff36feb9f69d3d20a7870687117f9af8);\n",
       "        \n",
       "    \n",
       "        var popup_deef4ab7910c6b5e2208dc2a19d9ea36 = L.popup({&quot;maxWidth&quot;: &quot;100%&quot;});\n",
       "\n",
       "        \n",
       "            var html_be78001e04d68917d48dfd352c8ce1a6 = $(`&lt;div id=&quot;html_be78001e04d68917d48dfd352c8ce1a6&quot; style=&quot;width: 100.0%; height: 100.0%;&quot;&gt;[&#x27;FWR030&#x27;, 0.0]&lt;/div&gt;`)[0];\n",
       "            popup_deef4ab7910c6b5e2208dc2a19d9ea36.setContent(html_be78001e04d68917d48dfd352c8ce1a6);\n",
       "        \n",
       "\n",
       "        marker_682174824fbc443bc108fdd2ca26c4d4.bindPopup(popup_deef4ab7910c6b5e2208dc2a19d9ea36)\n",
       "        ;\n",
       "\n",
       "        \n",
       "    \n",
       "    \n",
       "            var marker_bbea0494446b422f8fd391c3952830a8 = L.marker(\n",
       "                [18.56875, 73.87351],\n",
       "                {}\n",
       "            ).addTo(map_5be62211e478fff991979dcee3bc21a7);\n",
       "        \n",
       "    \n",
       "            var icon_9e71d227d32644ff66d2f2a4d7b16169 = L.AwesomeMarkers.icon(\n",
       "                {&quot;extraClasses&quot;: &quot;fa-rotate-0&quot;, &quot;icon&quot;: &quot;tint&quot;, &quot;iconColor&quot;: &quot;white&quot;, &quot;markerColor&quot;: &quot;blue&quot;, &quot;prefix&quot;: &quot;glyphicon&quot;}\n",
       "            );\n",
       "            marker_bbea0494446b422f8fd391c3952830a8.setIcon(icon_9e71d227d32644ff66d2f2a4d7b16169);\n",
       "        \n",
       "    \n",
       "        var popup_c49f18a7a853aa589bd38a08be106063 = L.popup({&quot;maxWidth&quot;: &quot;100%&quot;});\n",
       "\n",
       "        \n",
       "            var html_43c7723205bbcb37cfab7714329abf9e = $(`&lt;div id=&quot;html_43c7723205bbcb37cfab7714329abf9e&quot; style=&quot;width: 100.0%; height: 100.0%;&quot;&gt;[&#x27;FWR033&#x27;, 11.14]&lt;/div&gt;`)[0];\n",
       "            popup_c49f18a7a853aa589bd38a08be106063.setContent(html_43c7723205bbcb37cfab7714329abf9e);\n",
       "        \n",
       "\n",
       "        marker_bbea0494446b422f8fd391c3952830a8.bindPopup(popup_c49f18a7a853aa589bd38a08be106063)\n",
       "        ;\n",
       "\n",
       "        \n",
       "    \n",
       "    \n",
       "            var marker_a5aef63c94373dc28fb9250964bd02f3 = L.marker(\n",
       "                [18.478267, 73.8318],\n",
       "                {}\n",
       "            ).addTo(map_5be62211e478fff991979dcee3bc21a7);\n",
       "        \n",
       "    \n",
       "            var icon_cc8a4e937d8939afa963fa9cae0940b0 = L.AwesomeMarkers.icon(\n",
       "                {&quot;extraClasses&quot;: &quot;fa-rotate-0&quot;, &quot;icon&quot;: &quot;tint&quot;, &quot;iconColor&quot;: &quot;white&quot;, &quot;markerColor&quot;: &quot;blue&quot;, &quot;prefix&quot;: &quot;glyphicon&quot;}\n",
       "            );\n",
       "            marker_a5aef63c94373dc28fb9250964bd02f3.setIcon(icon_cc8a4e937d8939afa963fa9cae0940b0);\n",
       "        \n",
       "    \n",
       "        var popup_8ab5ece7e59c0a5236e591d1e7109eb8 = L.popup({&quot;maxWidth&quot;: &quot;100%&quot;});\n",
       "\n",
       "        \n",
       "            var html_21caf4a2da3b779ca84d85aeb9fcba8b = $(`&lt;div id=&quot;html_21caf4a2da3b779ca84d85aeb9fcba8b&quot; style=&quot;width: 100.0%; height: 100.0%;&quot;&gt;[&#x27;FWR034&#x27;, 5.5]&lt;/div&gt;`)[0];\n",
       "            popup_8ab5ece7e59c0a5236e591d1e7109eb8.setContent(html_21caf4a2da3b779ca84d85aeb9fcba8b);\n",
       "        \n",
       "\n",
       "        marker_a5aef63c94373dc28fb9250964bd02f3.bindPopup(popup_8ab5ece7e59c0a5236e591d1e7109eb8)\n",
       "        ;\n",
       "\n",
       "        \n",
       "    \n",
       "    \n",
       "            var marker_d3b1577a4c3cc5fa2f8fd585b99d9aa4 = L.marker(\n",
       "                [18.513477, 73.84296],\n",
       "                {}\n",
       "            ).addTo(map_5be62211e478fff991979dcee3bc21a7);\n",
       "        \n",
       "    \n",
       "            var icon_11580a6fc83008d48ae5676d66c355a7 = L.AwesomeMarkers.icon(\n",
       "                {&quot;extraClasses&quot;: &quot;fa-rotate-0&quot;, &quot;icon&quot;: &quot;tint&quot;, &quot;iconColor&quot;: &quot;white&quot;, &quot;markerColor&quot;: &quot;blue&quot;, &quot;prefix&quot;: &quot;glyphicon&quot;}\n",
       "            );\n",
       "            marker_d3b1577a4c3cc5fa2f8fd585b99d9aa4.setIcon(icon_11580a6fc83008d48ae5676d66c355a7);\n",
       "        \n",
       "    \n",
       "        var popup_44d570b31b5930c7d9789cc8cef89bd3 = L.popup({&quot;maxWidth&quot;: &quot;100%&quot;});\n",
       "\n",
       "        \n",
       "            var html_ae67c754b983dafe68af201a8801039f = $(`&lt;div id=&quot;html_ae67c754b983dafe68af201a8801039f&quot; style=&quot;width: 100.0%; height: 100.0%;&quot;&gt;[&#x27;FWR035&#x27;, 4.44]&lt;/div&gt;`)[0];\n",
       "            popup_44d570b31b5930c7d9789cc8cef89bd3.setContent(html_ae67c754b983dafe68af201a8801039f);\n",
       "        \n",
       "\n",
       "        marker_d3b1577a4c3cc5fa2f8fd585b99d9aa4.bindPopup(popup_44d570b31b5930c7d9789cc8cef89bd3)\n",
       "        ;\n",
       "\n",
       "        \n",
       "    \n",
       "    \n",
       "            var marker_d967344149a3dc7533e966a091180496 = L.marker(\n",
       "                [18.4691, 73.861],\n",
       "                {}\n",
       "            ).addTo(map_5be62211e478fff991979dcee3bc21a7);\n",
       "        \n",
       "    \n",
       "            var icon_36f397d123ba0dcebc45b64546e87cd3 = L.AwesomeMarkers.icon(\n",
       "                {&quot;extraClasses&quot;: &quot;fa-rotate-0&quot;, &quot;icon&quot;: &quot;tint&quot;, &quot;iconColor&quot;: &quot;white&quot;, &quot;markerColor&quot;: &quot;blue&quot;, &quot;prefix&quot;: &quot;glyphicon&quot;}\n",
       "            );\n",
       "            marker_d967344149a3dc7533e966a091180496.setIcon(icon_36f397d123ba0dcebc45b64546e87cd3);\n",
       "        \n",
       "    \n",
       "        var popup_6a6c2c4f1997a5e85f2d5933b7a3301b = L.popup({&quot;maxWidth&quot;: &quot;100%&quot;});\n",
       "\n",
       "        \n",
       "            var html_7ab74365829c7d2757c44bc9d521e0a2 = $(`&lt;div id=&quot;html_7ab74365829c7d2757c44bc9d521e0a2&quot; style=&quot;width: 100.0%; height: 100.0%;&quot;&gt;[&#x27;FWR036&#x27;, 6.05]&lt;/div&gt;`)[0];\n",
       "            popup_6a6c2c4f1997a5e85f2d5933b7a3301b.setContent(html_7ab74365829c7d2757c44bc9d521e0a2);\n",
       "        \n",
       "\n",
       "        marker_d967344149a3dc7533e966a091180496.bindPopup(popup_6a6c2c4f1997a5e85f2d5933b7a3301b)\n",
       "        ;\n",
       "\n",
       "        \n",
       "    \n",
       "    \n",
       "            var marker_41178eb64d075bcf51664f4bf5a7bf2e = L.marker(\n",
       "                [18.479271, 73.824593],\n",
       "                {}\n",
       "            ).addTo(map_5be62211e478fff991979dcee3bc21a7);\n",
       "        \n",
       "    \n",
       "            var icon_17c68a7c4cddaba0bc851bfa052db90a = L.AwesomeMarkers.icon(\n",
       "                {&quot;extraClasses&quot;: &quot;fa-rotate-0&quot;, &quot;icon&quot;: &quot;tint&quot;, &quot;iconColor&quot;: &quot;white&quot;, &quot;markerColor&quot;: &quot;blue&quot;, &quot;prefix&quot;: &quot;glyphicon&quot;}\n",
       "            );\n",
       "            marker_41178eb64d075bcf51664f4bf5a7bf2e.setIcon(icon_17c68a7c4cddaba0bc851bfa052db90a);\n",
       "        \n",
       "    \n",
       "        var popup_7478f99c40467046afa5fcdffb18d4b0 = L.popup({&quot;maxWidth&quot;: &quot;100%&quot;});\n",
       "\n",
       "        \n",
       "            var html_fd3b9364d4899109486e69ce34fa936b = $(`&lt;div id=&quot;html_fd3b9364d4899109486e69ce34fa936b&quot; style=&quot;width: 100.0%; height: 100.0%;&quot;&gt;[&#x27;FWR037&#x27;, 2.96]&lt;/div&gt;`)[0];\n",
       "            popup_7478f99c40467046afa5fcdffb18d4b0.setContent(html_fd3b9364d4899109486e69ce34fa936b);\n",
       "        \n",
       "\n",
       "        marker_41178eb64d075bcf51664f4bf5a7bf2e.bindPopup(popup_7478f99c40467046afa5fcdffb18d4b0)\n",
       "        ;\n",
       "\n",
       "        \n",
       "    \n",
       "    \n",
       "            var marker_15d2cec52cc0926724dda6dab7af1f87 = L.marker(\n",
       "                [18.518623, 73.861964],\n",
       "                {}\n",
       "            ).addTo(map_5be62211e478fff991979dcee3bc21a7);\n",
       "        \n",
       "    \n",
       "            var icon_95f38aa79d3af27c53d4991b4d115ef2 = L.AwesomeMarkers.icon(\n",
       "                {&quot;extraClasses&quot;: &quot;fa-rotate-0&quot;, &quot;icon&quot;: &quot;tint&quot;, &quot;iconColor&quot;: &quot;white&quot;, &quot;markerColor&quot;: &quot;blue&quot;, &quot;prefix&quot;: &quot;glyphicon&quot;}\n",
       "            );\n",
       "            marker_15d2cec52cc0926724dda6dab7af1f87.setIcon(icon_95f38aa79d3af27c53d4991b4d115ef2);\n",
       "        \n",
       "    \n",
       "        var popup_2fe99de51e60597e7852f5eab42aa8f9 = L.popup({&quot;maxWidth&quot;: &quot;100%&quot;});\n",
       "\n",
       "        \n",
       "            var html_5e2e5536f000c944b8986ef343b05bee = $(`&lt;div id=&quot;html_5e2e5536f000c944b8986ef343b05bee&quot; style=&quot;width: 100.0%; height: 100.0%;&quot;&gt;[&#x27;FWR039&#x27;, 5.67]&lt;/div&gt;`)[0];\n",
       "            popup_2fe99de51e60597e7852f5eab42aa8f9.setContent(html_5e2e5536f000c944b8986ef343b05bee);\n",
       "        \n",
       "\n",
       "        marker_15d2cec52cc0926724dda6dab7af1f87.bindPopup(popup_2fe99de51e60597e7852f5eab42aa8f9)\n",
       "        ;\n",
       "\n",
       "        \n",
       "    \n",
       "    \n",
       "            var marker_34f343b01bf6f47675ab09afbba0e961 = L.marker(\n",
       "                [18.499747, 73.850911],\n",
       "                {}\n",
       "            ).addTo(map_5be62211e478fff991979dcee3bc21a7);\n",
       "        \n",
       "    \n",
       "            var icon_8369f19e73134f3fb386d61981643ca6 = L.AwesomeMarkers.icon(\n",
       "                {&quot;extraClasses&quot;: &quot;fa-rotate-0&quot;, &quot;icon&quot;: &quot;tint&quot;, &quot;iconColor&quot;: &quot;white&quot;, &quot;markerColor&quot;: &quot;blue&quot;, &quot;prefix&quot;: &quot;glyphicon&quot;}\n",
       "            );\n",
       "            marker_34f343b01bf6f47675ab09afbba0e961.setIcon(icon_8369f19e73134f3fb386d61981643ca6);\n",
       "        \n",
       "    \n",
       "        var popup_bc57e2e8600f45b71919cfb715f4609a = L.popup({&quot;maxWidth&quot;: &quot;100%&quot;});\n",
       "\n",
       "        \n",
       "            var html_ad8b3e4a448aea77a572df1c05ee766a = $(`&lt;div id=&quot;html_ad8b3e4a448aea77a572df1c05ee766a&quot; style=&quot;width: 100.0%; height: 100.0%;&quot;&gt;[&#x27;FWR044&#x27;, 6.35]&lt;/div&gt;`)[0];\n",
       "            popup_bc57e2e8600f45b71919cfb715f4609a.setContent(html_ad8b3e4a448aea77a572df1c05ee766a);\n",
       "        \n",
       "\n",
       "        marker_34f343b01bf6f47675ab09afbba0e961.bindPopup(popup_bc57e2e8600f45b71919cfb715f4609a)\n",
       "        ;\n",
       "\n",
       "        \n",
       "    \n",
       "    \n",
       "            var marker_c11ffcef38fda1c167b0a7261cdc7907 = L.marker(\n",
       "                [18.448922, 73.839582],\n",
       "                {}\n",
       "            ).addTo(map_5be62211e478fff991979dcee3bc21a7);\n",
       "        \n",
       "    \n",
       "            var icon_ea793d3a758be57d4adf723858cc4c78 = L.AwesomeMarkers.icon(\n",
       "                {&quot;extraClasses&quot;: &quot;fa-rotate-0&quot;, &quot;icon&quot;: &quot;tint&quot;, &quot;iconColor&quot;: &quot;white&quot;, &quot;markerColor&quot;: &quot;blue&quot;, &quot;prefix&quot;: &quot;glyphicon&quot;}\n",
       "            );\n",
       "            marker_c11ffcef38fda1c167b0a7261cdc7907.setIcon(icon_ea793d3a758be57d4adf723858cc4c78);\n",
       "        \n",
       "    \n",
       "        var popup_478159e01c029d5b60ccc8d6be92b051 = L.popup({&quot;maxWidth&quot;: &quot;100%&quot;});\n",
       "\n",
       "        \n",
       "            var html_46d7c514526d6dcf20710ee62945840e = $(`&lt;div id=&quot;html_46d7c514526d6dcf20710ee62945840e&quot; style=&quot;width: 100.0%; height: 100.0%;&quot;&gt;[&#x27;FWR045&#x27;, 3.54]&lt;/div&gt;`)[0];\n",
       "            popup_478159e01c029d5b60ccc8d6be92b051.setContent(html_46d7c514526d6dcf20710ee62945840e);\n",
       "        \n",
       "\n",
       "        marker_c11ffcef38fda1c167b0a7261cdc7907.bindPopup(popup_478159e01c029d5b60ccc8d6be92b051)\n",
       "        ;\n",
       "\n",
       "        \n",
       "    \n",
       "    \n",
       "            var marker_9fb93804b9407ef2b3692f8ce8e30633 = L.marker(\n",
       "                [18.548194, 73.948909],\n",
       "                {}\n",
       "            ).addTo(map_5be62211e478fff991979dcee3bc21a7);\n",
       "        \n",
       "    \n",
       "            var icon_a705538d129d14de9e12cf4097387ec3 = L.AwesomeMarkers.icon(\n",
       "                {&quot;extraClasses&quot;: &quot;fa-rotate-0&quot;, &quot;icon&quot;: &quot;tint&quot;, &quot;iconColor&quot;: &quot;white&quot;, &quot;markerColor&quot;: &quot;blue&quot;, &quot;prefix&quot;: &quot;glyphicon&quot;}\n",
       "            );\n",
       "            marker_9fb93804b9407ef2b3692f8ce8e30633.setIcon(icon_a705538d129d14de9e12cf4097387ec3);\n",
       "        \n",
       "    \n",
       "        var popup_15337b7cd153ca86a8d5fd3112f1a1aa = L.popup({&quot;maxWidth&quot;: &quot;100%&quot;});\n",
       "\n",
       "        \n",
       "            var html_644f2ea77b4ff3e634508dd8ea088e77 = $(`&lt;div id=&quot;html_644f2ea77b4ff3e634508dd8ea088e77&quot; style=&quot;width: 100.0%; height: 100.0%;&quot;&gt;[&#x27;FWR046&#x27;, 0.0]&lt;/div&gt;`)[0];\n",
       "            popup_15337b7cd153ca86a8d5fd3112f1a1aa.setContent(html_644f2ea77b4ff3e634508dd8ea088e77);\n",
       "        \n",
       "\n",
       "        marker_9fb93804b9407ef2b3692f8ce8e30633.bindPopup(popup_15337b7cd153ca86a8d5fd3112f1a1aa)\n",
       "        ;\n",
       "\n",
       "        \n",
       "    \n",
       "    \n",
       "            var marker_a745fe793b480ed68d5ba1281df19103 = L.marker(\n",
       "                [18.47424, 73.857543],\n",
       "                {}\n",
       "            ).addTo(map_5be62211e478fff991979dcee3bc21a7);\n",
       "        \n",
       "    \n",
       "            var icon_ca44f529a16ef356c0a01b567b87bad3 = L.AwesomeMarkers.icon(\n",
       "                {&quot;extraClasses&quot;: &quot;fa-rotate-0&quot;, &quot;icon&quot;: &quot;tint&quot;, &quot;iconColor&quot;: &quot;white&quot;, &quot;markerColor&quot;: &quot;blue&quot;, &quot;prefix&quot;: &quot;glyphicon&quot;}\n",
       "            );\n",
       "            marker_a745fe793b480ed68d5ba1281df19103.setIcon(icon_ca44f529a16ef356c0a01b567b87bad3);\n",
       "        \n",
       "    \n",
       "        var popup_62678139500bb1d8186c2d2403fa8ce3 = L.popup({&quot;maxWidth&quot;: &quot;100%&quot;});\n",
       "\n",
       "        \n",
       "            var html_acf32e9015fdd114c8dea29c68a4c7a8 = $(`&lt;div id=&quot;html_acf32e9015fdd114c8dea29c68a4c7a8&quot; style=&quot;width: 100.0%; height: 100.0%;&quot;&gt;[&#x27;FWR047&#x27;, 4.48]&lt;/div&gt;`)[0];\n",
       "            popup_62678139500bb1d8186c2d2403fa8ce3.setContent(html_acf32e9015fdd114c8dea29c68a4c7a8);\n",
       "        \n",
       "\n",
       "        marker_a745fe793b480ed68d5ba1281df19103.bindPopup(popup_62678139500bb1d8186c2d2403fa8ce3)\n",
       "        ;\n",
       "\n",
       "        \n",
       "    \n",
       "    \n",
       "            var marker_3413477e373848aedb0ef3c7e53fafb3 = L.marker(\n",
       "                [18.52085, 73.8494],\n",
       "                {}\n",
       "            ).addTo(map_5be62211e478fff991979dcee3bc21a7);\n",
       "        \n",
       "    \n",
       "            var icon_4b1e9e6274152ce4ae7792449a0690ee = L.AwesomeMarkers.icon(\n",
       "                {&quot;extraClasses&quot;: &quot;fa-rotate-0&quot;, &quot;icon&quot;: &quot;tint&quot;, &quot;iconColor&quot;: &quot;white&quot;, &quot;markerColor&quot;: &quot;blue&quot;, &quot;prefix&quot;: &quot;glyphicon&quot;}\n",
       "            );\n",
       "            marker_3413477e373848aedb0ef3c7e53fafb3.setIcon(icon_4b1e9e6274152ce4ae7792449a0690ee);\n",
       "        \n",
       "    \n",
       "        var popup_b1bf7671866a6b5ec65a8663a03d97d6 = L.popup({&quot;maxWidth&quot;: &quot;100%&quot;});\n",
       "\n",
       "        \n",
       "            var html_d3d9e668166b2b535ad8d8bc28dd26e2 = $(`&lt;div id=&quot;html_d3d9e668166b2b535ad8d8bc28dd26e2&quot; style=&quot;width: 100.0%; height: 100.0%;&quot;&gt;[&#x27;FWR048&#x27;, 13.9]&lt;/div&gt;`)[0];\n",
       "            popup_b1bf7671866a6b5ec65a8663a03d97d6.setContent(html_d3d9e668166b2b535ad8d8bc28dd26e2);\n",
       "        \n",
       "\n",
       "        marker_3413477e373848aedb0ef3c7e53fafb3.bindPopup(popup_b1bf7671866a6b5ec65a8663a03d97d6)\n",
       "        ;\n",
       "\n",
       "        \n",
       "    \n",
       "    \n",
       "            var marker_9ed5b79e65275f3b7613d71ae2fd2292 = L.marker(\n",
       "                [18.52962, 73.8604],\n",
       "                {}\n",
       "            ).addTo(map_5be62211e478fff991979dcee3bc21a7);\n",
       "        \n",
       "    \n",
       "            var icon_fba2483a5808777b0831ebff7e22ede6 = L.AwesomeMarkers.icon(\n",
       "                {&quot;extraClasses&quot;: &quot;fa-rotate-0&quot;, &quot;icon&quot;: &quot;tint&quot;, &quot;iconColor&quot;: &quot;white&quot;, &quot;markerColor&quot;: &quot;blue&quot;, &quot;prefix&quot;: &quot;glyphicon&quot;}\n",
       "            );\n",
       "            marker_9ed5b79e65275f3b7613d71ae2fd2292.setIcon(icon_fba2483a5808777b0831ebff7e22ede6);\n",
       "        \n",
       "    \n",
       "        var popup_e2f1d5e3746429a17ba579935d1c91ee = L.popup({&quot;maxWidth&quot;: &quot;100%&quot;});\n",
       "\n",
       "        \n",
       "            var html_37257bb445a401bec3ee1db1d66af5fa = $(`&lt;div id=&quot;html_37257bb445a401bec3ee1db1d66af5fa&quot; style=&quot;width: 100.0%; height: 100.0%;&quot;&gt;[&#x27;FWR049&#x27;, 13.6]&lt;/div&gt;`)[0];\n",
       "            popup_e2f1d5e3746429a17ba579935d1c91ee.setContent(html_37257bb445a401bec3ee1db1d66af5fa);\n",
       "        \n",
       "\n",
       "        marker_9ed5b79e65275f3b7613d71ae2fd2292.bindPopup(popup_e2f1d5e3746429a17ba579935d1c91ee)\n",
       "        ;\n",
       "\n",
       "        \n",
       "    \n",
       "    \n",
       "            var marker_dd688c1aa8155cac91f803894b3b9b98 = L.marker(\n",
       "                [18.535548, 73.933558],\n",
       "                {}\n",
       "            ).addTo(map_5be62211e478fff991979dcee3bc21a7);\n",
       "        \n",
       "    \n",
       "            var icon_602a9e29afe95bd1a98d929cb23eda36 = L.AwesomeMarkers.icon(\n",
       "                {&quot;extraClasses&quot;: &quot;fa-rotate-0&quot;, &quot;icon&quot;: &quot;tint&quot;, &quot;iconColor&quot;: &quot;white&quot;, &quot;markerColor&quot;: &quot;blue&quot;, &quot;prefix&quot;: &quot;glyphicon&quot;}\n",
       "            );\n",
       "            marker_dd688c1aa8155cac91f803894b3b9b98.setIcon(icon_602a9e29afe95bd1a98d929cb23eda36);\n",
       "        \n",
       "    \n",
       "        var popup_635e1ee0c3a2866c643769c438d9bcc0 = L.popup({&quot;maxWidth&quot;: &quot;100%&quot;});\n",
       "\n",
       "        \n",
       "            var html_2a050171dde4ce85ec1e1f8ef856b486 = $(`&lt;div id=&quot;html_2a050171dde4ce85ec1e1f8ef856b486&quot; style=&quot;width: 100.0%; height: 100.0%;&quot;&gt;[&#x27;FWR050&#x27;, 12.46]&lt;/div&gt;`)[0];\n",
       "            popup_635e1ee0c3a2866c643769c438d9bcc0.setContent(html_2a050171dde4ce85ec1e1f8ef856b486);\n",
       "        \n",
       "\n",
       "        marker_dd688c1aa8155cac91f803894b3b9b98.bindPopup(popup_635e1ee0c3a2866c643769c438d9bcc0)\n",
       "        ;\n",
       "\n",
       "        \n",
       "    \n",
       "    \n",
       "            var marker_3ebeed8402ee14fd49527afab9650f08 = L.marker(\n",
       "                [18.5325, 73.8559],\n",
       "                {}\n",
       "            ).addTo(map_5be62211e478fff991979dcee3bc21a7);\n",
       "        \n",
       "    \n",
       "            var icon_9634b34e4498da7694d78185cb3859e0 = L.AwesomeMarkers.icon(\n",
       "                {&quot;extraClasses&quot;: &quot;fa-rotate-0&quot;, &quot;icon&quot;: &quot;tint&quot;, &quot;iconColor&quot;: &quot;white&quot;, &quot;markerColor&quot;: &quot;blue&quot;, &quot;prefix&quot;: &quot;glyphicon&quot;}\n",
       "            );\n",
       "            marker_3ebeed8402ee14fd49527afab9650f08.setIcon(icon_9634b34e4498da7694d78185cb3859e0);\n",
       "        \n",
       "    \n",
       "        var popup_921d381f8299fea6885da968ed4a74a7 = L.popup({&quot;maxWidth&quot;: &quot;100%&quot;});\n",
       "\n",
       "        \n",
       "            var html_837d06d978f2f7d007bb58041b77948f = $(`&lt;div id=&quot;html_837d06d978f2f7d007bb58041b77948f&quot; style=&quot;width: 100.0%; height: 100.0%;&quot;&gt;[&#x27;FWR051&#x27;, 13.71]&lt;/div&gt;`)[0];\n",
       "            popup_921d381f8299fea6885da968ed4a74a7.setContent(html_837d06d978f2f7d007bb58041b77948f);\n",
       "        \n",
       "\n",
       "        marker_3ebeed8402ee14fd49527afab9650f08.bindPopup(popup_921d381f8299fea6885da968ed4a74a7)\n",
       "        ;\n",
       "\n",
       "        \n",
       "    \n",
       "    \n",
       "            var marker_4e53b6632c523ec6bc6187eff63a98e9 = L.marker(\n",
       "                [18.56794, 73.81145],\n",
       "                {}\n",
       "            ).addTo(map_5be62211e478fff991979dcee3bc21a7);\n",
       "        \n",
       "    \n",
       "            var icon_8c9d663846aabf7fafbba61b586d7ea6 = L.AwesomeMarkers.icon(\n",
       "                {&quot;extraClasses&quot;: &quot;fa-rotate-0&quot;, &quot;icon&quot;: &quot;tint&quot;, &quot;iconColor&quot;: &quot;white&quot;, &quot;markerColor&quot;: &quot;blue&quot;, &quot;prefix&quot;: &quot;glyphicon&quot;}\n",
       "            );\n",
       "            marker_4e53b6632c523ec6bc6187eff63a98e9.setIcon(icon_8c9d663846aabf7fafbba61b586d7ea6);\n",
       "        \n",
       "    \n",
       "        var popup_fe2633eee5537aa6587dc515bbb9791d = L.popup({&quot;maxWidth&quot;: &quot;100%&quot;});\n",
       "\n",
       "        \n",
       "            var html_be0e2f89191a80f9e4a5757167266752 = $(`&lt;div id=&quot;html_be0e2f89191a80f9e4a5757167266752&quot; style=&quot;width: 100.0%; height: 100.0%;&quot;&gt;[&#x27;FWR052&#x27;, 10.57]&lt;/div&gt;`)[0];\n",
       "            popup_fe2633eee5537aa6587dc515bbb9791d.setContent(html_be0e2f89191a80f9e4a5757167266752);\n",
       "        \n",
       "\n",
       "        marker_4e53b6632c523ec6bc6187eff63a98e9.bindPopup(popup_fe2633eee5537aa6587dc515bbb9791d)\n",
       "        ;\n",
       "\n",
       "        \n",
       "    \n",
       "    \n",
       "            var marker_aafa76e32950b4e6edbdc12a93ac7e7b = L.marker(\n",
       "                [18.554551, 73.863551],\n",
       "                {}\n",
       "            ).addTo(map_5be62211e478fff991979dcee3bc21a7);\n",
       "        \n",
       "    \n",
       "            var icon_e0dd5ef28c3d19100e32686d6f505f0c = L.AwesomeMarkers.icon(\n",
       "                {&quot;extraClasses&quot;: &quot;fa-rotate-0&quot;, &quot;icon&quot;: &quot;tint&quot;, &quot;iconColor&quot;: &quot;white&quot;, &quot;markerColor&quot;: &quot;blue&quot;, &quot;prefix&quot;: &quot;glyphicon&quot;}\n",
       "            );\n",
       "            marker_aafa76e32950b4e6edbdc12a93ac7e7b.setIcon(icon_e0dd5ef28c3d19100e32686d6f505f0c);\n",
       "        \n",
       "    \n",
       "        var popup_5b7775b6f7702f269d12baa965607842 = L.popup({&quot;maxWidth&quot;: &quot;100%&quot;});\n",
       "\n",
       "        \n",
       "            var html_7134bd487b37e7dc32b178faa417e933 = $(`&lt;div id=&quot;html_7134bd487b37e7dc32b178faa417e933&quot; style=&quot;width: 100.0%; height: 100.0%;&quot;&gt;[&#x27;FWR053&#x27;, 9.46]&lt;/div&gt;`)[0];\n",
       "            popup_5b7775b6f7702f269d12baa965607842.setContent(html_7134bd487b37e7dc32b178faa417e933);\n",
       "        \n",
       "\n",
       "        marker_aafa76e32950b4e6edbdc12a93ac7e7b.bindPopup(popup_5b7775b6f7702f269d12baa965607842)\n",
       "        ;\n",
       "\n",
       "        \n",
       "    \n",
       "    \n",
       "            var marker_d701073daf7ebca355620f41609542a9 = L.marker(\n",
       "                [18.576225, 73.8261],\n",
       "                {}\n",
       "            ).addTo(map_5be62211e478fff991979dcee3bc21a7);\n",
       "        \n",
       "    \n",
       "            var icon_e5e03e62fd52d796d4d784ba145da956 = L.AwesomeMarkers.icon(\n",
       "                {&quot;extraClasses&quot;: &quot;fa-rotate-0&quot;, &quot;icon&quot;: &quot;tint&quot;, &quot;iconColor&quot;: &quot;white&quot;, &quot;markerColor&quot;: &quot;blue&quot;, &quot;prefix&quot;: &quot;glyphicon&quot;}\n",
       "            );\n",
       "            marker_d701073daf7ebca355620f41609542a9.setIcon(icon_e5e03e62fd52d796d4d784ba145da956);\n",
       "        \n",
       "    \n",
       "        var popup_cae372e2df4dcae99a8e99dbb04a3c27 = L.popup({&quot;maxWidth&quot;: &quot;100%&quot;});\n",
       "\n",
       "        \n",
       "            var html_5fe081e1e5548cdc3dea21afe761dfd8 = $(`&lt;div id=&quot;html_5fe081e1e5548cdc3dea21afe761dfd8&quot; style=&quot;width: 100.0%; height: 100.0%;&quot;&gt;[&#x27;FWR054&#x27;, 10.91]&lt;/div&gt;`)[0];\n",
       "            popup_cae372e2df4dcae99a8e99dbb04a3c27.setContent(html_5fe081e1e5548cdc3dea21afe761dfd8);\n",
       "        \n",
       "\n",
       "        marker_d701073daf7ebca355620f41609542a9.bindPopup(popup_cae372e2df4dcae99a8e99dbb04a3c27)\n",
       "        ;\n",
       "\n",
       "        \n",
       "    \n",
       "    \n",
       "            var marker_59a9ffc112a54f0029cba88de9d9a8a0 = L.marker(\n",
       "                [18.488375, 73.82772],\n",
       "                {}\n",
       "            ).addTo(map_5be62211e478fff991979dcee3bc21a7);\n",
       "        \n",
       "    \n",
       "            var icon_e5ecf666d33034ccdc53a645cdf63d0e = L.AwesomeMarkers.icon(\n",
       "                {&quot;extraClasses&quot;: &quot;fa-rotate-0&quot;, &quot;icon&quot;: &quot;tint&quot;, &quot;iconColor&quot;: &quot;white&quot;, &quot;markerColor&quot;: &quot;blue&quot;, &quot;prefix&quot;: &quot;glyphicon&quot;}\n",
       "            );\n",
       "            marker_59a9ffc112a54f0029cba88de9d9a8a0.setIcon(icon_e5ecf666d33034ccdc53a645cdf63d0e);\n",
       "        \n",
       "    \n",
       "        var popup_3d44c29f8db34f501713ccacc62104e4 = L.popup({&quot;maxWidth&quot;: &quot;100%&quot;});\n",
       "\n",
       "        \n",
       "            var html_3e7e5dd7063d067078ee5dbcb887ab77 = $(`&lt;div id=&quot;html_3e7e5dd7063d067078ee5dbcb887ab77&quot; style=&quot;width: 100.0%; height: 100.0%;&quot;&gt;[&#x27;FWR055&#x27;, 2.05]&lt;/div&gt;`)[0];\n",
       "            popup_3d44c29f8db34f501713ccacc62104e4.setContent(html_3e7e5dd7063d067078ee5dbcb887ab77);\n",
       "        \n",
       "\n",
       "        marker_59a9ffc112a54f0029cba88de9d9a8a0.bindPopup(popup_3d44c29f8db34f501713ccacc62104e4)\n",
       "        ;\n",
       "\n",
       "        \n",
       "    \n",
       "    \n",
       "            var marker_c6aa1040b67782661bbc90bc6951a7a9 = L.marker(\n",
       "                [18.504515, 73.83652],\n",
       "                {}\n",
       "            ).addTo(map_5be62211e478fff991979dcee3bc21a7);\n",
       "        \n",
       "    \n",
       "            var icon_cb0dd56a6e72960f95e6f1600fc6ca81 = L.AwesomeMarkers.icon(\n",
       "                {&quot;extraClasses&quot;: &quot;fa-rotate-0&quot;, &quot;icon&quot;: &quot;tint&quot;, &quot;iconColor&quot;: &quot;white&quot;, &quot;markerColor&quot;: &quot;blue&quot;, &quot;prefix&quot;: &quot;glyphicon&quot;}\n",
       "            );\n",
       "            marker_c6aa1040b67782661bbc90bc6951a7a9.setIcon(icon_cb0dd56a6e72960f95e6f1600fc6ca81);\n",
       "        \n",
       "    \n",
       "        var popup_79e4889dd2eb3b2255decaa6a9a474c4 = L.popup({&quot;maxWidth&quot;: &quot;100%&quot;});\n",
       "\n",
       "        \n",
       "            var html_494a3c20dcc94c95f53a7dfa09d13f56 = $(`&lt;div id=&quot;html_494a3c20dcc94c95f53a7dfa09d13f56&quot; style=&quot;width: 100.0%; height: 100.0%;&quot;&gt;[&#x27;FWR056&#x27;, 12.4]&lt;/div&gt;`)[0];\n",
       "            popup_79e4889dd2eb3b2255decaa6a9a474c4.setContent(html_494a3c20dcc94c95f53a7dfa09d13f56);\n",
       "        \n",
       "\n",
       "        marker_c6aa1040b67782661bbc90bc6951a7a9.bindPopup(popup_79e4889dd2eb3b2255decaa6a9a474c4)\n",
       "        ;\n",
       "\n",
       "        \n",
       "    \n",
       "    \n",
       "            var marker_ffe9d7420936411b40f3e9df1e182c82 = L.marker(\n",
       "                [18.49852, 73.82698],\n",
       "                {}\n",
       "            ).addTo(map_5be62211e478fff991979dcee3bc21a7);\n",
       "        \n",
       "    \n",
       "            var icon_0837b0dcf3c84226f922b79fa0ab2f23 = L.AwesomeMarkers.icon(\n",
       "                {&quot;extraClasses&quot;: &quot;fa-rotate-0&quot;, &quot;icon&quot;: &quot;tint&quot;, &quot;iconColor&quot;: &quot;white&quot;, &quot;markerColor&quot;: &quot;blue&quot;, &quot;prefix&quot;: &quot;glyphicon&quot;}\n",
       "            );\n",
       "            marker_ffe9d7420936411b40f3e9df1e182c82.setIcon(icon_0837b0dcf3c84226f922b79fa0ab2f23);\n",
       "        \n",
       "    \n",
       "        var popup_7a4ac51279c1522302e0c33702680602 = L.popup({&quot;maxWidth&quot;: &quot;100%&quot;});\n",
       "\n",
       "        \n",
       "            var html_13f45a6668b551bc39e057e7fdd65eb0 = $(`&lt;div id=&quot;html_13f45a6668b551bc39e057e7fdd65eb0&quot; style=&quot;width: 100.0%; height: 100.0%;&quot;&gt;[&#x27;FWR057&#x27;, 5.87]&lt;/div&gt;`)[0];\n",
       "            popup_7a4ac51279c1522302e0c33702680602.setContent(html_13f45a6668b551bc39e057e7fdd65eb0);\n",
       "        \n",
       "\n",
       "        marker_ffe9d7420936411b40f3e9df1e182c82.bindPopup(popup_7a4ac51279c1522302e0c33702680602)\n",
       "        ;\n",
       "\n",
       "        \n",
       "    \n",
       "    \n",
       "            var marker_a19564d6385e93b06f71fac342c21102 = L.marker(\n",
       "                [18.587, 73.75921],\n",
       "                {}\n",
       "            ).addTo(map_5be62211e478fff991979dcee3bc21a7);\n",
       "        \n",
       "    \n",
       "            var icon_742b15466d287ae4cee483d9692484de = L.AwesomeMarkers.icon(\n",
       "                {&quot;extraClasses&quot;: &quot;fa-rotate-0&quot;, &quot;icon&quot;: &quot;tint&quot;, &quot;iconColor&quot;: &quot;white&quot;, &quot;markerColor&quot;: &quot;blue&quot;, &quot;prefix&quot;: &quot;glyphicon&quot;}\n",
       "            );\n",
       "            marker_a19564d6385e93b06f71fac342c21102.setIcon(icon_742b15466d287ae4cee483d9692484de);\n",
       "        \n",
       "    \n",
       "        var popup_5822b687c093070ef0a4c9a1e8861538 = L.popup({&quot;maxWidth&quot;: &quot;100%&quot;});\n",
       "\n",
       "        \n",
       "            var html_7f09c7f106cd1d5457466810ba3859cf = $(`&lt;div id=&quot;html_7f09c7f106cd1d5457466810ba3859cf&quot; style=&quot;width: 100.0%; height: 100.0%;&quot;&gt;[&#x27;FWR058&#x27;, 13.1]&lt;/div&gt;`)[0];\n",
       "            popup_5822b687c093070ef0a4c9a1e8861538.setContent(html_7f09c7f106cd1d5457466810ba3859cf);\n",
       "        \n",
       "\n",
       "        marker_a19564d6385e93b06f71fac342c21102.bindPopup(popup_5822b687c093070ef0a4c9a1e8861538)\n",
       "        ;\n",
       "\n",
       "        \n",
       "    \n",
       "    \n",
       "            var marker_eeca7919c3dfc290a34c14fce05162e1 = L.marker(\n",
       "                [18.47449, 73.80939],\n",
       "                {}\n",
       "            ).addTo(map_5be62211e478fff991979dcee3bc21a7);\n",
       "        \n",
       "    \n",
       "            var icon_b4c50d93a5b8f9bd61d4ef57ec1da97b = L.AwesomeMarkers.icon(\n",
       "                {&quot;extraClasses&quot;: &quot;fa-rotate-0&quot;, &quot;icon&quot;: &quot;tint&quot;, &quot;iconColor&quot;: &quot;white&quot;, &quot;markerColor&quot;: &quot;blue&quot;, &quot;prefix&quot;: &quot;glyphicon&quot;}\n",
       "            );\n",
       "            marker_eeca7919c3dfc290a34c14fce05162e1.setIcon(icon_b4c50d93a5b8f9bd61d4ef57ec1da97b);\n",
       "        \n",
       "    \n",
       "        var popup_0b7d9764a2a96e8aef54cd4ea18f928d = L.popup({&quot;maxWidth&quot;: &quot;100%&quot;});\n",
       "\n",
       "        \n",
       "            var html_351dd184a6e43f4166eee04ec7b38f55 = $(`&lt;div id=&quot;html_351dd184a6e43f4166eee04ec7b38f55&quot; style=&quot;width: 100.0%; height: 100.0%;&quot;&gt;[&#x27;FWR059&#x27;, 12.43]&lt;/div&gt;`)[0];\n",
       "            popup_0b7d9764a2a96e8aef54cd4ea18f928d.setContent(html_351dd184a6e43f4166eee04ec7b38f55);\n",
       "        \n",
       "\n",
       "        marker_eeca7919c3dfc290a34c14fce05162e1.bindPopup(popup_0b7d9764a2a96e8aef54cd4ea18f928d)\n",
       "        ;\n",
       "\n",
       "        \n",
       "    \n",
       "    \n",
       "            var marker_54debf2bf8d5e7912fdbb1173ba46b8c = L.marker(\n",
       "                [18.573785, 73.83292],\n",
       "                {}\n",
       "            ).addTo(map_5be62211e478fff991979dcee3bc21a7);\n",
       "        \n",
       "    \n",
       "            var icon_70e07c9663da8b284bdcaa0841ad9d36 = L.AwesomeMarkers.icon(\n",
       "                {&quot;extraClasses&quot;: &quot;fa-rotate-0&quot;, &quot;icon&quot;: &quot;tint&quot;, &quot;iconColor&quot;: &quot;white&quot;, &quot;markerColor&quot;: &quot;blue&quot;, &quot;prefix&quot;: &quot;glyphicon&quot;}\n",
       "            );\n",
       "            marker_54debf2bf8d5e7912fdbb1173ba46b8c.setIcon(icon_70e07c9663da8b284bdcaa0841ad9d36);\n",
       "        \n",
       "    \n",
       "        var popup_93577059ae7c75d370d36a2841a0c867 = L.popup({&quot;maxWidth&quot;: &quot;100%&quot;});\n",
       "\n",
       "        \n",
       "            var html_6bb5ca7a35db0120a1ef2460e4031395 = $(`&lt;div id=&quot;html_6bb5ca7a35db0120a1ef2460e4031395&quot; style=&quot;width: 100.0%; height: 100.0%;&quot;&gt;[&#x27;FWR060&#x27;, 9.35]&lt;/div&gt;`)[0];\n",
       "            popup_93577059ae7c75d370d36a2841a0c867.setContent(html_6bb5ca7a35db0120a1ef2460e4031395);\n",
       "        \n",
       "\n",
       "        marker_54debf2bf8d5e7912fdbb1173ba46b8c.bindPopup(popup_93577059ae7c75d370d36a2841a0c867)\n",
       "        ;\n",
       "\n",
       "        \n",
       "    \n",
       "    \n",
       "            var marker_3a81ad6229ee05b298bacf5572ae9786 = L.marker(\n",
       "                [18.483555, 73.80282],\n",
       "                {}\n",
       "            ).addTo(map_5be62211e478fff991979dcee3bc21a7);\n",
       "        \n",
       "    \n",
       "            var icon_a201807bd1f7821b01867104dfd87150 = L.AwesomeMarkers.icon(\n",
       "                {&quot;extraClasses&quot;: &quot;fa-rotate-0&quot;, &quot;icon&quot;: &quot;tint&quot;, &quot;iconColor&quot;: &quot;white&quot;, &quot;markerColor&quot;: &quot;blue&quot;, &quot;prefix&quot;: &quot;glyphicon&quot;}\n",
       "            );\n",
       "            marker_3a81ad6229ee05b298bacf5572ae9786.setIcon(icon_a201807bd1f7821b01867104dfd87150);\n",
       "        \n",
       "    \n",
       "        var popup_e495b8abe66bdc2a01977b1b326f3609 = L.popup({&quot;maxWidth&quot;: &quot;100%&quot;});\n",
       "\n",
       "        \n",
       "            var html_996dd9e61be6285542bc8eae636d1f03 = $(`&lt;div id=&quot;html_996dd9e61be6285542bc8eae636d1f03&quot; style=&quot;width: 100.0%; height: 100.0%;&quot;&gt;[&#x27;FWR061&#x27;, 4.93]&lt;/div&gt;`)[0];\n",
       "            popup_e495b8abe66bdc2a01977b1b326f3609.setContent(html_996dd9e61be6285542bc8eae636d1f03);\n",
       "        \n",
       "\n",
       "        marker_3a81ad6229ee05b298bacf5572ae9786.bindPopup(popup_e495b8abe66bdc2a01977b1b326f3609)\n",
       "        ;\n",
       "\n",
       "        \n",
       "    \n",
       "    \n",
       "            var marker_1a54bf1c72e3ea9150e24f0cf17d0159 = L.marker(\n",
       "                [18.541038, 73.904219],\n",
       "                {}\n",
       "            ).addTo(map_5be62211e478fff991979dcee3bc21a7);\n",
       "        \n",
       "    \n",
       "            var icon_9f9445f553d14ca0ea821ee9dd171a0d = L.AwesomeMarkers.icon(\n",
       "                {&quot;extraClasses&quot;: &quot;fa-rotate-0&quot;, &quot;icon&quot;: &quot;tint&quot;, &quot;iconColor&quot;: &quot;white&quot;, &quot;markerColor&quot;: &quot;blue&quot;, &quot;prefix&quot;: &quot;glyphicon&quot;}\n",
       "            );\n",
       "            marker_1a54bf1c72e3ea9150e24f0cf17d0159.setIcon(icon_9f9445f553d14ca0ea821ee9dd171a0d);\n",
       "        \n",
       "    \n",
       "        var popup_a30a82c9968c2bed9cadfac88b5b6b4f = L.popup({&quot;maxWidth&quot;: &quot;100%&quot;});\n",
       "\n",
       "        \n",
       "            var html_d77b47753c5fc5e8da85c2a3da04926e = $(`&lt;div id=&quot;html_d77b47753c5fc5e8da85c2a3da04926e&quot; style=&quot;width: 100.0%; height: 100.0%;&quot;&gt;[&#x27;FWR063&#x27;, 14.07]&lt;/div&gt;`)[0];\n",
       "            popup_a30a82c9968c2bed9cadfac88b5b6b4f.setContent(html_d77b47753c5fc5e8da85c2a3da04926e);\n",
       "        \n",
       "\n",
       "        marker_1a54bf1c72e3ea9150e24f0cf17d0159.bindPopup(popup_a30a82c9968c2bed9cadfac88b5b6b4f)\n",
       "        ;\n",
       "\n",
       "        \n",
       "    \n",
       "    \n",
       "            var marker_26d710450ff8da113d5fbe79438d2d0d = L.marker(\n",
       "                [18.5432, 73.8836],\n",
       "                {}\n",
       "            ).addTo(map_5be62211e478fff991979dcee3bc21a7);\n",
       "        \n",
       "    \n",
       "            var icon_e2ce864cc0e762c824b5c2e3b9c9242f = L.AwesomeMarkers.icon(\n",
       "                {&quot;extraClasses&quot;: &quot;fa-rotate-0&quot;, &quot;icon&quot;: &quot;tint&quot;, &quot;iconColor&quot;: &quot;white&quot;, &quot;markerColor&quot;: &quot;blue&quot;, &quot;prefix&quot;: &quot;glyphicon&quot;}\n",
       "            );\n",
       "            marker_26d710450ff8da113d5fbe79438d2d0d.setIcon(icon_e2ce864cc0e762c824b5c2e3b9c9242f);\n",
       "        \n",
       "    \n",
       "        var popup_521b48d0b75fa43103ea0885d406c678 = L.popup({&quot;maxWidth&quot;: &quot;100%&quot;});\n",
       "\n",
       "        \n",
       "            var html_35a39c4f4c0b56081e7f1c3041c42af3 = $(`&lt;div id=&quot;html_35a39c4f4c0b56081e7f1c3041c42af3&quot; style=&quot;width: 100.0%; height: 100.0%;&quot;&gt;[&#x27;FWR064&#x27;, 14.31]&lt;/div&gt;`)[0];\n",
       "            popup_521b48d0b75fa43103ea0885d406c678.setContent(html_35a39c4f4c0b56081e7f1c3041c42af3);\n",
       "        \n",
       "\n",
       "        marker_26d710450ff8da113d5fbe79438d2d0d.bindPopup(popup_521b48d0b75fa43103ea0885d406c678)\n",
       "        ;\n",
       "\n",
       "        \n",
       "    \n",
       "    \n",
       "            var marker_2ce1943762641b41d7d82582b6540205 = L.marker(\n",
       "                [18.56908, 73.87749],\n",
       "                {}\n",
       "            ).addTo(map_5be62211e478fff991979dcee3bc21a7);\n",
       "        \n",
       "    \n",
       "            var icon_faae3d1a1ec0596890a74fc68288f417 = L.AwesomeMarkers.icon(\n",
       "                {&quot;extraClasses&quot;: &quot;fa-rotate-0&quot;, &quot;icon&quot;: &quot;tint&quot;, &quot;iconColor&quot;: &quot;white&quot;, &quot;markerColor&quot;: &quot;blue&quot;, &quot;prefix&quot;: &quot;glyphicon&quot;}\n",
       "            );\n",
       "            marker_2ce1943762641b41d7d82582b6540205.setIcon(icon_faae3d1a1ec0596890a74fc68288f417);\n",
       "        \n",
       "    \n",
       "        var popup_ac4e033badef834d6fdd63745948e41e = L.popup({&quot;maxWidth&quot;: &quot;100%&quot;});\n",
       "\n",
       "        \n",
       "            var html_4b37a62bf17a110f7deeb59b5a5b8d5e = $(`&lt;div id=&quot;html_4b37a62bf17a110f7deeb59b5a5b8d5e&quot; style=&quot;width: 100.0%; height: 100.0%;&quot;&gt;[&#x27;FWR065&#x27;, 5.37]&lt;/div&gt;`)[0];\n",
       "            popup_ac4e033badef834d6fdd63745948e41e.setContent(html_4b37a62bf17a110f7deeb59b5a5b8d5e);\n",
       "        \n",
       "\n",
       "        marker_2ce1943762641b41d7d82582b6540205.bindPopup(popup_ac4e033badef834d6fdd63745948e41e)\n",
       "        ;\n",
       "\n",
       "        \n",
       "    \n",
       "    \n",
       "            var marker_629d8b4b27f2b9d4813704874b9eb59c = L.marker(\n",
       "                [18.444614, 73.86131],\n",
       "                {}\n",
       "            ).addTo(map_5be62211e478fff991979dcee3bc21a7);\n",
       "        \n",
       "    \n",
       "            var icon_5e9af20042f909374f9ef536875c07f3 = L.AwesomeMarkers.icon(\n",
       "                {&quot;extraClasses&quot;: &quot;fa-rotate-0&quot;, &quot;icon&quot;: &quot;tint&quot;, &quot;iconColor&quot;: &quot;white&quot;, &quot;markerColor&quot;: &quot;blue&quot;, &quot;prefix&quot;: &quot;glyphicon&quot;}\n",
       "            );\n",
       "            marker_629d8b4b27f2b9d4813704874b9eb59c.setIcon(icon_5e9af20042f909374f9ef536875c07f3);\n",
       "        \n",
       "    \n",
       "        var popup_e578bdbe21dc140f32ea83f89e925970 = L.popup({&quot;maxWidth&quot;: &quot;100%&quot;});\n",
       "\n",
       "        \n",
       "            var html_5f0042832b46c9f236f95ac954e4e33c = $(`&lt;div id=&quot;html_5f0042832b46c9f236f95ac954e4e33c&quot; style=&quot;width: 100.0%; height: 100.0%;&quot;&gt;[&#x27;FWR066&#x27;, 5.1]&lt;/div&gt;`)[0];\n",
       "            popup_e578bdbe21dc140f32ea83f89e925970.setContent(html_5f0042832b46c9f236f95ac954e4e33c);\n",
       "        \n",
       "\n",
       "        marker_629d8b4b27f2b9d4813704874b9eb59c.bindPopup(popup_e578bdbe21dc140f32ea83f89e925970)\n",
       "        ;\n",
       "\n",
       "        \n",
       "    \n",
       "    \n",
       "            var marker_3d0d395151e09adc2bcccee9b9ea7339 = L.marker(\n",
       "                [18.562762, 73.828951],\n",
       "                {}\n",
       "            ).addTo(map_5be62211e478fff991979dcee3bc21a7);\n",
       "        \n",
       "    \n",
       "            var icon_d828596f40e0b7ec222f11f5a1daa776 = L.AwesomeMarkers.icon(\n",
       "                {&quot;extraClasses&quot;: &quot;fa-rotate-0&quot;, &quot;icon&quot;: &quot;tint&quot;, &quot;iconColor&quot;: &quot;white&quot;, &quot;markerColor&quot;: &quot;blue&quot;, &quot;prefix&quot;: &quot;glyphicon&quot;}\n",
       "            );\n",
       "            marker_3d0d395151e09adc2bcccee9b9ea7339.setIcon(icon_d828596f40e0b7ec222f11f5a1daa776);\n",
       "        \n",
       "    \n",
       "        var popup_6b768bf0b46cc7a3d176e0dc9f08cf05 = L.popup({&quot;maxWidth&quot;: &quot;100%&quot;});\n",
       "\n",
       "        \n",
       "            var html_da15687832b904d172a07692988ac60c = $(`&lt;div id=&quot;html_da15687832b904d172a07692988ac60c&quot; style=&quot;width: 100.0%; height: 100.0%;&quot;&gt;[&#x27;FWR067&#x27;, 2.98]&lt;/div&gt;`)[0];\n",
       "            popup_6b768bf0b46cc7a3d176e0dc9f08cf05.setContent(html_da15687832b904d172a07692988ac60c);\n",
       "        \n",
       "\n",
       "        marker_3d0d395151e09adc2bcccee9b9ea7339.bindPopup(popup_6b768bf0b46cc7a3d176e0dc9f08cf05)\n",
       "        ;\n",
       "\n",
       "        \n",
       "    \n",
       "    \n",
       "            var marker_3c9ed3326151b4447aac5f87c100d970 = L.marker(\n",
       "                [18.52438, 73.901408],\n",
       "                {}\n",
       "            ).addTo(map_5be62211e478fff991979dcee3bc21a7);\n",
       "        \n",
       "    \n",
       "            var icon_144fe1eeb46a8e1ae628fc6a5db848fa = L.AwesomeMarkers.icon(\n",
       "                {&quot;extraClasses&quot;: &quot;fa-rotate-0&quot;, &quot;icon&quot;: &quot;tint&quot;, &quot;iconColor&quot;: &quot;white&quot;, &quot;markerColor&quot;: &quot;blue&quot;, &quot;prefix&quot;: &quot;glyphicon&quot;}\n",
       "            );\n",
       "            marker_3c9ed3326151b4447aac5f87c100d970.setIcon(icon_144fe1eeb46a8e1ae628fc6a5db848fa);\n",
       "        \n",
       "    \n",
       "        var popup_93bb30aaebe6b2bc090ee963de13ebf8 = L.popup({&quot;maxWidth&quot;: &quot;100%&quot;});\n",
       "\n",
       "        \n",
       "            var html_c7c197df1405c40b2bcbac1d6c1fe30d = $(`&lt;div id=&quot;html_c7c197df1405c40b2bcbac1d6c1fe30d&quot; style=&quot;width: 100.0%; height: 100.0%;&quot;&gt;[&#x27;FWR068&#x27;, 4.12]&lt;/div&gt;`)[0];\n",
       "            popup_93bb30aaebe6b2bc090ee963de13ebf8.setContent(html_c7c197df1405c40b2bcbac1d6c1fe30d);\n",
       "        \n",
       "\n",
       "        marker_3c9ed3326151b4447aac5f87c100d970.bindPopup(popup_93bb30aaebe6b2bc090ee963de13ebf8)\n",
       "        ;\n",
       "\n",
       "        \n",
       "    \n",
       "    \n",
       "            var marker_126618526bf1b5ea3256644534b42094 = L.marker(\n",
       "                [18.476596, 73.822295],\n",
       "                {}\n",
       "            ).addTo(map_5be62211e478fff991979dcee3bc21a7);\n",
       "        \n",
       "    \n",
       "            var icon_51d658c9b4ad991352d6f2189b09f1fc = L.AwesomeMarkers.icon(\n",
       "                {&quot;extraClasses&quot;: &quot;fa-rotate-0&quot;, &quot;icon&quot;: &quot;tint&quot;, &quot;iconColor&quot;: &quot;white&quot;, &quot;markerColor&quot;: &quot;blue&quot;, &quot;prefix&quot;: &quot;glyphicon&quot;}\n",
       "            );\n",
       "            marker_126618526bf1b5ea3256644534b42094.setIcon(icon_51d658c9b4ad991352d6f2189b09f1fc);\n",
       "        \n",
       "    \n",
       "        var popup_f22b1e928b6a85f551a18f6a12edfa29 = L.popup({&quot;maxWidth&quot;: &quot;100%&quot;});\n",
       "\n",
       "        \n",
       "            var html_3d2eb6fac88c1c1f690c8aaff66a6053 = $(`&lt;div id=&quot;html_3d2eb6fac88c1c1f690c8aaff66a6053&quot; style=&quot;width: 100.0%; height: 100.0%;&quot;&gt;[&#x27;FWR069&#x27;, 4.48]&lt;/div&gt;`)[0];\n",
       "            popup_f22b1e928b6a85f551a18f6a12edfa29.setContent(html_3d2eb6fac88c1c1f690c8aaff66a6053);\n",
       "        \n",
       "\n",
       "        marker_126618526bf1b5ea3256644534b42094.bindPopup(popup_f22b1e928b6a85f551a18f6a12edfa29)\n",
       "        ;\n",
       "\n",
       "        \n",
       "    \n",
       "    \n",
       "            var marker_9719833f40022b2a49e68d358a4dd888 = L.marker(\n",
       "                [18.459801, 73.863522],\n",
       "                {}\n",
       "            ).addTo(map_5be62211e478fff991979dcee3bc21a7);\n",
       "        \n",
       "    \n",
       "            var icon_0a99e4836cba34cd4ea650cfd127766f = L.AwesomeMarkers.icon(\n",
       "                {&quot;extraClasses&quot;: &quot;fa-rotate-0&quot;, &quot;icon&quot;: &quot;tint&quot;, &quot;iconColor&quot;: &quot;white&quot;, &quot;markerColor&quot;: &quot;blue&quot;, &quot;prefix&quot;: &quot;glyphicon&quot;}\n",
       "            );\n",
       "            marker_9719833f40022b2a49e68d358a4dd888.setIcon(icon_0a99e4836cba34cd4ea650cfd127766f);\n",
       "        \n",
       "    \n",
       "        var popup_a50469938b08a7847f900dd7cc6cf5e9 = L.popup({&quot;maxWidth&quot;: &quot;100%&quot;});\n",
       "\n",
       "        \n",
       "            var html_06ddb0f9397198a0d75f8fd0056b174d = $(`&lt;div id=&quot;html_06ddb0f9397198a0d75f8fd0056b174d&quot; style=&quot;width: 100.0%; height: 100.0%;&quot;&gt;[&#x27;FWR070&#x27;, 4.51]&lt;/div&gt;`)[0];\n",
       "            popup_a50469938b08a7847f900dd7cc6cf5e9.setContent(html_06ddb0f9397198a0d75f8fd0056b174d);\n",
       "        \n",
       "\n",
       "        marker_9719833f40022b2a49e68d358a4dd888.bindPopup(popup_a50469938b08a7847f900dd7cc6cf5e9)\n",
       "        ;\n",
       "\n",
       "        \n",
       "    \n",
       "&lt;/script&gt;\" style=\"position:absolute;width:100%;height:100%;left:0;top:0;border:none !important;\" allowfullscreen webkitallowfullscreen mozallowfullscreen></iframe></div></div>"
      ],
      "text/plain": [
       "<folium.folium.Map at 0x7fef212b1850>"
      ]
     },
     "execution_count": 8,
     "metadata": {},
     "output_type": "execute_result"
    }
   ],
   "source": [
    "flood_data = []\n",
    "\n",
    "map_flooddata_popup =[]\n",
    "for i,row in floodDF.iterrows():\n",
    "    flood_data.append([row.latitude, row.longitude,row.measuredDistance])\n",
    "    map_flooddata_popup.append([row.latitude, row.longitude,row.Device,row.measuredDistance])\n",
    "map_heatmap = folium.Map(location = [18.5470,73.8633],tiles='OpenStreetMap', zoom_start=13)\n",
    "\n",
    "flood_map_heatmap = folium.Map(location = [18.5470,73.8633],tiles='OpenStreetMap', zoom_start=13)\n",
    "\n",
    "\n",
    "plugins.HeatMap(flood_data).add_to(flood_map_heatmap)\n",
    "# map_heatmap.add_child(plugins.HeatMap(co2_data,gradient={0.4: 'blue', 0.65: 'lime', 1: 'red'}))\n",
    "\n",
    "# add latitude and longitude tool to map\n",
    "map_heatmap.add_child(folium.LatLngPopup())\n",
    "\n",
    "c = [ folium.Marker(i[0:2], popup = i[2:], icon=folium.Icon(icon=\"tint\",color='blue')).add_to(flood_map_heatmap) for i in map_flooddata_popup]\n",
    "\n",
    "# display map\n",
    "flood_map_heatmap"
   ]
  },
  {
   "cell_type": "markdown",
   "id": "d59d3d15",
   "metadata": {},
   "source": [
    "# Sensor Outage Analysis"
   ]
  },
  {
   "cell_type": "code",
   "execution_count": 9,
   "id": "2bb16b59",
   "metadata": {},
   "outputs": [
    {
     "data": {
      "application/vnd.jupyter.widget-view+json": {
       "model_id": "75573609678f419b892cee5ca879f78c",
       "version_major": 2,
       "version_minor": 0
      },
      "text/plain": [
       "VBox(children=(HBox(children=(Dropdown(description='Device:', index=1, options=('FWR013', 'FWR015', 'FWR016', …"
      ]
     },
     "metadata": {},
     "output_type": "display_data"
    }
   ],
   "source": [
    "drop_down = widgets.Dropdown(options=devices,\n",
    "                                value=\"FWR015\",\n",
    "                                description='Device:',\n",
    "                                disabled=False)\n",
    "\n",
    "from_date = widgets.DatePicker(\n",
    "    description='From Date',\n",
    "    value = datetime.date(2022,1,1),\n",
    "    disabled=False\n",
    ")\n",
    "\n",
    "to_date = widgets.DatePicker(\n",
    "    description='To Date',\n",
    "    value = datetime.date(2022,5,1),\n",
    "    disabled=False\n",
    ")\n",
    "\n",
    "\n",
    "\n",
    "\n",
    "def f(fromD, to):\n",
    "    if fromD!=None and to!=None:\n",
    "        print('Collecting data from {} to {}'.format(fromD, to), type(fromD), type(to))\n",
    "\n",
    "\n",
    "\n",
    "# widgets.HBox([widgets.VBox([start_date, end_date]), out])\n",
    "\n",
    "# https://github.com/ChakriCherukuri/mlviz/blob/master/notebooks/supervised-learning/linear-regression.ipynb\n",
    "def refresh(*args):\n",
    "    print(\"Collecting data !!!\")\n",
    "    return \"Collecting data !\"+from_date\n",
    "\n",
    "\n",
    "\n",
    "from ipywidgets import Button\n",
    "reset_button = Button(description='Refresh', button_style='success')\n",
    "reset_button.layout.margin = '0px 30px 0px 60px'\n",
    "reset_button.on_click(lambda btn: refresh())\n",
    "\n",
    "def generate_password(sensor): \n",
    "    \n",
    "    print(\"Sensor chosen is \"+str(sensor))\n",
    "    return \"Sensor chosen is \"+str(sensor)\n",
    "DF1=pd.DataFrame([])\n",
    "def displayPublishInterval(DF):\n",
    "    fig = px.line(DF, x=DF.observationDateTime, y = DF[\"PI (in minutes)\"], hover_data=[DF.observationDateTime, DF.toDateTime, DF.publishInterval])\n",
    "    fig.update_layout(template=\"plotly_dark\")\n",
    "    fig.show()\n",
    "\n",
    "def displaydf(sensor,fromdate, todate):\n",
    "    df = pd.read_csv(\"pune_flood_\"+sensor+\".csv\")\n",
    "    if fromdate!=None and todate!=None:\n",
    "          print(\"Collected data between \"+str(fromdate)+\" and \"+str(todate))\n",
    "    df[\"observationDateTime\"]=pd.to_datetime(df[\"observationDateTime\"],errors ='coerce')\n",
    "    df.sort_values(by = [\"observationDateTime\"], inplace=True)\n",
    "    # df.info()\n",
    "    df.reset_index(inplace=True)\n",
    "    df.drop([\"index\"],axis=1, inplace=True)\n",
    "    df.head()\n",
    "\n",
    "    df[\"publishInterval\"] = pd.to_timedelta('0 days 00:00:00.0000')\n",
    "    df[\"toDateTime\"] = \"\"\n",
    "    for i,row in df.iterrows():\n",
    "        if i != df.shape[0]-1:\n",
    "    #         df[\"publishInterval\"][i] = df[\"observationDateTime\"][i+1] - df[\"observationDateTime\"][i]\n",
    "            df[\"toDateTime\"][i] = df[\"observationDateTime\"][i+1]\n",
    "            df[\"publishInterval\"][i] = df[\"toDateTime\"][i] - df[\"observationDateTime\"][i]\n",
    "\n",
    "\n",
    "    df[\"seconds\"] = df[\"publishInterval\"].apply(lambda x: x.total_seconds())\n",
    "    df[\"PI (in minutes)\"] = df[\"seconds\"]/60\n",
    "#     df = df.sort_values(by = [\"observationDateTime\"], ascending = False)\n",
    "    global DF1 \n",
    "    DF1 = df\n",
    "    display(df.head())\n",
    "    \n",
    "    displayPublishInterval(DF1)\n",
    "\n",
    "# widgets.interact(displaydf, sensor=drop_down);\n",
    "out = widgets.interactive_output(displaydf, {'sensor':drop_down,'fromdate': from_date, 'todate': to_date})\n",
    "widgets.VBox([widgets.HBox([drop_down, from_date, to_date, reset_button]), out])"
   ]
  },
  {
   "cell_type": "code",
   "execution_count": 10,
   "id": "a66e196c",
   "metadata": {},
   "outputs": [],
   "source": [
    "def checkDuplicates(df):\n",
    "    d = {}\n",
    "    d[\"Total Count\"] = df.shape[0]\n",
    "    d[\"Duplicate Count\"] = df[df.duplicated()].shape[0]\n",
    "    d[\" Duplicate Percentage\"] = round((df[df.duplicated()].shape[0]/df.shape[0])*100,2)\n",
    "    if df[df.duplicated()].shape[0] != 0: \n",
    "        return \"Duplicates Present ... |\"+ str(d)\n",
    "    else:\n",
    "        return \"No Duplicated Found |\"+ str(d)\n",
    "    \n",
    "    \n",
    "def dataprocessing(df):\n",
    "    df.drop([\"id\"],axis=1,inplace=True)\n",
    "    df[\"observationDateTime\"]=pd.to_datetime(df[\"observationDateTime\"],errors ='coerce')\n",
    "    df[\"date\"] = df[\"observationDateTime\"].dt.date\n",
    "    df['date'] = pd.to_datetime(df['date'],format=\"%Y-%m-%d\")\n",
    "    df[\"checkCurrentLevel\"] = round((df[\"referenceLevel\"]-df[\"measuredDistance\"]),2)-df[\"currentLevel\"]\n",
    "#     print(\"checkCurrentLevel value \",df[\"checkCurrentLevel\"].unique())\n",
    "    return df\n",
    "\n",
    "def plot(df):\n",
    "    f,ax=plt.subplots(3,2, figsize=(20,10))\n",
    "    sns.lineplot(x=\"observationDateTime\",y=\"currentLevel\",data = df, ax=ax[0,0])\n",
    "    sns.lineplot(x=\"observationDateTime\",y=\"measuredDistance\",data = df, ax=ax[0,1])\n",
    "    sns.lineplot(x=\"observationDateTime\",y=\"referenceLevel\",data = df, ax=ax[1,0])\n",
    "    sns.lineplot(x=\"referenceLevel\",y=\"currentLevel\",data = df, ax=ax[1,1])\n",
    "    sns.lineplot(x=\"currentLevel\",y=\"measuredDistance\",data = df, ax=ax[2,0])\n",
    "    sns.lineplot(x=\"referenceLevel\",y=\"measuredDistance\",data = df, ax=ax[2,1])"
   ]
  },
  {
   "cell_type": "code",
   "execution_count": 11,
   "id": "44ee9003",
   "metadata": {},
   "outputs": [],
   "source": [
    "L = []\n",
    "for file in csvfiles:\n",
    "    d = {}\n",
    "    df = pd.read_csv(file)\n",
    "    df[\"Sensor\"] = file[11:17]\n",
    "#     print(file[11:17])\n",
    "#     print(checkDuplicates(df))\n",
    "    \n",
    "    dup = checkDuplicates(df)\n",
    "    df = dataprocessing(df)\n",
    "#     col = \"currentLevel\"\n",
    "#     df[col].value_counts()\n",
    "#     df[col].unique()\n",
    "    j = ast.literal_eval(dup.split(\"|\")[1])\n",
    "    d[\"Sensor\"] = df[\"Sensor\"][0]\n",
    "    d[\"MaxMeasuredDistance\"] = df[\"measuredDistance\"].max()\n",
    "    d[\"TotalCount\"] = j[\"Total Count\"]\n",
    "    d[\"Duplicate Count\"] = j[\"Duplicate Count\"]\n",
    "    d[\"Duplicate Percentage\"] = j[\" Duplicate Percentage\"]\n",
    "    d[\"CheckCurrentLevel\"] = df[\"checkCurrentLevel\"].unique()\n",
    "    d[\"AllZeroCount\"] = df[(df[\"currentLevel\"]==0.0) & (df[\"measuredDistance\"]==0.0) & (df[\"referenceLevel\"]==0.0)].shape[0] \n",
    "    d[\"AllZeroPercentage\"] = round((d[\"AllZeroCount\"]/d[\"TotalCount\"])*100,2)\n",
    "    L.append(d)\n",
    "    "
   ]
  },
  {
   "cell_type": "code",
   "execution_count": 12,
   "id": "47ca1aa7",
   "metadata": {},
   "outputs": [],
   "source": [
    "DF = pd.DataFrame(L)\n",
    "DF.sort_values(by=[\"TotalCount\"], ascending = False)\n",
    "DF = DF.sort_values(by=[\"AllZeroPercentage\"], ascending = False)"
   ]
  },
  {
   "cell_type": "markdown",
   "id": "fd57ded2",
   "metadata": {},
   "source": [
    "# Percentage of duplicate data present - for all sensors"
   ]
  },
  {
   "cell_type": "code",
   "execution_count": 13,
   "id": "9baac9ae",
   "metadata": {},
   "outputs": [
    {
     "data": {
      "application/vnd.plotly.v1+json": {
       "config": {
        "plotlyServerURL": "https://plot.ly"
       },
       "data": [
        {
         "domain": {
          "x": [
           0,
           1
          ],
          "y": [
           0,
           1
          ]
         },
         "hole": 0.5,
         "hovertemplate": "Sensor=%{label}<br>Duplicate Percentage=%{value}<extra></extra>",
         "labels": [
          "FWR046",
          "FWR039",
          "FWR035",
          "FWR021",
          "FWR037",
          "FWR067",
          "FWR026",
          "FWR068",
          "FWR060",
          "FWR018",
          "FWR047",
          "FWR056",
          "FWR025",
          "FWR063",
          "FWR044",
          "FWR057",
          "FWR061",
          "FWR053",
          "FWR055",
          "FWR048",
          "FWR070",
          "FWR051",
          "FWR017",
          "FWR016",
          "FWR019",
          "FWR064",
          "FWR020",
          "FWR059",
          "FWR024",
          "FWR065",
          "FWR034",
          "FWR058",
          "FWR045",
          "FWR054",
          "FWR036",
          "FWR050",
          "FWR013",
          "FWR052",
          "FWR023",
          "FWR030",
          "FWR066",
          "FWR015",
          "FWR069"
         ],
         "legendgroup": "",
         "name": "",
         "showlegend": true,
         "textinfo": "percent",
         "textposition": "inside",
         "type": "pie",
         "values": [
          0.05,
          0.05,
          0,
          0.05,
          0.07,
          0.09,
          0.06,
          0.13,
          0.06,
          0.05,
          0.03,
          0.03,
          0.02,
          0.04,
          0.04,
          0.05,
          0.04,
          0.05,
          0.04,
          0.06,
          0.07,
          0.05,
          0.05,
          0.04,
          0.06,
          0.04,
          0.04,
          0.06,
          0.01,
          0.04,
          0.05,
          0.05,
          0.04,
          0.04,
          0.03,
          0.03,
          0.05,
          0.04,
          0.03,
          0.05,
          0.04,
          0.04,
          0.06
         ]
        }
       ],
       "layout": {
        "height": 500,
        "legend": {
         "tracegroupgap": 0
        },
        "margin": {
         "t": 60
        },
        "template": {
         "data": {
          "bar": [
           {
            "error_x": {
             "color": "#2a3f5f"
            },
            "error_y": {
             "color": "#2a3f5f"
            },
            "marker": {
             "line": {
              "color": "#E5ECF6",
              "width": 0.5
             },
             "pattern": {
              "fillmode": "overlay",
              "size": 10,
              "solidity": 0.2
             }
            },
            "type": "bar"
           }
          ],
          "barpolar": [
           {
            "marker": {
             "line": {
              "color": "#E5ECF6",
              "width": 0.5
             },
             "pattern": {
              "fillmode": "overlay",
              "size": 10,
              "solidity": 0.2
             }
            },
            "type": "barpolar"
           }
          ],
          "carpet": [
           {
            "aaxis": {
             "endlinecolor": "#2a3f5f",
             "gridcolor": "white",
             "linecolor": "white",
             "minorgridcolor": "white",
             "startlinecolor": "#2a3f5f"
            },
            "baxis": {
             "endlinecolor": "#2a3f5f",
             "gridcolor": "white",
             "linecolor": "white",
             "minorgridcolor": "white",
             "startlinecolor": "#2a3f5f"
            },
            "type": "carpet"
           }
          ],
          "choropleth": [
           {
            "colorbar": {
             "outlinewidth": 0,
             "ticks": ""
            },
            "type": "choropleth"
           }
          ],
          "contour": [
           {
            "colorbar": {
             "outlinewidth": 0,
             "ticks": ""
            },
            "colorscale": [
             [
              0,
              "#0d0887"
             ],
             [
              0.1111111111111111,
              "#46039f"
             ],
             [
              0.2222222222222222,
              "#7201a8"
             ],
             [
              0.3333333333333333,
              "#9c179e"
             ],
             [
              0.4444444444444444,
              "#bd3786"
             ],
             [
              0.5555555555555556,
              "#d8576b"
             ],
             [
              0.6666666666666666,
              "#ed7953"
             ],
             [
              0.7777777777777778,
              "#fb9f3a"
             ],
             [
              0.8888888888888888,
              "#fdca26"
             ],
             [
              1,
              "#f0f921"
             ]
            ],
            "type": "contour"
           }
          ],
          "contourcarpet": [
           {
            "colorbar": {
             "outlinewidth": 0,
             "ticks": ""
            },
            "type": "contourcarpet"
           }
          ],
          "heatmap": [
           {
            "colorbar": {
             "outlinewidth": 0,
             "ticks": ""
            },
            "colorscale": [
             [
              0,
              "#0d0887"
             ],
             [
              0.1111111111111111,
              "#46039f"
             ],
             [
              0.2222222222222222,
              "#7201a8"
             ],
             [
              0.3333333333333333,
              "#9c179e"
             ],
             [
              0.4444444444444444,
              "#bd3786"
             ],
             [
              0.5555555555555556,
              "#d8576b"
             ],
             [
              0.6666666666666666,
              "#ed7953"
             ],
             [
              0.7777777777777778,
              "#fb9f3a"
             ],
             [
              0.8888888888888888,
              "#fdca26"
             ],
             [
              1,
              "#f0f921"
             ]
            ],
            "type": "heatmap"
           }
          ],
          "heatmapgl": [
           {
            "colorbar": {
             "outlinewidth": 0,
             "ticks": ""
            },
            "colorscale": [
             [
              0,
              "#0d0887"
             ],
             [
              0.1111111111111111,
              "#46039f"
             ],
             [
              0.2222222222222222,
              "#7201a8"
             ],
             [
              0.3333333333333333,
              "#9c179e"
             ],
             [
              0.4444444444444444,
              "#bd3786"
             ],
             [
              0.5555555555555556,
              "#d8576b"
             ],
             [
              0.6666666666666666,
              "#ed7953"
             ],
             [
              0.7777777777777778,
              "#fb9f3a"
             ],
             [
              0.8888888888888888,
              "#fdca26"
             ],
             [
              1,
              "#f0f921"
             ]
            ],
            "type": "heatmapgl"
           }
          ],
          "histogram": [
           {
            "marker": {
             "pattern": {
              "fillmode": "overlay",
              "size": 10,
              "solidity": 0.2
             }
            },
            "type": "histogram"
           }
          ],
          "histogram2d": [
           {
            "colorbar": {
             "outlinewidth": 0,
             "ticks": ""
            },
            "colorscale": [
             [
              0,
              "#0d0887"
             ],
             [
              0.1111111111111111,
              "#46039f"
             ],
             [
              0.2222222222222222,
              "#7201a8"
             ],
             [
              0.3333333333333333,
              "#9c179e"
             ],
             [
              0.4444444444444444,
              "#bd3786"
             ],
             [
              0.5555555555555556,
              "#d8576b"
             ],
             [
              0.6666666666666666,
              "#ed7953"
             ],
             [
              0.7777777777777778,
              "#fb9f3a"
             ],
             [
              0.8888888888888888,
              "#fdca26"
             ],
             [
              1,
              "#f0f921"
             ]
            ],
            "type": "histogram2d"
           }
          ],
          "histogram2dcontour": [
           {
            "colorbar": {
             "outlinewidth": 0,
             "ticks": ""
            },
            "colorscale": [
             [
              0,
              "#0d0887"
             ],
             [
              0.1111111111111111,
              "#46039f"
             ],
             [
              0.2222222222222222,
              "#7201a8"
             ],
             [
              0.3333333333333333,
              "#9c179e"
             ],
             [
              0.4444444444444444,
              "#bd3786"
             ],
             [
              0.5555555555555556,
              "#d8576b"
             ],
             [
              0.6666666666666666,
              "#ed7953"
             ],
             [
              0.7777777777777778,
              "#fb9f3a"
             ],
             [
              0.8888888888888888,
              "#fdca26"
             ],
             [
              1,
              "#f0f921"
             ]
            ],
            "type": "histogram2dcontour"
           }
          ],
          "mesh3d": [
           {
            "colorbar": {
             "outlinewidth": 0,
             "ticks": ""
            },
            "type": "mesh3d"
           }
          ],
          "parcoords": [
           {
            "line": {
             "colorbar": {
              "outlinewidth": 0,
              "ticks": ""
             }
            },
            "type": "parcoords"
           }
          ],
          "pie": [
           {
            "automargin": true,
            "type": "pie"
           }
          ],
          "scatter": [
           {
            "fillpattern": {
             "fillmode": "overlay",
             "size": 10,
             "solidity": 0.2
            },
            "type": "scatter"
           }
          ],
          "scatter3d": [
           {
            "line": {
             "colorbar": {
              "outlinewidth": 0,
              "ticks": ""
             }
            },
            "marker": {
             "colorbar": {
              "outlinewidth": 0,
              "ticks": ""
             }
            },
            "type": "scatter3d"
           }
          ],
          "scattercarpet": [
           {
            "marker": {
             "colorbar": {
              "outlinewidth": 0,
              "ticks": ""
             }
            },
            "type": "scattercarpet"
           }
          ],
          "scattergeo": [
           {
            "marker": {
             "colorbar": {
              "outlinewidth": 0,
              "ticks": ""
             }
            },
            "type": "scattergeo"
           }
          ],
          "scattergl": [
           {
            "marker": {
             "colorbar": {
              "outlinewidth": 0,
              "ticks": ""
             }
            },
            "type": "scattergl"
           }
          ],
          "scattermapbox": [
           {
            "marker": {
             "colorbar": {
              "outlinewidth": 0,
              "ticks": ""
             }
            },
            "type": "scattermapbox"
           }
          ],
          "scatterpolar": [
           {
            "marker": {
             "colorbar": {
              "outlinewidth": 0,
              "ticks": ""
             }
            },
            "type": "scatterpolar"
           }
          ],
          "scatterpolargl": [
           {
            "marker": {
             "colorbar": {
              "outlinewidth": 0,
              "ticks": ""
             }
            },
            "type": "scatterpolargl"
           }
          ],
          "scatterternary": [
           {
            "marker": {
             "colorbar": {
              "outlinewidth": 0,
              "ticks": ""
             }
            },
            "type": "scatterternary"
           }
          ],
          "surface": [
           {
            "colorbar": {
             "outlinewidth": 0,
             "ticks": ""
            },
            "colorscale": [
             [
              0,
              "#0d0887"
             ],
             [
              0.1111111111111111,
              "#46039f"
             ],
             [
              0.2222222222222222,
              "#7201a8"
             ],
             [
              0.3333333333333333,
              "#9c179e"
             ],
             [
              0.4444444444444444,
              "#bd3786"
             ],
             [
              0.5555555555555556,
              "#d8576b"
             ],
             [
              0.6666666666666666,
              "#ed7953"
             ],
             [
              0.7777777777777778,
              "#fb9f3a"
             ],
             [
              0.8888888888888888,
              "#fdca26"
             ],
             [
              1,
              "#f0f921"
             ]
            ],
            "type": "surface"
           }
          ],
          "table": [
           {
            "cells": {
             "fill": {
              "color": "#EBF0F8"
             },
             "line": {
              "color": "white"
             }
            },
            "header": {
             "fill": {
              "color": "#C8D4E3"
             },
             "line": {
              "color": "white"
             }
            },
            "type": "table"
           }
          ]
         },
         "layout": {
          "annotationdefaults": {
           "arrowcolor": "#2a3f5f",
           "arrowhead": 0,
           "arrowwidth": 1
          },
          "autotypenumbers": "strict",
          "coloraxis": {
           "colorbar": {
            "outlinewidth": 0,
            "ticks": ""
           }
          },
          "colorscale": {
           "diverging": [
            [
             0,
             "#8e0152"
            ],
            [
             0.1,
             "#c51b7d"
            ],
            [
             0.2,
             "#de77ae"
            ],
            [
             0.3,
             "#f1b6da"
            ],
            [
             0.4,
             "#fde0ef"
            ],
            [
             0.5,
             "#f7f7f7"
            ],
            [
             0.6,
             "#e6f5d0"
            ],
            [
             0.7,
             "#b8e186"
            ],
            [
             0.8,
             "#7fbc41"
            ],
            [
             0.9,
             "#4d9221"
            ],
            [
             1,
             "#276419"
            ]
           ],
           "sequential": [
            [
             0,
             "#0d0887"
            ],
            [
             0.1111111111111111,
             "#46039f"
            ],
            [
             0.2222222222222222,
             "#7201a8"
            ],
            [
             0.3333333333333333,
             "#9c179e"
            ],
            [
             0.4444444444444444,
             "#bd3786"
            ],
            [
             0.5555555555555556,
             "#d8576b"
            ],
            [
             0.6666666666666666,
             "#ed7953"
            ],
            [
             0.7777777777777778,
             "#fb9f3a"
            ],
            [
             0.8888888888888888,
             "#fdca26"
            ],
            [
             1,
             "#f0f921"
            ]
           ],
           "sequentialminus": [
            [
             0,
             "#0d0887"
            ],
            [
             0.1111111111111111,
             "#46039f"
            ],
            [
             0.2222222222222222,
             "#7201a8"
            ],
            [
             0.3333333333333333,
             "#9c179e"
            ],
            [
             0.4444444444444444,
             "#bd3786"
            ],
            [
             0.5555555555555556,
             "#d8576b"
            ],
            [
             0.6666666666666666,
             "#ed7953"
            ],
            [
             0.7777777777777778,
             "#fb9f3a"
            ],
            [
             0.8888888888888888,
             "#fdca26"
            ],
            [
             1,
             "#f0f921"
            ]
           ]
          },
          "colorway": [
           "#636efa",
           "#EF553B",
           "#00cc96",
           "#ab63fa",
           "#FFA15A",
           "#19d3f3",
           "#FF6692",
           "#B6E880",
           "#FF97FF",
           "#FECB52"
          ],
          "font": {
           "color": "#2a3f5f"
          },
          "geo": {
           "bgcolor": "white",
           "lakecolor": "white",
           "landcolor": "#E5ECF6",
           "showlakes": true,
           "showland": true,
           "subunitcolor": "white"
          },
          "hoverlabel": {
           "align": "left"
          },
          "hovermode": "closest",
          "mapbox": {
           "style": "light"
          },
          "paper_bgcolor": "white",
          "plot_bgcolor": "#E5ECF6",
          "polar": {
           "angularaxis": {
            "gridcolor": "white",
            "linecolor": "white",
            "ticks": ""
           },
           "bgcolor": "#E5ECF6",
           "radialaxis": {
            "gridcolor": "white",
            "linecolor": "white",
            "ticks": ""
           }
          },
          "scene": {
           "xaxis": {
            "backgroundcolor": "#E5ECF6",
            "gridcolor": "white",
            "gridwidth": 2,
            "linecolor": "white",
            "showbackground": true,
            "ticks": "",
            "zerolinecolor": "white"
           },
           "yaxis": {
            "backgroundcolor": "#E5ECF6",
            "gridcolor": "white",
            "gridwidth": 2,
            "linecolor": "white",
            "showbackground": true,
            "ticks": "",
            "zerolinecolor": "white"
           },
           "zaxis": {
            "backgroundcolor": "#E5ECF6",
            "gridcolor": "white",
            "gridwidth": 2,
            "linecolor": "white",
            "showbackground": true,
            "ticks": "",
            "zerolinecolor": "white"
           }
          },
          "shapedefaults": {
           "line": {
            "color": "#2a3f5f"
           }
          },
          "ternary": {
           "aaxis": {
            "gridcolor": "white",
            "linecolor": "white",
            "ticks": ""
           },
           "baxis": {
            "gridcolor": "white",
            "linecolor": "white",
            "ticks": ""
           },
           "bgcolor": "#E5ECF6",
           "caxis": {
            "gridcolor": "white",
            "linecolor": "white",
            "ticks": ""
           }
          },
          "title": {
           "x": 0.05
          },
          "xaxis": {
           "automargin": true,
           "gridcolor": "white",
           "linecolor": "white",
           "ticks": "",
           "title": {
            "standoff": 15
           },
           "zerolinecolor": "white",
           "zerolinewidth": 2
          },
          "yaxis": {
           "automargin": true,
           "gridcolor": "white",
           "linecolor": "white",
           "ticks": "",
           "title": {
            "standoff": 15
           },
           "zerolinecolor": "white",
           "zerolinewidth": 2
          }
         }
        }
       }
      },
      "text/html": [
       "<div>                            <div id=\"7e7026a5-399c-40a8-a9c6-85894a6a2aff\" class=\"plotly-graph-div\" style=\"height:500px; width:100%;\"></div>            <script type=\"text/javascript\">                require([\"plotly\"], function(Plotly) {                    window.PLOTLYENV=window.PLOTLYENV || {};                                    if (document.getElementById(\"7e7026a5-399c-40a8-a9c6-85894a6a2aff\")) {                    Plotly.newPlot(                        \"7e7026a5-399c-40a8-a9c6-85894a6a2aff\",                        [{\"domain\":{\"x\":[0.0,1.0],\"y\":[0.0,1.0]},\"hole\":0.5,\"hovertemplate\":\"Sensor=%{label}<br>Duplicate Percentage=%{value}<extra></extra>\",\"labels\":[\"FWR046\",\"FWR039\",\"FWR035\",\"FWR021\",\"FWR037\",\"FWR067\",\"FWR026\",\"FWR068\",\"FWR060\",\"FWR018\",\"FWR047\",\"FWR056\",\"FWR025\",\"FWR063\",\"FWR044\",\"FWR057\",\"FWR061\",\"FWR053\",\"FWR055\",\"FWR048\",\"FWR070\",\"FWR051\",\"FWR017\",\"FWR016\",\"FWR019\",\"FWR064\",\"FWR020\",\"FWR059\",\"FWR024\",\"FWR065\",\"FWR034\",\"FWR058\",\"FWR045\",\"FWR054\",\"FWR036\",\"FWR050\",\"FWR013\",\"FWR052\",\"FWR023\",\"FWR030\",\"FWR066\",\"FWR015\",\"FWR069\"],\"legendgroup\":\"\",\"name\":\"\",\"showlegend\":true,\"values\":[0.05,0.05,0.0,0.05,0.07,0.09,0.06,0.13,0.06,0.05,0.03,0.03,0.02,0.04,0.04,0.05,0.04,0.05,0.04,0.06,0.07,0.05,0.05,0.04,0.06,0.04,0.04,0.06,0.01,0.04,0.05,0.05,0.04,0.04,0.03,0.03,0.05,0.04,0.03,0.05,0.04,0.04,0.06],\"type\":\"pie\",\"textinfo\":\"percent\",\"textposition\":\"inside\"}],                        {\"template\":{\"data\":{\"histogram2dcontour\":[{\"type\":\"histogram2dcontour\",\"colorbar\":{\"outlinewidth\":0,\"ticks\":\"\"},\"colorscale\":[[0.0,\"#0d0887\"],[0.1111111111111111,\"#46039f\"],[0.2222222222222222,\"#7201a8\"],[0.3333333333333333,\"#9c179e\"],[0.4444444444444444,\"#bd3786\"],[0.5555555555555556,\"#d8576b\"],[0.6666666666666666,\"#ed7953\"],[0.7777777777777778,\"#fb9f3a\"],[0.8888888888888888,\"#fdca26\"],[1.0,\"#f0f921\"]]}],\"choropleth\":[{\"type\":\"choropleth\",\"colorbar\":{\"outlinewidth\":0,\"ticks\":\"\"}}],\"histogram2d\":[{\"type\":\"histogram2d\",\"colorbar\":{\"outlinewidth\":0,\"ticks\":\"\"},\"colorscale\":[[0.0,\"#0d0887\"],[0.1111111111111111,\"#46039f\"],[0.2222222222222222,\"#7201a8\"],[0.3333333333333333,\"#9c179e\"],[0.4444444444444444,\"#bd3786\"],[0.5555555555555556,\"#d8576b\"],[0.6666666666666666,\"#ed7953\"],[0.7777777777777778,\"#fb9f3a\"],[0.8888888888888888,\"#fdca26\"],[1.0,\"#f0f921\"]]}],\"heatmap\":[{\"type\":\"heatmap\",\"colorbar\":{\"outlinewidth\":0,\"ticks\":\"\"},\"colorscale\":[[0.0,\"#0d0887\"],[0.1111111111111111,\"#46039f\"],[0.2222222222222222,\"#7201a8\"],[0.3333333333333333,\"#9c179e\"],[0.4444444444444444,\"#bd3786\"],[0.5555555555555556,\"#d8576b\"],[0.6666666666666666,\"#ed7953\"],[0.7777777777777778,\"#fb9f3a\"],[0.8888888888888888,\"#fdca26\"],[1.0,\"#f0f921\"]]}],\"heatmapgl\":[{\"type\":\"heatmapgl\",\"colorbar\":{\"outlinewidth\":0,\"ticks\":\"\"},\"colorscale\":[[0.0,\"#0d0887\"],[0.1111111111111111,\"#46039f\"],[0.2222222222222222,\"#7201a8\"],[0.3333333333333333,\"#9c179e\"],[0.4444444444444444,\"#bd3786\"],[0.5555555555555556,\"#d8576b\"],[0.6666666666666666,\"#ed7953\"],[0.7777777777777778,\"#fb9f3a\"],[0.8888888888888888,\"#fdca26\"],[1.0,\"#f0f921\"]]}],\"contourcarpet\":[{\"type\":\"contourcarpet\",\"colorbar\":{\"outlinewidth\":0,\"ticks\":\"\"}}],\"contour\":[{\"type\":\"contour\",\"colorbar\":{\"outlinewidth\":0,\"ticks\":\"\"},\"colorscale\":[[0.0,\"#0d0887\"],[0.1111111111111111,\"#46039f\"],[0.2222222222222222,\"#7201a8\"],[0.3333333333333333,\"#9c179e\"],[0.4444444444444444,\"#bd3786\"],[0.5555555555555556,\"#d8576b\"],[0.6666666666666666,\"#ed7953\"],[0.7777777777777778,\"#fb9f3a\"],[0.8888888888888888,\"#fdca26\"],[1.0,\"#f0f921\"]]}],\"surface\":[{\"type\":\"surface\",\"colorbar\":{\"outlinewidth\":0,\"ticks\":\"\"},\"colorscale\":[[0.0,\"#0d0887\"],[0.1111111111111111,\"#46039f\"],[0.2222222222222222,\"#7201a8\"],[0.3333333333333333,\"#9c179e\"],[0.4444444444444444,\"#bd3786\"],[0.5555555555555556,\"#d8576b\"],[0.6666666666666666,\"#ed7953\"],[0.7777777777777778,\"#fb9f3a\"],[0.8888888888888888,\"#fdca26\"],[1.0,\"#f0f921\"]]}],\"mesh3d\":[{\"type\":\"mesh3d\",\"colorbar\":{\"outlinewidth\":0,\"ticks\":\"\"}}],\"scatter\":[{\"fillpattern\":{\"fillmode\":\"overlay\",\"size\":10,\"solidity\":0.2},\"type\":\"scatter\"}],\"parcoords\":[{\"type\":\"parcoords\",\"line\":{\"colorbar\":{\"outlinewidth\":0,\"ticks\":\"\"}}}],\"scatterpolargl\":[{\"type\":\"scatterpolargl\",\"marker\":{\"colorbar\":{\"outlinewidth\":0,\"ticks\":\"\"}}}],\"bar\":[{\"error_x\":{\"color\":\"#2a3f5f\"},\"error_y\":{\"color\":\"#2a3f5f\"},\"marker\":{\"line\":{\"color\":\"#E5ECF6\",\"width\":0.5},\"pattern\":{\"fillmode\":\"overlay\",\"size\":10,\"solidity\":0.2}},\"type\":\"bar\"}],\"scattergeo\":[{\"type\":\"scattergeo\",\"marker\":{\"colorbar\":{\"outlinewidth\":0,\"ticks\":\"\"}}}],\"scatterpolar\":[{\"type\":\"scatterpolar\",\"marker\":{\"colorbar\":{\"outlinewidth\":0,\"ticks\":\"\"}}}],\"histogram\":[{\"marker\":{\"pattern\":{\"fillmode\":\"overlay\",\"size\":10,\"solidity\":0.2}},\"type\":\"histogram\"}],\"scattergl\":[{\"type\":\"scattergl\",\"marker\":{\"colorbar\":{\"outlinewidth\":0,\"ticks\":\"\"}}}],\"scatter3d\":[{\"type\":\"scatter3d\",\"line\":{\"colorbar\":{\"outlinewidth\":0,\"ticks\":\"\"}},\"marker\":{\"colorbar\":{\"outlinewidth\":0,\"ticks\":\"\"}}}],\"scattermapbox\":[{\"type\":\"scattermapbox\",\"marker\":{\"colorbar\":{\"outlinewidth\":0,\"ticks\":\"\"}}}],\"scatterternary\":[{\"type\":\"scatterternary\",\"marker\":{\"colorbar\":{\"outlinewidth\":0,\"ticks\":\"\"}}}],\"scattercarpet\":[{\"type\":\"scattercarpet\",\"marker\":{\"colorbar\":{\"outlinewidth\":0,\"ticks\":\"\"}}}],\"carpet\":[{\"aaxis\":{\"endlinecolor\":\"#2a3f5f\",\"gridcolor\":\"white\",\"linecolor\":\"white\",\"minorgridcolor\":\"white\",\"startlinecolor\":\"#2a3f5f\"},\"baxis\":{\"endlinecolor\":\"#2a3f5f\",\"gridcolor\":\"white\",\"linecolor\":\"white\",\"minorgridcolor\":\"white\",\"startlinecolor\":\"#2a3f5f\"},\"type\":\"carpet\"}],\"table\":[{\"cells\":{\"fill\":{\"color\":\"#EBF0F8\"},\"line\":{\"color\":\"white\"}},\"header\":{\"fill\":{\"color\":\"#C8D4E3\"},\"line\":{\"color\":\"white\"}},\"type\":\"table\"}],\"barpolar\":[{\"marker\":{\"line\":{\"color\":\"#E5ECF6\",\"width\":0.5},\"pattern\":{\"fillmode\":\"overlay\",\"size\":10,\"solidity\":0.2}},\"type\":\"barpolar\"}],\"pie\":[{\"automargin\":true,\"type\":\"pie\"}]},\"layout\":{\"autotypenumbers\":\"strict\",\"colorway\":[\"#636efa\",\"#EF553B\",\"#00cc96\",\"#ab63fa\",\"#FFA15A\",\"#19d3f3\",\"#FF6692\",\"#B6E880\",\"#FF97FF\",\"#FECB52\"],\"font\":{\"color\":\"#2a3f5f\"},\"hovermode\":\"closest\",\"hoverlabel\":{\"align\":\"left\"},\"paper_bgcolor\":\"white\",\"plot_bgcolor\":\"#E5ECF6\",\"polar\":{\"bgcolor\":\"#E5ECF6\",\"angularaxis\":{\"gridcolor\":\"white\",\"linecolor\":\"white\",\"ticks\":\"\"},\"radialaxis\":{\"gridcolor\":\"white\",\"linecolor\":\"white\",\"ticks\":\"\"}},\"ternary\":{\"bgcolor\":\"#E5ECF6\",\"aaxis\":{\"gridcolor\":\"white\",\"linecolor\":\"white\",\"ticks\":\"\"},\"baxis\":{\"gridcolor\":\"white\",\"linecolor\":\"white\",\"ticks\":\"\"},\"caxis\":{\"gridcolor\":\"white\",\"linecolor\":\"white\",\"ticks\":\"\"}},\"coloraxis\":{\"colorbar\":{\"outlinewidth\":0,\"ticks\":\"\"}},\"colorscale\":{\"sequential\":[[0.0,\"#0d0887\"],[0.1111111111111111,\"#46039f\"],[0.2222222222222222,\"#7201a8\"],[0.3333333333333333,\"#9c179e\"],[0.4444444444444444,\"#bd3786\"],[0.5555555555555556,\"#d8576b\"],[0.6666666666666666,\"#ed7953\"],[0.7777777777777778,\"#fb9f3a\"],[0.8888888888888888,\"#fdca26\"],[1.0,\"#f0f921\"]],\"sequentialminus\":[[0.0,\"#0d0887\"],[0.1111111111111111,\"#46039f\"],[0.2222222222222222,\"#7201a8\"],[0.3333333333333333,\"#9c179e\"],[0.4444444444444444,\"#bd3786\"],[0.5555555555555556,\"#d8576b\"],[0.6666666666666666,\"#ed7953\"],[0.7777777777777778,\"#fb9f3a\"],[0.8888888888888888,\"#fdca26\"],[1.0,\"#f0f921\"]],\"diverging\":[[0,\"#8e0152\"],[0.1,\"#c51b7d\"],[0.2,\"#de77ae\"],[0.3,\"#f1b6da\"],[0.4,\"#fde0ef\"],[0.5,\"#f7f7f7\"],[0.6,\"#e6f5d0\"],[0.7,\"#b8e186\"],[0.8,\"#7fbc41\"],[0.9,\"#4d9221\"],[1,\"#276419\"]]},\"xaxis\":{\"gridcolor\":\"white\",\"linecolor\":\"white\",\"ticks\":\"\",\"title\":{\"standoff\":15},\"zerolinecolor\":\"white\",\"automargin\":true,\"zerolinewidth\":2},\"yaxis\":{\"gridcolor\":\"white\",\"linecolor\":\"white\",\"ticks\":\"\",\"title\":{\"standoff\":15},\"zerolinecolor\":\"white\",\"automargin\":true,\"zerolinewidth\":2},\"scene\":{\"xaxis\":{\"backgroundcolor\":\"#E5ECF6\",\"gridcolor\":\"white\",\"linecolor\":\"white\",\"showbackground\":true,\"ticks\":\"\",\"zerolinecolor\":\"white\",\"gridwidth\":2},\"yaxis\":{\"backgroundcolor\":\"#E5ECF6\",\"gridcolor\":\"white\",\"linecolor\":\"white\",\"showbackground\":true,\"ticks\":\"\",\"zerolinecolor\":\"white\",\"gridwidth\":2},\"zaxis\":{\"backgroundcolor\":\"#E5ECF6\",\"gridcolor\":\"white\",\"linecolor\":\"white\",\"showbackground\":true,\"ticks\":\"\",\"zerolinecolor\":\"white\",\"gridwidth\":2}},\"shapedefaults\":{\"line\":{\"color\":\"#2a3f5f\"}},\"annotationdefaults\":{\"arrowcolor\":\"#2a3f5f\",\"arrowhead\":0,\"arrowwidth\":1},\"geo\":{\"bgcolor\":\"white\",\"landcolor\":\"#E5ECF6\",\"subunitcolor\":\"white\",\"showland\":true,\"showlakes\":true,\"lakecolor\":\"white\"},\"title\":{\"x\":0.05},\"mapbox\":{\"style\":\"light\"}}},\"legend\":{\"tracegroupgap\":0},\"margin\":{\"t\":60},\"height\":500},                        {\"responsive\": true}                    ).then(function(){\n",
       "                            \n",
       "var gd = document.getElementById('7e7026a5-399c-40a8-a9c6-85894a6a2aff');\n",
       "var x = new MutationObserver(function (mutations, observer) {{\n",
       "        var display = window.getComputedStyle(gd).display;\n",
       "        if (!display || display === 'none') {{\n",
       "            console.log([gd, 'removed!']);\n",
       "            Plotly.purge(gd);\n",
       "            observer.disconnect();\n",
       "        }}\n",
       "}});\n",
       "\n",
       "// Listen for the removal of the full notebook cells\n",
       "var notebookContainer = gd.closest('#notebook-container');\n",
       "if (notebookContainer) {{\n",
       "    x.observe(notebookContainer, {childList: true});\n",
       "}}\n",
       "\n",
       "// Listen for the clearing of the current output cell\n",
       "var outputEl = gd.closest('.output');\n",
       "if (outputEl) {{\n",
       "    x.observe(outputEl, {childList: true});\n",
       "}}\n",
       "\n",
       "                        })                };                });            </script>        </div>"
      ]
     },
     "metadata": {},
     "output_type": "display_data"
    }
   ],
   "source": [
    "fig = px.pie(DF, values=\"Duplicate Percentage\", names= str(\"Sensor\"), height=500, hole=0.5)\n",
    "fig.update_traces(textposition='inside', textinfo='percent')\n",
    "fig.show()\n",
    "# fig.layout.width = 'auto'\n",
    "fig.layout.width = 400\n",
    "\n",
    "fig.layout.height = 500\n",
    "# fig.layout.min_height = '300px' # so it shows nicely in the notebook\n",
    "# fig.layout.flex = '1'"
   ]
  },
  {
   "cell_type": "markdown",
   "id": "7e6e61a0",
   "metadata": {},
   "source": [
    "# Sensor wise depiction of percentage of all-zero measures"
   ]
  },
  {
   "cell_type": "code",
   "execution_count": 14,
   "id": "0fe9ee64",
   "metadata": {},
   "outputs": [
    {
     "data": {
      "application/vnd.plotly.v1+json": {
       "config": {
        "plotlyServerURL": "https://plot.ly"
       },
       "data": [
        {
         "domain": {
          "x": [
           0,
           1
          ],
          "y": [
           0,
           1
          ]
         },
         "hole": 0.5,
         "hovertemplate": "Sensor=%{label}<br>AllZeroPercentage=%{value}<extra></extra>",
         "labels": [
          "FWR046",
          "FWR039",
          "FWR035",
          "FWR021",
          "FWR037",
          "FWR067",
          "FWR026",
          "FWR068",
          "FWR060",
          "FWR018",
          "FWR047",
          "FWR056",
          "FWR025",
          "FWR063",
          "FWR044",
          "FWR057",
          "FWR061",
          "FWR053",
          "FWR055",
          "FWR048",
          "FWR070",
          "FWR051",
          "FWR017",
          "FWR016",
          "FWR019",
          "FWR064",
          "FWR020",
          "FWR059",
          "FWR024",
          "FWR065",
          "FWR034",
          "FWR058",
          "FWR045",
          "FWR054",
          "FWR036",
          "FWR050",
          "FWR013",
          "FWR052",
          "FWR023",
          "FWR030",
          "FWR066",
          "FWR015",
          "FWR069"
         ],
         "legendgroup": "",
         "name": "",
         "showlegend": true,
         "textinfo": "percent",
         "textposition": "inside",
         "type": "pie",
         "values": [
          94.02,
          91.84,
          83.53,
          31.81,
          23.9,
          1.23,
          0.84,
          0,
          0,
          0,
          0,
          0,
          0,
          0,
          0,
          0,
          0,
          0,
          0,
          0,
          0,
          0,
          0,
          0,
          0,
          0,
          0,
          0,
          0,
          0,
          0,
          0,
          0,
          0,
          0,
          0,
          0,
          0,
          0,
          0,
          0,
          0,
          0
         ]
        }
       ],
       "layout": {
        "legend": {
         "tracegroupgap": 0
        },
        "margin": {
         "t": 60
        },
        "template": {
         "data": {
          "bar": [
           {
            "error_x": {
             "color": "#2a3f5f"
            },
            "error_y": {
             "color": "#2a3f5f"
            },
            "marker": {
             "line": {
              "color": "#E5ECF6",
              "width": 0.5
             },
             "pattern": {
              "fillmode": "overlay",
              "size": 10,
              "solidity": 0.2
             }
            },
            "type": "bar"
           }
          ],
          "barpolar": [
           {
            "marker": {
             "line": {
              "color": "#E5ECF6",
              "width": 0.5
             },
             "pattern": {
              "fillmode": "overlay",
              "size": 10,
              "solidity": 0.2
             }
            },
            "type": "barpolar"
           }
          ],
          "carpet": [
           {
            "aaxis": {
             "endlinecolor": "#2a3f5f",
             "gridcolor": "white",
             "linecolor": "white",
             "minorgridcolor": "white",
             "startlinecolor": "#2a3f5f"
            },
            "baxis": {
             "endlinecolor": "#2a3f5f",
             "gridcolor": "white",
             "linecolor": "white",
             "minorgridcolor": "white",
             "startlinecolor": "#2a3f5f"
            },
            "type": "carpet"
           }
          ],
          "choropleth": [
           {
            "colorbar": {
             "outlinewidth": 0,
             "ticks": ""
            },
            "type": "choropleth"
           }
          ],
          "contour": [
           {
            "colorbar": {
             "outlinewidth": 0,
             "ticks": ""
            },
            "colorscale": [
             [
              0,
              "#0d0887"
             ],
             [
              0.1111111111111111,
              "#46039f"
             ],
             [
              0.2222222222222222,
              "#7201a8"
             ],
             [
              0.3333333333333333,
              "#9c179e"
             ],
             [
              0.4444444444444444,
              "#bd3786"
             ],
             [
              0.5555555555555556,
              "#d8576b"
             ],
             [
              0.6666666666666666,
              "#ed7953"
             ],
             [
              0.7777777777777778,
              "#fb9f3a"
             ],
             [
              0.8888888888888888,
              "#fdca26"
             ],
             [
              1,
              "#f0f921"
             ]
            ],
            "type": "contour"
           }
          ],
          "contourcarpet": [
           {
            "colorbar": {
             "outlinewidth": 0,
             "ticks": ""
            },
            "type": "contourcarpet"
           }
          ],
          "heatmap": [
           {
            "colorbar": {
             "outlinewidth": 0,
             "ticks": ""
            },
            "colorscale": [
             [
              0,
              "#0d0887"
             ],
             [
              0.1111111111111111,
              "#46039f"
             ],
             [
              0.2222222222222222,
              "#7201a8"
             ],
             [
              0.3333333333333333,
              "#9c179e"
             ],
             [
              0.4444444444444444,
              "#bd3786"
             ],
             [
              0.5555555555555556,
              "#d8576b"
             ],
             [
              0.6666666666666666,
              "#ed7953"
             ],
             [
              0.7777777777777778,
              "#fb9f3a"
             ],
             [
              0.8888888888888888,
              "#fdca26"
             ],
             [
              1,
              "#f0f921"
             ]
            ],
            "type": "heatmap"
           }
          ],
          "heatmapgl": [
           {
            "colorbar": {
             "outlinewidth": 0,
             "ticks": ""
            },
            "colorscale": [
             [
              0,
              "#0d0887"
             ],
             [
              0.1111111111111111,
              "#46039f"
             ],
             [
              0.2222222222222222,
              "#7201a8"
             ],
             [
              0.3333333333333333,
              "#9c179e"
             ],
             [
              0.4444444444444444,
              "#bd3786"
             ],
             [
              0.5555555555555556,
              "#d8576b"
             ],
             [
              0.6666666666666666,
              "#ed7953"
             ],
             [
              0.7777777777777778,
              "#fb9f3a"
             ],
             [
              0.8888888888888888,
              "#fdca26"
             ],
             [
              1,
              "#f0f921"
             ]
            ],
            "type": "heatmapgl"
           }
          ],
          "histogram": [
           {
            "marker": {
             "pattern": {
              "fillmode": "overlay",
              "size": 10,
              "solidity": 0.2
             }
            },
            "type": "histogram"
           }
          ],
          "histogram2d": [
           {
            "colorbar": {
             "outlinewidth": 0,
             "ticks": ""
            },
            "colorscale": [
             [
              0,
              "#0d0887"
             ],
             [
              0.1111111111111111,
              "#46039f"
             ],
             [
              0.2222222222222222,
              "#7201a8"
             ],
             [
              0.3333333333333333,
              "#9c179e"
             ],
             [
              0.4444444444444444,
              "#bd3786"
             ],
             [
              0.5555555555555556,
              "#d8576b"
             ],
             [
              0.6666666666666666,
              "#ed7953"
             ],
             [
              0.7777777777777778,
              "#fb9f3a"
             ],
             [
              0.8888888888888888,
              "#fdca26"
             ],
             [
              1,
              "#f0f921"
             ]
            ],
            "type": "histogram2d"
           }
          ],
          "histogram2dcontour": [
           {
            "colorbar": {
             "outlinewidth": 0,
             "ticks": ""
            },
            "colorscale": [
             [
              0,
              "#0d0887"
             ],
             [
              0.1111111111111111,
              "#46039f"
             ],
             [
              0.2222222222222222,
              "#7201a8"
             ],
             [
              0.3333333333333333,
              "#9c179e"
             ],
             [
              0.4444444444444444,
              "#bd3786"
             ],
             [
              0.5555555555555556,
              "#d8576b"
             ],
             [
              0.6666666666666666,
              "#ed7953"
             ],
             [
              0.7777777777777778,
              "#fb9f3a"
             ],
             [
              0.8888888888888888,
              "#fdca26"
             ],
             [
              1,
              "#f0f921"
             ]
            ],
            "type": "histogram2dcontour"
           }
          ],
          "mesh3d": [
           {
            "colorbar": {
             "outlinewidth": 0,
             "ticks": ""
            },
            "type": "mesh3d"
           }
          ],
          "parcoords": [
           {
            "line": {
             "colorbar": {
              "outlinewidth": 0,
              "ticks": ""
             }
            },
            "type": "parcoords"
           }
          ],
          "pie": [
           {
            "automargin": true,
            "type": "pie"
           }
          ],
          "scatter": [
           {
            "fillpattern": {
             "fillmode": "overlay",
             "size": 10,
             "solidity": 0.2
            },
            "type": "scatter"
           }
          ],
          "scatter3d": [
           {
            "line": {
             "colorbar": {
              "outlinewidth": 0,
              "ticks": ""
             }
            },
            "marker": {
             "colorbar": {
              "outlinewidth": 0,
              "ticks": ""
             }
            },
            "type": "scatter3d"
           }
          ],
          "scattercarpet": [
           {
            "marker": {
             "colorbar": {
              "outlinewidth": 0,
              "ticks": ""
             }
            },
            "type": "scattercarpet"
           }
          ],
          "scattergeo": [
           {
            "marker": {
             "colorbar": {
              "outlinewidth": 0,
              "ticks": ""
             }
            },
            "type": "scattergeo"
           }
          ],
          "scattergl": [
           {
            "marker": {
             "colorbar": {
              "outlinewidth": 0,
              "ticks": ""
             }
            },
            "type": "scattergl"
           }
          ],
          "scattermapbox": [
           {
            "marker": {
             "colorbar": {
              "outlinewidth": 0,
              "ticks": ""
             }
            },
            "type": "scattermapbox"
           }
          ],
          "scatterpolar": [
           {
            "marker": {
             "colorbar": {
              "outlinewidth": 0,
              "ticks": ""
             }
            },
            "type": "scatterpolar"
           }
          ],
          "scatterpolargl": [
           {
            "marker": {
             "colorbar": {
              "outlinewidth": 0,
              "ticks": ""
             }
            },
            "type": "scatterpolargl"
           }
          ],
          "scatterternary": [
           {
            "marker": {
             "colorbar": {
              "outlinewidth": 0,
              "ticks": ""
             }
            },
            "type": "scatterternary"
           }
          ],
          "surface": [
           {
            "colorbar": {
             "outlinewidth": 0,
             "ticks": ""
            },
            "colorscale": [
             [
              0,
              "#0d0887"
             ],
             [
              0.1111111111111111,
              "#46039f"
             ],
             [
              0.2222222222222222,
              "#7201a8"
             ],
             [
              0.3333333333333333,
              "#9c179e"
             ],
             [
              0.4444444444444444,
              "#bd3786"
             ],
             [
              0.5555555555555556,
              "#d8576b"
             ],
             [
              0.6666666666666666,
              "#ed7953"
             ],
             [
              0.7777777777777778,
              "#fb9f3a"
             ],
             [
              0.8888888888888888,
              "#fdca26"
             ],
             [
              1,
              "#f0f921"
             ]
            ],
            "type": "surface"
           }
          ],
          "table": [
           {
            "cells": {
             "fill": {
              "color": "#EBF0F8"
             },
             "line": {
              "color": "white"
             }
            },
            "header": {
             "fill": {
              "color": "#C8D4E3"
             },
             "line": {
              "color": "white"
             }
            },
            "type": "table"
           }
          ]
         },
         "layout": {
          "annotationdefaults": {
           "arrowcolor": "#2a3f5f",
           "arrowhead": 0,
           "arrowwidth": 1
          },
          "autotypenumbers": "strict",
          "coloraxis": {
           "colorbar": {
            "outlinewidth": 0,
            "ticks": ""
           }
          },
          "colorscale": {
           "diverging": [
            [
             0,
             "#8e0152"
            ],
            [
             0.1,
             "#c51b7d"
            ],
            [
             0.2,
             "#de77ae"
            ],
            [
             0.3,
             "#f1b6da"
            ],
            [
             0.4,
             "#fde0ef"
            ],
            [
             0.5,
             "#f7f7f7"
            ],
            [
             0.6,
             "#e6f5d0"
            ],
            [
             0.7,
             "#b8e186"
            ],
            [
             0.8,
             "#7fbc41"
            ],
            [
             0.9,
             "#4d9221"
            ],
            [
             1,
             "#276419"
            ]
           ],
           "sequential": [
            [
             0,
             "#0d0887"
            ],
            [
             0.1111111111111111,
             "#46039f"
            ],
            [
             0.2222222222222222,
             "#7201a8"
            ],
            [
             0.3333333333333333,
             "#9c179e"
            ],
            [
             0.4444444444444444,
             "#bd3786"
            ],
            [
             0.5555555555555556,
             "#d8576b"
            ],
            [
             0.6666666666666666,
             "#ed7953"
            ],
            [
             0.7777777777777778,
             "#fb9f3a"
            ],
            [
             0.8888888888888888,
             "#fdca26"
            ],
            [
             1,
             "#f0f921"
            ]
           ],
           "sequentialminus": [
            [
             0,
             "#0d0887"
            ],
            [
             0.1111111111111111,
             "#46039f"
            ],
            [
             0.2222222222222222,
             "#7201a8"
            ],
            [
             0.3333333333333333,
             "#9c179e"
            ],
            [
             0.4444444444444444,
             "#bd3786"
            ],
            [
             0.5555555555555556,
             "#d8576b"
            ],
            [
             0.6666666666666666,
             "#ed7953"
            ],
            [
             0.7777777777777778,
             "#fb9f3a"
            ],
            [
             0.8888888888888888,
             "#fdca26"
            ],
            [
             1,
             "#f0f921"
            ]
           ]
          },
          "colorway": [
           "#636efa",
           "#EF553B",
           "#00cc96",
           "#ab63fa",
           "#FFA15A",
           "#19d3f3",
           "#FF6692",
           "#B6E880",
           "#FF97FF",
           "#FECB52"
          ],
          "font": {
           "color": "#2a3f5f"
          },
          "geo": {
           "bgcolor": "white",
           "lakecolor": "white",
           "landcolor": "#E5ECF6",
           "showlakes": true,
           "showland": true,
           "subunitcolor": "white"
          },
          "hoverlabel": {
           "align": "left"
          },
          "hovermode": "closest",
          "mapbox": {
           "style": "light"
          },
          "paper_bgcolor": "white",
          "plot_bgcolor": "#E5ECF6",
          "polar": {
           "angularaxis": {
            "gridcolor": "white",
            "linecolor": "white",
            "ticks": ""
           },
           "bgcolor": "#E5ECF6",
           "radialaxis": {
            "gridcolor": "white",
            "linecolor": "white",
            "ticks": ""
           }
          },
          "scene": {
           "xaxis": {
            "backgroundcolor": "#E5ECF6",
            "gridcolor": "white",
            "gridwidth": 2,
            "linecolor": "white",
            "showbackground": true,
            "ticks": "",
            "zerolinecolor": "white"
           },
           "yaxis": {
            "backgroundcolor": "#E5ECF6",
            "gridcolor": "white",
            "gridwidth": 2,
            "linecolor": "white",
            "showbackground": true,
            "ticks": "",
            "zerolinecolor": "white"
           },
           "zaxis": {
            "backgroundcolor": "#E5ECF6",
            "gridcolor": "white",
            "gridwidth": 2,
            "linecolor": "white",
            "showbackground": true,
            "ticks": "",
            "zerolinecolor": "white"
           }
          },
          "shapedefaults": {
           "line": {
            "color": "#2a3f5f"
           }
          },
          "ternary": {
           "aaxis": {
            "gridcolor": "white",
            "linecolor": "white",
            "ticks": ""
           },
           "baxis": {
            "gridcolor": "white",
            "linecolor": "white",
            "ticks": ""
           },
           "bgcolor": "#E5ECF6",
           "caxis": {
            "gridcolor": "white",
            "linecolor": "white",
            "ticks": ""
           }
          },
          "title": {
           "x": 0.05
          },
          "xaxis": {
           "automargin": true,
           "gridcolor": "white",
           "linecolor": "white",
           "ticks": "",
           "title": {
            "standoff": 15
           },
           "zerolinecolor": "white",
           "zerolinewidth": 2
          },
          "yaxis": {
           "automargin": true,
           "gridcolor": "white",
           "linecolor": "white",
           "ticks": "",
           "title": {
            "standoff": 15
           },
           "zerolinecolor": "white",
           "zerolinewidth": 2
          }
         }
        }
       }
      },
      "text/html": [
       "<div>                            <div id=\"b0ef8511-5d0e-484f-a639-47f8ef28dc20\" class=\"plotly-graph-div\" style=\"height:525px; width:100%;\"></div>            <script type=\"text/javascript\">                require([\"plotly\"], function(Plotly) {                    window.PLOTLYENV=window.PLOTLYENV || {};                                    if (document.getElementById(\"b0ef8511-5d0e-484f-a639-47f8ef28dc20\")) {                    Plotly.newPlot(                        \"b0ef8511-5d0e-484f-a639-47f8ef28dc20\",                        [{\"domain\":{\"x\":[0.0,1.0],\"y\":[0.0,1.0]},\"hole\":0.5,\"hovertemplate\":\"Sensor=%{label}<br>AllZeroPercentage=%{value}<extra></extra>\",\"labels\":[\"FWR046\",\"FWR039\",\"FWR035\",\"FWR021\",\"FWR037\",\"FWR067\",\"FWR026\",\"FWR068\",\"FWR060\",\"FWR018\",\"FWR047\",\"FWR056\",\"FWR025\",\"FWR063\",\"FWR044\",\"FWR057\",\"FWR061\",\"FWR053\",\"FWR055\",\"FWR048\",\"FWR070\",\"FWR051\",\"FWR017\",\"FWR016\",\"FWR019\",\"FWR064\",\"FWR020\",\"FWR059\",\"FWR024\",\"FWR065\",\"FWR034\",\"FWR058\",\"FWR045\",\"FWR054\",\"FWR036\",\"FWR050\",\"FWR013\",\"FWR052\",\"FWR023\",\"FWR030\",\"FWR066\",\"FWR015\",\"FWR069\"],\"legendgroup\":\"\",\"name\":\"\",\"showlegend\":true,\"values\":[94.02,91.84,83.53,31.81,23.9,1.23,0.84,0.0,0.0,0.0,0.0,0.0,0.0,0.0,0.0,0.0,0.0,0.0,0.0,0.0,0.0,0.0,0.0,0.0,0.0,0.0,0.0,0.0,0.0,0.0,0.0,0.0,0.0,0.0,0.0,0.0,0.0,0.0,0.0,0.0,0.0,0.0,0.0],\"type\":\"pie\",\"textinfo\":\"percent\",\"textposition\":\"inside\"}],                        {\"template\":{\"data\":{\"histogram2dcontour\":[{\"type\":\"histogram2dcontour\",\"colorbar\":{\"outlinewidth\":0,\"ticks\":\"\"},\"colorscale\":[[0.0,\"#0d0887\"],[0.1111111111111111,\"#46039f\"],[0.2222222222222222,\"#7201a8\"],[0.3333333333333333,\"#9c179e\"],[0.4444444444444444,\"#bd3786\"],[0.5555555555555556,\"#d8576b\"],[0.6666666666666666,\"#ed7953\"],[0.7777777777777778,\"#fb9f3a\"],[0.8888888888888888,\"#fdca26\"],[1.0,\"#f0f921\"]]}],\"choropleth\":[{\"type\":\"choropleth\",\"colorbar\":{\"outlinewidth\":0,\"ticks\":\"\"}}],\"histogram2d\":[{\"type\":\"histogram2d\",\"colorbar\":{\"outlinewidth\":0,\"ticks\":\"\"},\"colorscale\":[[0.0,\"#0d0887\"],[0.1111111111111111,\"#46039f\"],[0.2222222222222222,\"#7201a8\"],[0.3333333333333333,\"#9c179e\"],[0.4444444444444444,\"#bd3786\"],[0.5555555555555556,\"#d8576b\"],[0.6666666666666666,\"#ed7953\"],[0.7777777777777778,\"#fb9f3a\"],[0.8888888888888888,\"#fdca26\"],[1.0,\"#f0f921\"]]}],\"heatmap\":[{\"type\":\"heatmap\",\"colorbar\":{\"outlinewidth\":0,\"ticks\":\"\"},\"colorscale\":[[0.0,\"#0d0887\"],[0.1111111111111111,\"#46039f\"],[0.2222222222222222,\"#7201a8\"],[0.3333333333333333,\"#9c179e\"],[0.4444444444444444,\"#bd3786\"],[0.5555555555555556,\"#d8576b\"],[0.6666666666666666,\"#ed7953\"],[0.7777777777777778,\"#fb9f3a\"],[0.8888888888888888,\"#fdca26\"],[1.0,\"#f0f921\"]]}],\"heatmapgl\":[{\"type\":\"heatmapgl\",\"colorbar\":{\"outlinewidth\":0,\"ticks\":\"\"},\"colorscale\":[[0.0,\"#0d0887\"],[0.1111111111111111,\"#46039f\"],[0.2222222222222222,\"#7201a8\"],[0.3333333333333333,\"#9c179e\"],[0.4444444444444444,\"#bd3786\"],[0.5555555555555556,\"#d8576b\"],[0.6666666666666666,\"#ed7953\"],[0.7777777777777778,\"#fb9f3a\"],[0.8888888888888888,\"#fdca26\"],[1.0,\"#f0f921\"]]}],\"contourcarpet\":[{\"type\":\"contourcarpet\",\"colorbar\":{\"outlinewidth\":0,\"ticks\":\"\"}}],\"contour\":[{\"type\":\"contour\",\"colorbar\":{\"outlinewidth\":0,\"ticks\":\"\"},\"colorscale\":[[0.0,\"#0d0887\"],[0.1111111111111111,\"#46039f\"],[0.2222222222222222,\"#7201a8\"],[0.3333333333333333,\"#9c179e\"],[0.4444444444444444,\"#bd3786\"],[0.5555555555555556,\"#d8576b\"],[0.6666666666666666,\"#ed7953\"],[0.7777777777777778,\"#fb9f3a\"],[0.8888888888888888,\"#fdca26\"],[1.0,\"#f0f921\"]]}],\"surface\":[{\"type\":\"surface\",\"colorbar\":{\"outlinewidth\":0,\"ticks\":\"\"},\"colorscale\":[[0.0,\"#0d0887\"],[0.1111111111111111,\"#46039f\"],[0.2222222222222222,\"#7201a8\"],[0.3333333333333333,\"#9c179e\"],[0.4444444444444444,\"#bd3786\"],[0.5555555555555556,\"#d8576b\"],[0.6666666666666666,\"#ed7953\"],[0.7777777777777778,\"#fb9f3a\"],[0.8888888888888888,\"#fdca26\"],[1.0,\"#f0f921\"]]}],\"mesh3d\":[{\"type\":\"mesh3d\",\"colorbar\":{\"outlinewidth\":0,\"ticks\":\"\"}}],\"scatter\":[{\"fillpattern\":{\"fillmode\":\"overlay\",\"size\":10,\"solidity\":0.2},\"type\":\"scatter\"}],\"parcoords\":[{\"type\":\"parcoords\",\"line\":{\"colorbar\":{\"outlinewidth\":0,\"ticks\":\"\"}}}],\"scatterpolargl\":[{\"type\":\"scatterpolargl\",\"marker\":{\"colorbar\":{\"outlinewidth\":0,\"ticks\":\"\"}}}],\"bar\":[{\"error_x\":{\"color\":\"#2a3f5f\"},\"error_y\":{\"color\":\"#2a3f5f\"},\"marker\":{\"line\":{\"color\":\"#E5ECF6\",\"width\":0.5},\"pattern\":{\"fillmode\":\"overlay\",\"size\":10,\"solidity\":0.2}},\"type\":\"bar\"}],\"scattergeo\":[{\"type\":\"scattergeo\",\"marker\":{\"colorbar\":{\"outlinewidth\":0,\"ticks\":\"\"}}}],\"scatterpolar\":[{\"type\":\"scatterpolar\",\"marker\":{\"colorbar\":{\"outlinewidth\":0,\"ticks\":\"\"}}}],\"histogram\":[{\"marker\":{\"pattern\":{\"fillmode\":\"overlay\",\"size\":10,\"solidity\":0.2}},\"type\":\"histogram\"}],\"scattergl\":[{\"type\":\"scattergl\",\"marker\":{\"colorbar\":{\"outlinewidth\":0,\"ticks\":\"\"}}}],\"scatter3d\":[{\"type\":\"scatter3d\",\"line\":{\"colorbar\":{\"outlinewidth\":0,\"ticks\":\"\"}},\"marker\":{\"colorbar\":{\"outlinewidth\":0,\"ticks\":\"\"}}}],\"scattermapbox\":[{\"type\":\"scattermapbox\",\"marker\":{\"colorbar\":{\"outlinewidth\":0,\"ticks\":\"\"}}}],\"scatterternary\":[{\"type\":\"scatterternary\",\"marker\":{\"colorbar\":{\"outlinewidth\":0,\"ticks\":\"\"}}}],\"scattercarpet\":[{\"type\":\"scattercarpet\",\"marker\":{\"colorbar\":{\"outlinewidth\":0,\"ticks\":\"\"}}}],\"carpet\":[{\"aaxis\":{\"endlinecolor\":\"#2a3f5f\",\"gridcolor\":\"white\",\"linecolor\":\"white\",\"minorgridcolor\":\"white\",\"startlinecolor\":\"#2a3f5f\"},\"baxis\":{\"endlinecolor\":\"#2a3f5f\",\"gridcolor\":\"white\",\"linecolor\":\"white\",\"minorgridcolor\":\"white\",\"startlinecolor\":\"#2a3f5f\"},\"type\":\"carpet\"}],\"table\":[{\"cells\":{\"fill\":{\"color\":\"#EBF0F8\"},\"line\":{\"color\":\"white\"}},\"header\":{\"fill\":{\"color\":\"#C8D4E3\"},\"line\":{\"color\":\"white\"}},\"type\":\"table\"}],\"barpolar\":[{\"marker\":{\"line\":{\"color\":\"#E5ECF6\",\"width\":0.5},\"pattern\":{\"fillmode\":\"overlay\",\"size\":10,\"solidity\":0.2}},\"type\":\"barpolar\"}],\"pie\":[{\"automargin\":true,\"type\":\"pie\"}]},\"layout\":{\"autotypenumbers\":\"strict\",\"colorway\":[\"#636efa\",\"#EF553B\",\"#00cc96\",\"#ab63fa\",\"#FFA15A\",\"#19d3f3\",\"#FF6692\",\"#B6E880\",\"#FF97FF\",\"#FECB52\"],\"font\":{\"color\":\"#2a3f5f\"},\"hovermode\":\"closest\",\"hoverlabel\":{\"align\":\"left\"},\"paper_bgcolor\":\"white\",\"plot_bgcolor\":\"#E5ECF6\",\"polar\":{\"bgcolor\":\"#E5ECF6\",\"angularaxis\":{\"gridcolor\":\"white\",\"linecolor\":\"white\",\"ticks\":\"\"},\"radialaxis\":{\"gridcolor\":\"white\",\"linecolor\":\"white\",\"ticks\":\"\"}},\"ternary\":{\"bgcolor\":\"#E5ECF6\",\"aaxis\":{\"gridcolor\":\"white\",\"linecolor\":\"white\",\"ticks\":\"\"},\"baxis\":{\"gridcolor\":\"white\",\"linecolor\":\"white\",\"ticks\":\"\"},\"caxis\":{\"gridcolor\":\"white\",\"linecolor\":\"white\",\"ticks\":\"\"}},\"coloraxis\":{\"colorbar\":{\"outlinewidth\":0,\"ticks\":\"\"}},\"colorscale\":{\"sequential\":[[0.0,\"#0d0887\"],[0.1111111111111111,\"#46039f\"],[0.2222222222222222,\"#7201a8\"],[0.3333333333333333,\"#9c179e\"],[0.4444444444444444,\"#bd3786\"],[0.5555555555555556,\"#d8576b\"],[0.6666666666666666,\"#ed7953\"],[0.7777777777777778,\"#fb9f3a\"],[0.8888888888888888,\"#fdca26\"],[1.0,\"#f0f921\"]],\"sequentialminus\":[[0.0,\"#0d0887\"],[0.1111111111111111,\"#46039f\"],[0.2222222222222222,\"#7201a8\"],[0.3333333333333333,\"#9c179e\"],[0.4444444444444444,\"#bd3786\"],[0.5555555555555556,\"#d8576b\"],[0.6666666666666666,\"#ed7953\"],[0.7777777777777778,\"#fb9f3a\"],[0.8888888888888888,\"#fdca26\"],[1.0,\"#f0f921\"]],\"diverging\":[[0,\"#8e0152\"],[0.1,\"#c51b7d\"],[0.2,\"#de77ae\"],[0.3,\"#f1b6da\"],[0.4,\"#fde0ef\"],[0.5,\"#f7f7f7\"],[0.6,\"#e6f5d0\"],[0.7,\"#b8e186\"],[0.8,\"#7fbc41\"],[0.9,\"#4d9221\"],[1,\"#276419\"]]},\"xaxis\":{\"gridcolor\":\"white\",\"linecolor\":\"white\",\"ticks\":\"\",\"title\":{\"standoff\":15},\"zerolinecolor\":\"white\",\"automargin\":true,\"zerolinewidth\":2},\"yaxis\":{\"gridcolor\":\"white\",\"linecolor\":\"white\",\"ticks\":\"\",\"title\":{\"standoff\":15},\"zerolinecolor\":\"white\",\"automargin\":true,\"zerolinewidth\":2},\"scene\":{\"xaxis\":{\"backgroundcolor\":\"#E5ECF6\",\"gridcolor\":\"white\",\"linecolor\":\"white\",\"showbackground\":true,\"ticks\":\"\",\"zerolinecolor\":\"white\",\"gridwidth\":2},\"yaxis\":{\"backgroundcolor\":\"#E5ECF6\",\"gridcolor\":\"white\",\"linecolor\":\"white\",\"showbackground\":true,\"ticks\":\"\",\"zerolinecolor\":\"white\",\"gridwidth\":2},\"zaxis\":{\"backgroundcolor\":\"#E5ECF6\",\"gridcolor\":\"white\",\"linecolor\":\"white\",\"showbackground\":true,\"ticks\":\"\",\"zerolinecolor\":\"white\",\"gridwidth\":2}},\"shapedefaults\":{\"line\":{\"color\":\"#2a3f5f\"}},\"annotationdefaults\":{\"arrowcolor\":\"#2a3f5f\",\"arrowhead\":0,\"arrowwidth\":1},\"geo\":{\"bgcolor\":\"white\",\"landcolor\":\"#E5ECF6\",\"subunitcolor\":\"white\",\"showland\":true,\"showlakes\":true,\"lakecolor\":\"white\"},\"title\":{\"x\":0.05},\"mapbox\":{\"style\":\"light\"}}},\"legend\":{\"tracegroupgap\":0},\"margin\":{\"t\":60}},                        {\"responsive\": true}                    ).then(function(){\n",
       "                            \n",
       "var gd = document.getElementById('b0ef8511-5d0e-484f-a639-47f8ef28dc20');\n",
       "var x = new MutationObserver(function (mutations, observer) {{\n",
       "        var display = window.getComputedStyle(gd).display;\n",
       "        if (!display || display === 'none') {{\n",
       "            console.log([gd, 'removed!']);\n",
       "            Plotly.purge(gd);\n",
       "            observer.disconnect();\n",
       "        }}\n",
       "}});\n",
       "\n",
       "// Listen for the removal of the full notebook cells\n",
       "var notebookContainer = gd.closest('#notebook-container');\n",
       "if (notebookContainer) {{\n",
       "    x.observe(notebookContainer, {childList: true});\n",
       "}}\n",
       "\n",
       "// Listen for the clearing of the current output cell\n",
       "var outputEl = gd.closest('.output');\n",
       "if (outputEl) {{\n",
       "    x.observe(outputEl, {childList: true});\n",
       "}}\n",
       "\n",
       "                        })                };                });            </script>        </div>"
      ]
     },
     "metadata": {},
     "output_type": "display_data"
    }
   ],
   "source": [
    "fig = px.pie(DF, values=\"AllZeroPercentage\", names= str(\"Sensor\"), hole=0.5)\n",
    "fig.update_traces(textposition='inside', textinfo='percent')\n",
    "# fig.update_layout(template=\"plotly_dark\") # , height=500, width=700,\n",
    "fig.show()\n",
    "# fig.layout.width = 'auto'\n",
    "# fig.layout.height = 'auto'\n",
    "# fig.layout.min_height = '300px' # so it shows nicely in the notebook\n",
    "# fig.layout.flex = '1'"
   ]
  },
  {
   "cell_type": "markdown",
   "id": "90f1063b",
   "metadata": {},
   "source": [
    "<!-- # Sensor Outage Analysis -->"
   ]
  },
  {
   "cell_type": "code",
   "execution_count": 15,
   "id": "84005686",
   "metadata": {},
   "outputs": [
    {
     "data": {
      "application/vnd.jupyter.widget-view+json": {
       "model_id": "69c437074bd94c8980d93f9e32aba2a8",
       "version_major": 2,
       "version_minor": 0
      },
      "text/plain": [
       "VBox(children=(HBox(children=(Dropdown(description='Device:', index=1, options=('FWR013', 'FWR015', 'FWR016', …"
      ]
     },
     "metadata": {},
     "output_type": "display_data"
    }
   ],
   "source": [
    "# drop_down = widgets.Dropdown(options=devices,\n",
    "#                                 value=\"FWR015\",\n",
    "#                                 description='Device:',\n",
    "#                                 disabled=False)\n",
    "\n",
    "# from_date = widgets.DatePicker(\n",
    "#     description='From Date',\n",
    "#     value = datetime.date(2022,1,1),\n",
    "#     disabled=False\n",
    "# )\n",
    "\n",
    "# to_date = widgets.DatePicker(\n",
    "#     description='To Date',\n",
    "#     value = datetime.date(2022,5,1),\n",
    "#     disabled=False\n",
    "# )\n",
    "\n",
    "\n",
    "\n",
    "\n",
    "# def f(fromD, to):\n",
    "#     if fromD!=None and to!=None:\n",
    "#         print('Collecting data from {} to {}'.format(fromD, to), type(fromD), type(to))\n",
    "\n",
    "\n",
    "\n",
    "# # widgets.HBox([widgets.VBox([start_date, end_date]), out])\n",
    "\n",
    "# # https://github.com/ChakriCherukuri/mlviz/blob/master/notebooks/supervised-learning/linear-regression.ipynb\n",
    "# def refresh(*args):\n",
    "#     print(\"Collecting data !!!\")\n",
    "#     return \"Collecting data !\"+from_date\n",
    "\n",
    "\n",
    "\n",
    "# from ipywidgets import Button\n",
    "# reset_button = Button(description='Refresh', button_style='success')\n",
    "# reset_button.layout.margin = '0px 30px 0px 60px'\n",
    "# reset_button.on_click(lambda btn: refresh())\n",
    "\n",
    "# def generate_password(sensor): \n",
    "    \n",
    "#     print(\"Sensor chosen is \"+str(sensor))\n",
    "#     return \"Sensor chosen is \"+str(sensor)\n",
    "# DF1=pd.DataFrame([])\n",
    "# def displayPublishInterval(DF):\n",
    "#     fig = px.line(DF, x=DF.observationDateTime, y = DF[\"PI (in minutes)\"], hover_data=[DF.observationDateTime, DF.toDateTime, DF.publishInterval])\n",
    "#     fig.update_layout(template=\"plotly_dark\")\n",
    "#     fig.show()\n",
    "\n",
    "# def displaydf(sensor,fromdate, todate):\n",
    "#     df = pd.read_csv(\"pune_flood_\"+sensor+\".csv\")\n",
    "#     if fromdate!=None and todate!=None:\n",
    "#           print(\"Collected data between \"+str(fromdate)+\" and \"+str(todate))\n",
    "#     df[\"observationDateTime\"]=pd.to_datetime(df[\"observationDateTime\"],errors ='coerce')\n",
    "#     df.sort_values(by = [\"observationDateTime\"], inplace=True)\n",
    "#     # df.info()\n",
    "#     df.reset_index(inplace=True)\n",
    "#     df.drop([\"index\"],axis=1, inplace=True)\n",
    "#     df.head()\n",
    "\n",
    "#     df[\"publishInterval\"] = pd.to_timedelta('0 days 00:00:00.0000')\n",
    "#     df[\"toDateTime\"] = \"\"\n",
    "#     for i,row in df.iterrows():\n",
    "#         if i != df.shape[0]-1:\n",
    "#     #         df[\"publishInterval\"][i] = df[\"observationDateTime\"][i+1] - df[\"observationDateTime\"][i]\n",
    "#             df[\"toDateTime\"][i] = df[\"observationDateTime\"][i+1]\n",
    "#             df[\"publishInterval\"][i] = df[\"toDateTime\"][i] - df[\"observationDateTime\"][i]\n",
    "\n",
    "\n",
    "#     df[\"seconds\"] = df[\"publishInterval\"].apply(lambda x: x.total_seconds())\n",
    "#     df[\"PI (in minutes)\"] = df[\"seconds\"]/60\n",
    "#     df = df.sort_values(by = [\"observationDateTime\"], ascending = False)\n",
    "#     global DF1 \n",
    "#     DF1 = df\n",
    "#     display(df.head())\n",
    "    \n",
    "#     displayPublishInterval(DF1)\n",
    "\n",
    "# # widgets.interact(displaydf, sensor=drop_down);\n",
    "# out = widgets.interactive_output(displaydf, {'sensor':drop_down,'fromdate': from_date, 'todate': to_date})\n",
    "# widgets.VBox([widgets.HBox([drop_down, from_date, to_date, reset_button]), out])"
   ]
  },
  {
   "cell_type": "code",
   "execution_count": null,
   "id": "a737a0e7",
   "metadata": {},
   "outputs": [],
   "source": []
  },
  {
   "cell_type": "code",
   "execution_count": null,
   "id": "2845d1f5",
   "metadata": {},
   "outputs": [],
   "source": []
  },
  {
   "cell_type": "code",
   "execution_count": null,
   "id": "395d5a48",
   "metadata": {},
   "outputs": [],
   "source": []
  },
  {
   "cell_type": "code",
   "execution_count": null,
   "id": "52908308",
   "metadata": {},
   "outputs": [],
   "source": []
  },
  {
   "cell_type": "code",
   "execution_count": null,
   "id": "1e9ba9a4",
   "metadata": {},
   "outputs": [],
   "source": []
  },
  {
   "cell_type": "code",
   "execution_count": null,
   "id": "2c4b8fb9",
   "metadata": {},
   "outputs": [],
   "source": []
  },
  {
   "cell_type": "code",
   "execution_count": null,
   "id": "ce1ef26d",
   "metadata": {},
   "outputs": [],
   "source": []
  },
  {
   "cell_type": "code",
   "execution_count": null,
   "id": "3e90ca87",
   "metadata": {},
   "outputs": [],
   "source": []
  },
  {
   "cell_type": "code",
   "execution_count": null,
   "id": "65870e4d",
   "metadata": {},
   "outputs": [],
   "source": []
  }
 ],
 "metadata": {
  "celltoolbar": "Edit Metadata",
  "hide_input": false,
  "kernelspec": {
   "display_name": "Python 3 (ipykernel)",
   "language": "python",
   "name": "python3"
  },
  "language_info": {
   "codemirror_mode": {
    "name": "ipython",
    "version": 3
   },
   "file_extension": ".py",
   "mimetype": "text/x-python",
   "name": "python",
   "nbconvert_exporter": "python",
   "pygments_lexer": "ipython3",
   "version": "3.9.12"
  }
 },
 "nbformat": 4,
 "nbformat_minor": 5
}
